{
 "cells": [
  {
   "cell_type": "code",
   "execution_count": 1,
   "id": "bad2e570",
   "metadata": {
    "ExecuteTime": {
     "end_time": "2023-05-19T01:05:13.850243Z",
     "start_time": "2023-05-19T01:05:12.741252Z"
    }
   },
   "outputs": [],
   "source": [
    "import json\n",
    "import pandas as pd\n",
    "import numpy as np\n",
    "import seaborn as sns\n",
    "from scipy import stats\n",
    "\n",
    "import matplotlib.pyplot as plt\n",
    "\n",
    "from sklearn.model_selection import train_test_split\n",
    "from sklearn.preprocessing import OneHotEncoder, StandardScaler\n",
    "from sklearn.impute import SimpleImputer\n",
    "from sklearn.compose import make_column_transformer, make_column_selector, ColumnTransformer\n",
    "from sklearn.pipeline import make_pipeline, Pipeline\n",
    "from sklearn.metrics import r2_score,mean_absolute_error,mean_squared_error\n",
    "## fixing random for lesson generation\n",
    "np.random.seed(321)"
   ]
  },
  {
   "cell_type": "code",
   "execution_count": 2,
   "id": "86f9bbdc",
   "metadata": {
    "ExecuteTime": {
     "end_time": "2023-05-19T01:05:13.866257Z",
     "start_time": "2023-05-19T01:05:13.852245Z"
    }
   },
   "outputs": [],
   "source": [
    "pd.set_option('display.max_columns',100)"
   ]
  },
  {
   "cell_type": "markdown",
   "id": "fd0a5afd",
   "metadata": {},
   "source": [
    "# Data Exploration"
   ]
  },
  {
   "cell_type": "code",
   "execution_count": 3,
   "id": "73ee753b",
   "metadata": {
    "ExecuteTime": {
     "end_time": "2023-05-19T01:05:14.285107Z",
     "start_time": "2023-05-19T01:05:13.867258Z"
    }
   },
   "outputs": [
    {
     "data": {
      "text/html": [
       "<div>\n",
       "<style scoped>\n",
       "    .dataframe tbody tr th:only-of-type {\n",
       "        vertical-align: middle;\n",
       "    }\n",
       "\n",
       "    .dataframe tbody tr th {\n",
       "        vertical-align: top;\n",
       "    }\n",
       "\n",
       "    .dataframe thead th {\n",
       "        text-align: right;\n",
       "    }\n",
       "</style>\n",
       "<table border=\"1\" class=\"dataframe\">\n",
       "  <thead>\n",
       "    <tr style=\"text-align: right;\">\n",
       "      <th></th>\n",
       "      <th>imdb_id</th>\n",
       "      <th>adult</th>\n",
       "      <th>backdrop_path</th>\n",
       "      <th>belongs_to_collection</th>\n",
       "      <th>budget</th>\n",
       "      <th>genres</th>\n",
       "      <th>homepage</th>\n",
       "      <th>id</th>\n",
       "      <th>original_language</th>\n",
       "      <th>original_title</th>\n",
       "      <th>overview</th>\n",
       "      <th>popularity</th>\n",
       "      <th>poster_path</th>\n",
       "      <th>production_companies</th>\n",
       "      <th>production_countries</th>\n",
       "      <th>release_date</th>\n",
       "      <th>revenue</th>\n",
       "      <th>runtime</th>\n",
       "      <th>spoken_languages</th>\n",
       "      <th>status</th>\n",
       "      <th>tagline</th>\n",
       "      <th>title</th>\n",
       "      <th>video</th>\n",
       "      <th>vote_average</th>\n",
       "      <th>vote_count</th>\n",
       "      <th>certification\\r</th>\n",
       "    </tr>\n",
       "  </thead>\n",
       "  <tbody>\n",
       "    <tr>\n",
       "      <th>0</th>\n",
       "      <td>tt0312305</td>\n",
       "      <td>0.0</td>\n",
       "      <td>/lqUbt2cy2pnqvxKefbQAtxLS0WA.jpg</td>\n",
       "      <td>NaN</td>\n",
       "      <td>0.0</td>\n",
       "      <td>[{'id': 10751, 'name': 'Family'}, {'id': 16, '...</td>\n",
       "      <td>http://www.qqthemovie.com/</td>\n",
       "      <td>23738.0</td>\n",
       "      <td>en</td>\n",
       "      <td>Quantum Quest: A Cassini Space Odyssey</td>\n",
       "      <td>Dave, a young photon, who is forced out of the...</td>\n",
       "      <td>1.619</td>\n",
       "      <td>/uneDCn8y6RHKc5IAfpgznmaan9I.jpg</td>\n",
       "      <td>[]</td>\n",
       "      <td>[{'iso_3166_1': 'US', 'name': 'United States o...</td>\n",
       "      <td>2012-12-02</td>\n",
       "      <td>0.0</td>\n",
       "      <td>45.0</td>\n",
       "      <td>[{'english_name': 'English', 'iso_639_1': 'en'...</td>\n",
       "      <td>Released</td>\n",
       "      <td>NaN</td>\n",
       "      <td>Quantum Quest: A Cassini Space Odyssey</td>\n",
       "      <td>0.0</td>\n",
       "      <td>7.90</td>\n",
       "      <td>8.0</td>\n",
       "      <td>\\r</td>\n",
       "    </tr>\n",
       "    <tr>\n",
       "      <th>1</th>\n",
       "      <td>tt0326965</td>\n",
       "      <td>0.0</td>\n",
       "      <td>/xt2klJdKCVGXcoBGQrGfAS0aGDE.jpg</td>\n",
       "      <td>NaN</td>\n",
       "      <td>0.0</td>\n",
       "      <td>[{'id': 53, 'name': 'Thriller'}, {'id': 9648, ...</td>\n",
       "      <td>http://www.inmysleep.com</td>\n",
       "      <td>40048.0</td>\n",
       "      <td>en</td>\n",
       "      <td>In My Sleep</td>\n",
       "      <td>A sleepwalking, sexaholic masseur wakes up, co...</td>\n",
       "      <td>3.755</td>\n",
       "      <td>/sv9o6VYUQM2AbfmlTwDTn9238R5.jpg</td>\n",
       "      <td>[]</td>\n",
       "      <td>[{'iso_3166_1': 'US', 'name': 'United States o...</td>\n",
       "      <td>2010-04-23</td>\n",
       "      <td>0.0</td>\n",
       "      <td>90.0</td>\n",
       "      <td>[{'english_name': 'English', 'iso_639_1': 'en'...</td>\n",
       "      <td>Released</td>\n",
       "      <td>Sleepwalking can be deadly.</td>\n",
       "      <td>In My Sleep</td>\n",
       "      <td>0.0</td>\n",
       "      <td>5.50</td>\n",
       "      <td>31.0</td>\n",
       "      <td>PG-13\\r</td>\n",
       "    </tr>\n",
       "    <tr>\n",
       "      <th>2</th>\n",
       "      <td>tt0331312</td>\n",
       "      <td>0.0</td>\n",
       "      <td>NaN</td>\n",
       "      <td>NaN</td>\n",
       "      <td>0.0</td>\n",
       "      <td>[]</td>\n",
       "      <td>NaN</td>\n",
       "      <td>214026.0</td>\n",
       "      <td>en</td>\n",
       "      <td>This Wretched Life</td>\n",
       "      <td>Awakening from a near fatal overdose, Chris em...</td>\n",
       "      <td>0.622</td>\n",
       "      <td>/xMMehQD3VWgorYoqvlTeQXSbsFo.jpg</td>\n",
       "      <td>[]</td>\n",
       "      <td>[]</td>\n",
       "      <td>2010-01-01</td>\n",
       "      <td>0.0</td>\n",
       "      <td>0.0</td>\n",
       "      <td>[]</td>\n",
       "      <td>Released</td>\n",
       "      <td>NaN</td>\n",
       "      <td>This Wretched Life</td>\n",
       "      <td>0.0</td>\n",
       "      <td>5.00</td>\n",
       "      <td>1.0</td>\n",
       "      <td>\\r</td>\n",
       "    </tr>\n",
       "    <tr>\n",
       "      <th>3</th>\n",
       "      <td>tt0393049</td>\n",
       "      <td>0.0</td>\n",
       "      <td>/gc9FN5zohhzCt05RkejQIIPLtBl.jpg</td>\n",
       "      <td>NaN</td>\n",
       "      <td>300000.0</td>\n",
       "      <td>[{'id': 10749, 'name': 'Romance'}, {'id': 35, ...</td>\n",
       "      <td>NaN</td>\n",
       "      <td>324352.0</td>\n",
       "      <td>en</td>\n",
       "      <td>Anderson's Cross</td>\n",
       "      <td>Nick Anderson, Kevin Daniels, and Tracey Green...</td>\n",
       "      <td>1.576</td>\n",
       "      <td>/2j90os0c2HJuIjWXxMg9vMvOliw.jpg</td>\n",
       "      <td>[{'id': 46102, 'logo_path': None, 'name': 'Ill...</td>\n",
       "      <td>[{'iso_3166_1': 'US', 'name': 'United States o...</td>\n",
       "      <td>2010-05-20</td>\n",
       "      <td>0.0</td>\n",
       "      <td>98.0</td>\n",
       "      <td>[{'english_name': 'English', 'iso_639_1': 'en'...</td>\n",
       "      <td>Released</td>\n",
       "      <td>Sometimes the boy next door is more than the b...</td>\n",
       "      <td>Anderson's Cross</td>\n",
       "      <td>0.0</td>\n",
       "      <td>4.00</td>\n",
       "      <td>5.0</td>\n",
       "      <td>\\r</td>\n",
       "    </tr>\n",
       "    <tr>\n",
       "      <th>4</th>\n",
       "      <td>tt0398286</td>\n",
       "      <td>0.0</td>\n",
       "      <td>/cWczNud8Y8i8ab0Z4bxos4myWYO.jpg</td>\n",
       "      <td>NaN</td>\n",
       "      <td>260000000.0</td>\n",
       "      <td>[{'id': 16, 'name': 'Animation'}, {'id': 10751...</td>\n",
       "      <td>http://disney.go.com/disneypictures/tangled/</td>\n",
       "      <td>38757.0</td>\n",
       "      <td>en</td>\n",
       "      <td>Tangled</td>\n",
       "      <td>When the kingdom's most wanted-and most charmi...</td>\n",
       "      <td>108.562</td>\n",
       "      <td>/ym7Kst6a4uodryxqbGOxmewF235.jpg</td>\n",
       "      <td>[{'id': 6125, 'logo_path': '/tzsMJBJZINu7GHzrp...</td>\n",
       "      <td>[{'iso_3166_1': 'US', 'name': 'United States o...</td>\n",
       "      <td>2010-11-24</td>\n",
       "      <td>592461732.0</td>\n",
       "      <td>100.0</td>\n",
       "      <td>[{'english_name': 'English', 'iso_639_1': 'en'...</td>\n",
       "      <td>Released</td>\n",
       "      <td>They're taking adventure to new lengths.</td>\n",
       "      <td>Tangled</td>\n",
       "      <td>0.0</td>\n",
       "      <td>7.59</td>\n",
       "      <td>10223.0</td>\n",
       "      <td>PG\\r</td>\n",
       "    </tr>\n",
       "  </tbody>\n",
       "</table>\n",
       "</div>"
      ],
      "text/plain": [
       "     imdb_id  adult                     backdrop_path belongs_to_collection  \\\n",
       "0  tt0312305    0.0  /lqUbt2cy2pnqvxKefbQAtxLS0WA.jpg                   NaN   \n",
       "1  tt0326965    0.0  /xt2klJdKCVGXcoBGQrGfAS0aGDE.jpg                   NaN   \n",
       "2  tt0331312    0.0                               NaN                   NaN   \n",
       "3  tt0393049    0.0  /gc9FN5zohhzCt05RkejQIIPLtBl.jpg                   NaN   \n",
       "4  tt0398286    0.0  /cWczNud8Y8i8ab0Z4bxos4myWYO.jpg                   NaN   \n",
       "\n",
       "        budget                                             genres  \\\n",
       "0          0.0  [{'id': 10751, 'name': 'Family'}, {'id': 16, '...   \n",
       "1          0.0  [{'id': 53, 'name': 'Thriller'}, {'id': 9648, ...   \n",
       "2          0.0                                                 []   \n",
       "3     300000.0  [{'id': 10749, 'name': 'Romance'}, {'id': 35, ...   \n",
       "4  260000000.0  [{'id': 16, 'name': 'Animation'}, {'id': 10751...   \n",
       "\n",
       "                                       homepage        id original_language  \\\n",
       "0                    http://www.qqthemovie.com/   23738.0                en   \n",
       "1                      http://www.inmysleep.com   40048.0                en   \n",
       "2                                           NaN  214026.0                en   \n",
       "3                                           NaN  324352.0                en   \n",
       "4  http://disney.go.com/disneypictures/tangled/   38757.0                en   \n",
       "\n",
       "                           original_title  \\\n",
       "0  Quantum Quest: A Cassini Space Odyssey   \n",
       "1                             In My Sleep   \n",
       "2                      This Wretched Life   \n",
       "3                        Anderson's Cross   \n",
       "4                                 Tangled   \n",
       "\n",
       "                                            overview  popularity  \\\n",
       "0  Dave, a young photon, who is forced out of the...       1.619   \n",
       "1  A sleepwalking, sexaholic masseur wakes up, co...       3.755   \n",
       "2  Awakening from a near fatal overdose, Chris em...       0.622   \n",
       "3  Nick Anderson, Kevin Daniels, and Tracey Green...       1.576   \n",
       "4  When the kingdom's most wanted-and most charmi...     108.562   \n",
       "\n",
       "                        poster_path  \\\n",
       "0  /uneDCn8y6RHKc5IAfpgznmaan9I.jpg   \n",
       "1  /sv9o6VYUQM2AbfmlTwDTn9238R5.jpg   \n",
       "2  /xMMehQD3VWgorYoqvlTeQXSbsFo.jpg   \n",
       "3  /2j90os0c2HJuIjWXxMg9vMvOliw.jpg   \n",
       "4  /ym7Kst6a4uodryxqbGOxmewF235.jpg   \n",
       "\n",
       "                                production_companies  \\\n",
       "0                                                 []   \n",
       "1                                                 []   \n",
       "2                                                 []   \n",
       "3  [{'id': 46102, 'logo_path': None, 'name': 'Ill...   \n",
       "4  [{'id': 6125, 'logo_path': '/tzsMJBJZINu7GHzrp...   \n",
       "\n",
       "                                production_countries release_date  \\\n",
       "0  [{'iso_3166_1': 'US', 'name': 'United States o...   2012-12-02   \n",
       "1  [{'iso_3166_1': 'US', 'name': 'United States o...   2010-04-23   \n",
       "2                                                 []   2010-01-01   \n",
       "3  [{'iso_3166_1': 'US', 'name': 'United States o...   2010-05-20   \n",
       "4  [{'iso_3166_1': 'US', 'name': 'United States o...   2010-11-24   \n",
       "\n",
       "       revenue  runtime                                   spoken_languages  \\\n",
       "0          0.0     45.0  [{'english_name': 'English', 'iso_639_1': 'en'...   \n",
       "1          0.0     90.0  [{'english_name': 'English', 'iso_639_1': 'en'...   \n",
       "2          0.0      0.0                                                 []   \n",
       "3          0.0     98.0  [{'english_name': 'English', 'iso_639_1': 'en'...   \n",
       "4  592461732.0    100.0  [{'english_name': 'English', 'iso_639_1': 'en'...   \n",
       "\n",
       "     status                                            tagline  \\\n",
       "0  Released                                                NaN   \n",
       "1  Released                        Sleepwalking can be deadly.   \n",
       "2  Released                                                NaN   \n",
       "3  Released  Sometimes the boy next door is more than the b...   \n",
       "4  Released           They're taking adventure to new lengths.   \n",
       "\n",
       "                                    title  video  vote_average  vote_count  \\\n",
       "0  Quantum Quest: A Cassini Space Odyssey    0.0          7.90         8.0   \n",
       "1                             In My Sleep    0.0          5.50        31.0   \n",
       "2                      This Wretched Life    0.0          5.00         1.0   \n",
       "3                        Anderson's Cross    0.0          4.00         5.0   \n",
       "4                                 Tangled    0.0          7.59     10223.0   \n",
       "\n",
       "  certification\\r  \n",
       "0              \\r  \n",
       "1         PG-13\\r  \n",
       "2              \\r  \n",
       "3              \\r  \n",
       "4            PG\\r  "
      ]
     },
     "execution_count": 3,
     "metadata": {},
     "output_type": "execute_result"
    }
   ],
   "source": [
    "# Load in the dataframe from project part 1 as basics:\n",
    "df = pd.read_csv('Data/combined_tmdb_data.csv.gz')\n",
    "df.head()"
   ]
  },
  {
   "cell_type": "code",
   "execution_count": 4,
   "id": "7c358e13",
   "metadata": {
    "ExecuteTime": {
     "end_time": "2023-05-19T01:05:14.347277Z",
     "start_time": "2023-05-19T01:05:14.287107Z"
    }
   },
   "outputs": [
    {
     "name": "stdout",
     "output_type": "stream",
     "text": [
      "<class 'pandas.core.frame.DataFrame'>\n",
      "RangeIndex: 38136 entries, 0 to 38135\n",
      "Data columns (total 26 columns):\n",
      " #   Column                 Non-Null Count  Dtype  \n",
      "---  ------                 --------------  -----  \n",
      " 0   imdb_id                38136 non-null  object \n",
      " 1   adult                  38136 non-null  float64\n",
      " 2   backdrop_path          25276 non-null  object \n",
      " 3   belongs_to_collection  2499 non-null   object \n",
      " 4   budget                 38136 non-null  float64\n",
      " 5   genres                 38136 non-null  object \n",
      " 6   homepage               10063 non-null  object \n",
      " 7   id                     38136 non-null  float64\n",
      " 8   original_language      38136 non-null  object \n",
      " 9   original_title         38136 non-null  object \n",
      " 10  overview               37308 non-null  object \n",
      " 11  popularity             38136 non-null  float64\n",
      " 12  poster_path            35390 non-null  object \n",
      " 13  production_companies   38136 non-null  object \n",
      " 14  production_countries   38136 non-null  object \n",
      " 15  release_date           37602 non-null  object \n",
      " 16  revenue                38136 non-null  float64\n",
      " 17  runtime                38136 non-null  float64\n",
      " 18  spoken_languages       38136 non-null  object \n",
      " 19  status                 38136 non-null  object \n",
      " 20  tagline                13894 non-null  object \n",
      " 21  title                  38136 non-null  object \n",
      " 22  video                  38136 non-null  float64\n",
      " 23  vote_average           38136 non-null  float64\n",
      " 24  vote_count             38136 non-null  float64\n",
      " 25  certification\r",
      "         38136 non-null  object \n",
      "dtypes: float64(9), object(17)\n",
      "memory usage: 7.6+ MB\n"
     ]
    }
   ],
   "source": [
    "df.info()"
   ]
  },
  {
   "cell_type": "markdown",
   "id": "f5e1027a",
   "metadata": {},
   "source": [
    "# Preprocessing"
   ]
  },
  {
   "cell_type": "code",
   "execution_count": 5,
   "id": "05bc4112",
   "metadata": {
    "ExecuteTime": {
     "end_time": "2023-05-19T01:05:14.378093Z",
     "start_time": "2023-05-19T01:05:14.348282Z"
    },
    "scrolled": false
   },
   "outputs": [
    {
     "data": {
      "text/html": [
       "<div>\n",
       "<style scoped>\n",
       "    .dataframe tbody tr th:only-of-type {\n",
       "        vertical-align: middle;\n",
       "    }\n",
       "\n",
       "    .dataframe tbody tr th {\n",
       "        vertical-align: top;\n",
       "    }\n",
       "\n",
       "    .dataframe thead th {\n",
       "        text-align: right;\n",
       "    }\n",
       "</style>\n",
       "<table border=\"1\" class=\"dataframe\">\n",
       "  <thead>\n",
       "    <tr style=\"text-align: right;\">\n",
       "      <th></th>\n",
       "      <th>imdb_id</th>\n",
       "      <th>adult</th>\n",
       "      <th>belongs_to_collection</th>\n",
       "      <th>budget</th>\n",
       "      <th>genres</th>\n",
       "      <th>popularity</th>\n",
       "      <th>release_date</th>\n",
       "      <th>revenue</th>\n",
       "      <th>runtime</th>\n",
       "      <th>status</th>\n",
       "      <th>title</th>\n",
       "      <th>vote_average</th>\n",
       "      <th>vote_count</th>\n",
       "      <th>certification\\r</th>\n",
       "    </tr>\n",
       "  </thead>\n",
       "  <tbody>\n",
       "    <tr>\n",
       "      <th>0</th>\n",
       "      <td>tt0312305</td>\n",
       "      <td>0.0</td>\n",
       "      <td>NaN</td>\n",
       "      <td>0.0</td>\n",
       "      <td>[{'id': 10751, 'name': 'Family'}, {'id': 16, '...</td>\n",
       "      <td>1.619</td>\n",
       "      <td>2012-12-02</td>\n",
       "      <td>0.0</td>\n",
       "      <td>45.0</td>\n",
       "      <td>Released</td>\n",
       "      <td>Quantum Quest: A Cassini Space Odyssey</td>\n",
       "      <td>7.900</td>\n",
       "      <td>8.0</td>\n",
       "      <td>\\r</td>\n",
       "    </tr>\n",
       "    <tr>\n",
       "      <th>1</th>\n",
       "      <td>tt0326965</td>\n",
       "      <td>0.0</td>\n",
       "      <td>NaN</td>\n",
       "      <td>0.0</td>\n",
       "      <td>[{'id': 53, 'name': 'Thriller'}, {'id': 9648, ...</td>\n",
       "      <td>3.755</td>\n",
       "      <td>2010-04-23</td>\n",
       "      <td>0.0</td>\n",
       "      <td>90.0</td>\n",
       "      <td>Released</td>\n",
       "      <td>In My Sleep</td>\n",
       "      <td>5.500</td>\n",
       "      <td>31.0</td>\n",
       "      <td>PG-13\\r</td>\n",
       "    </tr>\n",
       "    <tr>\n",
       "      <th>2</th>\n",
       "      <td>tt0331312</td>\n",
       "      <td>0.0</td>\n",
       "      <td>NaN</td>\n",
       "      <td>0.0</td>\n",
       "      <td>[]</td>\n",
       "      <td>0.622</td>\n",
       "      <td>2010-01-01</td>\n",
       "      <td>0.0</td>\n",
       "      <td>0.0</td>\n",
       "      <td>Released</td>\n",
       "      <td>This Wretched Life</td>\n",
       "      <td>5.000</td>\n",
       "      <td>1.0</td>\n",
       "      <td>\\r</td>\n",
       "    </tr>\n",
       "    <tr>\n",
       "      <th>3</th>\n",
       "      <td>tt0393049</td>\n",
       "      <td>0.0</td>\n",
       "      <td>NaN</td>\n",
       "      <td>300000.0</td>\n",
       "      <td>[{'id': 10749, 'name': 'Romance'}, {'id': 35, ...</td>\n",
       "      <td>1.576</td>\n",
       "      <td>2010-05-20</td>\n",
       "      <td>0.0</td>\n",
       "      <td>98.0</td>\n",
       "      <td>Released</td>\n",
       "      <td>Anderson's Cross</td>\n",
       "      <td>4.000</td>\n",
       "      <td>5.0</td>\n",
       "      <td>\\r</td>\n",
       "    </tr>\n",
       "    <tr>\n",
       "      <th>4</th>\n",
       "      <td>tt0398286</td>\n",
       "      <td>0.0</td>\n",
       "      <td>NaN</td>\n",
       "      <td>260000000.0</td>\n",
       "      <td>[{'id': 16, 'name': 'Animation'}, {'id': 10751...</td>\n",
       "      <td>108.562</td>\n",
       "      <td>2010-11-24</td>\n",
       "      <td>592461732.0</td>\n",
       "      <td>100.0</td>\n",
       "      <td>Released</td>\n",
       "      <td>Tangled</td>\n",
       "      <td>7.590</td>\n",
       "      <td>10223.0</td>\n",
       "      <td>PG\\r</td>\n",
       "    </tr>\n",
       "    <tr>\n",
       "      <th>...</th>\n",
       "      <td>...</td>\n",
       "      <td>...</td>\n",
       "      <td>...</td>\n",
       "      <td>...</td>\n",
       "      <td>...</td>\n",
       "      <td>...</td>\n",
       "      <td>...</td>\n",
       "      <td>...</td>\n",
       "      <td>...</td>\n",
       "      <td>...</td>\n",
       "      <td>...</td>\n",
       "      <td>...</td>\n",
       "      <td>...</td>\n",
       "      <td>...</td>\n",
       "    </tr>\n",
       "    <tr>\n",
       "      <th>38131</th>\n",
       "      <td>tt9906644</td>\n",
       "      <td>0.0</td>\n",
       "      <td>NaN</td>\n",
       "      <td>0.0</td>\n",
       "      <td>[{'id': 35, 'name': 'Comedy'}, {'id': 18, 'nam...</td>\n",
       "      <td>1.448</td>\n",
       "      <td>2019-09-27</td>\n",
       "      <td>0.0</td>\n",
       "      <td>122.0</td>\n",
       "      <td>Released</td>\n",
       "      <td>Manoharam</td>\n",
       "      <td>6.125</td>\n",
       "      <td>12.0</td>\n",
       "      <td>\\r</td>\n",
       "    </tr>\n",
       "    <tr>\n",
       "      <th>38132</th>\n",
       "      <td>tt9913660</td>\n",
       "      <td>0.0</td>\n",
       "      <td>NaN</td>\n",
       "      <td>0.0</td>\n",
       "      <td>[{'id': 18, 'name': 'Drama'}]</td>\n",
       "      <td>0.638</td>\n",
       "      <td>2019-10-23</td>\n",
       "      <td>0.0</td>\n",
       "      <td>102.0</td>\n",
       "      <td>Released</td>\n",
       "      <td>No Apology</td>\n",
       "      <td>8.000</td>\n",
       "      <td>1.0</td>\n",
       "      <td>\\r</td>\n",
       "    </tr>\n",
       "    <tr>\n",
       "      <th>38133</th>\n",
       "      <td>tt9913872</td>\n",
       "      <td>0.0</td>\n",
       "      <td>NaN</td>\n",
       "      <td>0.0</td>\n",
       "      <td>[{'id': 27, 'name': 'Horror'}]</td>\n",
       "      <td>0.600</td>\n",
       "      <td>2019-01-01</td>\n",
       "      <td>0.0</td>\n",
       "      <td>0.0</td>\n",
       "      <td>Released</td>\n",
       "      <td>De la piel del Diablo</td>\n",
       "      <td>8.200</td>\n",
       "      <td>3.0</td>\n",
       "      <td>\\r</td>\n",
       "    </tr>\n",
       "    <tr>\n",
       "      <th>38134</th>\n",
       "      <td>tt9914942</td>\n",
       "      <td>0.0</td>\n",
       "      <td>NaN</td>\n",
       "      <td>0.0</td>\n",
       "      <td>[{'id': 18, 'name': 'Drama'}, {'id': 10749, 'n...</td>\n",
       "      <td>5.570</td>\n",
       "      <td>2019-07-12</td>\n",
       "      <td>0.0</td>\n",
       "      <td>74.0</td>\n",
       "      <td>Released</td>\n",
       "      <td>Life without Sara Amat</td>\n",
       "      <td>7.700</td>\n",
       "      <td>7.0</td>\n",
       "      <td>\\r</td>\n",
       "    </tr>\n",
       "    <tr>\n",
       "      <th>38135</th>\n",
       "      <td>tt9915872</td>\n",
       "      <td>0.0</td>\n",
       "      <td>NaN</td>\n",
       "      <td>0.0</td>\n",
       "      <td>[]</td>\n",
       "      <td>0.600</td>\n",
       "      <td>NaN</td>\n",
       "      <td>0.0</td>\n",
       "      <td>97.0</td>\n",
       "      <td>Released</td>\n",
       "      <td>The Last White Witch</td>\n",
       "      <td>0.000</td>\n",
       "      <td>0.0</td>\n",
       "      <td>\\r</td>\n",
       "    </tr>\n",
       "  </tbody>\n",
       "</table>\n",
       "<p>38136 rows × 14 columns</p>\n",
       "</div>"
      ],
      "text/plain": [
       "         imdb_id  adult belongs_to_collection       budget  \\\n",
       "0      tt0312305    0.0                   NaN          0.0   \n",
       "1      tt0326965    0.0                   NaN          0.0   \n",
       "2      tt0331312    0.0                   NaN          0.0   \n",
       "3      tt0393049    0.0                   NaN     300000.0   \n",
       "4      tt0398286    0.0                   NaN  260000000.0   \n",
       "...          ...    ...                   ...          ...   \n",
       "38131  tt9906644    0.0                   NaN          0.0   \n",
       "38132  tt9913660    0.0                   NaN          0.0   \n",
       "38133  tt9913872    0.0                   NaN          0.0   \n",
       "38134  tt9914942    0.0                   NaN          0.0   \n",
       "38135  tt9915872    0.0                   NaN          0.0   \n",
       "\n",
       "                                                  genres  popularity  \\\n",
       "0      [{'id': 10751, 'name': 'Family'}, {'id': 16, '...       1.619   \n",
       "1      [{'id': 53, 'name': 'Thriller'}, {'id': 9648, ...       3.755   \n",
       "2                                                     []       0.622   \n",
       "3      [{'id': 10749, 'name': 'Romance'}, {'id': 35, ...       1.576   \n",
       "4      [{'id': 16, 'name': 'Animation'}, {'id': 10751...     108.562   \n",
       "...                                                  ...         ...   \n",
       "38131  [{'id': 35, 'name': 'Comedy'}, {'id': 18, 'nam...       1.448   \n",
       "38132                      [{'id': 18, 'name': 'Drama'}]       0.638   \n",
       "38133                     [{'id': 27, 'name': 'Horror'}]       0.600   \n",
       "38134  [{'id': 18, 'name': 'Drama'}, {'id': 10749, 'n...       5.570   \n",
       "38135                                                 []       0.600   \n",
       "\n",
       "      release_date      revenue  runtime    status  \\\n",
       "0       2012-12-02          0.0     45.0  Released   \n",
       "1       2010-04-23          0.0     90.0  Released   \n",
       "2       2010-01-01          0.0      0.0  Released   \n",
       "3       2010-05-20          0.0     98.0  Released   \n",
       "4       2010-11-24  592461732.0    100.0  Released   \n",
       "...            ...          ...      ...       ...   \n",
       "38131   2019-09-27          0.0    122.0  Released   \n",
       "38132   2019-10-23          0.0    102.0  Released   \n",
       "38133   2019-01-01          0.0      0.0  Released   \n",
       "38134   2019-07-12          0.0     74.0  Released   \n",
       "38135          NaN          0.0     97.0  Released   \n",
       "\n",
       "                                        title  vote_average  vote_count  \\\n",
       "0      Quantum Quest: A Cassini Space Odyssey         7.900         8.0   \n",
       "1                                 In My Sleep         5.500        31.0   \n",
       "2                          This Wretched Life         5.000         1.0   \n",
       "3                            Anderson's Cross         4.000         5.0   \n",
       "4                                     Tangled         7.590     10223.0   \n",
       "...                                       ...           ...         ...   \n",
       "38131                               Manoharam         6.125        12.0   \n",
       "38132                              No Apology         8.000         1.0   \n",
       "38133                   De la piel del Diablo         8.200         3.0   \n",
       "38134                  Life without Sara Amat         7.700         7.0   \n",
       "38135                    The Last White Witch         0.000         0.0   \n",
       "\n",
       "      certification\\r  \n",
       "0                  \\r  \n",
       "1             PG-13\\r  \n",
       "2                  \\r  \n",
       "3                  \\r  \n",
       "4                PG\\r  \n",
       "...               ...  \n",
       "38131              \\r  \n",
       "38132              \\r  \n",
       "38133              \\r  \n",
       "38134              \\r  \n",
       "38135              \\r  \n",
       "\n",
       "[38136 rows x 14 columns]"
      ]
     },
     "execution_count": 5,
     "metadata": {},
     "output_type": "execute_result"
    }
   ],
   "source": [
    "drop_cols = ['backdrop_path','backdrop_path','original_title','overview',\n",
    "                 'poster_path','tagline','id','homepage',\n",
    "                 'production_countries','video','production_companies','spoken_languages',\n",
    "            'original_language']\n",
    "df = df.drop(columns=drop_cols)\n",
    "df"
   ]
  },
  {
   "cell_type": "markdown",
   "id": "90d000a3",
   "metadata": {},
   "source": [
    "belongs_to_collection feature"
   ]
  },
  {
   "cell_type": "code",
   "execution_count": 6,
   "id": "b6ea3691",
   "metadata": {
    "ExecuteTime": {
     "end_time": "2023-05-19T01:05:14.393549Z",
     "start_time": "2023-05-19T01:05:14.380092Z"
    }
   },
   "outputs": [
    {
     "data": {
      "text/plain": [
       "{'id': 39199, 'name': 'Detective Conan Collection', 'poster_path': '/bV6EHK0Q65hHKSoVDeACbc960jQ.jpg', 'backdrop_path': '/mwz7lYimh8da0zZHOI41xNd86yH.jpg'}    9\n",
       "{'id': 148065, 'name': 'Doraemon Collection', 'poster_path': '/4TLSP1KD1uAlp2q1rTrc6SFlktX.jpg', 'backdrop_path': '/rc6OFcSasL5YxBRPUQVwxmVF6h5.jpg'}          8\n",
       "{'id': 803526, 'name': 'Super Sentai Collection', 'poster_path': '/jIbtHH6ZGq4KNpiWRUajNIuiIxn.jpg', 'backdrop_path': None}                                    7\n",
       "{'id': 101646, 'name': 'Vares Collection', 'poster_path': None, 'backdrop_path': None}                                                                         7\n",
       "{'id': 725456, 'name': 'American Poltergeist', 'poster_path': '/blYngKjIj7FqxovoDbXwtbmJ8WF.jpg', 'backdrop_path': None}                                       7\n",
       "                                                                                                                                                              ..\n",
       "{'id': 448758, 'name': 'Børning Collection', 'poster_path': '/o9lgTHoVWA5uzJYyZElwPaMfSQy.jpg', 'backdrop_path': None}                                         1\n",
       "{'id': 296872, 'name': 'See No Evil Collection', 'poster_path': '/1PfKRUQ5H9vZDQj1XCB2Ux2kscg.jpg', 'backdrop_path': '/xUwlkY068q0VJrBpcyShwNwVoRI.jpg'}       1\n",
       "{'id': 980665, 'name': 'Heropanti Collection', 'poster_path': '/uHWTpCwDxXb8IrpdQCTn6npOFr8.jpg', 'backdrop_path': '/wLbSsoRullhABWMg6hfdoSwhzWo.jpg'}         1\n",
       "{'id': 1021287, 'name': 'Villain Collection', 'poster_path': None, 'backdrop_path': '/qjEuO2odcCOew4LA8BB1S35myKY.jpg'}                                        1\n",
       "{'id': 920141, 'name': 'Lokesh Cinematic Universe', 'poster_path': '/mOlcL4rwCuK55LQRxqCBiucLhIo.jpg', 'backdrop_path': None}                                  1\n",
       "Name: belongs_to_collection, Length: 1519, dtype: int64"
      ]
     },
     "execution_count": 6,
     "metadata": {},
     "output_type": "execute_result"
    }
   ],
   "source": [
    "df['belongs_to_collection'].value_counts()"
   ]
  },
  {
   "cell_type": "code",
   "execution_count": 7,
   "id": "88dc570a",
   "metadata": {
    "ExecuteTime": {
     "end_time": "2023-05-19T01:05:14.409107Z",
     "start_time": "2023-05-19T01:05:14.394551Z"
    }
   },
   "outputs": [
    {
     "data": {
      "text/plain": [
       "2499"
      ]
     },
     "execution_count": 7,
     "metadata": {},
     "output_type": "execute_result"
    }
   ],
   "source": [
    "# there are 3,700+ movies that belong to collections\n",
    "df['belongs_to_collection'].notna().sum()"
   ]
  },
  {
   "cell_type": "code",
   "execution_count": 8,
   "id": "6c202b35",
   "metadata": {
    "ExecuteTime": {
     "end_time": "2023-05-19T01:05:14.424523Z",
     "start_time": "2023-05-19T01:05:14.410107Z"
    }
   },
   "outputs": [
    {
     "data": {
      "text/plain": [
       "False    35637\n",
       "True      2499\n",
       "Name: belongs_to_collection, dtype: int64"
      ]
     },
     "execution_count": 8,
     "metadata": {},
     "output_type": "execute_result"
    }
   ],
   "source": [
    "## Use .notna() to get True if it belongs to a collection\n",
    "df['belongs_to_collection'] = df['belongs_to_collection'].notna()\n",
    "df['belongs_to_collection'].value_counts()"
   ]
  },
  {
   "cell_type": "markdown",
   "id": "15dababc",
   "metadata": {},
   "source": [
    "genres"
   ]
  },
  {
   "cell_type": "code",
   "execution_count": 9,
   "id": "b3c990b6",
   "metadata": {
    "ExecuteTime": {
     "end_time": "2023-05-19T01:05:14.439531Z",
     "start_time": "2023-05-19T01:05:14.425523Z"
    }
   },
   "outputs": [
    {
     "data": {
      "text/plain": [
       "\"[{'id': 10751, 'name': 'Family'}, {'id': 16, 'name': 'Animation'}, {'id': 878, 'name': 'Science Fiction'}]\""
      ]
     },
     "execution_count": 9,
     "metadata": {},
     "output_type": "execute_result"
    }
   ],
   "source": [
    "df['genres'][0]"
   ]
  },
  {
   "cell_type": "code",
   "execution_count": 10,
   "id": "b6c8bcfb",
   "metadata": {
    "ExecuteTime": {
     "end_time": "2023-05-19T01:05:14.455041Z",
     "start_time": "2023-05-19T01:05:14.441532Z"
    }
   },
   "outputs": [],
   "source": [
    "## Function to get just the genre names as a list \n",
    "def get_genre_name(x):\n",
    "    x = x.replace(\"'\",'\"')\n",
    "    x = json.loads(x)\n",
    "    \n",
    "    genres = []\n",
    "    for genre in x:\n",
    "        genres.append(genre['name'])\n",
    "    return genres"
   ]
  },
  {
   "cell_type": "code",
   "execution_count": 11,
   "id": "e8d6dbc1",
   "metadata": {
    "ExecuteTime": {
     "end_time": "2023-05-19T01:05:14.470358Z",
     "start_time": "2023-05-19T01:05:14.456040Z"
    }
   },
   "outputs": [
    {
     "data": {
      "text/plain": [
       "['Family', 'Animation', 'Science Fiction']"
      ]
     },
     "execution_count": 11,
     "metadata": {},
     "output_type": "execute_result"
    }
   ],
   "source": [
    "## Use our function and exploding the new column\n",
    "get_genre_name(df.loc[0,'genres'])\n",
    "\n",
    "# use get_genre_name and convert all the genere name in list"
   ]
  },
  {
   "cell_type": "code",
   "execution_count": 12,
   "id": "05420df8",
   "metadata": {
    "ExecuteTime": {
     "end_time": "2023-05-19T01:05:14.596121Z",
     "start_time": "2023-05-19T01:05:14.471358Z"
    }
   },
   "outputs": [
    {
     "data": {
      "text/html": [
       "<div>\n",
       "<style scoped>\n",
       "    .dataframe tbody tr th:only-of-type {\n",
       "        vertical-align: middle;\n",
       "    }\n",
       "\n",
       "    .dataframe tbody tr th {\n",
       "        vertical-align: top;\n",
       "    }\n",
       "\n",
       "    .dataframe thead th {\n",
       "        text-align: right;\n",
       "    }\n",
       "</style>\n",
       "<table border=\"1\" class=\"dataframe\">\n",
       "  <thead>\n",
       "    <tr style=\"text-align: right;\">\n",
       "      <th></th>\n",
       "      <th>imdb_id</th>\n",
       "      <th>adult</th>\n",
       "      <th>belongs_to_collection</th>\n",
       "      <th>budget</th>\n",
       "      <th>genres</th>\n",
       "      <th>popularity</th>\n",
       "      <th>release_date</th>\n",
       "      <th>revenue</th>\n",
       "      <th>runtime</th>\n",
       "      <th>status</th>\n",
       "      <th>title</th>\n",
       "      <th>vote_average</th>\n",
       "      <th>vote_count</th>\n",
       "      <th>certification\\r</th>\n",
       "      <th>genres_list</th>\n",
       "    </tr>\n",
       "  </thead>\n",
       "  <tbody>\n",
       "    <tr>\n",
       "      <th>0</th>\n",
       "      <td>tt0312305</td>\n",
       "      <td>0.0</td>\n",
       "      <td>False</td>\n",
       "      <td>0.0</td>\n",
       "      <td>[{'id': 10751, 'name': 'Family'}, {'id': 16, '...</td>\n",
       "      <td>1.619</td>\n",
       "      <td>2012-12-02</td>\n",
       "      <td>0.0</td>\n",
       "      <td>45.0</td>\n",
       "      <td>Released</td>\n",
       "      <td>Quantum Quest: A Cassini Space Odyssey</td>\n",
       "      <td>7.9</td>\n",
       "      <td>8.0</td>\n",
       "      <td>\\r</td>\n",
       "      <td>Family</td>\n",
       "    </tr>\n",
       "    <tr>\n",
       "      <th>0</th>\n",
       "      <td>tt0312305</td>\n",
       "      <td>0.0</td>\n",
       "      <td>False</td>\n",
       "      <td>0.0</td>\n",
       "      <td>[{'id': 10751, 'name': 'Family'}, {'id': 16, '...</td>\n",
       "      <td>1.619</td>\n",
       "      <td>2012-12-02</td>\n",
       "      <td>0.0</td>\n",
       "      <td>45.0</td>\n",
       "      <td>Released</td>\n",
       "      <td>Quantum Quest: A Cassini Space Odyssey</td>\n",
       "      <td>7.9</td>\n",
       "      <td>8.0</td>\n",
       "      <td>\\r</td>\n",
       "      <td>Animation</td>\n",
       "    </tr>\n",
       "    <tr>\n",
       "      <th>0</th>\n",
       "      <td>tt0312305</td>\n",
       "      <td>0.0</td>\n",
       "      <td>False</td>\n",
       "      <td>0.0</td>\n",
       "      <td>[{'id': 10751, 'name': 'Family'}, {'id': 16, '...</td>\n",
       "      <td>1.619</td>\n",
       "      <td>2012-12-02</td>\n",
       "      <td>0.0</td>\n",
       "      <td>45.0</td>\n",
       "      <td>Released</td>\n",
       "      <td>Quantum Quest: A Cassini Space Odyssey</td>\n",
       "      <td>7.9</td>\n",
       "      <td>8.0</td>\n",
       "      <td>\\r</td>\n",
       "      <td>Science Fiction</td>\n",
       "    </tr>\n",
       "    <tr>\n",
       "      <th>1</th>\n",
       "      <td>tt0326965</td>\n",
       "      <td>0.0</td>\n",
       "      <td>False</td>\n",
       "      <td>0.0</td>\n",
       "      <td>[{'id': 53, 'name': 'Thriller'}, {'id': 9648, ...</td>\n",
       "      <td>3.755</td>\n",
       "      <td>2010-04-23</td>\n",
       "      <td>0.0</td>\n",
       "      <td>90.0</td>\n",
       "      <td>Released</td>\n",
       "      <td>In My Sleep</td>\n",
       "      <td>5.5</td>\n",
       "      <td>31.0</td>\n",
       "      <td>PG-13\\r</td>\n",
       "      <td>Thriller</td>\n",
       "    </tr>\n",
       "    <tr>\n",
       "      <th>1</th>\n",
       "      <td>tt0326965</td>\n",
       "      <td>0.0</td>\n",
       "      <td>False</td>\n",
       "      <td>0.0</td>\n",
       "      <td>[{'id': 53, 'name': 'Thriller'}, {'id': 9648, ...</td>\n",
       "      <td>3.755</td>\n",
       "      <td>2010-04-23</td>\n",
       "      <td>0.0</td>\n",
       "      <td>90.0</td>\n",
       "      <td>Released</td>\n",
       "      <td>In My Sleep</td>\n",
       "      <td>5.5</td>\n",
       "      <td>31.0</td>\n",
       "      <td>PG-13\\r</td>\n",
       "      <td>Mystery</td>\n",
       "    </tr>\n",
       "  </tbody>\n",
       "</table>\n",
       "</div>"
      ],
      "text/plain": [
       "     imdb_id  adult  belongs_to_collection  budget  \\\n",
       "0  tt0312305    0.0                  False     0.0   \n",
       "0  tt0312305    0.0                  False     0.0   \n",
       "0  tt0312305    0.0                  False     0.0   \n",
       "1  tt0326965    0.0                  False     0.0   \n",
       "1  tt0326965    0.0                  False     0.0   \n",
       "\n",
       "                                              genres  popularity release_date  \\\n",
       "0  [{'id': 10751, 'name': 'Family'}, {'id': 16, '...       1.619   2012-12-02   \n",
       "0  [{'id': 10751, 'name': 'Family'}, {'id': 16, '...       1.619   2012-12-02   \n",
       "0  [{'id': 10751, 'name': 'Family'}, {'id': 16, '...       1.619   2012-12-02   \n",
       "1  [{'id': 53, 'name': 'Thriller'}, {'id': 9648, ...       3.755   2010-04-23   \n",
       "1  [{'id': 53, 'name': 'Thriller'}, {'id': 9648, ...       3.755   2010-04-23   \n",
       "\n",
       "   revenue  runtime    status                                   title  \\\n",
       "0      0.0     45.0  Released  Quantum Quest: A Cassini Space Odyssey   \n",
       "0      0.0     45.0  Released  Quantum Quest: A Cassini Space Odyssey   \n",
       "0      0.0     45.0  Released  Quantum Quest: A Cassini Space Odyssey   \n",
       "1      0.0     90.0  Released                             In My Sleep   \n",
       "1      0.0     90.0  Released                             In My Sleep   \n",
       "\n",
       "   vote_average  vote_count certification\\r      genres_list  \n",
       "0           7.9         8.0              \\r           Family  \n",
       "0           7.9         8.0              \\r        Animation  \n",
       "0           7.9         8.0              \\r  Science Fiction  \n",
       "1           5.5        31.0         PG-13\\r         Thriller  \n",
       "1           5.5        31.0         PG-13\\r          Mystery  "
      ]
     },
     "execution_count": 12,
     "metadata": {},
     "output_type": "execute_result"
    }
   ],
   "source": [
    "## Use our function and exploding the new column\n",
    "df['genres_list'] = df['genres'].apply(get_genre_name)\n",
    "df_explode = df.explode('genres_list')\n",
    "df_explode.head()"
   ]
  },
  {
   "cell_type": "code",
   "execution_count": 13,
   "id": "af542bf6",
   "metadata": {
    "ExecuteTime": {
     "end_time": "2023-05-19T01:05:14.611647Z",
     "start_time": "2023-05-19T01:05:14.597122Z"
    }
   },
   "outputs": [
    {
     "data": {
      "text/plain": [
       "array(['Family', 'Animation', 'Science Fiction', 'Thriller', 'Mystery',\n",
       "       'Drama', 'Romance', 'Comedy', 'War', 'Crime', 'Action',\n",
       "       'Adventure', 'Horror', 'Fantasy', 'History', 'Western', 'Music',\n",
       "       'Documentary', 'TV Movie'], dtype=object)"
      ]
     },
     "execution_count": 13,
     "metadata": {},
     "output_type": "execute_result"
    }
   ],
   "source": [
    "## save unique genres\n",
    "unique_genres = df_explode['genres_list'].dropna().unique()\n",
    "unique_genres"
   ]
  },
  {
   "cell_type": "code",
   "execution_count": 14,
   "id": "783b11de",
   "metadata": {
    "ExecuteTime": {
     "end_time": "2023-05-19T01:05:14.704869Z",
     "start_time": "2023-05-19T01:05:14.612648Z"
    }
   },
   "outputs": [
    {
     "data": {
      "text/html": [
       "<div>\n",
       "<style scoped>\n",
       "    .dataframe tbody tr th:only-of-type {\n",
       "        vertical-align: middle;\n",
       "    }\n",
       "\n",
       "    .dataframe tbody tr th {\n",
       "        vertical-align: top;\n",
       "    }\n",
       "\n",
       "    .dataframe thead th {\n",
       "        text-align: right;\n",
       "    }\n",
       "</style>\n",
       "<table border=\"1\" class=\"dataframe\">\n",
       "  <thead>\n",
       "    <tr style=\"text-align: right;\">\n",
       "      <th></th>\n",
       "      <th>imdb_id</th>\n",
       "      <th>adult</th>\n",
       "      <th>belongs_to_collection</th>\n",
       "      <th>budget</th>\n",
       "      <th>genres</th>\n",
       "      <th>popularity</th>\n",
       "      <th>release_date</th>\n",
       "      <th>revenue</th>\n",
       "      <th>runtime</th>\n",
       "      <th>status</th>\n",
       "      <th>title</th>\n",
       "      <th>vote_average</th>\n",
       "      <th>vote_count</th>\n",
       "      <th>certification\\r</th>\n",
       "      <th>genres_list</th>\n",
       "      <th>Genre_Family</th>\n",
       "      <th>Genre_Animation</th>\n",
       "      <th>Genre_Science Fiction</th>\n",
       "      <th>Genre_Thriller</th>\n",
       "      <th>Genre_Mystery</th>\n",
       "      <th>Genre_Drama</th>\n",
       "      <th>Genre_Romance</th>\n",
       "      <th>Genre_Comedy</th>\n",
       "      <th>Genre_War</th>\n",
       "      <th>Genre_Crime</th>\n",
       "      <th>Genre_Action</th>\n",
       "      <th>Genre_Adventure</th>\n",
       "      <th>Genre_Horror</th>\n",
       "      <th>Genre_Fantasy</th>\n",
       "      <th>Genre_History</th>\n",
       "      <th>Genre_Western</th>\n",
       "      <th>Genre_Music</th>\n",
       "      <th>Genre_Documentary</th>\n",
       "      <th>Genre_TV Movie</th>\n",
       "    </tr>\n",
       "  </thead>\n",
       "  <tbody>\n",
       "    <tr>\n",
       "      <th>0</th>\n",
       "      <td>tt0312305</td>\n",
       "      <td>0.0</td>\n",
       "      <td>False</td>\n",
       "      <td>0.0</td>\n",
       "      <td>[{'id': 10751, 'name': 'Family'}, {'id': 16, '...</td>\n",
       "      <td>1.619</td>\n",
       "      <td>2012-12-02</td>\n",
       "      <td>0.0</td>\n",
       "      <td>45.0</td>\n",
       "      <td>Released</td>\n",
       "      <td>Quantum Quest: A Cassini Space Odyssey</td>\n",
       "      <td>7.90</td>\n",
       "      <td>8.0</td>\n",
       "      <td>\\r</td>\n",
       "      <td>[Family, Animation, Science Fiction]</td>\n",
       "      <td>True</td>\n",
       "      <td>True</td>\n",
       "      <td>True</td>\n",
       "      <td>False</td>\n",
       "      <td>False</td>\n",
       "      <td>False</td>\n",
       "      <td>False</td>\n",
       "      <td>False</td>\n",
       "      <td>False</td>\n",
       "      <td>False</td>\n",
       "      <td>False</td>\n",
       "      <td>False</td>\n",
       "      <td>False</td>\n",
       "      <td>False</td>\n",
       "      <td>False</td>\n",
       "      <td>False</td>\n",
       "      <td>False</td>\n",
       "      <td>False</td>\n",
       "      <td>False</td>\n",
       "    </tr>\n",
       "    <tr>\n",
       "      <th>1</th>\n",
       "      <td>tt0326965</td>\n",
       "      <td>0.0</td>\n",
       "      <td>False</td>\n",
       "      <td>0.0</td>\n",
       "      <td>[{'id': 53, 'name': 'Thriller'}, {'id': 9648, ...</td>\n",
       "      <td>3.755</td>\n",
       "      <td>2010-04-23</td>\n",
       "      <td>0.0</td>\n",
       "      <td>90.0</td>\n",
       "      <td>Released</td>\n",
       "      <td>In My Sleep</td>\n",
       "      <td>5.50</td>\n",
       "      <td>31.0</td>\n",
       "      <td>PG-13\\r</td>\n",
       "      <td>[Thriller, Mystery, Drama]</td>\n",
       "      <td>False</td>\n",
       "      <td>False</td>\n",
       "      <td>False</td>\n",
       "      <td>True</td>\n",
       "      <td>True</td>\n",
       "      <td>True</td>\n",
       "      <td>False</td>\n",
       "      <td>False</td>\n",
       "      <td>False</td>\n",
       "      <td>False</td>\n",
       "      <td>False</td>\n",
       "      <td>False</td>\n",
       "      <td>False</td>\n",
       "      <td>False</td>\n",
       "      <td>False</td>\n",
       "      <td>False</td>\n",
       "      <td>False</td>\n",
       "      <td>False</td>\n",
       "      <td>False</td>\n",
       "    </tr>\n",
       "    <tr>\n",
       "      <th>2</th>\n",
       "      <td>tt0331312</td>\n",
       "      <td>0.0</td>\n",
       "      <td>False</td>\n",
       "      <td>0.0</td>\n",
       "      <td>[]</td>\n",
       "      <td>0.622</td>\n",
       "      <td>2010-01-01</td>\n",
       "      <td>0.0</td>\n",
       "      <td>0.0</td>\n",
       "      <td>Released</td>\n",
       "      <td>This Wretched Life</td>\n",
       "      <td>5.00</td>\n",
       "      <td>1.0</td>\n",
       "      <td>\\r</td>\n",
       "      <td>[]</td>\n",
       "      <td>False</td>\n",
       "      <td>False</td>\n",
       "      <td>False</td>\n",
       "      <td>False</td>\n",
       "      <td>False</td>\n",
       "      <td>False</td>\n",
       "      <td>False</td>\n",
       "      <td>False</td>\n",
       "      <td>False</td>\n",
       "      <td>False</td>\n",
       "      <td>False</td>\n",
       "      <td>False</td>\n",
       "      <td>False</td>\n",
       "      <td>False</td>\n",
       "      <td>False</td>\n",
       "      <td>False</td>\n",
       "      <td>False</td>\n",
       "      <td>False</td>\n",
       "      <td>False</td>\n",
       "    </tr>\n",
       "    <tr>\n",
       "      <th>3</th>\n",
       "      <td>tt0393049</td>\n",
       "      <td>0.0</td>\n",
       "      <td>False</td>\n",
       "      <td>300000.0</td>\n",
       "      <td>[{'id': 10749, 'name': 'Romance'}, {'id': 35, ...</td>\n",
       "      <td>1.576</td>\n",
       "      <td>2010-05-20</td>\n",
       "      <td>0.0</td>\n",
       "      <td>98.0</td>\n",
       "      <td>Released</td>\n",
       "      <td>Anderson's Cross</td>\n",
       "      <td>4.00</td>\n",
       "      <td>5.0</td>\n",
       "      <td>\\r</td>\n",
       "      <td>[Romance, Comedy, Drama]</td>\n",
       "      <td>False</td>\n",
       "      <td>False</td>\n",
       "      <td>False</td>\n",
       "      <td>False</td>\n",
       "      <td>False</td>\n",
       "      <td>True</td>\n",
       "      <td>True</td>\n",
       "      <td>True</td>\n",
       "      <td>False</td>\n",
       "      <td>False</td>\n",
       "      <td>False</td>\n",
       "      <td>False</td>\n",
       "      <td>False</td>\n",
       "      <td>False</td>\n",
       "      <td>False</td>\n",
       "      <td>False</td>\n",
       "      <td>False</td>\n",
       "      <td>False</td>\n",
       "      <td>False</td>\n",
       "    </tr>\n",
       "    <tr>\n",
       "      <th>4</th>\n",
       "      <td>tt0398286</td>\n",
       "      <td>0.0</td>\n",
       "      <td>False</td>\n",
       "      <td>260000000.0</td>\n",
       "      <td>[{'id': 16, 'name': 'Animation'}, {'id': 10751...</td>\n",
       "      <td>108.562</td>\n",
       "      <td>2010-11-24</td>\n",
       "      <td>592461732.0</td>\n",
       "      <td>100.0</td>\n",
       "      <td>Released</td>\n",
       "      <td>Tangled</td>\n",
       "      <td>7.59</td>\n",
       "      <td>10223.0</td>\n",
       "      <td>PG\\r</td>\n",
       "      <td>[Animation, Family]</td>\n",
       "      <td>True</td>\n",
       "      <td>True</td>\n",
       "      <td>False</td>\n",
       "      <td>False</td>\n",
       "      <td>False</td>\n",
       "      <td>False</td>\n",
       "      <td>False</td>\n",
       "      <td>False</td>\n",
       "      <td>False</td>\n",
       "      <td>False</td>\n",
       "      <td>False</td>\n",
       "      <td>False</td>\n",
       "      <td>False</td>\n",
       "      <td>False</td>\n",
       "      <td>False</td>\n",
       "      <td>False</td>\n",
       "      <td>False</td>\n",
       "      <td>False</td>\n",
       "      <td>False</td>\n",
       "    </tr>\n",
       "  </tbody>\n",
       "</table>\n",
       "</div>"
      ],
      "text/plain": [
       "     imdb_id  adult  belongs_to_collection       budget  \\\n",
       "0  tt0312305    0.0                  False          0.0   \n",
       "1  tt0326965    0.0                  False          0.0   \n",
       "2  tt0331312    0.0                  False          0.0   \n",
       "3  tt0393049    0.0                  False     300000.0   \n",
       "4  tt0398286    0.0                  False  260000000.0   \n",
       "\n",
       "                                              genres  popularity release_date  \\\n",
       "0  [{'id': 10751, 'name': 'Family'}, {'id': 16, '...       1.619   2012-12-02   \n",
       "1  [{'id': 53, 'name': 'Thriller'}, {'id': 9648, ...       3.755   2010-04-23   \n",
       "2                                                 []       0.622   2010-01-01   \n",
       "3  [{'id': 10749, 'name': 'Romance'}, {'id': 35, ...       1.576   2010-05-20   \n",
       "4  [{'id': 16, 'name': 'Animation'}, {'id': 10751...     108.562   2010-11-24   \n",
       "\n",
       "       revenue  runtime    status                                   title  \\\n",
       "0          0.0     45.0  Released  Quantum Quest: A Cassini Space Odyssey   \n",
       "1          0.0     90.0  Released                             In My Sleep   \n",
       "2          0.0      0.0  Released                      This Wretched Life   \n",
       "3          0.0     98.0  Released                        Anderson's Cross   \n",
       "4  592461732.0    100.0  Released                                 Tangled   \n",
       "\n",
       "   vote_average  vote_count certification\\r  \\\n",
       "0          7.90         8.0              \\r   \n",
       "1          5.50        31.0         PG-13\\r   \n",
       "2          5.00         1.0              \\r   \n",
       "3          4.00         5.0              \\r   \n",
       "4          7.59     10223.0            PG\\r   \n",
       "\n",
       "                            genres_list  Genre_Family  Genre_Animation  \\\n",
       "0  [Family, Animation, Science Fiction]          True             True   \n",
       "1            [Thriller, Mystery, Drama]         False            False   \n",
       "2                                    []         False            False   \n",
       "3              [Romance, Comedy, Drama]         False            False   \n",
       "4                   [Animation, Family]          True             True   \n",
       "\n",
       "   Genre_Science Fiction  Genre_Thriller  Genre_Mystery  Genre_Drama  \\\n",
       "0                   True           False          False        False   \n",
       "1                  False            True           True         True   \n",
       "2                  False           False          False        False   \n",
       "3                  False           False          False         True   \n",
       "4                  False           False          False        False   \n",
       "\n",
       "   Genre_Romance  Genre_Comedy  Genre_War  Genre_Crime  Genre_Action  \\\n",
       "0          False         False      False        False         False   \n",
       "1          False         False      False        False         False   \n",
       "2          False         False      False        False         False   \n",
       "3           True          True      False        False         False   \n",
       "4          False         False      False        False         False   \n",
       "\n",
       "   Genre_Adventure  Genre_Horror  Genre_Fantasy  Genre_History  Genre_Western  \\\n",
       "0            False         False          False          False          False   \n",
       "1            False         False          False          False          False   \n",
       "2            False         False          False          False          False   \n",
       "3            False         False          False          False          False   \n",
       "4            False         False          False          False          False   \n",
       "\n",
       "   Genre_Music  Genre_Documentary  Genre_TV Movie  \n",
       "0        False              False           False  \n",
       "1        False              False           False  \n",
       "2        False              False           False  \n",
       "3        False              False           False  \n",
       "4        False              False           False  "
      ]
     },
     "execution_count": 14,
     "metadata": {},
     "output_type": "execute_result"
    }
   ],
   "source": [
    "## Manually One-Hot-Encode Genres\n",
    "for genre in unique_genres:\n",
    "    df[f\"Genre_{genre}\"] = df['genres'].str.contains(genre,regex =False)\n",
    "df.head()"
   ]
  },
  {
   "cell_type": "code",
   "execution_count": 15,
   "id": "ff3ac72c",
   "metadata": {
    "ExecuteTime": {
     "end_time": "2023-05-19T01:05:14.735543Z",
     "start_time": "2023-05-19T01:05:14.706040Z"
    }
   },
   "outputs": [
    {
     "data": {
      "text/html": [
       "<div>\n",
       "<style scoped>\n",
       "    .dataframe tbody tr th:only-of-type {\n",
       "        vertical-align: middle;\n",
       "    }\n",
       "\n",
       "    .dataframe tbody tr th {\n",
       "        vertical-align: top;\n",
       "    }\n",
       "\n",
       "    .dataframe thead th {\n",
       "        text-align: right;\n",
       "    }\n",
       "</style>\n",
       "<table border=\"1\" class=\"dataframe\">\n",
       "  <thead>\n",
       "    <tr style=\"text-align: right;\">\n",
       "      <th></th>\n",
       "      <th>imdb_id</th>\n",
       "      <th>adult</th>\n",
       "      <th>belongs_to_collection</th>\n",
       "      <th>budget</th>\n",
       "      <th>genres</th>\n",
       "      <th>popularity</th>\n",
       "      <th>release_date</th>\n",
       "      <th>revenue</th>\n",
       "      <th>runtime</th>\n",
       "      <th>title</th>\n",
       "      <th>vote_average</th>\n",
       "      <th>vote_count</th>\n",
       "      <th>certification\\r</th>\n",
       "      <th>genres_list</th>\n",
       "      <th>Genre_Family</th>\n",
       "      <th>Genre_Animation</th>\n",
       "      <th>Genre_Science Fiction</th>\n",
       "      <th>Genre_Thriller</th>\n",
       "      <th>Genre_Mystery</th>\n",
       "      <th>Genre_Drama</th>\n",
       "      <th>Genre_Romance</th>\n",
       "      <th>Genre_Comedy</th>\n",
       "      <th>Genre_War</th>\n",
       "      <th>Genre_Crime</th>\n",
       "      <th>Genre_Action</th>\n",
       "      <th>Genre_Adventure</th>\n",
       "      <th>Genre_Horror</th>\n",
       "      <th>Genre_Fantasy</th>\n",
       "      <th>Genre_History</th>\n",
       "      <th>Genre_Western</th>\n",
       "      <th>Genre_Music</th>\n",
       "      <th>Genre_Documentary</th>\n",
       "      <th>Genre_TV Movie</th>\n",
       "    </tr>\n",
       "  </thead>\n",
       "  <tbody>\n",
       "    <tr>\n",
       "      <th>0</th>\n",
       "      <td>tt0312305</td>\n",
       "      <td>0.0</td>\n",
       "      <td>False</td>\n",
       "      <td>0.0</td>\n",
       "      <td>[{'id': 10751, 'name': 'Family'}, {'id': 16, '...</td>\n",
       "      <td>1.619</td>\n",
       "      <td>2012-12-02</td>\n",
       "      <td>0.0</td>\n",
       "      <td>45.0</td>\n",
       "      <td>Quantum Quest: A Cassini Space Odyssey</td>\n",
       "      <td>7.900</td>\n",
       "      <td>8.0</td>\n",
       "      <td>\\r</td>\n",
       "      <td>[Family, Animation, Science Fiction]</td>\n",
       "      <td>True</td>\n",
       "      <td>True</td>\n",
       "      <td>True</td>\n",
       "      <td>False</td>\n",
       "      <td>False</td>\n",
       "      <td>False</td>\n",
       "      <td>False</td>\n",
       "      <td>False</td>\n",
       "      <td>False</td>\n",
       "      <td>False</td>\n",
       "      <td>False</td>\n",
       "      <td>False</td>\n",
       "      <td>False</td>\n",
       "      <td>False</td>\n",
       "      <td>False</td>\n",
       "      <td>False</td>\n",
       "      <td>False</td>\n",
       "      <td>False</td>\n",
       "      <td>False</td>\n",
       "    </tr>\n",
       "    <tr>\n",
       "      <th>1</th>\n",
       "      <td>tt0326965</td>\n",
       "      <td>0.0</td>\n",
       "      <td>False</td>\n",
       "      <td>0.0</td>\n",
       "      <td>[{'id': 53, 'name': 'Thriller'}, {'id': 9648, ...</td>\n",
       "      <td>3.755</td>\n",
       "      <td>2010-04-23</td>\n",
       "      <td>0.0</td>\n",
       "      <td>90.0</td>\n",
       "      <td>In My Sleep</td>\n",
       "      <td>5.500</td>\n",
       "      <td>31.0</td>\n",
       "      <td>PG-13\\r</td>\n",
       "      <td>[Thriller, Mystery, Drama]</td>\n",
       "      <td>False</td>\n",
       "      <td>False</td>\n",
       "      <td>False</td>\n",
       "      <td>True</td>\n",
       "      <td>True</td>\n",
       "      <td>True</td>\n",
       "      <td>False</td>\n",
       "      <td>False</td>\n",
       "      <td>False</td>\n",
       "      <td>False</td>\n",
       "      <td>False</td>\n",
       "      <td>False</td>\n",
       "      <td>False</td>\n",
       "      <td>False</td>\n",
       "      <td>False</td>\n",
       "      <td>False</td>\n",
       "      <td>False</td>\n",
       "      <td>False</td>\n",
       "      <td>False</td>\n",
       "    </tr>\n",
       "    <tr>\n",
       "      <th>2</th>\n",
       "      <td>tt0331312</td>\n",
       "      <td>0.0</td>\n",
       "      <td>False</td>\n",
       "      <td>0.0</td>\n",
       "      <td>[]</td>\n",
       "      <td>0.622</td>\n",
       "      <td>2010-01-01</td>\n",
       "      <td>0.0</td>\n",
       "      <td>0.0</td>\n",
       "      <td>This Wretched Life</td>\n",
       "      <td>5.000</td>\n",
       "      <td>1.0</td>\n",
       "      <td>\\r</td>\n",
       "      <td>[]</td>\n",
       "      <td>False</td>\n",
       "      <td>False</td>\n",
       "      <td>False</td>\n",
       "      <td>False</td>\n",
       "      <td>False</td>\n",
       "      <td>False</td>\n",
       "      <td>False</td>\n",
       "      <td>False</td>\n",
       "      <td>False</td>\n",
       "      <td>False</td>\n",
       "      <td>False</td>\n",
       "      <td>False</td>\n",
       "      <td>False</td>\n",
       "      <td>False</td>\n",
       "      <td>False</td>\n",
       "      <td>False</td>\n",
       "      <td>False</td>\n",
       "      <td>False</td>\n",
       "      <td>False</td>\n",
       "    </tr>\n",
       "    <tr>\n",
       "      <th>3</th>\n",
       "      <td>tt0393049</td>\n",
       "      <td>0.0</td>\n",
       "      <td>False</td>\n",
       "      <td>300000.0</td>\n",
       "      <td>[{'id': 10749, 'name': 'Romance'}, {'id': 35, ...</td>\n",
       "      <td>1.576</td>\n",
       "      <td>2010-05-20</td>\n",
       "      <td>0.0</td>\n",
       "      <td>98.0</td>\n",
       "      <td>Anderson's Cross</td>\n",
       "      <td>4.000</td>\n",
       "      <td>5.0</td>\n",
       "      <td>\\r</td>\n",
       "      <td>[Romance, Comedy, Drama]</td>\n",
       "      <td>False</td>\n",
       "      <td>False</td>\n",
       "      <td>False</td>\n",
       "      <td>False</td>\n",
       "      <td>False</td>\n",
       "      <td>True</td>\n",
       "      <td>True</td>\n",
       "      <td>True</td>\n",
       "      <td>False</td>\n",
       "      <td>False</td>\n",
       "      <td>False</td>\n",
       "      <td>False</td>\n",
       "      <td>False</td>\n",
       "      <td>False</td>\n",
       "      <td>False</td>\n",
       "      <td>False</td>\n",
       "      <td>False</td>\n",
       "      <td>False</td>\n",
       "      <td>False</td>\n",
       "    </tr>\n",
       "    <tr>\n",
       "      <th>4</th>\n",
       "      <td>tt0398286</td>\n",
       "      <td>0.0</td>\n",
       "      <td>False</td>\n",
       "      <td>260000000.0</td>\n",
       "      <td>[{'id': 16, 'name': 'Animation'}, {'id': 10751...</td>\n",
       "      <td>108.562</td>\n",
       "      <td>2010-11-24</td>\n",
       "      <td>592461732.0</td>\n",
       "      <td>100.0</td>\n",
       "      <td>Tangled</td>\n",
       "      <td>7.590</td>\n",
       "      <td>10223.0</td>\n",
       "      <td>PG\\r</td>\n",
       "      <td>[Animation, Family]</td>\n",
       "      <td>True</td>\n",
       "      <td>True</td>\n",
       "      <td>False</td>\n",
       "      <td>False</td>\n",
       "      <td>False</td>\n",
       "      <td>False</td>\n",
       "      <td>False</td>\n",
       "      <td>False</td>\n",
       "      <td>False</td>\n",
       "      <td>False</td>\n",
       "      <td>False</td>\n",
       "      <td>False</td>\n",
       "      <td>False</td>\n",
       "      <td>False</td>\n",
       "      <td>False</td>\n",
       "      <td>False</td>\n",
       "      <td>False</td>\n",
       "      <td>False</td>\n",
       "      <td>False</td>\n",
       "    </tr>\n",
       "    <tr>\n",
       "      <th>...</th>\n",
       "      <td>...</td>\n",
       "      <td>...</td>\n",
       "      <td>...</td>\n",
       "      <td>...</td>\n",
       "      <td>...</td>\n",
       "      <td>...</td>\n",
       "      <td>...</td>\n",
       "      <td>...</td>\n",
       "      <td>...</td>\n",
       "      <td>...</td>\n",
       "      <td>...</td>\n",
       "      <td>...</td>\n",
       "      <td>...</td>\n",
       "      <td>...</td>\n",
       "      <td>...</td>\n",
       "      <td>...</td>\n",
       "      <td>...</td>\n",
       "      <td>...</td>\n",
       "      <td>...</td>\n",
       "      <td>...</td>\n",
       "      <td>...</td>\n",
       "      <td>...</td>\n",
       "      <td>...</td>\n",
       "      <td>...</td>\n",
       "      <td>...</td>\n",
       "      <td>...</td>\n",
       "      <td>...</td>\n",
       "      <td>...</td>\n",
       "      <td>...</td>\n",
       "      <td>...</td>\n",
       "      <td>...</td>\n",
       "      <td>...</td>\n",
       "      <td>...</td>\n",
       "    </tr>\n",
       "    <tr>\n",
       "      <th>38131</th>\n",
       "      <td>tt9906644</td>\n",
       "      <td>0.0</td>\n",
       "      <td>False</td>\n",
       "      <td>0.0</td>\n",
       "      <td>[{'id': 35, 'name': 'Comedy'}, {'id': 18, 'nam...</td>\n",
       "      <td>1.448</td>\n",
       "      <td>2019-09-27</td>\n",
       "      <td>0.0</td>\n",
       "      <td>122.0</td>\n",
       "      <td>Manoharam</td>\n",
       "      <td>6.125</td>\n",
       "      <td>12.0</td>\n",
       "      <td>\\r</td>\n",
       "      <td>[Comedy, Drama]</td>\n",
       "      <td>False</td>\n",
       "      <td>False</td>\n",
       "      <td>False</td>\n",
       "      <td>False</td>\n",
       "      <td>False</td>\n",
       "      <td>True</td>\n",
       "      <td>False</td>\n",
       "      <td>True</td>\n",
       "      <td>False</td>\n",
       "      <td>False</td>\n",
       "      <td>False</td>\n",
       "      <td>False</td>\n",
       "      <td>False</td>\n",
       "      <td>False</td>\n",
       "      <td>False</td>\n",
       "      <td>False</td>\n",
       "      <td>False</td>\n",
       "      <td>False</td>\n",
       "      <td>False</td>\n",
       "    </tr>\n",
       "    <tr>\n",
       "      <th>38132</th>\n",
       "      <td>tt9913660</td>\n",
       "      <td>0.0</td>\n",
       "      <td>False</td>\n",
       "      <td>0.0</td>\n",
       "      <td>[{'id': 18, 'name': 'Drama'}]</td>\n",
       "      <td>0.638</td>\n",
       "      <td>2019-10-23</td>\n",
       "      <td>0.0</td>\n",
       "      <td>102.0</td>\n",
       "      <td>No Apology</td>\n",
       "      <td>8.000</td>\n",
       "      <td>1.0</td>\n",
       "      <td>\\r</td>\n",
       "      <td>[Drama]</td>\n",
       "      <td>False</td>\n",
       "      <td>False</td>\n",
       "      <td>False</td>\n",
       "      <td>False</td>\n",
       "      <td>False</td>\n",
       "      <td>True</td>\n",
       "      <td>False</td>\n",
       "      <td>False</td>\n",
       "      <td>False</td>\n",
       "      <td>False</td>\n",
       "      <td>False</td>\n",
       "      <td>False</td>\n",
       "      <td>False</td>\n",
       "      <td>False</td>\n",
       "      <td>False</td>\n",
       "      <td>False</td>\n",
       "      <td>False</td>\n",
       "      <td>False</td>\n",
       "      <td>False</td>\n",
       "    </tr>\n",
       "    <tr>\n",
       "      <th>38133</th>\n",
       "      <td>tt9913872</td>\n",
       "      <td>0.0</td>\n",
       "      <td>False</td>\n",
       "      <td>0.0</td>\n",
       "      <td>[{'id': 27, 'name': 'Horror'}]</td>\n",
       "      <td>0.600</td>\n",
       "      <td>2019-01-01</td>\n",
       "      <td>0.0</td>\n",
       "      <td>0.0</td>\n",
       "      <td>De la piel del Diablo</td>\n",
       "      <td>8.200</td>\n",
       "      <td>3.0</td>\n",
       "      <td>\\r</td>\n",
       "      <td>[Horror]</td>\n",
       "      <td>False</td>\n",
       "      <td>False</td>\n",
       "      <td>False</td>\n",
       "      <td>False</td>\n",
       "      <td>False</td>\n",
       "      <td>False</td>\n",
       "      <td>False</td>\n",
       "      <td>False</td>\n",
       "      <td>False</td>\n",
       "      <td>False</td>\n",
       "      <td>False</td>\n",
       "      <td>False</td>\n",
       "      <td>True</td>\n",
       "      <td>False</td>\n",
       "      <td>False</td>\n",
       "      <td>False</td>\n",
       "      <td>False</td>\n",
       "      <td>False</td>\n",
       "      <td>False</td>\n",
       "    </tr>\n",
       "    <tr>\n",
       "      <th>38134</th>\n",
       "      <td>tt9914942</td>\n",
       "      <td>0.0</td>\n",
       "      <td>False</td>\n",
       "      <td>0.0</td>\n",
       "      <td>[{'id': 18, 'name': 'Drama'}, {'id': 10749, 'n...</td>\n",
       "      <td>5.570</td>\n",
       "      <td>2019-07-12</td>\n",
       "      <td>0.0</td>\n",
       "      <td>74.0</td>\n",
       "      <td>Life without Sara Amat</td>\n",
       "      <td>7.700</td>\n",
       "      <td>7.0</td>\n",
       "      <td>\\r</td>\n",
       "      <td>[Drama, Romance]</td>\n",
       "      <td>False</td>\n",
       "      <td>False</td>\n",
       "      <td>False</td>\n",
       "      <td>False</td>\n",
       "      <td>False</td>\n",
       "      <td>True</td>\n",
       "      <td>True</td>\n",
       "      <td>False</td>\n",
       "      <td>False</td>\n",
       "      <td>False</td>\n",
       "      <td>False</td>\n",
       "      <td>False</td>\n",
       "      <td>False</td>\n",
       "      <td>False</td>\n",
       "      <td>False</td>\n",
       "      <td>False</td>\n",
       "      <td>False</td>\n",
       "      <td>False</td>\n",
       "      <td>False</td>\n",
       "    </tr>\n",
       "    <tr>\n",
       "      <th>38135</th>\n",
       "      <td>tt9915872</td>\n",
       "      <td>0.0</td>\n",
       "      <td>False</td>\n",
       "      <td>0.0</td>\n",
       "      <td>[]</td>\n",
       "      <td>0.600</td>\n",
       "      <td>NaN</td>\n",
       "      <td>0.0</td>\n",
       "      <td>97.0</td>\n",
       "      <td>The Last White Witch</td>\n",
       "      <td>0.000</td>\n",
       "      <td>0.0</td>\n",
       "      <td>\\r</td>\n",
       "      <td>[]</td>\n",
       "      <td>False</td>\n",
       "      <td>False</td>\n",
       "      <td>False</td>\n",
       "      <td>False</td>\n",
       "      <td>False</td>\n",
       "      <td>False</td>\n",
       "      <td>False</td>\n",
       "      <td>False</td>\n",
       "      <td>False</td>\n",
       "      <td>False</td>\n",
       "      <td>False</td>\n",
       "      <td>False</td>\n",
       "      <td>False</td>\n",
       "      <td>False</td>\n",
       "      <td>False</td>\n",
       "      <td>False</td>\n",
       "      <td>False</td>\n",
       "      <td>False</td>\n",
       "      <td>False</td>\n",
       "    </tr>\n",
       "  </tbody>\n",
       "</table>\n",
       "<p>38126 rows × 33 columns</p>\n",
       "</div>"
      ],
      "text/plain": [
       "         imdb_id  adult  belongs_to_collection       budget  \\\n",
       "0      tt0312305    0.0                  False          0.0   \n",
       "1      tt0326965    0.0                  False          0.0   \n",
       "2      tt0331312    0.0                  False          0.0   \n",
       "3      tt0393049    0.0                  False     300000.0   \n",
       "4      tt0398286    0.0                  False  260000000.0   \n",
       "...          ...    ...                    ...          ...   \n",
       "38131  tt9906644    0.0                  False          0.0   \n",
       "38132  tt9913660    0.0                  False          0.0   \n",
       "38133  tt9913872    0.0                  False          0.0   \n",
       "38134  tt9914942    0.0                  False          0.0   \n",
       "38135  tt9915872    0.0                  False          0.0   \n",
       "\n",
       "                                                  genres  popularity  \\\n",
       "0      [{'id': 10751, 'name': 'Family'}, {'id': 16, '...       1.619   \n",
       "1      [{'id': 53, 'name': 'Thriller'}, {'id': 9648, ...       3.755   \n",
       "2                                                     []       0.622   \n",
       "3      [{'id': 10749, 'name': 'Romance'}, {'id': 35, ...       1.576   \n",
       "4      [{'id': 16, 'name': 'Animation'}, {'id': 10751...     108.562   \n",
       "...                                                  ...         ...   \n",
       "38131  [{'id': 35, 'name': 'Comedy'}, {'id': 18, 'nam...       1.448   \n",
       "38132                      [{'id': 18, 'name': 'Drama'}]       0.638   \n",
       "38133                     [{'id': 27, 'name': 'Horror'}]       0.600   \n",
       "38134  [{'id': 18, 'name': 'Drama'}, {'id': 10749, 'n...       5.570   \n",
       "38135                                                 []       0.600   \n",
       "\n",
       "      release_date      revenue  runtime  \\\n",
       "0       2012-12-02          0.0     45.0   \n",
       "1       2010-04-23          0.0     90.0   \n",
       "2       2010-01-01          0.0      0.0   \n",
       "3       2010-05-20          0.0     98.0   \n",
       "4       2010-11-24  592461732.0    100.0   \n",
       "...            ...          ...      ...   \n",
       "38131   2019-09-27          0.0    122.0   \n",
       "38132   2019-10-23          0.0    102.0   \n",
       "38133   2019-01-01          0.0      0.0   \n",
       "38134   2019-07-12          0.0     74.0   \n",
       "38135          NaN          0.0     97.0   \n",
       "\n",
       "                                        title  vote_average  vote_count  \\\n",
       "0      Quantum Quest: A Cassini Space Odyssey         7.900         8.0   \n",
       "1                                 In My Sleep         5.500        31.0   \n",
       "2                          This Wretched Life         5.000         1.0   \n",
       "3                            Anderson's Cross         4.000         5.0   \n",
       "4                                     Tangled         7.590     10223.0   \n",
       "...                                       ...           ...         ...   \n",
       "38131                               Manoharam         6.125        12.0   \n",
       "38132                              No Apology         8.000         1.0   \n",
       "38133                   De la piel del Diablo         8.200         3.0   \n",
       "38134                  Life without Sara Amat         7.700         7.0   \n",
       "38135                    The Last White Witch         0.000         0.0   \n",
       "\n",
       "      certification\\r                           genres_list  Genre_Family  \\\n",
       "0                  \\r  [Family, Animation, Science Fiction]          True   \n",
       "1             PG-13\\r            [Thriller, Mystery, Drama]         False   \n",
       "2                  \\r                                    []         False   \n",
       "3                  \\r              [Romance, Comedy, Drama]         False   \n",
       "4                PG\\r                   [Animation, Family]          True   \n",
       "...               ...                                   ...           ...   \n",
       "38131              \\r                       [Comedy, Drama]         False   \n",
       "38132              \\r                               [Drama]         False   \n",
       "38133              \\r                              [Horror]         False   \n",
       "38134              \\r                      [Drama, Romance]         False   \n",
       "38135              \\r                                    []         False   \n",
       "\n",
       "       Genre_Animation  Genre_Science Fiction  Genre_Thriller  Genre_Mystery  \\\n",
       "0                 True                   True           False          False   \n",
       "1                False                  False            True           True   \n",
       "2                False                  False           False          False   \n",
       "3                False                  False           False          False   \n",
       "4                 True                  False           False          False   \n",
       "...                ...                    ...             ...            ...   \n",
       "38131            False                  False           False          False   \n",
       "38132            False                  False           False          False   \n",
       "38133            False                  False           False          False   \n",
       "38134            False                  False           False          False   \n",
       "38135            False                  False           False          False   \n",
       "\n",
       "       Genre_Drama  Genre_Romance  Genre_Comedy  Genre_War  Genre_Crime  \\\n",
       "0            False          False         False      False        False   \n",
       "1             True          False         False      False        False   \n",
       "2            False          False         False      False        False   \n",
       "3             True           True          True      False        False   \n",
       "4            False          False         False      False        False   \n",
       "...            ...            ...           ...        ...          ...   \n",
       "38131         True          False          True      False        False   \n",
       "38132         True          False         False      False        False   \n",
       "38133        False          False         False      False        False   \n",
       "38134         True           True         False      False        False   \n",
       "38135        False          False         False      False        False   \n",
       "\n",
       "       Genre_Action  Genre_Adventure  Genre_Horror  Genre_Fantasy  \\\n",
       "0             False            False         False          False   \n",
       "1             False            False         False          False   \n",
       "2             False            False         False          False   \n",
       "3             False            False         False          False   \n",
       "4             False            False         False          False   \n",
       "...             ...              ...           ...            ...   \n",
       "38131         False            False         False          False   \n",
       "38132         False            False         False          False   \n",
       "38133         False            False          True          False   \n",
       "38134         False            False         False          False   \n",
       "38135         False            False         False          False   \n",
       "\n",
       "       Genre_History  Genre_Western  Genre_Music  Genre_Documentary  \\\n",
       "0              False          False        False              False   \n",
       "1              False          False        False              False   \n",
       "2              False          False        False              False   \n",
       "3              False          False        False              False   \n",
       "4              False          False        False              False   \n",
       "...              ...            ...          ...                ...   \n",
       "38131          False          False        False              False   \n",
       "38132          False          False        False              False   \n",
       "38133          False          False        False              False   \n",
       "38134          False          False        False              False   \n",
       "38135          False          False        False              False   \n",
       "\n",
       "       Genre_TV Movie  \n",
       "0               False  \n",
       "1               False  \n",
       "2               False  \n",
       "3               False  \n",
       "4               False  \n",
       "...               ...  \n",
       "38131           False  \n",
       "38132           False  \n",
       "38133           False  \n",
       "38134           False  \n",
       "38135           False  \n",
       "\n",
       "[38126 rows x 33 columns]"
      ]
     },
     "execution_count": 15,
     "metadata": {},
     "output_type": "execute_result"
    }
   ],
   "source": [
    "## Save only Released status\n",
    "df = df.loc[ df['status'] == 'Released']\n",
    "df = df.drop(columns=['status'])\n",
    "df"
   ]
  },
  {
   "cell_type": "code",
   "execution_count": 16,
   "id": "ee0c9766",
   "metadata": {
    "ExecuteTime": {
     "end_time": "2023-05-19T01:05:14.767315Z",
     "start_time": "2023-05-19T01:05:14.737274Z"
    }
   },
   "outputs": [
    {
     "data": {
      "text/html": [
       "<div>\n",
       "<style scoped>\n",
       "    .dataframe tbody tr th:only-of-type {\n",
       "        vertical-align: middle;\n",
       "    }\n",
       "\n",
       "    .dataframe tbody tr th {\n",
       "        vertical-align: top;\n",
       "    }\n",
       "\n",
       "    .dataframe thead th {\n",
       "        text-align: right;\n",
       "    }\n",
       "</style>\n",
       "<table border=\"1\" class=\"dataframe\">\n",
       "  <thead>\n",
       "    <tr style=\"text-align: right;\">\n",
       "      <th></th>\n",
       "      <th>imdb_id</th>\n",
       "      <th>adult</th>\n",
       "      <th>belongs_to_collection</th>\n",
       "      <th>budget</th>\n",
       "      <th>genres</th>\n",
       "      <th>popularity</th>\n",
       "      <th>release_date</th>\n",
       "      <th>revenue</th>\n",
       "      <th>runtime</th>\n",
       "      <th>title</th>\n",
       "      <th>vote_average</th>\n",
       "      <th>vote_count</th>\n",
       "      <th>certification\\r</th>\n",
       "      <th>genres_list</th>\n",
       "      <th>Genre_Family</th>\n",
       "      <th>Genre_Animation</th>\n",
       "      <th>Genre_Science Fiction</th>\n",
       "      <th>Genre_Thriller</th>\n",
       "      <th>Genre_Mystery</th>\n",
       "      <th>Genre_Drama</th>\n",
       "      <th>Genre_Romance</th>\n",
       "      <th>Genre_Comedy</th>\n",
       "      <th>Genre_War</th>\n",
       "      <th>Genre_Crime</th>\n",
       "      <th>Genre_Action</th>\n",
       "      <th>Genre_Adventure</th>\n",
       "      <th>Genre_Horror</th>\n",
       "      <th>Genre_Fantasy</th>\n",
       "      <th>Genre_History</th>\n",
       "      <th>Genre_Western</th>\n",
       "      <th>Genre_Music</th>\n",
       "      <th>Genre_Documentary</th>\n",
       "      <th>Genre_TV Movie</th>\n",
       "    </tr>\n",
       "  </thead>\n",
       "  <tbody>\n",
       "    <tr>\n",
       "      <th>4</th>\n",
       "      <td>tt0398286</td>\n",
       "      <td>0.0</td>\n",
       "      <td>False</td>\n",
       "      <td>260000000.0</td>\n",
       "      <td>[{'id': 16, 'name': 'Animation'}, {'id': 10751...</td>\n",
       "      <td>108.562</td>\n",
       "      <td>2010-11-24</td>\n",
       "      <td>5.924617e+08</td>\n",
       "      <td>100.0</td>\n",
       "      <td>Tangled</td>\n",
       "      <td>7.590</td>\n",
       "      <td>10223.0</td>\n",
       "      <td>PG\\r</td>\n",
       "      <td>[Animation, Family]</td>\n",
       "      <td>True</td>\n",
       "      <td>True</td>\n",
       "      <td>False</td>\n",
       "      <td>False</td>\n",
       "      <td>False</td>\n",
       "      <td>False</td>\n",
       "      <td>False</td>\n",
       "      <td>False</td>\n",
       "      <td>False</td>\n",
       "      <td>False</td>\n",
       "      <td>False</td>\n",
       "      <td>False</td>\n",
       "      <td>False</td>\n",
       "      <td>False</td>\n",
       "      <td>False</td>\n",
       "      <td>False</td>\n",
       "      <td>False</td>\n",
       "      <td>False</td>\n",
       "      <td>False</td>\n",
       "    </tr>\n",
       "    <tr>\n",
       "      <th>6</th>\n",
       "      <td>tt0411951</td>\n",
       "      <td>0.0</td>\n",
       "      <td>True</td>\n",
       "      <td>30000000.0</td>\n",
       "      <td>[{'id': 80, 'name': 'Crime'}, {'id': 18, 'name...</td>\n",
       "      <td>21.896</td>\n",
       "      <td>2010-03-20</td>\n",
       "      <td>9.670000e+05</td>\n",
       "      <td>92.0</td>\n",
       "      <td>Tekken</td>\n",
       "      <td>5.368</td>\n",
       "      <td>600.0</td>\n",
       "      <td>R\\r</td>\n",
       "      <td>[Crime, Drama, Action, Thriller, Science Fiction]</td>\n",
       "      <td>False</td>\n",
       "      <td>False</td>\n",
       "      <td>True</td>\n",
       "      <td>True</td>\n",
       "      <td>False</td>\n",
       "      <td>True</td>\n",
       "      <td>False</td>\n",
       "      <td>False</td>\n",
       "      <td>False</td>\n",
       "      <td>True</td>\n",
       "      <td>True</td>\n",
       "      <td>False</td>\n",
       "      <td>False</td>\n",
       "      <td>False</td>\n",
       "      <td>False</td>\n",
       "      <td>False</td>\n",
       "      <td>False</td>\n",
       "      <td>False</td>\n",
       "      <td>False</td>\n",
       "    </tr>\n",
       "    <tr>\n",
       "      <th>9</th>\n",
       "      <td>tt0427152</td>\n",
       "      <td>0.0</td>\n",
       "      <td>False</td>\n",
       "      <td>69000000.0</td>\n",
       "      <td>[{'id': 35, 'name': 'Comedy'}]</td>\n",
       "      <td>13.637</td>\n",
       "      <td>2010-07-30</td>\n",
       "      <td>8.638786e+07</td>\n",
       "      <td>114.0</td>\n",
       "      <td>Dinner for Schmucks</td>\n",
       "      <td>5.692</td>\n",
       "      <td>1601.0</td>\n",
       "      <td>PG-13\\r</td>\n",
       "      <td>[Comedy]</td>\n",
       "      <td>False</td>\n",
       "      <td>False</td>\n",
       "      <td>False</td>\n",
       "      <td>False</td>\n",
       "      <td>False</td>\n",
       "      <td>False</td>\n",
       "      <td>False</td>\n",
       "      <td>True</td>\n",
       "      <td>False</td>\n",
       "      <td>False</td>\n",
       "      <td>False</td>\n",
       "      <td>False</td>\n",
       "      <td>False</td>\n",
       "      <td>False</td>\n",
       "      <td>False</td>\n",
       "      <td>False</td>\n",
       "      <td>False</td>\n",
       "      <td>False</td>\n",
       "      <td>False</td>\n",
       "    </tr>\n",
       "    <tr>\n",
       "      <th>10</th>\n",
       "      <td>tt0429493</td>\n",
       "      <td>0.0</td>\n",
       "      <td>False</td>\n",
       "      <td>110000000.0</td>\n",
       "      <td>[{'id': 53, 'name': 'Thriller'}, {'id': 28, 'n...</td>\n",
       "      <td>31.075</td>\n",
       "      <td>2010-06-09</td>\n",
       "      <td>1.772388e+08</td>\n",
       "      <td>117.0</td>\n",
       "      <td>The A-Team</td>\n",
       "      <td>6.393</td>\n",
       "      <td>4206.0</td>\n",
       "      <td>PG-13\\r</td>\n",
       "      <td>[Thriller, Action, Adventure, Comedy, Crime]</td>\n",
       "      <td>False</td>\n",
       "      <td>False</td>\n",
       "      <td>False</td>\n",
       "      <td>True</td>\n",
       "      <td>False</td>\n",
       "      <td>False</td>\n",
       "      <td>False</td>\n",
       "      <td>True</td>\n",
       "      <td>False</td>\n",
       "      <td>True</td>\n",
       "      <td>True</td>\n",
       "      <td>True</td>\n",
       "      <td>False</td>\n",
       "      <td>False</td>\n",
       "      <td>False</td>\n",
       "      <td>False</td>\n",
       "      <td>False</td>\n",
       "      <td>False</td>\n",
       "      <td>False</td>\n",
       "    </tr>\n",
       "    <tr>\n",
       "      <th>11</th>\n",
       "      <td>tt0435761</td>\n",
       "      <td>0.0</td>\n",
       "      <td>True</td>\n",
       "      <td>200000000.0</td>\n",
       "      <td>[{'id': 16, 'name': 'Animation'}, {'id': 10751...</td>\n",
       "      <td>49.445</td>\n",
       "      <td>2010-06-16</td>\n",
       "      <td>1.066970e+09</td>\n",
       "      <td>103.0</td>\n",
       "      <td>Toy Story 3</td>\n",
       "      <td>7.792</td>\n",
       "      <td>13435.0</td>\n",
       "      <td>G\\r</td>\n",
       "      <td>[Animation, Family, Comedy]</td>\n",
       "      <td>True</td>\n",
       "      <td>True</td>\n",
       "      <td>False</td>\n",
       "      <td>False</td>\n",
       "      <td>False</td>\n",
       "      <td>False</td>\n",
       "      <td>False</td>\n",
       "      <td>True</td>\n",
       "      <td>False</td>\n",
       "      <td>False</td>\n",
       "      <td>False</td>\n",
       "      <td>False</td>\n",
       "      <td>False</td>\n",
       "      <td>False</td>\n",
       "      <td>False</td>\n",
       "      <td>False</td>\n",
       "      <td>False</td>\n",
       "      <td>False</td>\n",
       "      <td>False</td>\n",
       "    </tr>\n",
       "    <tr>\n",
       "      <th>...</th>\n",
       "      <td>...</td>\n",
       "      <td>...</td>\n",
       "      <td>...</td>\n",
       "      <td>...</td>\n",
       "      <td>...</td>\n",
       "      <td>...</td>\n",
       "      <td>...</td>\n",
       "      <td>...</td>\n",
       "      <td>...</td>\n",
       "      <td>...</td>\n",
       "      <td>...</td>\n",
       "      <td>...</td>\n",
       "      <td>...</td>\n",
       "      <td>...</td>\n",
       "      <td>...</td>\n",
       "      <td>...</td>\n",
       "      <td>...</td>\n",
       "      <td>...</td>\n",
       "      <td>...</td>\n",
       "      <td>...</td>\n",
       "      <td>...</td>\n",
       "      <td>...</td>\n",
       "      <td>...</td>\n",
       "      <td>...</td>\n",
       "      <td>...</td>\n",
       "      <td>...</td>\n",
       "      <td>...</td>\n",
       "      <td>...</td>\n",
       "      <td>...</td>\n",
       "      <td>...</td>\n",
       "      <td>...</td>\n",
       "      <td>...</td>\n",
       "      <td>...</td>\n",
       "    </tr>\n",
       "    <tr>\n",
       "      <th>37700</th>\n",
       "      <td>tt9537346</td>\n",
       "      <td>0.0</td>\n",
       "      <td>True</td>\n",
       "      <td>1066375.0</td>\n",
       "      <td>[{'id': 18, 'name': 'Drama'}]</td>\n",
       "      <td>1.400</td>\n",
       "      <td>2019-07-19</td>\n",
       "      <td>4.165528e+06</td>\n",
       "      <td>140.0</td>\n",
       "      <td>Ardaas Karaan</td>\n",
       "      <td>6.000</td>\n",
       "      <td>3.0</td>\n",
       "      <td>\\r</td>\n",
       "      <td>[Drama]</td>\n",
       "      <td>False</td>\n",
       "      <td>False</td>\n",
       "      <td>False</td>\n",
       "      <td>False</td>\n",
       "      <td>False</td>\n",
       "      <td>True</td>\n",
       "      <td>False</td>\n",
       "      <td>False</td>\n",
       "      <td>False</td>\n",
       "      <td>False</td>\n",
       "      <td>False</td>\n",
       "      <td>False</td>\n",
       "      <td>False</td>\n",
       "      <td>False</td>\n",
       "      <td>False</td>\n",
       "      <td>False</td>\n",
       "      <td>False</td>\n",
       "      <td>False</td>\n",
       "      <td>False</td>\n",
       "    </tr>\n",
       "    <tr>\n",
       "      <th>37706</th>\n",
       "      <td>tt9541602</td>\n",
       "      <td>0.0</td>\n",
       "      <td>False</td>\n",
       "      <td>8120000.0</td>\n",
       "      <td>[{'id': 28, 'name': 'Action'}, {'id': 35, 'nam...</td>\n",
       "      <td>16.561</td>\n",
       "      <td>2019-01-23</td>\n",
       "      <td>1.246522e+08</td>\n",
       "      <td>111.0</td>\n",
       "      <td>Extreme Job</td>\n",
       "      <td>7.012</td>\n",
       "      <td>215.0</td>\n",
       "      <td>\\r</td>\n",
       "      <td>[Action, Comedy, Crime]</td>\n",
       "      <td>False</td>\n",
       "      <td>False</td>\n",
       "      <td>False</td>\n",
       "      <td>False</td>\n",
       "      <td>False</td>\n",
       "      <td>False</td>\n",
       "      <td>False</td>\n",
       "      <td>True</td>\n",
       "      <td>False</td>\n",
       "      <td>True</td>\n",
       "      <td>True</td>\n",
       "      <td>False</td>\n",
       "      <td>False</td>\n",
       "      <td>False</td>\n",
       "      <td>False</td>\n",
       "      <td>False</td>\n",
       "      <td>False</td>\n",
       "      <td>False</td>\n",
       "      <td>False</td>\n",
       "    </tr>\n",
       "    <tr>\n",
       "      <th>37728</th>\n",
       "      <td>tt9564774</td>\n",
       "      <td>0.0</td>\n",
       "      <td>False</td>\n",
       "      <td>3500000.0</td>\n",
       "      <td>[{'id': 10751, 'name': 'Family'}, {'id': 35, '...</td>\n",
       "      <td>1.896</td>\n",
       "      <td>2019-12-13</td>\n",
       "      <td>1.000000e+07</td>\n",
       "      <td>149.0</td>\n",
       "      <td>Venky Mama</td>\n",
       "      <td>4.125</td>\n",
       "      <td>8.0</td>\n",
       "      <td>\\r</td>\n",
       "      <td>[Family, Comedy, Drama, Action]</td>\n",
       "      <td>True</td>\n",
       "      <td>False</td>\n",
       "      <td>False</td>\n",
       "      <td>False</td>\n",
       "      <td>False</td>\n",
       "      <td>True</td>\n",
       "      <td>False</td>\n",
       "      <td>True</td>\n",
       "      <td>False</td>\n",
       "      <td>False</td>\n",
       "      <td>True</td>\n",
       "      <td>False</td>\n",
       "      <td>False</td>\n",
       "      <td>False</td>\n",
       "      <td>False</td>\n",
       "      <td>False</td>\n",
       "      <td>False</td>\n",
       "      <td>False</td>\n",
       "      <td>False</td>\n",
       "    </tr>\n",
       "    <tr>\n",
       "      <th>37949</th>\n",
       "      <td>tt9764654</td>\n",
       "      <td>0.0</td>\n",
       "      <td>False</td>\n",
       "      <td>12547000.0</td>\n",
       "      <td>[{'id': 18, 'name': 'Drama'}]</td>\n",
       "      <td>4.748</td>\n",
       "      <td>2019-02-27</td>\n",
       "      <td>1.091477e+06</td>\n",
       "      <td>116.0</td>\n",
       "      <td>Race to Freedom: Um Bok-dong</td>\n",
       "      <td>6.800</td>\n",
       "      <td>11.0</td>\n",
       "      <td>\\r</td>\n",
       "      <td>[Drama]</td>\n",
       "      <td>False</td>\n",
       "      <td>False</td>\n",
       "      <td>False</td>\n",
       "      <td>False</td>\n",
       "      <td>False</td>\n",
       "      <td>True</td>\n",
       "      <td>False</td>\n",
       "      <td>False</td>\n",
       "      <td>False</td>\n",
       "      <td>False</td>\n",
       "      <td>False</td>\n",
       "      <td>False</td>\n",
       "      <td>False</td>\n",
       "      <td>False</td>\n",
       "      <td>False</td>\n",
       "      <td>False</td>\n",
       "      <td>False</td>\n",
       "      <td>False</td>\n",
       "      <td>False</td>\n",
       "    </tr>\n",
       "    <tr>\n",
       "      <th>38089</th>\n",
       "      <td>tt9877340</td>\n",
       "      <td>0.0</td>\n",
       "      <td>False</td>\n",
       "      <td>632040.0</td>\n",
       "      <td>[{'id': 18, 'name': 'Drama'}]</td>\n",
       "      <td>0.924</td>\n",
       "      <td>2019-11-08</td>\n",
       "      <td>4.220000e+04</td>\n",
       "      <td>134.0</td>\n",
       "      <td>Nalpathiyonnu</td>\n",
       "      <td>6.500</td>\n",
       "      <td>2.0</td>\n",
       "      <td>\\r</td>\n",
       "      <td>[Drama]</td>\n",
       "      <td>False</td>\n",
       "      <td>False</td>\n",
       "      <td>False</td>\n",
       "      <td>False</td>\n",
       "      <td>False</td>\n",
       "      <td>True</td>\n",
       "      <td>False</td>\n",
       "      <td>False</td>\n",
       "      <td>False</td>\n",
       "      <td>False</td>\n",
       "      <td>False</td>\n",
       "      <td>False</td>\n",
       "      <td>False</td>\n",
       "      <td>False</td>\n",
       "      <td>False</td>\n",
       "      <td>False</td>\n",
       "      <td>False</td>\n",
       "      <td>False</td>\n",
       "      <td>False</td>\n",
       "    </tr>\n",
       "  </tbody>\n",
       "</table>\n",
       "<p>2816 rows × 33 columns</p>\n",
       "</div>"
      ],
      "text/plain": [
       "         imdb_id  adult  belongs_to_collection       budget  \\\n",
       "4      tt0398286    0.0                  False  260000000.0   \n",
       "6      tt0411951    0.0                   True   30000000.0   \n",
       "9      tt0427152    0.0                  False   69000000.0   \n",
       "10     tt0429493    0.0                  False  110000000.0   \n",
       "11     tt0435761    0.0                   True  200000000.0   \n",
       "...          ...    ...                    ...          ...   \n",
       "37700  tt9537346    0.0                   True    1066375.0   \n",
       "37706  tt9541602    0.0                  False    8120000.0   \n",
       "37728  tt9564774    0.0                  False    3500000.0   \n",
       "37949  tt9764654    0.0                  False   12547000.0   \n",
       "38089  tt9877340    0.0                  False     632040.0   \n",
       "\n",
       "                                                  genres  popularity  \\\n",
       "4      [{'id': 16, 'name': 'Animation'}, {'id': 10751...     108.562   \n",
       "6      [{'id': 80, 'name': 'Crime'}, {'id': 18, 'name...      21.896   \n",
       "9                         [{'id': 35, 'name': 'Comedy'}]      13.637   \n",
       "10     [{'id': 53, 'name': 'Thriller'}, {'id': 28, 'n...      31.075   \n",
       "11     [{'id': 16, 'name': 'Animation'}, {'id': 10751...      49.445   \n",
       "...                                                  ...         ...   \n",
       "37700                      [{'id': 18, 'name': 'Drama'}]       1.400   \n",
       "37706  [{'id': 28, 'name': 'Action'}, {'id': 35, 'nam...      16.561   \n",
       "37728  [{'id': 10751, 'name': 'Family'}, {'id': 35, '...       1.896   \n",
       "37949                      [{'id': 18, 'name': 'Drama'}]       4.748   \n",
       "38089                      [{'id': 18, 'name': 'Drama'}]       0.924   \n",
       "\n",
       "      release_date       revenue  runtime                         title  \\\n",
       "4       2010-11-24  5.924617e+08    100.0                       Tangled   \n",
       "6       2010-03-20  9.670000e+05     92.0                        Tekken   \n",
       "9       2010-07-30  8.638786e+07    114.0           Dinner for Schmucks   \n",
       "10      2010-06-09  1.772388e+08    117.0                    The A-Team   \n",
       "11      2010-06-16  1.066970e+09    103.0                   Toy Story 3   \n",
       "...            ...           ...      ...                           ...   \n",
       "37700   2019-07-19  4.165528e+06    140.0                 Ardaas Karaan   \n",
       "37706   2019-01-23  1.246522e+08    111.0                   Extreme Job   \n",
       "37728   2019-12-13  1.000000e+07    149.0                    Venky Mama   \n",
       "37949   2019-02-27  1.091477e+06    116.0  Race to Freedom: Um Bok-dong   \n",
       "38089   2019-11-08  4.220000e+04    134.0                 Nalpathiyonnu   \n",
       "\n",
       "       vote_average  vote_count certification\\r  \\\n",
       "4             7.590     10223.0            PG\\r   \n",
       "6             5.368       600.0             R\\r   \n",
       "9             5.692      1601.0         PG-13\\r   \n",
       "10            6.393      4206.0         PG-13\\r   \n",
       "11            7.792     13435.0             G\\r   \n",
       "...             ...         ...             ...   \n",
       "37700         6.000         3.0              \\r   \n",
       "37706         7.012       215.0              \\r   \n",
       "37728         4.125         8.0              \\r   \n",
       "37949         6.800        11.0              \\r   \n",
       "38089         6.500         2.0              \\r   \n",
       "\n",
       "                                             genres_list  Genre_Family  \\\n",
       "4                                    [Animation, Family]          True   \n",
       "6      [Crime, Drama, Action, Thriller, Science Fiction]         False   \n",
       "9                                               [Comedy]         False   \n",
       "10          [Thriller, Action, Adventure, Comedy, Crime]         False   \n",
       "11                           [Animation, Family, Comedy]          True   \n",
       "...                                                  ...           ...   \n",
       "37700                                            [Drama]         False   \n",
       "37706                            [Action, Comedy, Crime]         False   \n",
       "37728                    [Family, Comedy, Drama, Action]          True   \n",
       "37949                                            [Drama]         False   \n",
       "38089                                            [Drama]         False   \n",
       "\n",
       "       Genre_Animation  Genre_Science Fiction  Genre_Thriller  Genre_Mystery  \\\n",
       "4                 True                  False           False          False   \n",
       "6                False                   True            True          False   \n",
       "9                False                  False           False          False   \n",
       "10               False                  False            True          False   \n",
       "11                True                  False           False          False   \n",
       "...                ...                    ...             ...            ...   \n",
       "37700            False                  False           False          False   \n",
       "37706            False                  False           False          False   \n",
       "37728            False                  False           False          False   \n",
       "37949            False                  False           False          False   \n",
       "38089            False                  False           False          False   \n",
       "\n",
       "       Genre_Drama  Genre_Romance  Genre_Comedy  Genre_War  Genre_Crime  \\\n",
       "4            False          False         False      False        False   \n",
       "6             True          False         False      False         True   \n",
       "9            False          False          True      False        False   \n",
       "10           False          False          True      False         True   \n",
       "11           False          False          True      False        False   \n",
       "...            ...            ...           ...        ...          ...   \n",
       "37700         True          False         False      False        False   \n",
       "37706        False          False          True      False         True   \n",
       "37728         True          False          True      False        False   \n",
       "37949         True          False         False      False        False   \n",
       "38089         True          False         False      False        False   \n",
       "\n",
       "       Genre_Action  Genre_Adventure  Genre_Horror  Genre_Fantasy  \\\n",
       "4             False            False         False          False   \n",
       "6              True            False         False          False   \n",
       "9             False            False         False          False   \n",
       "10             True             True         False          False   \n",
       "11            False            False         False          False   \n",
       "...             ...              ...           ...            ...   \n",
       "37700         False            False         False          False   \n",
       "37706          True            False         False          False   \n",
       "37728          True            False         False          False   \n",
       "37949         False            False         False          False   \n",
       "38089         False            False         False          False   \n",
       "\n",
       "       Genre_History  Genre_Western  Genre_Music  Genre_Documentary  \\\n",
       "4              False          False        False              False   \n",
       "6              False          False        False              False   \n",
       "9              False          False        False              False   \n",
       "10             False          False        False              False   \n",
       "11             False          False        False              False   \n",
       "...              ...            ...          ...                ...   \n",
       "37700          False          False        False              False   \n",
       "37706          False          False        False              False   \n",
       "37728          False          False        False              False   \n",
       "37949          False          False        False              False   \n",
       "38089          False          False        False              False   \n",
       "\n",
       "       Genre_TV Movie  \n",
       "4               False  \n",
       "6               False  \n",
       "9               False  \n",
       "10              False  \n",
       "11              False  \n",
       "...               ...  \n",
       "37700           False  \n",
       "37706           False  \n",
       "37728           False  \n",
       "37949           False  \n",
       "38089           False  \n",
       "\n",
       "[2816 rows x 33 columns]"
      ]
     },
     "execution_count": 16,
     "metadata": {},
     "output_type": "execute_result"
    }
   ],
   "source": [
    "## filter out financials that don't have financial data\n",
    "df = df.loc[(df['budget'] >0 ) & (df['revenue']>0)]\n",
    "df"
   ]
  },
  {
   "cell_type": "code",
   "execution_count": 17,
   "id": "c9540f81",
   "metadata": {
    "ExecuteTime": {
     "end_time": "2023-05-19T01:05:14.782462Z",
     "start_time": "2023-05-19T01:05:14.768320Z"
    },
    "scrolled": true
   },
   "outputs": [
    {
     "name": "stdout",
     "output_type": "stream",
     "text": [
      "<class 'pandas.core.frame.DataFrame'>\n",
      "Int64Index: 2816 entries, 4 to 38089\n",
      "Data columns (total 33 columns):\n",
      " #   Column                 Non-Null Count  Dtype  \n",
      "---  ------                 --------------  -----  \n",
      " 0   imdb_id                2816 non-null   object \n",
      " 1   adult                  2816 non-null   float64\n",
      " 2   belongs_to_collection  2816 non-null   bool   \n",
      " 3   budget                 2816 non-null   float64\n",
      " 4   genres                 2816 non-null   object \n",
      " 5   popularity             2816 non-null   float64\n",
      " 6   release_date           2809 non-null   object \n",
      " 7   revenue                2816 non-null   float64\n",
      " 8   runtime                2816 non-null   float64\n",
      " 9   title                  2816 non-null   object \n",
      " 10  vote_average           2816 non-null   float64\n",
      " 11  vote_count             2816 non-null   float64\n",
      " 12  certification\r",
      "         2816 non-null   object \n",
      " 13  genres_list            2816 non-null   object \n",
      " 14  Genre_Family           2816 non-null   bool   \n",
      " 15  Genre_Animation        2816 non-null   bool   \n",
      " 16  Genre_Science Fiction  2816 non-null   bool   \n",
      " 17  Genre_Thriller         2816 non-null   bool   \n",
      " 18  Genre_Mystery          2816 non-null   bool   \n",
      " 19  Genre_Drama            2816 non-null   bool   \n",
      " 20  Genre_Romance          2816 non-null   bool   \n",
      " 21  Genre_Comedy           2816 non-null   bool   \n",
      " 22  Genre_War              2816 non-null   bool   \n",
      " 23  Genre_Crime            2816 non-null   bool   \n",
      " 24  Genre_Action           2816 non-null   bool   \n",
      " 25  Genre_Adventure        2816 non-null   bool   \n",
      " 26  Genre_Horror           2816 non-null   bool   \n",
      " 27  Genre_Fantasy          2816 non-null   bool   \n",
      " 28  Genre_History          2816 non-null   bool   \n",
      " 29  Genre_Western          2816 non-null   bool   \n",
      " 30  Genre_Music            2816 non-null   bool   \n",
      " 31  Genre_Documentary      2816 non-null   bool   \n",
      " 32  Genre_TV Movie         2816 non-null   bool   \n",
      "dtypes: bool(20), float64(7), object(6)\n",
      "memory usage: 363.0+ KB\n"
     ]
    }
   ],
   "source": [
    "df.info()"
   ]
  },
  {
   "cell_type": "markdown",
   "id": "873509e8",
   "metadata": {},
   "source": [
    "certification"
   ]
  },
  {
   "cell_type": "code",
   "execution_count": 18,
   "id": "32237386",
   "metadata": {
    "ExecuteTime": {
     "end_time": "2023-05-19T01:05:14.798394Z",
     "start_time": "2023-05-19T01:05:14.783462Z"
    },
    "scrolled": true
   },
   "outputs": [],
   "source": [
    "## Checking Certification values counts\n",
    "#df['certification'].value_counts(dropna=False)"
   ]
  },
  {
   "cell_type": "code",
   "execution_count": 19,
   "id": "5c84128d",
   "metadata": {
    "ExecuteTime": {
     "end_time": "2023-05-19T01:05:14.813434Z",
     "start_time": "2023-05-19T01:05:14.799394Z"
    }
   },
   "outputs": [
    {
     "name": "stderr",
     "output_type": "stream",
     "text": [
      "C:\\Users\\Joene\\AppData\\Local\\Temp\\ipykernel_18240\\1908602132.py:1: SettingWithCopyWarning: \n",
      "A value is trying to be set on a copy of a slice from a DataFrame\n",
      "\n",
      "See the caveats in the documentation: https://pandas.pydata.org/pandas-docs/stable/user_guide/indexing.html#returning-a-view-versus-a-copy\n",
      "  df.rename(columns = {'certification\\r':'certification'}, inplace=True)\n"
     ]
    }
   ],
   "source": [
    "df.rename(columns = {'certification\\r':'certification'}, inplace=True)"
   ]
  },
  {
   "cell_type": "code",
   "execution_count": 20,
   "id": "c128216b",
   "metadata": {
    "ExecuteTime": {
     "end_time": "2023-05-19T01:05:14.829458Z",
     "start_time": "2023-05-19T01:05:14.815433Z"
    }
   },
   "outputs": [
    {
     "data": {
      "text/plain": [
       "R\\r        880\n",
       "\\r         798\n",
       "PG-13\\r    723\n",
       "PG\\r       282\n",
       "NR\\r        95\n",
       "G\\r         30\n",
       "NC-17\\r      8\n",
       "Name: certification, dtype: int64"
      ]
     },
     "execution_count": 20,
     "metadata": {},
     "output_type": "execute_result"
    }
   ],
   "source": [
    "df['certification'].value_counts()"
   ]
  },
  {
   "cell_type": "code",
   "execution_count": 21,
   "id": "6ffeb2ea",
   "metadata": {
    "ExecuteTime": {
     "end_time": "2023-05-19T01:05:14.844972Z",
     "start_time": "2023-05-19T01:05:14.830459Z"
    }
   },
   "outputs": [
    {
     "name": "stderr",
     "output_type": "stream",
     "text": [
      "C:\\Users\\Joene\\AppData\\Local\\Temp\\ipykernel_18240\\3779329800.py:1: SettingWithCopyWarning: \n",
      "A value is trying to be set on a copy of a slice from a DataFrame.\n",
      "Try using .loc[row_indexer,col_indexer] = value instead\n",
      "\n",
      "See the caveats in the documentation: https://pandas.pydata.org/pandas-docs/stable/user_guide/indexing.html#returning-a-view-versus-a-copy\n",
      "  df['certification'] = df['certification'].str.replace('\\r','')\n"
     ]
    }
   ],
   "source": [
    "df['certification'] = df['certification'].str.replace('\\r','')"
   ]
  },
  {
   "cell_type": "code",
   "execution_count": 22,
   "id": "53dc58ee",
   "metadata": {
    "ExecuteTime": {
     "end_time": "2023-05-19T01:05:14.860003Z",
     "start_time": "2023-05-19T01:05:14.845972Z"
    }
   },
   "outputs": [
    {
     "data": {
      "text/plain": [
       "R        880\n",
       "         798\n",
       "PG-13    723\n",
       "PG       282\n",
       "NR        95\n",
       "G         30\n",
       "NC-17      8\n",
       "Name: certification, dtype: int64"
      ]
     },
     "execution_count": 22,
     "metadata": {},
     "output_type": "execute_result"
    }
   ],
   "source": [
    "df['certification'].value_counts()"
   ]
  },
  {
   "cell_type": "code",
   "execution_count": 23,
   "id": "13e99c59",
   "metadata": {
    "ExecuteTime": {
     "end_time": "2023-05-19T01:05:14.875176Z",
     "start_time": "2023-05-19T01:05:14.861002Z"
    }
   },
   "outputs": [
    {
     "name": "stderr",
     "output_type": "stream",
     "text": [
      "C:\\Users\\Joene\\AppData\\Local\\Temp\\ipykernel_18240\\944061688.py:2: SettingWithCopyWarning: \n",
      "A value is trying to be set on a copy of a slice from a DataFrame.\n",
      "Try using .loc[row_indexer,col_indexer] = value instead\n",
      "\n",
      "See the caveats in the documentation: https://pandas.pydata.org/pandas-docs/stable/user_guide/indexing.html#returning-a-view-versus-a-copy\n",
      "  df['certification'] = df['certification'].str.strip()\n"
     ]
    }
   ],
   "source": [
    "# fix extra space certs\n",
    "df['certification'] = df['certification'].str.strip()"
   ]
  },
  {
   "cell_type": "code",
   "execution_count": 24,
   "id": "76dfc4d3",
   "metadata": {
    "ExecuteTime": {
     "end_time": "2023-05-19T01:05:14.890204Z",
     "start_time": "2023-05-19T01:05:14.876176Z"
    }
   },
   "outputs": [
    {
     "name": "stderr",
     "output_type": "stream",
     "text": [
      "C:\\Users\\Joene\\AppData\\Local\\Temp\\ipykernel_18240\\2728476978.py:8: SettingWithCopyWarning: \n",
      "A value is trying to be set on a copy of a slice from a DataFrame.\n",
      "Try using .loc[row_indexer,col_indexer] = value instead\n",
      "\n",
      "See the caveats in the documentation: https://pandas.pydata.org/pandas-docs/stable/user_guide/indexing.html#returning-a-view-versus-a-copy\n",
      "  df['certification'] = df['certification'].replace(repl_cert)\n"
     ]
    },
    {
     "data": {
      "text/plain": [
       "R        880\n",
       "NaN      798\n",
       "PG-13    723\n",
       "PG       282\n",
       "NR        95\n",
       "G         30\n",
       "NC-17      8\n",
       "Name: certification, dtype: int64"
      ]
     },
     "execution_count": 24,
     "metadata": {},
     "output_type": "execute_result"
    }
   ],
   "source": [
    "## fix certification col\n",
    "repl_cert = {'UR':'NR',\n",
    "             'Not Rated':'NR',\n",
    "             'Unrated':'NR',\n",
    "             '-':'NR',\n",
    "             '':np.nan,\n",
    "             '10':np.nan,}\n",
    "df['certification'] = df['certification'].replace(repl_cert)\n",
    "df['certification'].value_counts(dropna=False)"
   ]
  },
  {
   "cell_type": "code",
   "execution_count": 25,
   "id": "56446d45",
   "metadata": {
    "ExecuteTime": {
     "end_time": "2023-05-19T01:05:14.905882Z",
     "start_time": "2023-05-19T01:05:14.891205Z"
    }
   },
   "outputs": [
    {
     "data": {
      "text/plain": [
       "2011-09-09    10\n",
       "2011-09-30     9\n",
       "2014-12-25     7\n",
       "2016-10-07     7\n",
       "2010-02-26     7\n",
       "              ..\n",
       "2014-09-03     1\n",
       "2014-03-28     1\n",
       "2014-10-20     1\n",
       "2014-01-29     1\n",
       "2019-01-23     1\n",
       "Name: release_date, Length: 1577, dtype: int64"
      ]
     },
     "execution_count": 25,
     "metadata": {},
     "output_type": "execute_result"
    }
   ],
   "source": [
    "## split release date into 3 columns\n",
    "df['release_date'].value_counts()"
   ]
  },
  {
   "cell_type": "code",
   "execution_count": 26,
   "id": "0a0c2233",
   "metadata": {
    "ExecuteTime": {
     "end_time": "2023-05-19T01:05:14.936414Z",
     "start_time": "2023-05-19T01:05:14.907448Z"
    }
   },
   "outputs": [
    {
     "name": "stderr",
     "output_type": "stream",
     "text": [
      "C:\\Users\\Joene\\AppData\\Local\\Temp\\ipykernel_18240\\1575767540.py:2: SettingWithCopyWarning: \n",
      "A value is trying to be set on a copy of a slice from a DataFrame.\n",
      "Try using .loc[row_indexer,col_indexer] = value instead\n",
      "\n",
      "See the caveats in the documentation: https://pandas.pydata.org/pandas-docs/stable/user_guide/indexing.html#returning-a-view-versus-a-copy\n",
      "  df[new_cols] = df['release_date'].str.split('-',expand=True)\n",
      "C:\\Users\\Joene\\AppData\\Local\\Temp\\ipykernel_18240\\1575767540.py:2: SettingWithCopyWarning: \n",
      "A value is trying to be set on a copy of a slice from a DataFrame.\n",
      "Try using .loc[row_indexer,col_indexer] = value instead\n",
      "\n",
      "See the caveats in the documentation: https://pandas.pydata.org/pandas-docs/stable/user_guide/indexing.html#returning-a-view-versus-a-copy\n",
      "  df[new_cols] = df['release_date'].str.split('-',expand=True)\n",
      "C:\\Users\\Joene\\AppData\\Local\\Temp\\ipykernel_18240\\1575767540.py:2: SettingWithCopyWarning: \n",
      "A value is trying to be set on a copy of a slice from a DataFrame.\n",
      "Try using .loc[row_indexer,col_indexer] = value instead\n",
      "\n",
      "See the caveats in the documentation: https://pandas.pydata.org/pandas-docs/stable/user_guide/indexing.html#returning-a-view-versus-a-copy\n",
      "  df[new_cols] = df['release_date'].str.split('-',expand=True)\n",
      "C:\\Users\\Joene\\AppData\\Local\\Temp\\ipykernel_18240\\1575767540.py:3: SettingWithCopyWarning: \n",
      "A value is trying to be set on a copy of a slice from a DataFrame.\n",
      "Try using .loc[row_indexer,col_indexer] = value instead\n",
      "\n",
      "See the caveats in the documentation: https://pandas.pydata.org/pandas-docs/stable/user_guide/indexing.html#returning-a-view-versus-a-copy\n",
      "  df[new_cols] = df[new_cols].astype(float)\n"
     ]
    },
    {
     "data": {
      "text/html": [
       "<div>\n",
       "<style scoped>\n",
       "    .dataframe tbody tr th:only-of-type {\n",
       "        vertical-align: middle;\n",
       "    }\n",
       "\n",
       "    .dataframe tbody tr th {\n",
       "        vertical-align: top;\n",
       "    }\n",
       "\n",
       "    .dataframe thead th {\n",
       "        text-align: right;\n",
       "    }\n",
       "</style>\n",
       "<table border=\"1\" class=\"dataframe\">\n",
       "  <thead>\n",
       "    <tr style=\"text-align: right;\">\n",
       "      <th></th>\n",
       "      <th>imdb_id</th>\n",
       "      <th>adult</th>\n",
       "      <th>belongs_to_collection</th>\n",
       "      <th>budget</th>\n",
       "      <th>genres</th>\n",
       "      <th>popularity</th>\n",
       "      <th>release_date</th>\n",
       "      <th>revenue</th>\n",
       "      <th>runtime</th>\n",
       "      <th>title</th>\n",
       "      <th>vote_average</th>\n",
       "      <th>vote_count</th>\n",
       "      <th>certification</th>\n",
       "      <th>genres_list</th>\n",
       "      <th>Genre_Family</th>\n",
       "      <th>Genre_Animation</th>\n",
       "      <th>Genre_Science Fiction</th>\n",
       "      <th>Genre_Thriller</th>\n",
       "      <th>Genre_Mystery</th>\n",
       "      <th>Genre_Drama</th>\n",
       "      <th>Genre_Romance</th>\n",
       "      <th>Genre_Comedy</th>\n",
       "      <th>Genre_War</th>\n",
       "      <th>Genre_Crime</th>\n",
       "      <th>Genre_Action</th>\n",
       "      <th>Genre_Adventure</th>\n",
       "      <th>Genre_Horror</th>\n",
       "      <th>Genre_Fantasy</th>\n",
       "      <th>Genre_History</th>\n",
       "      <th>Genre_Western</th>\n",
       "      <th>Genre_Music</th>\n",
       "      <th>Genre_Documentary</th>\n",
       "      <th>Genre_TV Movie</th>\n",
       "      <th>year</th>\n",
       "      <th>month</th>\n",
       "      <th>day</th>\n",
       "    </tr>\n",
       "  </thead>\n",
       "  <tbody>\n",
       "    <tr>\n",
       "      <th>4</th>\n",
       "      <td>tt0398286</td>\n",
       "      <td>0.0</td>\n",
       "      <td>False</td>\n",
       "      <td>260000000.0</td>\n",
       "      <td>[{'id': 16, 'name': 'Animation'}, {'id': 10751...</td>\n",
       "      <td>108.562</td>\n",
       "      <td>2010-11-24</td>\n",
       "      <td>5.924617e+08</td>\n",
       "      <td>100.0</td>\n",
       "      <td>Tangled</td>\n",
       "      <td>7.590</td>\n",
       "      <td>10223.0</td>\n",
       "      <td>PG</td>\n",
       "      <td>[Animation, Family]</td>\n",
       "      <td>True</td>\n",
       "      <td>True</td>\n",
       "      <td>False</td>\n",
       "      <td>False</td>\n",
       "      <td>False</td>\n",
       "      <td>False</td>\n",
       "      <td>False</td>\n",
       "      <td>False</td>\n",
       "      <td>False</td>\n",
       "      <td>False</td>\n",
       "      <td>False</td>\n",
       "      <td>False</td>\n",
       "      <td>False</td>\n",
       "      <td>False</td>\n",
       "      <td>False</td>\n",
       "      <td>False</td>\n",
       "      <td>False</td>\n",
       "      <td>False</td>\n",
       "      <td>False</td>\n",
       "      <td>2010.0</td>\n",
       "      <td>11.0</td>\n",
       "      <td>24.0</td>\n",
       "    </tr>\n",
       "    <tr>\n",
       "      <th>6</th>\n",
       "      <td>tt0411951</td>\n",
       "      <td>0.0</td>\n",
       "      <td>True</td>\n",
       "      <td>30000000.0</td>\n",
       "      <td>[{'id': 80, 'name': 'Crime'}, {'id': 18, 'name...</td>\n",
       "      <td>21.896</td>\n",
       "      <td>2010-03-20</td>\n",
       "      <td>9.670000e+05</td>\n",
       "      <td>92.0</td>\n",
       "      <td>Tekken</td>\n",
       "      <td>5.368</td>\n",
       "      <td>600.0</td>\n",
       "      <td>R</td>\n",
       "      <td>[Crime, Drama, Action, Thriller, Science Fiction]</td>\n",
       "      <td>False</td>\n",
       "      <td>False</td>\n",
       "      <td>True</td>\n",
       "      <td>True</td>\n",
       "      <td>False</td>\n",
       "      <td>True</td>\n",
       "      <td>False</td>\n",
       "      <td>False</td>\n",
       "      <td>False</td>\n",
       "      <td>True</td>\n",
       "      <td>True</td>\n",
       "      <td>False</td>\n",
       "      <td>False</td>\n",
       "      <td>False</td>\n",
       "      <td>False</td>\n",
       "      <td>False</td>\n",
       "      <td>False</td>\n",
       "      <td>False</td>\n",
       "      <td>False</td>\n",
       "      <td>2010.0</td>\n",
       "      <td>3.0</td>\n",
       "      <td>20.0</td>\n",
       "    </tr>\n",
       "    <tr>\n",
       "      <th>9</th>\n",
       "      <td>tt0427152</td>\n",
       "      <td>0.0</td>\n",
       "      <td>False</td>\n",
       "      <td>69000000.0</td>\n",
       "      <td>[{'id': 35, 'name': 'Comedy'}]</td>\n",
       "      <td>13.637</td>\n",
       "      <td>2010-07-30</td>\n",
       "      <td>8.638786e+07</td>\n",
       "      <td>114.0</td>\n",
       "      <td>Dinner for Schmucks</td>\n",
       "      <td>5.692</td>\n",
       "      <td>1601.0</td>\n",
       "      <td>PG-13</td>\n",
       "      <td>[Comedy]</td>\n",
       "      <td>False</td>\n",
       "      <td>False</td>\n",
       "      <td>False</td>\n",
       "      <td>False</td>\n",
       "      <td>False</td>\n",
       "      <td>False</td>\n",
       "      <td>False</td>\n",
       "      <td>True</td>\n",
       "      <td>False</td>\n",
       "      <td>False</td>\n",
       "      <td>False</td>\n",
       "      <td>False</td>\n",
       "      <td>False</td>\n",
       "      <td>False</td>\n",
       "      <td>False</td>\n",
       "      <td>False</td>\n",
       "      <td>False</td>\n",
       "      <td>False</td>\n",
       "      <td>False</td>\n",
       "      <td>2010.0</td>\n",
       "      <td>7.0</td>\n",
       "      <td>30.0</td>\n",
       "    </tr>\n",
       "    <tr>\n",
       "      <th>10</th>\n",
       "      <td>tt0429493</td>\n",
       "      <td>0.0</td>\n",
       "      <td>False</td>\n",
       "      <td>110000000.0</td>\n",
       "      <td>[{'id': 53, 'name': 'Thriller'}, {'id': 28, 'n...</td>\n",
       "      <td>31.075</td>\n",
       "      <td>2010-06-09</td>\n",
       "      <td>1.772388e+08</td>\n",
       "      <td>117.0</td>\n",
       "      <td>The A-Team</td>\n",
       "      <td>6.393</td>\n",
       "      <td>4206.0</td>\n",
       "      <td>PG-13</td>\n",
       "      <td>[Thriller, Action, Adventure, Comedy, Crime]</td>\n",
       "      <td>False</td>\n",
       "      <td>False</td>\n",
       "      <td>False</td>\n",
       "      <td>True</td>\n",
       "      <td>False</td>\n",
       "      <td>False</td>\n",
       "      <td>False</td>\n",
       "      <td>True</td>\n",
       "      <td>False</td>\n",
       "      <td>True</td>\n",
       "      <td>True</td>\n",
       "      <td>True</td>\n",
       "      <td>False</td>\n",
       "      <td>False</td>\n",
       "      <td>False</td>\n",
       "      <td>False</td>\n",
       "      <td>False</td>\n",
       "      <td>False</td>\n",
       "      <td>False</td>\n",
       "      <td>2010.0</td>\n",
       "      <td>6.0</td>\n",
       "      <td>9.0</td>\n",
       "    </tr>\n",
       "    <tr>\n",
       "      <th>11</th>\n",
       "      <td>tt0435761</td>\n",
       "      <td>0.0</td>\n",
       "      <td>True</td>\n",
       "      <td>200000000.0</td>\n",
       "      <td>[{'id': 16, 'name': 'Animation'}, {'id': 10751...</td>\n",
       "      <td>49.445</td>\n",
       "      <td>2010-06-16</td>\n",
       "      <td>1.066970e+09</td>\n",
       "      <td>103.0</td>\n",
       "      <td>Toy Story 3</td>\n",
       "      <td>7.792</td>\n",
       "      <td>13435.0</td>\n",
       "      <td>G</td>\n",
       "      <td>[Animation, Family, Comedy]</td>\n",
       "      <td>True</td>\n",
       "      <td>True</td>\n",
       "      <td>False</td>\n",
       "      <td>False</td>\n",
       "      <td>False</td>\n",
       "      <td>False</td>\n",
       "      <td>False</td>\n",
       "      <td>True</td>\n",
       "      <td>False</td>\n",
       "      <td>False</td>\n",
       "      <td>False</td>\n",
       "      <td>False</td>\n",
       "      <td>False</td>\n",
       "      <td>False</td>\n",
       "      <td>False</td>\n",
       "      <td>False</td>\n",
       "      <td>False</td>\n",
       "      <td>False</td>\n",
       "      <td>False</td>\n",
       "      <td>2010.0</td>\n",
       "      <td>6.0</td>\n",
       "      <td>16.0</td>\n",
       "    </tr>\n",
       "    <tr>\n",
       "      <th>...</th>\n",
       "      <td>...</td>\n",
       "      <td>...</td>\n",
       "      <td>...</td>\n",
       "      <td>...</td>\n",
       "      <td>...</td>\n",
       "      <td>...</td>\n",
       "      <td>...</td>\n",
       "      <td>...</td>\n",
       "      <td>...</td>\n",
       "      <td>...</td>\n",
       "      <td>...</td>\n",
       "      <td>...</td>\n",
       "      <td>...</td>\n",
       "      <td>...</td>\n",
       "      <td>...</td>\n",
       "      <td>...</td>\n",
       "      <td>...</td>\n",
       "      <td>...</td>\n",
       "      <td>...</td>\n",
       "      <td>...</td>\n",
       "      <td>...</td>\n",
       "      <td>...</td>\n",
       "      <td>...</td>\n",
       "      <td>...</td>\n",
       "      <td>...</td>\n",
       "      <td>...</td>\n",
       "      <td>...</td>\n",
       "      <td>...</td>\n",
       "      <td>...</td>\n",
       "      <td>...</td>\n",
       "      <td>...</td>\n",
       "      <td>...</td>\n",
       "      <td>...</td>\n",
       "      <td>...</td>\n",
       "      <td>...</td>\n",
       "      <td>...</td>\n",
       "    </tr>\n",
       "    <tr>\n",
       "      <th>37700</th>\n",
       "      <td>tt9537346</td>\n",
       "      <td>0.0</td>\n",
       "      <td>True</td>\n",
       "      <td>1066375.0</td>\n",
       "      <td>[{'id': 18, 'name': 'Drama'}]</td>\n",
       "      <td>1.400</td>\n",
       "      <td>2019-07-19</td>\n",
       "      <td>4.165528e+06</td>\n",
       "      <td>140.0</td>\n",
       "      <td>Ardaas Karaan</td>\n",
       "      <td>6.000</td>\n",
       "      <td>3.0</td>\n",
       "      <td>NaN</td>\n",
       "      <td>[Drama]</td>\n",
       "      <td>False</td>\n",
       "      <td>False</td>\n",
       "      <td>False</td>\n",
       "      <td>False</td>\n",
       "      <td>False</td>\n",
       "      <td>True</td>\n",
       "      <td>False</td>\n",
       "      <td>False</td>\n",
       "      <td>False</td>\n",
       "      <td>False</td>\n",
       "      <td>False</td>\n",
       "      <td>False</td>\n",
       "      <td>False</td>\n",
       "      <td>False</td>\n",
       "      <td>False</td>\n",
       "      <td>False</td>\n",
       "      <td>False</td>\n",
       "      <td>False</td>\n",
       "      <td>False</td>\n",
       "      <td>2019.0</td>\n",
       "      <td>7.0</td>\n",
       "      <td>19.0</td>\n",
       "    </tr>\n",
       "    <tr>\n",
       "      <th>37706</th>\n",
       "      <td>tt9541602</td>\n",
       "      <td>0.0</td>\n",
       "      <td>False</td>\n",
       "      <td>8120000.0</td>\n",
       "      <td>[{'id': 28, 'name': 'Action'}, {'id': 35, 'nam...</td>\n",
       "      <td>16.561</td>\n",
       "      <td>2019-01-23</td>\n",
       "      <td>1.246522e+08</td>\n",
       "      <td>111.0</td>\n",
       "      <td>Extreme Job</td>\n",
       "      <td>7.012</td>\n",
       "      <td>215.0</td>\n",
       "      <td>NaN</td>\n",
       "      <td>[Action, Comedy, Crime]</td>\n",
       "      <td>False</td>\n",
       "      <td>False</td>\n",
       "      <td>False</td>\n",
       "      <td>False</td>\n",
       "      <td>False</td>\n",
       "      <td>False</td>\n",
       "      <td>False</td>\n",
       "      <td>True</td>\n",
       "      <td>False</td>\n",
       "      <td>True</td>\n",
       "      <td>True</td>\n",
       "      <td>False</td>\n",
       "      <td>False</td>\n",
       "      <td>False</td>\n",
       "      <td>False</td>\n",
       "      <td>False</td>\n",
       "      <td>False</td>\n",
       "      <td>False</td>\n",
       "      <td>False</td>\n",
       "      <td>2019.0</td>\n",
       "      <td>1.0</td>\n",
       "      <td>23.0</td>\n",
       "    </tr>\n",
       "    <tr>\n",
       "      <th>37728</th>\n",
       "      <td>tt9564774</td>\n",
       "      <td>0.0</td>\n",
       "      <td>False</td>\n",
       "      <td>3500000.0</td>\n",
       "      <td>[{'id': 10751, 'name': 'Family'}, {'id': 35, '...</td>\n",
       "      <td>1.896</td>\n",
       "      <td>2019-12-13</td>\n",
       "      <td>1.000000e+07</td>\n",
       "      <td>149.0</td>\n",
       "      <td>Venky Mama</td>\n",
       "      <td>4.125</td>\n",
       "      <td>8.0</td>\n",
       "      <td>NaN</td>\n",
       "      <td>[Family, Comedy, Drama, Action]</td>\n",
       "      <td>True</td>\n",
       "      <td>False</td>\n",
       "      <td>False</td>\n",
       "      <td>False</td>\n",
       "      <td>False</td>\n",
       "      <td>True</td>\n",
       "      <td>False</td>\n",
       "      <td>True</td>\n",
       "      <td>False</td>\n",
       "      <td>False</td>\n",
       "      <td>True</td>\n",
       "      <td>False</td>\n",
       "      <td>False</td>\n",
       "      <td>False</td>\n",
       "      <td>False</td>\n",
       "      <td>False</td>\n",
       "      <td>False</td>\n",
       "      <td>False</td>\n",
       "      <td>False</td>\n",
       "      <td>2019.0</td>\n",
       "      <td>12.0</td>\n",
       "      <td>13.0</td>\n",
       "    </tr>\n",
       "    <tr>\n",
       "      <th>37949</th>\n",
       "      <td>tt9764654</td>\n",
       "      <td>0.0</td>\n",
       "      <td>False</td>\n",
       "      <td>12547000.0</td>\n",
       "      <td>[{'id': 18, 'name': 'Drama'}]</td>\n",
       "      <td>4.748</td>\n",
       "      <td>2019-02-27</td>\n",
       "      <td>1.091477e+06</td>\n",
       "      <td>116.0</td>\n",
       "      <td>Race to Freedom: Um Bok-dong</td>\n",
       "      <td>6.800</td>\n",
       "      <td>11.0</td>\n",
       "      <td>NaN</td>\n",
       "      <td>[Drama]</td>\n",
       "      <td>False</td>\n",
       "      <td>False</td>\n",
       "      <td>False</td>\n",
       "      <td>False</td>\n",
       "      <td>False</td>\n",
       "      <td>True</td>\n",
       "      <td>False</td>\n",
       "      <td>False</td>\n",
       "      <td>False</td>\n",
       "      <td>False</td>\n",
       "      <td>False</td>\n",
       "      <td>False</td>\n",
       "      <td>False</td>\n",
       "      <td>False</td>\n",
       "      <td>False</td>\n",
       "      <td>False</td>\n",
       "      <td>False</td>\n",
       "      <td>False</td>\n",
       "      <td>False</td>\n",
       "      <td>2019.0</td>\n",
       "      <td>2.0</td>\n",
       "      <td>27.0</td>\n",
       "    </tr>\n",
       "    <tr>\n",
       "      <th>38089</th>\n",
       "      <td>tt9877340</td>\n",
       "      <td>0.0</td>\n",
       "      <td>False</td>\n",
       "      <td>632040.0</td>\n",
       "      <td>[{'id': 18, 'name': 'Drama'}]</td>\n",
       "      <td>0.924</td>\n",
       "      <td>2019-11-08</td>\n",
       "      <td>4.220000e+04</td>\n",
       "      <td>134.0</td>\n",
       "      <td>Nalpathiyonnu</td>\n",
       "      <td>6.500</td>\n",
       "      <td>2.0</td>\n",
       "      <td>NaN</td>\n",
       "      <td>[Drama]</td>\n",
       "      <td>False</td>\n",
       "      <td>False</td>\n",
       "      <td>False</td>\n",
       "      <td>False</td>\n",
       "      <td>False</td>\n",
       "      <td>True</td>\n",
       "      <td>False</td>\n",
       "      <td>False</td>\n",
       "      <td>False</td>\n",
       "      <td>False</td>\n",
       "      <td>False</td>\n",
       "      <td>False</td>\n",
       "      <td>False</td>\n",
       "      <td>False</td>\n",
       "      <td>False</td>\n",
       "      <td>False</td>\n",
       "      <td>False</td>\n",
       "      <td>False</td>\n",
       "      <td>False</td>\n",
       "      <td>2019.0</td>\n",
       "      <td>11.0</td>\n",
       "      <td>8.0</td>\n",
       "    </tr>\n",
       "  </tbody>\n",
       "</table>\n",
       "<p>2816 rows × 36 columns</p>\n",
       "</div>"
      ],
      "text/plain": [
       "         imdb_id  adult  belongs_to_collection       budget  \\\n",
       "4      tt0398286    0.0                  False  260000000.0   \n",
       "6      tt0411951    0.0                   True   30000000.0   \n",
       "9      tt0427152    0.0                  False   69000000.0   \n",
       "10     tt0429493    0.0                  False  110000000.0   \n",
       "11     tt0435761    0.0                   True  200000000.0   \n",
       "...          ...    ...                    ...          ...   \n",
       "37700  tt9537346    0.0                   True    1066375.0   \n",
       "37706  tt9541602    0.0                  False    8120000.0   \n",
       "37728  tt9564774    0.0                  False    3500000.0   \n",
       "37949  tt9764654    0.0                  False   12547000.0   \n",
       "38089  tt9877340    0.0                  False     632040.0   \n",
       "\n",
       "                                                  genres  popularity  \\\n",
       "4      [{'id': 16, 'name': 'Animation'}, {'id': 10751...     108.562   \n",
       "6      [{'id': 80, 'name': 'Crime'}, {'id': 18, 'name...      21.896   \n",
       "9                         [{'id': 35, 'name': 'Comedy'}]      13.637   \n",
       "10     [{'id': 53, 'name': 'Thriller'}, {'id': 28, 'n...      31.075   \n",
       "11     [{'id': 16, 'name': 'Animation'}, {'id': 10751...      49.445   \n",
       "...                                                  ...         ...   \n",
       "37700                      [{'id': 18, 'name': 'Drama'}]       1.400   \n",
       "37706  [{'id': 28, 'name': 'Action'}, {'id': 35, 'nam...      16.561   \n",
       "37728  [{'id': 10751, 'name': 'Family'}, {'id': 35, '...       1.896   \n",
       "37949                      [{'id': 18, 'name': 'Drama'}]       4.748   \n",
       "38089                      [{'id': 18, 'name': 'Drama'}]       0.924   \n",
       "\n",
       "      release_date       revenue  runtime                         title  \\\n",
       "4       2010-11-24  5.924617e+08    100.0                       Tangled   \n",
       "6       2010-03-20  9.670000e+05     92.0                        Tekken   \n",
       "9       2010-07-30  8.638786e+07    114.0           Dinner for Schmucks   \n",
       "10      2010-06-09  1.772388e+08    117.0                    The A-Team   \n",
       "11      2010-06-16  1.066970e+09    103.0                   Toy Story 3   \n",
       "...            ...           ...      ...                           ...   \n",
       "37700   2019-07-19  4.165528e+06    140.0                 Ardaas Karaan   \n",
       "37706   2019-01-23  1.246522e+08    111.0                   Extreme Job   \n",
       "37728   2019-12-13  1.000000e+07    149.0                    Venky Mama   \n",
       "37949   2019-02-27  1.091477e+06    116.0  Race to Freedom: Um Bok-dong   \n",
       "38089   2019-11-08  4.220000e+04    134.0                 Nalpathiyonnu   \n",
       "\n",
       "       vote_average  vote_count certification  \\\n",
       "4             7.590     10223.0            PG   \n",
       "6             5.368       600.0             R   \n",
       "9             5.692      1601.0         PG-13   \n",
       "10            6.393      4206.0         PG-13   \n",
       "11            7.792     13435.0             G   \n",
       "...             ...         ...           ...   \n",
       "37700         6.000         3.0           NaN   \n",
       "37706         7.012       215.0           NaN   \n",
       "37728         4.125         8.0           NaN   \n",
       "37949         6.800        11.0           NaN   \n",
       "38089         6.500         2.0           NaN   \n",
       "\n",
       "                                             genres_list  Genre_Family  \\\n",
       "4                                    [Animation, Family]          True   \n",
       "6      [Crime, Drama, Action, Thriller, Science Fiction]         False   \n",
       "9                                               [Comedy]         False   \n",
       "10          [Thriller, Action, Adventure, Comedy, Crime]         False   \n",
       "11                           [Animation, Family, Comedy]          True   \n",
       "...                                                  ...           ...   \n",
       "37700                                            [Drama]         False   \n",
       "37706                            [Action, Comedy, Crime]         False   \n",
       "37728                    [Family, Comedy, Drama, Action]          True   \n",
       "37949                                            [Drama]         False   \n",
       "38089                                            [Drama]         False   \n",
       "\n",
       "       Genre_Animation  Genre_Science Fiction  Genre_Thriller  Genre_Mystery  \\\n",
       "4                 True                  False           False          False   \n",
       "6                False                   True            True          False   \n",
       "9                False                  False           False          False   \n",
       "10               False                  False            True          False   \n",
       "11                True                  False           False          False   \n",
       "...                ...                    ...             ...            ...   \n",
       "37700            False                  False           False          False   \n",
       "37706            False                  False           False          False   \n",
       "37728            False                  False           False          False   \n",
       "37949            False                  False           False          False   \n",
       "38089            False                  False           False          False   \n",
       "\n",
       "       Genre_Drama  Genre_Romance  Genre_Comedy  Genre_War  Genre_Crime  \\\n",
       "4            False          False         False      False        False   \n",
       "6             True          False         False      False         True   \n",
       "9            False          False          True      False        False   \n",
       "10           False          False          True      False         True   \n",
       "11           False          False          True      False        False   \n",
       "...            ...            ...           ...        ...          ...   \n",
       "37700         True          False         False      False        False   \n",
       "37706        False          False          True      False         True   \n",
       "37728         True          False          True      False        False   \n",
       "37949         True          False         False      False        False   \n",
       "38089         True          False         False      False        False   \n",
       "\n",
       "       Genre_Action  Genre_Adventure  Genre_Horror  Genre_Fantasy  \\\n",
       "4             False            False         False          False   \n",
       "6              True            False         False          False   \n",
       "9             False            False         False          False   \n",
       "10             True             True         False          False   \n",
       "11            False            False         False          False   \n",
       "...             ...              ...           ...            ...   \n",
       "37700         False            False         False          False   \n",
       "37706          True            False         False          False   \n",
       "37728          True            False         False          False   \n",
       "37949         False            False         False          False   \n",
       "38089         False            False         False          False   \n",
       "\n",
       "       Genre_History  Genre_Western  Genre_Music  Genre_Documentary  \\\n",
       "4              False          False        False              False   \n",
       "6              False          False        False              False   \n",
       "9              False          False        False              False   \n",
       "10             False          False        False              False   \n",
       "11             False          False        False              False   \n",
       "...              ...            ...          ...                ...   \n",
       "37700          False          False        False              False   \n",
       "37706          False          False        False              False   \n",
       "37728          False          False        False              False   \n",
       "37949          False          False        False              False   \n",
       "38089          False          False        False              False   \n",
       "\n",
       "       Genre_TV Movie    year  month   day  \n",
       "4               False  2010.0   11.0  24.0  \n",
       "6               False  2010.0    3.0  20.0  \n",
       "9               False  2010.0    7.0  30.0  \n",
       "10              False  2010.0    6.0   9.0  \n",
       "11              False  2010.0    6.0  16.0  \n",
       "...               ...     ...    ...   ...  \n",
       "37700           False  2019.0    7.0  19.0  \n",
       "37706           False  2019.0    1.0  23.0  \n",
       "37728           False  2019.0   12.0  13.0  \n",
       "37949           False  2019.0    2.0  27.0  \n",
       "38089           False  2019.0   11.0   8.0  \n",
       "\n",
       "[2816 rows x 36 columns]"
      ]
     },
     "execution_count": 26,
     "metadata": {},
     "output_type": "execute_result"
    }
   ],
   "source": [
    "new_cols = ['year','month','day']\n",
    "df[new_cols] = df['release_date'].str.split('-',expand=True)\n",
    "df[new_cols] = df[new_cols].astype(float)\n",
    "df"
   ]
  },
  {
   "cell_type": "code",
   "execution_count": 27,
   "id": "7cde19df",
   "metadata": {
    "ExecuteTime": {
     "end_time": "2023-05-19T01:05:14.952122Z",
     "start_time": "2023-05-19T01:05:14.937415Z"
    }
   },
   "outputs": [],
   "source": [
    "## drop original feature\n",
    "df = df.drop(columns=['release_date'])"
   ]
  },
  {
   "cell_type": "code",
   "execution_count": 28,
   "id": "0fe3ed2a",
   "metadata": {
    "ExecuteTime": {
     "end_time": "2023-05-19T01:05:14.968142Z",
     "start_time": "2023-05-19T01:05:14.955121Z"
    },
    "scrolled": true
   },
   "outputs": [
    {
     "name": "stdout",
     "output_type": "stream",
     "text": [
      "<class 'pandas.core.frame.DataFrame'>\n",
      "Int64Index: 2816 entries, 4 to 38089\n",
      "Data columns (total 35 columns):\n",
      " #   Column                 Non-Null Count  Dtype  \n",
      "---  ------                 --------------  -----  \n",
      " 0   imdb_id                2816 non-null   object \n",
      " 1   adult                  2816 non-null   float64\n",
      " 2   belongs_to_collection  2816 non-null   bool   \n",
      " 3   budget                 2816 non-null   float64\n",
      " 4   genres                 2816 non-null   object \n",
      " 5   popularity             2816 non-null   float64\n",
      " 6   revenue                2816 non-null   float64\n",
      " 7   runtime                2816 non-null   float64\n",
      " 8   title                  2816 non-null   object \n",
      " 9   vote_average           2816 non-null   float64\n",
      " 10  vote_count             2816 non-null   float64\n",
      " 11  certification          2018 non-null   object \n",
      " 12  genres_list            2816 non-null   object \n",
      " 13  Genre_Family           2816 non-null   bool   \n",
      " 14  Genre_Animation        2816 non-null   bool   \n",
      " 15  Genre_Science Fiction  2816 non-null   bool   \n",
      " 16  Genre_Thriller         2816 non-null   bool   \n",
      " 17  Genre_Mystery          2816 non-null   bool   \n",
      " 18  Genre_Drama            2816 non-null   bool   \n",
      " 19  Genre_Romance          2816 non-null   bool   \n",
      " 20  Genre_Comedy           2816 non-null   bool   \n",
      " 21  Genre_War              2816 non-null   bool   \n",
      " 22  Genre_Crime            2816 non-null   bool   \n",
      " 23  Genre_Action           2816 non-null   bool   \n",
      " 24  Genre_Adventure        2816 non-null   bool   \n",
      " 25  Genre_Horror           2816 non-null   bool   \n",
      " 26  Genre_Fantasy          2816 non-null   bool   \n",
      " 27  Genre_History          2816 non-null   bool   \n",
      " 28  Genre_Western          2816 non-null   bool   \n",
      " 29  Genre_Music            2816 non-null   bool   \n",
      " 30  Genre_Documentary      2816 non-null   bool   \n",
      " 31  Genre_TV Movie         2816 non-null   bool   \n",
      " 32  year                   2809 non-null   float64\n",
      " 33  month                  2809 non-null   float64\n",
      " 34  day                    2809 non-null   float64\n",
      "dtypes: bool(20), float64(10), object(5)\n",
      "memory usage: 407.0+ KB\n"
     ]
    }
   ],
   "source": [
    "df.info()"
   ]
  },
  {
   "cell_type": "markdown",
   "id": "1abd81aa",
   "metadata": {},
   "source": [
    "# Hypothesis Testing"
   ]
  },
  {
   "cell_type": "markdown",
   "id": "b536287c",
   "metadata": {},
   "source": [
    "# Q1: Does the MPAA rating of a movie (G/PG/PG-13/R) affect how much revenue the movie generates?\n",
    " - Null Hypothesis:There is no difference in how much revenue a movie generates between movies with different MPAA ratings. \n",
    " - Alternative Hypothesis: There is a significant difference on how much revenue a movie makes based on their MPAA ratings. "
   ]
  },
  {
   "cell_type": "code",
   "execution_count": 29,
   "id": "f8c15dc4",
   "metadata": {
    "ExecuteTime": {
     "end_time": "2023-05-19T01:05:14.983666Z",
     "start_time": "2023-05-19T01:05:14.969142Z"
    }
   },
   "outputs": [
    {
     "data": {
      "text/plain": [
       "R        880\n",
       "NaN      798\n",
       "PG-13    723\n",
       "PG       282\n",
       "NR        95\n",
       "G         30\n",
       "NC-17      8\n",
       "Name: certification, dtype: int64"
      ]
     },
     "execution_count": 29,
     "metadata": {},
     "output_type": "execute_result"
    }
   ],
   "source": [
    "df['certification'].value_counts(dropna=False)"
   ]
  },
  {
   "cell_type": "code",
   "execution_count": 30,
   "id": "9f618e2f",
   "metadata": {
    "ExecuteTime": {
     "end_time": "2023-05-19T01:05:14.999681Z",
     "start_time": "2023-05-19T01:05:14.984667Z"
    }
   },
   "outputs": [],
   "source": [
    "# Create dataframe for testing\n",
    "df_ratings = df.copy()"
   ]
  },
  {
   "cell_type": "code",
   "execution_count": 31,
   "id": "bdcf3b8e",
   "metadata": {
    "ExecuteTime": {
     "end_time": "2023-05-19T01:05:15.015101Z",
     "start_time": "2023-05-19T01:05:15.000683Z"
    }
   },
   "outputs": [],
   "source": [
    "df_ratings[['certification']] = df_ratings[['certification']].fillna(\"NaN\")"
   ]
  },
  {
   "cell_type": "code",
   "execution_count": 32,
   "id": "1a28b685",
   "metadata": {
    "ExecuteTime": {
     "end_time": "2023-05-19T01:05:15.030745Z",
     "start_time": "2023-05-19T01:05:15.016102Z"
    }
   },
   "outputs": [
    {
     "data": {
      "text/plain": [
       "R        880\n",
       "NaN      798\n",
       "PG-13    723\n",
       "PG       282\n",
       "NR        95\n",
       "G         30\n",
       "NC-17      8\n",
       "Name: certification, dtype: int64"
      ]
     },
     "execution_count": 32,
     "metadata": {},
     "output_type": "execute_result"
    }
   ],
   "source": [
    "df_ratings['certification'].value_counts()"
   ]
  },
  {
   "cell_type": "code",
   "execution_count": 33,
   "id": "bdc93cc2",
   "metadata": {
    "ExecuteTime": {
     "end_time": "2023-05-19T01:05:15.046253Z",
     "start_time": "2023-05-19T01:05:15.031746Z"
    }
   },
   "outputs": [
    {
     "data": {
      "text/plain": [
       "count    2.816000e+03\n",
       "mean     9.915676e+07\n",
       "std      2.103157e+08\n",
       "min      1.000000e+00\n",
       "25%      2.611617e+06\n",
       "50%      1.981988e+07\n",
       "75%      9.130627e+07\n",
       "max      2.794732e+09\n",
       "Name: revenue, dtype: float64"
      ]
     },
     "execution_count": 33,
     "metadata": {},
     "output_type": "execute_result"
    }
   ],
   "source": [
    "df_ratings['revenue'].describe()"
   ]
  },
  {
   "cell_type": "code",
   "execution_count": 34,
   "id": "30d683a1",
   "metadata": {
    "ExecuteTime": {
     "end_time": "2023-05-19T01:05:15.062059Z",
     "start_time": "2023-05-19T01:05:15.047254Z"
    }
   },
   "outputs": [
    {
     "data": {
      "text/plain": [
       "dict_keys(['PG', 'R', 'PG-13', 'G', 'NaN', 'NR', 'NC-17'])"
      ]
     },
     "execution_count": 34,
     "metadata": {},
     "output_type": "execute_result"
    }
   ],
   "source": [
    "rating_groups = {}\n",
    "\n",
    "for i in df_ratings['certification'].unique():\n",
    "    data = df_ratings.loc[df_ratings['certification']==i, 'revenue'].copy()\n",
    "    rating_groups[i] = data\n",
    "\n",
    "rating_groups.keys()"
   ]
  },
  {
   "cell_type": "markdown",
   "id": "479619fe",
   "metadata": {},
   "source": [
    "Testing Normality Assumption"
   ]
  },
  {
   "cell_type": "code",
   "execution_count": 35,
   "id": "5f25b58e",
   "metadata": {
    "ExecuteTime": {
     "end_time": "2023-05-19T01:05:15.078077Z",
     "start_time": "2023-05-19T01:05:15.063060Z"
    }
   },
   "outputs": [
    {
     "name": "stderr",
     "output_type": "stream",
     "text": [
      "C:\\Users\\Joene\\anaconda3\\envs\\dojo-env\\lib\\site-packages\\scipy\\stats\\_stats_py.py:1772: UserWarning: kurtosistest only valid for n>=20 ... continuing anyway, n=8\n",
      "  warnings.warn(\"kurtosistest only valid for n>=20 ... continuing \"\n"
     ]
    },
    {
     "data": {
      "text/html": [
       "<div>\n",
       "<style scoped>\n",
       "    .dataframe tbody tr th:only-of-type {\n",
       "        vertical-align: middle;\n",
       "    }\n",
       "\n",
       "    .dataframe tbody tr th {\n",
       "        vertical-align: top;\n",
       "    }\n",
       "\n",
       "    .dataframe thead th {\n",
       "        text-align: right;\n",
       "    }\n",
       "</style>\n",
       "<table border=\"1\" class=\"dataframe\">\n",
       "  <thead>\n",
       "    <tr style=\"text-align: right;\">\n",
       "      <th></th>\n",
       "      <th>n</th>\n",
       "      <th>p</th>\n",
       "      <th>test stat</th>\n",
       "    </tr>\n",
       "  </thead>\n",
       "  <tbody>\n",
       "    <tr>\n",
       "      <th>PG</th>\n",
       "      <td>282.0</td>\n",
       "      <td>1.139999e-30</td>\n",
       "      <td>137.893051</td>\n",
       "    </tr>\n",
       "    <tr>\n",
       "      <th>R</th>\n",
       "      <td>880.0</td>\n",
       "      <td>9.417949e-159</td>\n",
       "      <td>727.736825</td>\n",
       "    </tr>\n",
       "    <tr>\n",
       "      <th>PG-13</th>\n",
       "      <td>723.0</td>\n",
       "      <td>6.656295e-115</td>\n",
       "      <td>525.803445</td>\n",
       "    </tr>\n",
       "    <tr>\n",
       "      <th>G</th>\n",
       "      <td>30.0</td>\n",
       "      <td>2.481816e-04</td>\n",
       "      <td>16.602700</td>\n",
       "    </tr>\n",
       "    <tr>\n",
       "      <th>NaN</th>\n",
       "      <td>798.0</td>\n",
       "      <td>5.017163e-283</td>\n",
       "      <td>1300.037433</td>\n",
       "    </tr>\n",
       "    <tr>\n",
       "      <th>NR</th>\n",
       "      <td>95.0</td>\n",
       "      <td>1.666196e-27</td>\n",
       "      <td>123.318508</td>\n",
       "    </tr>\n",
       "    <tr>\n",
       "      <th>NC-17</th>\n",
       "      <td>8.0</td>\n",
       "      <td>2.749078e-01</td>\n",
       "      <td>2.582639</td>\n",
       "    </tr>\n",
       "  </tbody>\n",
       "</table>\n",
       "</div>"
      ],
      "text/plain": [
       "           n              p    test stat\n",
       "PG     282.0   1.139999e-30   137.893051\n",
       "R      880.0  9.417949e-159   727.736825\n",
       "PG-13  723.0  6.656295e-115   525.803445\n",
       "G       30.0   2.481816e-04    16.602700\n",
       "NaN    798.0  5.017163e-283  1300.037433\n",
       "NR      95.0   1.666196e-27   123.318508\n",
       "NC-17    8.0   2.749078e-01     2.582639"
      ]
     },
     "execution_count": 35,
     "metadata": {},
     "output_type": "execute_result"
    }
   ],
   "source": [
    "## Running normal test on each group and confirming there are >20 in each group\n",
    "norm_results = {}\n",
    "for i, data in rating_groups.items():\n",
    "    stat, p = stats.normaltest(data)\n",
    "    ## save the p val, test statistic, and the size of the group\n",
    "    norm_results[i] = {'n': len(data),\n",
    "                             'p':p,\n",
    "                             'test stat':stat,}\n",
    "## convert to a dataframe\n",
    "norm_results_df = pd.DataFrame(norm_results).T\n",
    "norm_results_df"
   ]
  },
  {
   "cell_type": "code",
   "execution_count": 36,
   "id": "9a5f9025",
   "metadata": {
    "ExecuteTime": {
     "end_time": "2023-05-19T01:05:15.093583Z",
     "start_time": "2023-05-19T01:05:15.079077Z"
    },
    "scrolled": true
   },
   "outputs": [
    {
     "data": {
      "text/html": [
       "<div>\n",
       "<style scoped>\n",
       "    .dataframe tbody tr th:only-of-type {\n",
       "        vertical-align: middle;\n",
       "    }\n",
       "\n",
       "    .dataframe tbody tr th {\n",
       "        vertical-align: top;\n",
       "    }\n",
       "\n",
       "    .dataframe thead th {\n",
       "        text-align: right;\n",
       "    }\n",
       "</style>\n",
       "<table border=\"1\" class=\"dataframe\">\n",
       "  <thead>\n",
       "    <tr style=\"text-align: right;\">\n",
       "      <th></th>\n",
       "      <th>n</th>\n",
       "      <th>p</th>\n",
       "      <th>test stat</th>\n",
       "      <th>sig</th>\n",
       "    </tr>\n",
       "  </thead>\n",
       "  <tbody>\n",
       "    <tr>\n",
       "      <th>PG</th>\n",
       "      <td>282.0</td>\n",
       "      <td>1.139999e-30</td>\n",
       "      <td>137.893051</td>\n",
       "      <td>True</td>\n",
       "    </tr>\n",
       "    <tr>\n",
       "      <th>R</th>\n",
       "      <td>880.0</td>\n",
       "      <td>9.417949e-159</td>\n",
       "      <td>727.736825</td>\n",
       "      <td>True</td>\n",
       "    </tr>\n",
       "    <tr>\n",
       "      <th>PG-13</th>\n",
       "      <td>723.0</td>\n",
       "      <td>6.656295e-115</td>\n",
       "      <td>525.803445</td>\n",
       "      <td>True</td>\n",
       "    </tr>\n",
       "    <tr>\n",
       "      <th>G</th>\n",
       "      <td>30.0</td>\n",
       "      <td>2.481816e-04</td>\n",
       "      <td>16.602700</td>\n",
       "      <td>True</td>\n",
       "    </tr>\n",
       "    <tr>\n",
       "      <th>NaN</th>\n",
       "      <td>798.0</td>\n",
       "      <td>5.017163e-283</td>\n",
       "      <td>1300.037433</td>\n",
       "      <td>True</td>\n",
       "    </tr>\n",
       "    <tr>\n",
       "      <th>NR</th>\n",
       "      <td>95.0</td>\n",
       "      <td>1.666196e-27</td>\n",
       "      <td>123.318508</td>\n",
       "      <td>True</td>\n",
       "    </tr>\n",
       "    <tr>\n",
       "      <th>NC-17</th>\n",
       "      <td>8.0</td>\n",
       "      <td>2.749078e-01</td>\n",
       "      <td>2.582639</td>\n",
       "      <td>False</td>\n",
       "    </tr>\n",
       "  </tbody>\n",
       "</table>\n",
       "</div>"
      ],
      "text/plain": [
       "           n              p    test stat    sig\n",
       "PG     282.0   1.139999e-30   137.893051   True\n",
       "R      880.0  9.417949e-159   727.736825   True\n",
       "PG-13  723.0  6.656295e-115   525.803445   True\n",
       "G       30.0   2.481816e-04    16.602700   True\n",
       "NaN    798.0  5.017163e-283  1300.037433   True\n",
       "NR      95.0   1.666196e-27   123.318508   True\n",
       "NC-17    8.0   2.749078e-01     2.582639  False"
      ]
     },
     "execution_count": 36,
     "metadata": {},
     "output_type": "execute_result"
    }
   ],
   "source": [
    "### checking sig with pandas \n",
    "norm_results_df['sig'] = norm_results_df['p'] < .05 \n",
    "norm_results_df"
   ]
  },
  {
   "cell_type": "markdown",
   "id": "c1130889",
   "metadata": {},
   "source": [
    "* We can confirm that each rating has a normal distribution. "
   ]
  },
  {
   "cell_type": "markdown",
   "id": "59e6ea7b",
   "metadata": {},
   "source": [
    "Testing Equal Variance Assumption"
   ]
  },
  {
   "cell_type": "code",
   "execution_count": 37,
   "id": "43ef4b05",
   "metadata": {
    "ExecuteTime": {
     "end_time": "2023-05-19T01:05:15.109123Z",
     "start_time": "2023-05-19T01:05:15.094584Z"
    }
   },
   "outputs": [
    {
     "data": {
      "text/plain": [
       "LeveneResult(statistic=59.34966872304468, pvalue=1.9921734799399395e-69)"
      ]
     },
     "execution_count": 37,
     "metadata": {},
     "output_type": "execute_result"
    }
   ],
   "source": [
    "# with the * operator \n",
    "stats.levene(*rating_groups.values())"
   ]
  },
  {
   "cell_type": "markdown",
   "id": "cc04fafb",
   "metadata": {},
   "source": [
    "* pvalue is < 0.05, the groups do not have equal variances, we need to use \"stats.kruskal\""
   ]
  },
  {
   "cell_type": "code",
   "execution_count": 38,
   "id": "575824d1",
   "metadata": {
    "ExecuteTime": {
     "end_time": "2023-05-19T01:05:15.124633Z",
     "start_time": "2023-05-19T01:05:15.110127Z"
    }
   },
   "outputs": [
    {
     "data": {
      "text/plain": [
       "KruskalResult(statistic=699.7106733063653, pvalue=7.062972785426472e-148)"
      ]
     },
     "execution_count": 38,
     "metadata": {},
     "output_type": "execute_result"
    }
   ],
   "source": [
    "# perform the correct hypothesis test\n",
    "# note again the use of the * operator for convenience\n",
    "result = stats.kruskal( *rating_groups.values())\n",
    "result"
   ]
  },
  {
   "cell_type": "markdown",
   "id": "b8f9f986",
   "metadata": {},
   "source": [
    "* pvalue is less than 0.05, we will reject our null hypothesis. "
   ]
  },
  {
   "cell_type": "code",
   "execution_count": 39,
   "id": "b21ae530",
   "metadata": {
    "ExecuteTime": {
     "end_time": "2023-05-19T01:05:15.140220Z",
     "start_time": "2023-05-19T01:05:15.125634Z"
    }
   },
   "outputs": [],
   "source": [
    "from statsmodels.stats.multicomp import pairwise_tukeyhsd\n",
    "## save the values as kg_lost and the labels to the Diet\n",
    "values = df_ratings['revenue']\n",
    "labels = df_ratings['certification']"
   ]
  },
  {
   "cell_type": "code",
   "execution_count": 40,
   "id": "38fea9aa",
   "metadata": {
    "ExecuteTime": {
     "end_time": "2023-05-19T01:05:15.530752Z",
     "start_time": "2023-05-19T01:05:15.141219Z"
    }
   },
   "outputs": [
    {
     "data": {
      "text/html": [
       "<table class=\"simpletable\">\n",
       "<caption>Multiple Comparison of Means - Tukey HSD, FWER=0.05</caption>\n",
       "<tr>\n",
       "  <th>group1</th> <th>group2</th>    <th>meandiff</th>      <th>p-adj</th>      <th>lower</th>           <th>upper</th>      <th>reject</th>\n",
       "</tr>\n",
       "<tr>\n",
       "     <td>G</td>    <td>NC-17</td> <td>-204693095.275</td>  <td>0.1205</td> <td>-435284693.0636</td>  <td>25898502.5136</td>   <td>False</td>\n",
       "</tr>\n",
       "<tr>\n",
       "     <td>G</td>     <td>NR</td>    <td>-176124452.7</td>   <td>0.0004</td> <td>-297488451.5361</td> <td>-54760453.8639</td>   <td>True</td> \n",
       "</tr>\n",
       "<tr>\n",
       "     <td>G</td>     <td>NaN</td>  <td>-185234140.415</td>    <td>0.0</td>  <td>-293007245.7127</td> <td>-77461035.1174</td>   <td>True</td> \n",
       "</tr>\n",
       "<tr>\n",
       "     <td>G</td>     <td>PG</td>    <td>6512836.2418</td>     <td>1.0</td>  <td>-104775440.2562</td> <td>117801112.7399</td>   <td>False</td>\n",
       "</tr>\n",
       "<tr>\n",
       "     <td>G</td>    <td>PG-13</td> <td>-19948025.3675</td>  <td>0.9981</td> <td>-127923473.0132</td>  <td>88027422.2783</td>   <td>False</td>\n",
       "</tr>\n",
       "<tr>\n",
       "     <td>G</td>      <td>R</td>   <td>-145293973.7432</td> <td>0.0014</td> <td>-252884995.9885</td> <td>-37702951.4979</td>   <td>True</td> \n",
       "</tr>\n",
       "<tr>\n",
       "   <td>NC-17</td>   <td>NR</td>    <td>28568642.575</td>   <td>0.9997</td> <td>-184769798.5454</td> <td>241907083.6954</td>   <td>False</td>\n",
       "</tr>\n",
       "<tr>\n",
       "   <td>NC-17</td>   <td>NaN</td>    <td>19458954.86</td>     <td>1.0</td>  <td>-186451492.8393</td> <td>225369402.5592</td>   <td>False</td>\n",
       "</tr>\n",
       "<tr>\n",
       "   <td>NC-17</td>   <td>PG</td>   <td>211205931.5168</td>  <td>0.0434</td>  <td>3434059.6667</td>    <td>418977803.367</td>   <td>True</td> \n",
       "</tr>\n",
       "<tr>\n",
       "   <td>NC-17</td>  <td>PG-13</td> <td>184745069.9075</td>  <td>0.1129</td> <td>-21271355.5068</td>  <td>390761495.3219</td>   <td>False</td>\n",
       "</tr>\n",
       "<tr>\n",
       "   <td>NC-17</td>    <td>R</td>    <td>59399121.5318</td>  <td>0.9793</td> <td>-146416082.751</td>  <td>265214325.8147</td>   <td>False</td>\n",
       "</tr>\n",
       "<tr>\n",
       "    <td>NR</td>     <td>NaN</td>   <td>-9109687.715</td>   <td>0.9995</td>  <td>-72005217.878</td>   <td>53785842.4479</td>   <td>False</td>\n",
       "</tr>\n",
       "<tr>\n",
       "    <td>NR</td>     <td>PG</td>   <td>182637288.9418</td>    <td>0.0</td>  <td>113892209.3006</td>  <td>251382368.5831</td>   <td>True</td> \n",
       "</tr>\n",
       "<tr>\n",
       "    <td>NR</td>    <td>PG-13</td> <td>156176427.3325</td>    <td>0.0</td>   <td>92934805.0946</td>  <td>219418049.5704</td>   <td>True</td> \n",
       "</tr>\n",
       "<tr>\n",
       "    <td>NR</td>      <td>R</td>    <td>30830478.9568</td>  <td>0.7723</td> <td>-31752534.3676</td>   <td>93413492.2813</td>   <td>False</td>\n",
       "</tr>\n",
       "<tr>\n",
       "    <td>NaN</td>    <td>PG</td>   <td>191746976.6569</td>    <td>0.0</td>  <td>151600893.5741</td>  <td>231893059.7396</td>   <td>True</td> \n",
       "</tr>\n",
       "<tr>\n",
       "    <td>NaN</td>   <td>PG-13</td> <td>165286115.0475</td>    <td>0.0</td>   <td>135531707.05</td>   <td>195040523.0451</td>   <td>True</td> \n",
       "</tr>\n",
       "<tr>\n",
       "    <td>NaN</td>     <td>R</td>    <td>39940166.6719</td>  <td>0.0006</td>  <td>11612519.9504</td>   <td>68267813.3933</td>   <td>True</td> \n",
       "</tr>\n",
       "<tr>\n",
       "    <td>PG</td>    <td>PG-13</td> <td>-26460861.6093</td>  <td>0.4678</td> <td>-67147014.7291</td>   <td>14225291.5105</td>   <td>False</td>\n",
       "</tr>\n",
       "<tr>\n",
       "    <td>PG</td>      <td>R</td>   <td>-151806809.985</td>    <td>0.0</td>  <td>-191461492.2959</td> <td>-112152127.6742</td>  <td>True</td> \n",
       "</tr>\n",
       "<tr>\n",
       "   <td>PG-13</td>    <td>R</td>   <td>-125345948.3757</td>   <td>0.0</td>  <td>-154433929.3571</td> <td>-96257967.3943</td>   <td>True</td> \n",
       "</tr>\n",
       "</table>"
      ],
      "text/plain": [
       "<class 'statsmodels.iolib.table.SimpleTable'>"
      ]
     },
     "execution_count": 40,
     "metadata": {},
     "output_type": "execute_result"
    }
   ],
   "source": [
    "## perform tukey's multiple comparison test and display the summary\n",
    "tukeys_results = pairwise_tukeyhsd(values,labels)\n",
    "tukeys_results.summary()"
   ]
  },
  {
   "cell_type": "code",
   "execution_count": 41,
   "id": "4b06285e",
   "metadata": {
    "ExecuteTime": {
     "end_time": "2023-05-19T01:05:15.745167Z",
     "start_time": "2023-05-19T01:05:15.532021Z"
    },
    "scrolled": true
   },
   "outputs": [
    {
     "data": {
      "text/plain": [
       "Text(0.5, 1.0, 'Revenue by MPAA Rating')"
      ]
     },
     "execution_count": 41,
     "metadata": {},
     "output_type": "execute_result"
    },
    {
     "data": {
      "image/png": "[encoded data removed]",
      "text/plain": [
       "<Figure size 640x480 with 1 Axes>"
      ]
     },
     "metadata": {},
     "output_type": "display_data"
    }
   ],
   "source": [
    "ax = sns.barplot(data=df_ratings, x='certification',y='revenue')\n",
    "ax.set_title('Revenue by MPAA Rating')"
   ]
  },
  {
   "cell_type": "markdown",
   "id": "3d6cb2bb",
   "metadata": {},
   "source": [
    "# Conclusion\n",
    " - From our pvalue in our Kruskal test, we see that it is less than our alpha (0.05), we can therefore reject our null hypothesis. From our visual above and the table above, we can see that there are significant differences in revenue between our ratings. We see that G, PG-13 and PG movies make amoung the most in revenue. The table also shows that amoung the rating, there are mostly differences between the ratings in terms of revenue generated. "
   ]
  },
  {
   "cell_type": "markdown",
   "id": "3d4f6e59",
   "metadata": {},
   "source": [
    "# Q2: Do movies that are over 2.5 hours long earn more revenue than movies that are 1.5 hours long (or less)?\n",
    " - Null Hypothesis: There is no difference in revenue between movies that are over 2.5 hours and movies that are 1.5 hour or less. \n",
    " - Alternative Hypothesis: Movies that are over 2.5 hours long make significantly more revenue than movies that are 1.5 hours or less."
   ]
  },
  {
   "cell_type": "code",
   "execution_count": 42,
   "id": "496fe778",
   "metadata": {
    "ExecuteTime": {
     "end_time": "2023-05-19T01:05:15.775460Z",
     "start_time": "2023-05-19T01:05:15.746169Z"
    }
   },
   "outputs": [
    {
     "data": {
      "text/html": [
       "<div>\n",
       "<style scoped>\n",
       "    .dataframe tbody tr th:only-of-type {\n",
       "        vertical-align: middle;\n",
       "    }\n",
       "\n",
       "    .dataframe tbody tr th {\n",
       "        vertical-align: top;\n",
       "    }\n",
       "\n",
       "    .dataframe thead th {\n",
       "        text-align: right;\n",
       "    }\n",
       "</style>\n",
       "<table border=\"1\" class=\"dataframe\">\n",
       "  <thead>\n",
       "    <tr style=\"text-align: right;\">\n",
       "      <th></th>\n",
       "      <th>imdb_id</th>\n",
       "      <th>adult</th>\n",
       "      <th>belongs_to_collection</th>\n",
       "      <th>budget</th>\n",
       "      <th>genres</th>\n",
       "      <th>popularity</th>\n",
       "      <th>revenue</th>\n",
       "      <th>runtime</th>\n",
       "      <th>title</th>\n",
       "      <th>vote_average</th>\n",
       "      <th>vote_count</th>\n",
       "      <th>certification</th>\n",
       "      <th>genres_list</th>\n",
       "      <th>Genre_Family</th>\n",
       "      <th>Genre_Animation</th>\n",
       "      <th>Genre_Science Fiction</th>\n",
       "      <th>Genre_Thriller</th>\n",
       "      <th>Genre_Mystery</th>\n",
       "      <th>Genre_Drama</th>\n",
       "      <th>Genre_Romance</th>\n",
       "      <th>Genre_Comedy</th>\n",
       "      <th>Genre_War</th>\n",
       "      <th>Genre_Crime</th>\n",
       "      <th>Genre_Action</th>\n",
       "      <th>Genre_Adventure</th>\n",
       "      <th>Genre_Horror</th>\n",
       "      <th>Genre_Fantasy</th>\n",
       "      <th>Genre_History</th>\n",
       "      <th>Genre_Western</th>\n",
       "      <th>Genre_Music</th>\n",
       "      <th>Genre_Documentary</th>\n",
       "      <th>Genre_TV Movie</th>\n",
       "      <th>year</th>\n",
       "      <th>month</th>\n",
       "      <th>day</th>\n",
       "    </tr>\n",
       "  </thead>\n",
       "  <tbody>\n",
       "    <tr>\n",
       "      <th>4</th>\n",
       "      <td>tt0398286</td>\n",
       "      <td>0.0</td>\n",
       "      <td>False</td>\n",
       "      <td>260000000.0</td>\n",
       "      <td>[{'id': 16, 'name': 'Animation'}, {'id': 10751...</td>\n",
       "      <td>108.562</td>\n",
       "      <td>5.924617e+08</td>\n",
       "      <td>100.0</td>\n",
       "      <td>Tangled</td>\n",
       "      <td>7.590</td>\n",
       "      <td>10223.0</td>\n",
       "      <td>PG</td>\n",
       "      <td>[Animation, Family]</td>\n",
       "      <td>True</td>\n",
       "      <td>True</td>\n",
       "      <td>False</td>\n",
       "      <td>False</td>\n",
       "      <td>False</td>\n",
       "      <td>False</td>\n",
       "      <td>False</td>\n",
       "      <td>False</td>\n",
       "      <td>False</td>\n",
       "      <td>False</td>\n",
       "      <td>False</td>\n",
       "      <td>False</td>\n",
       "      <td>False</td>\n",
       "      <td>False</td>\n",
       "      <td>False</td>\n",
       "      <td>False</td>\n",
       "      <td>False</td>\n",
       "      <td>False</td>\n",
       "      <td>False</td>\n",
       "      <td>2010.0</td>\n",
       "      <td>11.0</td>\n",
       "      <td>24.0</td>\n",
       "    </tr>\n",
       "    <tr>\n",
       "      <th>6</th>\n",
       "      <td>tt0411951</td>\n",
       "      <td>0.0</td>\n",
       "      <td>True</td>\n",
       "      <td>30000000.0</td>\n",
       "      <td>[{'id': 80, 'name': 'Crime'}, {'id': 18, 'name...</td>\n",
       "      <td>21.896</td>\n",
       "      <td>9.670000e+05</td>\n",
       "      <td>92.0</td>\n",
       "      <td>Tekken</td>\n",
       "      <td>5.368</td>\n",
       "      <td>600.0</td>\n",
       "      <td>R</td>\n",
       "      <td>[Crime, Drama, Action, Thriller, Science Fiction]</td>\n",
       "      <td>False</td>\n",
       "      <td>False</td>\n",
       "      <td>True</td>\n",
       "      <td>True</td>\n",
       "      <td>False</td>\n",
       "      <td>True</td>\n",
       "      <td>False</td>\n",
       "      <td>False</td>\n",
       "      <td>False</td>\n",
       "      <td>True</td>\n",
       "      <td>True</td>\n",
       "      <td>False</td>\n",
       "      <td>False</td>\n",
       "      <td>False</td>\n",
       "      <td>False</td>\n",
       "      <td>False</td>\n",
       "      <td>False</td>\n",
       "      <td>False</td>\n",
       "      <td>False</td>\n",
       "      <td>2010.0</td>\n",
       "      <td>3.0</td>\n",
       "      <td>20.0</td>\n",
       "    </tr>\n",
       "    <tr>\n",
       "      <th>9</th>\n",
       "      <td>tt0427152</td>\n",
       "      <td>0.0</td>\n",
       "      <td>False</td>\n",
       "      <td>69000000.0</td>\n",
       "      <td>[{'id': 35, 'name': 'Comedy'}]</td>\n",
       "      <td>13.637</td>\n",
       "      <td>8.638786e+07</td>\n",
       "      <td>114.0</td>\n",
       "      <td>Dinner for Schmucks</td>\n",
       "      <td>5.692</td>\n",
       "      <td>1601.0</td>\n",
       "      <td>PG-13</td>\n",
       "      <td>[Comedy]</td>\n",
       "      <td>False</td>\n",
       "      <td>False</td>\n",
       "      <td>False</td>\n",
       "      <td>False</td>\n",
       "      <td>False</td>\n",
       "      <td>False</td>\n",
       "      <td>False</td>\n",
       "      <td>True</td>\n",
       "      <td>False</td>\n",
       "      <td>False</td>\n",
       "      <td>False</td>\n",
       "      <td>False</td>\n",
       "      <td>False</td>\n",
       "      <td>False</td>\n",
       "      <td>False</td>\n",
       "      <td>False</td>\n",
       "      <td>False</td>\n",
       "      <td>False</td>\n",
       "      <td>False</td>\n",
       "      <td>2010.0</td>\n",
       "      <td>7.0</td>\n",
       "      <td>30.0</td>\n",
       "    </tr>\n",
       "    <tr>\n",
       "      <th>10</th>\n",
       "      <td>tt0429493</td>\n",
       "      <td>0.0</td>\n",
       "      <td>False</td>\n",
       "      <td>110000000.0</td>\n",
       "      <td>[{'id': 53, 'name': 'Thriller'}, {'id': 28, 'n...</td>\n",
       "      <td>31.075</td>\n",
       "      <td>1.772388e+08</td>\n",
       "      <td>117.0</td>\n",
       "      <td>The A-Team</td>\n",
       "      <td>6.393</td>\n",
       "      <td>4206.0</td>\n",
       "      <td>PG-13</td>\n",
       "      <td>[Thriller, Action, Adventure, Comedy, Crime]</td>\n",
       "      <td>False</td>\n",
       "      <td>False</td>\n",
       "      <td>False</td>\n",
       "      <td>True</td>\n",
       "      <td>False</td>\n",
       "      <td>False</td>\n",
       "      <td>False</td>\n",
       "      <td>True</td>\n",
       "      <td>False</td>\n",
       "      <td>True</td>\n",
       "      <td>True</td>\n",
       "      <td>True</td>\n",
       "      <td>False</td>\n",
       "      <td>False</td>\n",
       "      <td>False</td>\n",
       "      <td>False</td>\n",
       "      <td>False</td>\n",
       "      <td>False</td>\n",
       "      <td>False</td>\n",
       "      <td>2010.0</td>\n",
       "      <td>6.0</td>\n",
       "      <td>9.0</td>\n",
       "    </tr>\n",
       "    <tr>\n",
       "      <th>11</th>\n",
       "      <td>tt0435761</td>\n",
       "      <td>0.0</td>\n",
       "      <td>True</td>\n",
       "      <td>200000000.0</td>\n",
       "      <td>[{'id': 16, 'name': 'Animation'}, {'id': 10751...</td>\n",
       "      <td>49.445</td>\n",
       "      <td>1.066970e+09</td>\n",
       "      <td>103.0</td>\n",
       "      <td>Toy Story 3</td>\n",
       "      <td>7.792</td>\n",
       "      <td>13435.0</td>\n",
       "      <td>G</td>\n",
       "      <td>[Animation, Family, Comedy]</td>\n",
       "      <td>True</td>\n",
       "      <td>True</td>\n",
       "      <td>False</td>\n",
       "      <td>False</td>\n",
       "      <td>False</td>\n",
       "      <td>False</td>\n",
       "      <td>False</td>\n",
       "      <td>True</td>\n",
       "      <td>False</td>\n",
       "      <td>False</td>\n",
       "      <td>False</td>\n",
       "      <td>False</td>\n",
       "      <td>False</td>\n",
       "      <td>False</td>\n",
       "      <td>False</td>\n",
       "      <td>False</td>\n",
       "      <td>False</td>\n",
       "      <td>False</td>\n",
       "      <td>False</td>\n",
       "      <td>2010.0</td>\n",
       "      <td>6.0</td>\n",
       "      <td>16.0</td>\n",
       "    </tr>\n",
       "  </tbody>\n",
       "</table>\n",
       "</div>"
      ],
      "text/plain": [
       "      imdb_id  adult  belongs_to_collection       budget  \\\n",
       "4   tt0398286    0.0                  False  260000000.0   \n",
       "6   tt0411951    0.0                   True   30000000.0   \n",
       "9   tt0427152    0.0                  False   69000000.0   \n",
       "10  tt0429493    0.0                  False  110000000.0   \n",
       "11  tt0435761    0.0                   True  200000000.0   \n",
       "\n",
       "                                               genres  popularity  \\\n",
       "4   [{'id': 16, 'name': 'Animation'}, {'id': 10751...     108.562   \n",
       "6   [{'id': 80, 'name': 'Crime'}, {'id': 18, 'name...      21.896   \n",
       "9                      [{'id': 35, 'name': 'Comedy'}]      13.637   \n",
       "10  [{'id': 53, 'name': 'Thriller'}, {'id': 28, 'n...      31.075   \n",
       "11  [{'id': 16, 'name': 'Animation'}, {'id': 10751...      49.445   \n",
       "\n",
       "         revenue  runtime                title  vote_average  vote_count  \\\n",
       "4   5.924617e+08    100.0              Tangled         7.590     10223.0   \n",
       "6   9.670000e+05     92.0               Tekken         5.368       600.0   \n",
       "9   8.638786e+07    114.0  Dinner for Schmucks         5.692      1601.0   \n",
       "10  1.772388e+08    117.0           The A-Team         6.393      4206.0   \n",
       "11  1.066970e+09    103.0          Toy Story 3         7.792     13435.0   \n",
       "\n",
       "   certification                                        genres_list  \\\n",
       "4             PG                                [Animation, Family]   \n",
       "6              R  [Crime, Drama, Action, Thriller, Science Fiction]   \n",
       "9          PG-13                                           [Comedy]   \n",
       "10         PG-13       [Thriller, Action, Adventure, Comedy, Crime]   \n",
       "11             G                        [Animation, Family, Comedy]   \n",
       "\n",
       "    Genre_Family  Genre_Animation  Genre_Science Fiction  Genre_Thriller  \\\n",
       "4           True             True                  False           False   \n",
       "6          False            False                   True            True   \n",
       "9          False            False                  False           False   \n",
       "10         False            False                  False            True   \n",
       "11          True             True                  False           False   \n",
       "\n",
       "    Genre_Mystery  Genre_Drama  Genre_Romance  Genre_Comedy  Genre_War  \\\n",
       "4           False        False          False         False      False   \n",
       "6           False         True          False         False      False   \n",
       "9           False        False          False          True      False   \n",
       "10          False        False          False          True      False   \n",
       "11          False        False          False          True      False   \n",
       "\n",
       "    Genre_Crime  Genre_Action  Genre_Adventure  Genre_Horror  Genre_Fantasy  \\\n",
       "4         False         False            False         False          False   \n",
       "6          True          True            False         False          False   \n",
       "9         False         False            False         False          False   \n",
       "10         True          True             True         False          False   \n",
       "11        False         False            False         False          False   \n",
       "\n",
       "    Genre_History  Genre_Western  Genre_Music  Genre_Documentary  \\\n",
       "4           False          False        False              False   \n",
       "6           False          False        False              False   \n",
       "9           False          False        False              False   \n",
       "10          False          False        False              False   \n",
       "11          False          False        False              False   \n",
       "\n",
       "    Genre_TV Movie    year  month   day  \n",
       "4            False  2010.0   11.0  24.0  \n",
       "6            False  2010.0    3.0  20.0  \n",
       "9            False  2010.0    7.0  30.0  \n",
       "10           False  2010.0    6.0   9.0  \n",
       "11           False  2010.0    6.0  16.0  "
      ]
     },
     "execution_count": 42,
     "metadata": {},
     "output_type": "execute_result"
    }
   ],
   "source": [
    "hours_df = df.copy()\n",
    "hours_df.head()"
   ]
  },
  {
   "cell_type": "code",
   "execution_count": 43,
   "id": "1fbf49fb",
   "metadata": {
    "ExecuteTime": {
     "end_time": "2023-05-19T01:05:15.791105Z",
     "start_time": "2023-05-19T01:05:15.776965Z"
    }
   },
   "outputs": [
    {
     "data": {
      "text/plain": [
       "0"
      ]
     },
     "execution_count": 43,
     "metadata": {},
     "output_type": "execute_result"
    }
   ],
   "source": [
    "hours_df['runtime'].isna().sum()"
   ]
  },
  {
   "cell_type": "code",
   "execution_count": 44,
   "id": "8d2b319c",
   "metadata": {
    "ExecuteTime": {
     "end_time": "2023-05-19T01:05:15.807481Z",
     "start_time": "2023-05-19T01:05:15.792105Z"
    }
   },
   "outputs": [
    {
     "data": {
      "text/plain": [
       "count    2816.000000\n",
       "mean      110.335227\n",
       "std        21.368139\n",
       "min         0.000000\n",
       "25%        96.000000\n",
       "50%       107.000000\n",
       "75%       122.000000\n",
       "max       310.000000\n",
       "Name: runtime, dtype: float64"
      ]
     },
     "execution_count": 44,
     "metadata": {},
     "output_type": "execute_result"
    }
   ],
   "source": [
    "hours_df['runtime'].describe()"
   ]
  },
  {
   "cell_type": "code",
   "execution_count": 45,
   "id": "98c4d534",
   "metadata": {
    "ExecuteTime": {
     "end_time": "2023-05-19T01:05:15.822928Z",
     "start_time": "2023-05-19T01:05:15.808413Z"
    }
   },
   "outputs": [],
   "source": [
    "# Removing moview that are 0 minutes\n",
    "hours_df.drop(hours_df[hours_df['runtime'] == 0.0].index, inplace = True)"
   ]
  },
  {
   "cell_type": "code",
   "execution_count": 46,
   "id": "3d139b97",
   "metadata": {
    "ExecuteTime": {
     "end_time": "2023-05-19T01:05:15.838275Z",
     "start_time": "2023-05-19T01:05:15.823928Z"
    }
   },
   "outputs": [
    {
     "data": {
      "text/plain": [
       "count    2807.000000\n",
       "mean      110.688992\n",
       "std        20.466804\n",
       "min        52.000000\n",
       "25%        96.000000\n",
       "50%       107.000000\n",
       "75%       122.000000\n",
       "max       310.000000\n",
       "Name: runtime, dtype: float64"
      ]
     },
     "execution_count": 46,
     "metadata": {},
     "output_type": "execute_result"
    }
   ],
   "source": [
    "hours_df['runtime'].describe()"
   ]
  },
  {
   "cell_type": "code",
   "execution_count": 47,
   "id": "b7a8ff86",
   "metadata": {
    "ExecuteTime": {
     "end_time": "2023-05-19T01:05:15.853787Z",
     "start_time": "2023-05-19T01:05:15.840280Z"
    }
   },
   "outputs": [
    {
     "data": {
      "text/plain": [
       "100.0    100\n",
       "90.0      95\n",
       "105.0     83\n",
       "97.0      76\n",
       "94.0      68\n",
       "        ... \n",
       "60.0       1\n",
       "209.0      1\n",
       "181.0      1\n",
       "171.0      1\n",
       "162.0      1\n",
       "Name: runtime, Length: 119, dtype: int64"
      ]
     },
     "execution_count": 47,
     "metadata": {},
     "output_type": "execute_result"
    }
   ],
   "source": [
    "hours_df['runtime'].value_counts()"
   ]
  },
  {
   "cell_type": "code",
   "execution_count": 48,
   "id": "aa20414b",
   "metadata": {
    "ExecuteTime": {
     "end_time": "2023-05-19T01:05:15.884325Z",
     "start_time": "2023-05-19T01:05:15.854789Z"
    }
   },
   "outputs": [],
   "source": [
    "hours_df['hours'] = hours_df[['runtime']].apply(lambda x: 'more than 2.5' if (x.runtime > 170) \n",
    "                                              else 'more than 1.5, less than 2.5' if (x.runtime > 90)\n",
    "                                              else '1.5 hours or less', axis =1)"
   ]
  },
  {
   "cell_type": "code",
   "execution_count": 49,
   "id": "ce549919",
   "metadata": {
    "ExecuteTime": {
     "end_time": "2023-05-19T01:05:15.900239Z",
     "start_time": "2023-05-19T01:05:15.885324Z"
    }
   },
   "outputs": [
    {
     "data": {
      "text/plain": [
       "more than 1.5, less than 2.5    2400\n",
       "1.5 hours or less                382\n",
       "more than 2.5                     25\n",
       "Name: hours, dtype: int64"
      ]
     },
     "execution_count": 49,
     "metadata": {},
     "output_type": "execute_result"
    }
   ],
   "source": [
    "hours_df['hours'].value_counts()"
   ]
  },
  {
   "cell_type": "code",
   "execution_count": 50,
   "id": "91efe64c",
   "metadata": {
    "ExecuteTime": {
     "end_time": "2023-05-19T01:05:15.915485Z",
     "start_time": "2023-05-19T01:05:15.901239Z"
    }
   },
   "outputs": [
    {
     "data": {
      "text/html": [
       "<div>\n",
       "<style scoped>\n",
       "    .dataframe tbody tr th:only-of-type {\n",
       "        vertical-align: middle;\n",
       "    }\n",
       "\n",
       "    .dataframe tbody tr th {\n",
       "        vertical-align: top;\n",
       "    }\n",
       "\n",
       "    .dataframe thead th {\n",
       "        text-align: right;\n",
       "    }\n",
       "</style>\n",
       "<table border=\"1\" class=\"dataframe\">\n",
       "  <thead>\n",
       "    <tr style=\"text-align: right;\">\n",
       "      <th></th>\n",
       "      <th>imdb_id</th>\n",
       "      <th>adult</th>\n",
       "      <th>belongs_to_collection</th>\n",
       "      <th>budget</th>\n",
       "      <th>genres</th>\n",
       "      <th>popularity</th>\n",
       "      <th>revenue</th>\n",
       "      <th>runtime</th>\n",
       "      <th>title</th>\n",
       "      <th>vote_average</th>\n",
       "      <th>vote_count</th>\n",
       "      <th>certification</th>\n",
       "      <th>genres_list</th>\n",
       "      <th>Genre_Family</th>\n",
       "      <th>Genre_Animation</th>\n",
       "      <th>Genre_Science Fiction</th>\n",
       "      <th>Genre_Thriller</th>\n",
       "      <th>Genre_Mystery</th>\n",
       "      <th>Genre_Drama</th>\n",
       "      <th>Genre_Romance</th>\n",
       "      <th>Genre_Comedy</th>\n",
       "      <th>Genre_War</th>\n",
       "      <th>Genre_Crime</th>\n",
       "      <th>Genre_Action</th>\n",
       "      <th>Genre_Adventure</th>\n",
       "      <th>Genre_Horror</th>\n",
       "      <th>Genre_Fantasy</th>\n",
       "      <th>Genre_History</th>\n",
       "      <th>Genre_Western</th>\n",
       "      <th>Genre_Music</th>\n",
       "      <th>Genre_Documentary</th>\n",
       "      <th>Genre_TV Movie</th>\n",
       "      <th>year</th>\n",
       "      <th>month</th>\n",
       "      <th>day</th>\n",
       "      <th>hours</th>\n",
       "    </tr>\n",
       "  </thead>\n",
       "  <tbody>\n",
       "    <tr>\n",
       "      <th>4</th>\n",
       "      <td>tt0398286</td>\n",
       "      <td>0.0</td>\n",
       "      <td>False</td>\n",
       "      <td>260000000.0</td>\n",
       "      <td>[{'id': 16, 'name': 'Animation'}, {'id': 10751...</td>\n",
       "      <td>108.562</td>\n",
       "      <td>5.924617e+08</td>\n",
       "      <td>100.0</td>\n",
       "      <td>Tangled</td>\n",
       "      <td>7.590</td>\n",
       "      <td>10223.0</td>\n",
       "      <td>PG</td>\n",
       "      <td>[Animation, Family]</td>\n",
       "      <td>True</td>\n",
       "      <td>True</td>\n",
       "      <td>False</td>\n",
       "      <td>False</td>\n",
       "      <td>False</td>\n",
       "      <td>False</td>\n",
       "      <td>False</td>\n",
       "      <td>False</td>\n",
       "      <td>False</td>\n",
       "      <td>False</td>\n",
       "      <td>False</td>\n",
       "      <td>False</td>\n",
       "      <td>False</td>\n",
       "      <td>False</td>\n",
       "      <td>False</td>\n",
       "      <td>False</td>\n",
       "      <td>False</td>\n",
       "      <td>False</td>\n",
       "      <td>False</td>\n",
       "      <td>2010.0</td>\n",
       "      <td>11.0</td>\n",
       "      <td>24.0</td>\n",
       "      <td>more than 1.5, less than 2.5</td>\n",
       "    </tr>\n",
       "    <tr>\n",
       "      <th>6</th>\n",
       "      <td>tt0411951</td>\n",
       "      <td>0.0</td>\n",
       "      <td>True</td>\n",
       "      <td>30000000.0</td>\n",
       "      <td>[{'id': 80, 'name': 'Crime'}, {'id': 18, 'name...</td>\n",
       "      <td>21.896</td>\n",
       "      <td>9.670000e+05</td>\n",
       "      <td>92.0</td>\n",
       "      <td>Tekken</td>\n",
       "      <td>5.368</td>\n",
       "      <td>600.0</td>\n",
       "      <td>R</td>\n",
       "      <td>[Crime, Drama, Action, Thriller, Science Fiction]</td>\n",
       "      <td>False</td>\n",
       "      <td>False</td>\n",
       "      <td>True</td>\n",
       "      <td>True</td>\n",
       "      <td>False</td>\n",
       "      <td>True</td>\n",
       "      <td>False</td>\n",
       "      <td>False</td>\n",
       "      <td>False</td>\n",
       "      <td>True</td>\n",
       "      <td>True</td>\n",
       "      <td>False</td>\n",
       "      <td>False</td>\n",
       "      <td>False</td>\n",
       "      <td>False</td>\n",
       "      <td>False</td>\n",
       "      <td>False</td>\n",
       "      <td>False</td>\n",
       "      <td>False</td>\n",
       "      <td>2010.0</td>\n",
       "      <td>3.0</td>\n",
       "      <td>20.0</td>\n",
       "      <td>more than 1.5, less than 2.5</td>\n",
       "    </tr>\n",
       "    <tr>\n",
       "      <th>9</th>\n",
       "      <td>tt0427152</td>\n",
       "      <td>0.0</td>\n",
       "      <td>False</td>\n",
       "      <td>69000000.0</td>\n",
       "      <td>[{'id': 35, 'name': 'Comedy'}]</td>\n",
       "      <td>13.637</td>\n",
       "      <td>8.638786e+07</td>\n",
       "      <td>114.0</td>\n",
       "      <td>Dinner for Schmucks</td>\n",
       "      <td>5.692</td>\n",
       "      <td>1601.0</td>\n",
       "      <td>PG-13</td>\n",
       "      <td>[Comedy]</td>\n",
       "      <td>False</td>\n",
       "      <td>False</td>\n",
       "      <td>False</td>\n",
       "      <td>False</td>\n",
       "      <td>False</td>\n",
       "      <td>False</td>\n",
       "      <td>False</td>\n",
       "      <td>True</td>\n",
       "      <td>False</td>\n",
       "      <td>False</td>\n",
       "      <td>False</td>\n",
       "      <td>False</td>\n",
       "      <td>False</td>\n",
       "      <td>False</td>\n",
       "      <td>False</td>\n",
       "      <td>False</td>\n",
       "      <td>False</td>\n",
       "      <td>False</td>\n",
       "      <td>False</td>\n",
       "      <td>2010.0</td>\n",
       "      <td>7.0</td>\n",
       "      <td>30.0</td>\n",
       "      <td>more than 1.5, less than 2.5</td>\n",
       "    </tr>\n",
       "    <tr>\n",
       "      <th>10</th>\n",
       "      <td>tt0429493</td>\n",
       "      <td>0.0</td>\n",
       "      <td>False</td>\n",
       "      <td>110000000.0</td>\n",
       "      <td>[{'id': 53, 'name': 'Thriller'}, {'id': 28, 'n...</td>\n",
       "      <td>31.075</td>\n",
       "      <td>1.772388e+08</td>\n",
       "      <td>117.0</td>\n",
       "      <td>The A-Team</td>\n",
       "      <td>6.393</td>\n",
       "      <td>4206.0</td>\n",
       "      <td>PG-13</td>\n",
       "      <td>[Thriller, Action, Adventure, Comedy, Crime]</td>\n",
       "      <td>False</td>\n",
       "      <td>False</td>\n",
       "      <td>False</td>\n",
       "      <td>True</td>\n",
       "      <td>False</td>\n",
       "      <td>False</td>\n",
       "      <td>False</td>\n",
       "      <td>True</td>\n",
       "      <td>False</td>\n",
       "      <td>True</td>\n",
       "      <td>True</td>\n",
       "      <td>True</td>\n",
       "      <td>False</td>\n",
       "      <td>False</td>\n",
       "      <td>False</td>\n",
       "      <td>False</td>\n",
       "      <td>False</td>\n",
       "      <td>False</td>\n",
       "      <td>False</td>\n",
       "      <td>2010.0</td>\n",
       "      <td>6.0</td>\n",
       "      <td>9.0</td>\n",
       "      <td>more than 1.5, less than 2.5</td>\n",
       "    </tr>\n",
       "    <tr>\n",
       "      <th>11</th>\n",
       "      <td>tt0435761</td>\n",
       "      <td>0.0</td>\n",
       "      <td>True</td>\n",
       "      <td>200000000.0</td>\n",
       "      <td>[{'id': 16, 'name': 'Animation'}, {'id': 10751...</td>\n",
       "      <td>49.445</td>\n",
       "      <td>1.066970e+09</td>\n",
       "      <td>103.0</td>\n",
       "      <td>Toy Story 3</td>\n",
       "      <td>7.792</td>\n",
       "      <td>13435.0</td>\n",
       "      <td>G</td>\n",
       "      <td>[Animation, Family, Comedy]</td>\n",
       "      <td>True</td>\n",
       "      <td>True</td>\n",
       "      <td>False</td>\n",
       "      <td>False</td>\n",
       "      <td>False</td>\n",
       "      <td>False</td>\n",
       "      <td>False</td>\n",
       "      <td>True</td>\n",
       "      <td>False</td>\n",
       "      <td>False</td>\n",
       "      <td>False</td>\n",
       "      <td>False</td>\n",
       "      <td>False</td>\n",
       "      <td>False</td>\n",
       "      <td>False</td>\n",
       "      <td>False</td>\n",
       "      <td>False</td>\n",
       "      <td>False</td>\n",
       "      <td>False</td>\n",
       "      <td>2010.0</td>\n",
       "      <td>6.0</td>\n",
       "      <td>16.0</td>\n",
       "      <td>more than 1.5, less than 2.5</td>\n",
       "    </tr>\n",
       "  </tbody>\n",
       "</table>\n",
       "</div>"
      ],
      "text/plain": [
       "      imdb_id  adult  belongs_to_collection       budget  \\\n",
       "4   tt0398286    0.0                  False  260000000.0   \n",
       "6   tt0411951    0.0                   True   30000000.0   \n",
       "9   tt0427152    0.0                  False   69000000.0   \n",
       "10  tt0429493    0.0                  False  110000000.0   \n",
       "11  tt0435761    0.0                   True  200000000.0   \n",
       "\n",
       "                                               genres  popularity  \\\n",
       "4   [{'id': 16, 'name': 'Animation'}, {'id': 10751...     108.562   \n",
       "6   [{'id': 80, 'name': 'Crime'}, {'id': 18, 'name...      21.896   \n",
       "9                      [{'id': 35, 'name': 'Comedy'}]      13.637   \n",
       "10  [{'id': 53, 'name': 'Thriller'}, {'id': 28, 'n...      31.075   \n",
       "11  [{'id': 16, 'name': 'Animation'}, {'id': 10751...      49.445   \n",
       "\n",
       "         revenue  runtime                title  vote_average  vote_count  \\\n",
       "4   5.924617e+08    100.0              Tangled         7.590     10223.0   \n",
       "6   9.670000e+05     92.0               Tekken         5.368       600.0   \n",
       "9   8.638786e+07    114.0  Dinner for Schmucks         5.692      1601.0   \n",
       "10  1.772388e+08    117.0           The A-Team         6.393      4206.0   \n",
       "11  1.066970e+09    103.0          Toy Story 3         7.792     13435.0   \n",
       "\n",
       "   certification                                        genres_list  \\\n",
       "4             PG                                [Animation, Family]   \n",
       "6              R  [Crime, Drama, Action, Thriller, Science Fiction]   \n",
       "9          PG-13                                           [Comedy]   \n",
       "10         PG-13       [Thriller, Action, Adventure, Comedy, Crime]   \n",
       "11             G                        [Animation, Family, Comedy]   \n",
       "\n",
       "    Genre_Family  Genre_Animation  Genre_Science Fiction  Genre_Thriller  \\\n",
       "4           True             True                  False           False   \n",
       "6          False            False                   True            True   \n",
       "9          False            False                  False           False   \n",
       "10         False            False                  False            True   \n",
       "11          True             True                  False           False   \n",
       "\n",
       "    Genre_Mystery  Genre_Drama  Genre_Romance  Genre_Comedy  Genre_War  \\\n",
       "4           False        False          False         False      False   \n",
       "6           False         True          False         False      False   \n",
       "9           False        False          False          True      False   \n",
       "10          False        False          False          True      False   \n",
       "11          False        False          False          True      False   \n",
       "\n",
       "    Genre_Crime  Genre_Action  Genre_Adventure  Genre_Horror  Genre_Fantasy  \\\n",
       "4         False         False            False         False          False   \n",
       "6          True          True            False         False          False   \n",
       "9         False         False            False         False          False   \n",
       "10         True          True             True         False          False   \n",
       "11        False         False            False         False          False   \n",
       "\n",
       "    Genre_History  Genre_Western  Genre_Music  Genre_Documentary  \\\n",
       "4           False          False        False              False   \n",
       "6           False          False        False              False   \n",
       "9           False          False        False              False   \n",
       "10          False          False        False              False   \n",
       "11          False          False        False              False   \n",
       "\n",
       "    Genre_TV Movie    year  month   day                         hours  \n",
       "4            False  2010.0   11.0  24.0  more than 1.5, less than 2.5  \n",
       "6            False  2010.0    3.0  20.0  more than 1.5, less than 2.5  \n",
       "9            False  2010.0    7.0  30.0  more than 1.5, less than 2.5  \n",
       "10           False  2010.0    6.0   9.0  more than 1.5, less than 2.5  \n",
       "11           False  2010.0    6.0  16.0  more than 1.5, less than 2.5  "
      ]
     },
     "execution_count": 50,
     "metadata": {},
     "output_type": "execute_result"
    }
   ],
   "source": [
    "hours_df.head()"
   ]
  },
  {
   "cell_type": "code",
   "execution_count": 51,
   "id": "50c7f7b9",
   "metadata": {
    "ExecuteTime": {
     "end_time": "2023-05-19T01:05:15.930510Z",
     "start_time": "2023-05-19T01:05:15.915485Z"
    },
    "scrolled": true
   },
   "outputs": [
    {
     "data": {
      "text/plain": [
       "1127     20000000.0\n",
       "5834    130482868.0\n",
       "6485     28000000.0\n",
       "7496    256884693.0\n",
       "9012    392000000.0\n",
       "Name: revenue, dtype: float64"
      ]
     },
     "execution_count": 51,
     "metadata": {},
     "output_type": "execute_result"
    }
   ],
   "source": [
    "#longer_hours = hours_df.loc[hours_df['runtime'] > 170, \"revenue\"].copy()\n",
    "longer_hours = hours_df.loc[hours_df['hours'] == 'more than 2.5', 'revenue'].copy()\n",
    "longer_hours.head()"
   ]
  },
  {
   "cell_type": "code",
   "execution_count": 52,
   "id": "eee8dc32",
   "metadata": {
    "ExecuteTime": {
     "end_time": "2023-05-19T01:05:15.946022Z",
     "start_time": "2023-05-19T01:05:15.931510Z"
    }
   },
   "outputs": [
    {
     "name": "stdout",
     "output_type": "stream",
     "text": [
      "<class 'pandas.core.series.Series'>\n",
      "Int64Index: 25 entries, 1127 to 37168\n",
      "Series name: revenue\n",
      "Non-Null Count  Dtype  \n",
      "--------------  -----  \n",
      "25 non-null     float64\n",
      "dtypes: float64(1)\n",
      "memory usage: 400.0 bytes\n"
     ]
    }
   ],
   "source": [
    "longer_hours.info()"
   ]
  },
  {
   "cell_type": "code",
   "execution_count": 53,
   "id": "30824e6c",
   "metadata": {
    "ExecuteTime": {
     "end_time": "2023-05-19T01:05:15.961724Z",
     "start_time": "2023-05-19T01:05:15.947023Z"
    }
   },
   "outputs": [
    {
     "data": {
      "text/plain": [
       "22     83188165.0\n",
       "42      6007194.0\n",
       "58      1755212.0\n",
       "90        20776.0\n",
       "158     1183258.0\n",
       "Name: revenue, dtype: float64"
      ]
     },
     "execution_count": 53,
     "metadata": {},
     "output_type": "execute_result"
    }
   ],
   "source": [
    "#shorter_hours = hours_df.loc[((hours_df['runtime'] < 170) & (hours_df['runtime'] <= 90)), \"revenue\"].copy(\\\n",
    "shorter_hours = hours_df.loc[hours_df['hours'] == '1.5 hours or less', 'revenue'].copy()\n",
    "shorter_hours.head()"
   ]
  },
  {
   "cell_type": "code",
   "execution_count": 54,
   "id": "e2a7cb39",
   "metadata": {
    "ExecuteTime": {
     "end_time": "2023-05-19T01:05:15.977230Z",
     "start_time": "2023-05-19T01:05:15.962723Z"
    },
    "scrolled": true
   },
   "outputs": [
    {
     "name": "stdout",
     "output_type": "stream",
     "text": [
      "<class 'pandas.core.series.Series'>\n",
      "Int64Index: 382 entries, 22 to 37553\n",
      "Series name: revenue\n",
      "Non-Null Count  Dtype  \n",
      "--------------  -----  \n",
      "382 non-null    float64\n",
      "dtypes: float64(1)\n",
      "memory usage: 6.0 KB\n"
     ]
    }
   ],
   "source": [
    "shorter_hours.info()"
   ]
  },
  {
   "cell_type": "markdown",
   "id": "ddd81d7b",
   "metadata": {},
   "source": [
    "Outliers"
   ]
  },
  {
   "cell_type": "code",
   "execution_count": 55,
   "id": "2a4e3c13",
   "metadata": {
    "ExecuteTime": {
     "end_time": "2023-05-19T01:05:15.992561Z",
     "start_time": "2023-05-19T01:05:15.978387Z"
    }
   },
   "outputs": [
    {
     "data": {
      "text/plain": [
       "1"
      ]
     },
     "execution_count": 55,
     "metadata": {},
     "output_type": "execute_result"
    }
   ],
   "source": [
    "zscore_longer = stats.zscore(longer_hours)\n",
    "outliers_longer = abs(zscore_longer) > 3\n",
    "np.sum(outliers_longer)"
   ]
  },
  {
   "cell_type": "code",
   "execution_count": 56,
   "id": "34b836d8",
   "metadata": {
    "ExecuteTime": {
     "end_time": "2023-05-19T01:05:16.008114Z",
     "start_time": "2023-05-19T01:05:15.993562Z"
    }
   },
   "outputs": [
    {
     "data": {
      "text/plain": [
       "8"
      ]
     },
     "execution_count": 56,
     "metadata": {},
     "output_type": "execute_result"
    }
   ],
   "source": [
    "zscore_shorter = stats.zscore(shorter_hours)\n",
    "outliers_shorter = abs(zscore_shorter) > 3\n",
    "np.sum(outliers_shorter)"
   ]
  },
  {
   "cell_type": "code",
   "execution_count": 57,
   "id": "d0cf4b56",
   "metadata": {
    "ExecuteTime": {
     "end_time": "2023-05-19T01:05:16.023683Z",
     "start_time": "2023-05-19T01:05:16.009115Z"
    }
   },
   "outputs": [],
   "source": [
    "longer_hours = longer_hours[(np.abs(stats.zscore(longer_hours)) < 3)]"
   ]
  },
  {
   "cell_type": "code",
   "execution_count": 58,
   "id": "552956b0",
   "metadata": {
    "ExecuteTime": {
     "end_time": "2023-05-19T01:05:16.038701Z",
     "start_time": "2023-05-19T01:05:16.024683Z"
    }
   },
   "outputs": [
    {
     "data": {
      "text/plain": [
       "24"
      ]
     },
     "execution_count": 58,
     "metadata": {},
     "output_type": "execute_result"
    }
   ],
   "source": [
    "len(longer_hours)"
   ]
  },
  {
   "cell_type": "code",
   "execution_count": 59,
   "id": "814dfd57",
   "metadata": {
    "ExecuteTime": {
     "end_time": "2023-05-19T01:05:16.053895Z",
     "start_time": "2023-05-19T01:05:16.039705Z"
    }
   },
   "outputs": [],
   "source": [
    "shorter_hours = shorter_hours[(np.abs(stats.zscore(shorter_hours)) < 3)]"
   ]
  },
  {
   "cell_type": "code",
   "execution_count": 60,
   "id": "79a0dfa4",
   "metadata": {
    "ExecuteTime": {
     "end_time": "2023-05-19T01:05:16.069548Z",
     "start_time": "2023-05-19T01:05:16.055896Z"
    }
   },
   "outputs": [
    {
     "data": {
      "text/plain": [
       "374"
      ]
     },
     "execution_count": 60,
     "metadata": {},
     "output_type": "execute_result"
    }
   ],
   "source": [
    "len(shorter_hours)"
   ]
  },
  {
   "cell_type": "markdown",
   "id": "5713ad79",
   "metadata": {},
   "source": [
    "Normality Test"
   ]
  },
  {
   "cell_type": "code",
   "execution_count": 61,
   "id": "00935ac8",
   "metadata": {
    "ExecuteTime": {
     "end_time": "2023-05-19T01:05:16.085057Z",
     "start_time": "2023-05-19T01:05:16.070549Z"
    }
   },
   "outputs": [
    {
     "data": {
      "text/plain": [
       "NormaltestResult(statistic=29.114793987038148, pvalue=4.762147192716536e-07)"
      ]
     },
     "execution_count": 61,
     "metadata": {},
     "output_type": "execute_result"
    }
   ],
   "source": [
    "norm_longer = stats.normaltest(longer_hours)\n",
    "norm_longer"
   ]
  },
  {
   "cell_type": "code",
   "execution_count": 62,
   "id": "a990e991",
   "metadata": {
    "ExecuteTime": {
     "end_time": "2023-05-19T01:05:16.100376Z",
     "start_time": "2023-05-19T01:05:16.086056Z"
    }
   },
   "outputs": [
    {
     "data": {
      "text/plain": [
       "NormaltestResult(statistic=184.09466892484238, pvalue=1.0576709326761374e-40)"
      ]
     },
     "execution_count": 62,
     "metadata": {},
     "output_type": "execute_result"
    }
   ],
   "source": [
    "norm_shorter = stats.normaltest(shorter_hours)\n",
    "norm_shorter"
   ]
  },
  {
   "cell_type": "markdown",
   "id": "00ba4167",
   "metadata": {},
   "source": [
    "* Both of the pvalues for the normality test are below the 0.05, they are not normaly distributed. We can still move on since the sample sizes are large enough. They are above the 15 per group mark. "
   ]
  },
  {
   "cell_type": "markdown",
   "id": "071b6827",
   "metadata": {},
   "source": [
    "Equal Variance Test"
   ]
  },
  {
   "cell_type": "code",
   "execution_count": 63,
   "id": "a0043031",
   "metadata": {
    "ExecuteTime": {
     "end_time": "2023-05-19T01:05:16.116406Z",
     "start_time": "2023-05-19T01:05:16.101377Z"
    }
   },
   "outputs": [
    {
     "data": {
      "text/plain": [
       "LeveneResult(statistic=4.651558166946146, pvalue=0.03162665060281359)"
      ]
     },
     "execution_count": 63,
     "metadata": {},
     "output_type": "execute_result"
    }
   ],
   "source": [
    "variance_result = stats.levene(longer_hours, shorter_hours)\n",
    "variance_result"
   ]
  },
  {
   "cell_type": "markdown",
   "id": "88ca69fa",
   "metadata": {},
   "source": [
    "* Our pvalue is not more than 0.05. We do not have equal variance, therefore we will use \"equal_var = False\" for our t-test. "
   ]
  },
  {
   "cell_type": "code",
   "execution_count": 64,
   "id": "1b33bca5",
   "metadata": {
    "ExecuteTime": {
     "end_time": "2023-05-19T01:05:16.132100Z",
     "start_time": "2023-05-19T01:05:16.117406Z"
    }
   },
   "outputs": [
    {
     "data": {
      "text/plain": [
       "Ttest_indResult(statistic=1.4680607765405065, pvalue=0.15519887206672767)"
      ]
     },
     "execution_count": 64,
     "metadata": {},
     "output_type": "execute_result"
    }
   ],
   "source": [
    "ttest_result = stats.ttest_ind(longer_hours, shorter_hours, equal_var = False)\n",
    "ttest_result"
   ]
  },
  {
   "cell_type": "markdown",
   "id": "457b9faa",
   "metadata": {},
   "source": [
    "* Our pvalue < alpha (0.05), so we reject the null hypothesis. "
   ]
  },
  {
   "cell_type": "markdown",
   "id": "85fb4148",
   "metadata": {},
   "source": [
    "* For visualization, we will drop movies that are less than 2.5 hours but more than 1.5 hours."
   ]
  },
  {
   "cell_type": "code",
   "execution_count": 65,
   "id": "d7bfe635",
   "metadata": {
    "ExecuteTime": {
     "end_time": "2023-05-19T01:05:16.147257Z",
     "start_time": "2023-05-19T01:05:16.133101Z"
    }
   },
   "outputs": [
    {
     "data": {
      "text/plain": [
       "1.5 hours or less    382\n",
       "more than 2.5         25\n",
       "Name: hours, dtype: int64"
      ]
     },
     "execution_count": 65,
     "metadata": {},
     "output_type": "execute_result"
    }
   ],
   "source": [
    "hours_df.drop(hours_df[hours_df['hours'] == 'more than 1.5, less than 2.5'].index, inplace = True)\n",
    "hours_df['hours'].value_counts()"
   ]
  },
  {
   "cell_type": "code",
   "execution_count": 66,
   "id": "f78837f8",
   "metadata": {
    "ExecuteTime": {
     "end_time": "2023-05-19T01:05:17.080691Z",
     "start_time": "2023-05-19T01:05:16.148613Z"
    },
    "scrolled": true
   },
   "outputs": [
    {
     "data": {
      "image/png": "[encoded data removed]",
      "text/plain": [
       "<Figure size 1300x500 with 2 Axes>"
      ]
     },
     "metadata": {},
     "output_type": "display_data"
    }
   ],
   "source": [
    "hours_palette={'more than 2.5':'dodgerblue', '1.5 hours or less':'salmon'}\n",
    "## Visualizing Sample means\n",
    "fig, (ax,ax_bar) = plt.subplots(figsize= (13,5), ncols=2, \n",
    "                                constrained_layout=True,\n",
    "                                gridspec_kw={'width_ratios':[0.8,0.2]})\n",
    "\n",
    "\n",
    "# Histogram\n",
    "ax = sns.histplot(data=hours_df, x='revenue',fill=True,hue='hours',kde=True,\n",
    "                  stat='density',common_norm=False,ax=ax,\n",
    "                  palette=hours_palette)\n",
    "\n",
    "ax.axvline(np.mean(longer_hours), ls='--',lw=3, \n",
    "           label=f\"Longer than 2.5 hrs (Mean={np.mean(longer_hours):.2f})\",color=hours_palette['more than 2.5'])\n",
    "\n",
    "ax.axvline(np.mean(shorter_hours), ls='--', lw=3, \n",
    "           label=f\"1.5 hours or less (Mean={np.mean(shorter_hours):.2f})\",color=hours_palette['1.5 hours or less'])\n",
    "\n",
    "ax.legend(prop={\"size\":14}, loc='upper right')#bbox_to_anchor=[1,1])\n",
    "## Barplot\n",
    "sns.barplot(data=hours_df, x='hours',y='revenue',ax = ax_bar,palette=hours_palette)\n",
    "fig.suptitle('Comparison of Revenue by Runtime',fontsize='xx-large');"
   ]
  },
  {
   "cell_type": "markdown",
   "id": "b8e1346a",
   "metadata": {},
   "source": [
    "* From the visual above, the right figure clearly shows that movies that are more than 2.5 hrs long have higher revenue as compared with movies that are 90 minutes or less. The left figure is less interpretable, since the distribution is off for both groups."
   ]
  },
  {
   "cell_type": "markdown",
   "id": "67bb7c80",
   "metadata": {},
   "source": [
    "# Conclusion\n",
    " - From the pvalue from the ttest, we see that it is less than our alpha (0.05). We therefore reject our null hypothesis. In conjuction with the visual above, we can clearly see than movies that are longer than 2.5 hours generally have a higher revenue. "
   ]
  },
  {
   "cell_type": "markdown",
   "id": "64ee6aa1",
   "metadata": {},
   "source": [
    "# Q3: Do movies that are exclusively in the drama genre make more in revenue than movies that are not exclusively in the drama genre?\n",
    " - Null Hypothesis: There is no difference in revenue between movies that are exclusively in the drama genre and movies that are not exclusively in the drama genre.    \n",
    " - Alternative Hypothesis: There is a significant difference in revenue between movies that are exclusively in the drama genre and movies that are not exclusively in the drama genre. "
   ]
  },
  {
   "cell_type": "code",
   "execution_count": 67,
   "id": "2a37a9e8",
   "metadata": {
    "ExecuteTime": {
     "end_time": "2023-05-19T01:05:17.111225Z",
     "start_time": "2023-05-19T01:05:17.081693Z"
    }
   },
   "outputs": [
    {
     "data": {
      "text/html": [
       "<div>\n",
       "<style scoped>\n",
       "    .dataframe tbody tr th:only-of-type {\n",
       "        vertical-align: middle;\n",
       "    }\n",
       "\n",
       "    .dataframe tbody tr th {\n",
       "        vertical-align: top;\n",
       "    }\n",
       "\n",
       "    .dataframe thead th {\n",
       "        text-align: right;\n",
       "    }\n",
       "</style>\n",
       "<table border=\"1\" class=\"dataframe\">\n",
       "  <thead>\n",
       "    <tr style=\"text-align: right;\">\n",
       "      <th></th>\n",
       "      <th>imdb_id</th>\n",
       "      <th>adult</th>\n",
       "      <th>belongs_to_collection</th>\n",
       "      <th>budget</th>\n",
       "      <th>genres</th>\n",
       "      <th>popularity</th>\n",
       "      <th>revenue</th>\n",
       "      <th>runtime</th>\n",
       "      <th>title</th>\n",
       "      <th>vote_average</th>\n",
       "      <th>vote_count</th>\n",
       "      <th>certification</th>\n",
       "      <th>genres_list</th>\n",
       "      <th>Genre_Family</th>\n",
       "      <th>Genre_Animation</th>\n",
       "      <th>Genre_Science Fiction</th>\n",
       "      <th>Genre_Thriller</th>\n",
       "      <th>Genre_Mystery</th>\n",
       "      <th>Genre_Drama</th>\n",
       "      <th>Genre_Romance</th>\n",
       "      <th>Genre_Comedy</th>\n",
       "      <th>Genre_War</th>\n",
       "      <th>Genre_Crime</th>\n",
       "      <th>Genre_Action</th>\n",
       "      <th>Genre_Adventure</th>\n",
       "      <th>Genre_Horror</th>\n",
       "      <th>Genre_Fantasy</th>\n",
       "      <th>Genre_History</th>\n",
       "      <th>Genre_Western</th>\n",
       "      <th>Genre_Music</th>\n",
       "      <th>Genre_Documentary</th>\n",
       "      <th>Genre_TV Movie</th>\n",
       "      <th>year</th>\n",
       "      <th>month</th>\n",
       "      <th>day</th>\n",
       "    </tr>\n",
       "  </thead>\n",
       "  <tbody>\n",
       "    <tr>\n",
       "      <th>4</th>\n",
       "      <td>tt0398286</td>\n",
       "      <td>0.0</td>\n",
       "      <td>False</td>\n",
       "      <td>260000000.0</td>\n",
       "      <td>[{'id': 16, 'name': 'Animation'}, {'id': 10751...</td>\n",
       "      <td>108.562</td>\n",
       "      <td>5.924617e+08</td>\n",
       "      <td>100.0</td>\n",
       "      <td>Tangled</td>\n",
       "      <td>7.590</td>\n",
       "      <td>10223.0</td>\n",
       "      <td>PG</td>\n",
       "      <td>[Animation, Family]</td>\n",
       "      <td>True</td>\n",
       "      <td>True</td>\n",
       "      <td>False</td>\n",
       "      <td>False</td>\n",
       "      <td>False</td>\n",
       "      <td>False</td>\n",
       "      <td>False</td>\n",
       "      <td>False</td>\n",
       "      <td>False</td>\n",
       "      <td>False</td>\n",
       "      <td>False</td>\n",
       "      <td>False</td>\n",
       "      <td>False</td>\n",
       "      <td>False</td>\n",
       "      <td>False</td>\n",
       "      <td>False</td>\n",
       "      <td>False</td>\n",
       "      <td>False</td>\n",
       "      <td>False</td>\n",
       "      <td>2010.0</td>\n",
       "      <td>11.0</td>\n",
       "      <td>24.0</td>\n",
       "    </tr>\n",
       "    <tr>\n",
       "      <th>6</th>\n",
       "      <td>tt0411951</td>\n",
       "      <td>0.0</td>\n",
       "      <td>True</td>\n",
       "      <td>30000000.0</td>\n",
       "      <td>[{'id': 80, 'name': 'Crime'}, {'id': 18, 'name...</td>\n",
       "      <td>21.896</td>\n",
       "      <td>9.670000e+05</td>\n",
       "      <td>92.0</td>\n",
       "      <td>Tekken</td>\n",
       "      <td>5.368</td>\n",
       "      <td>600.0</td>\n",
       "      <td>R</td>\n",
       "      <td>[Crime, Drama, Action, Thriller, Science Fiction]</td>\n",
       "      <td>False</td>\n",
       "      <td>False</td>\n",
       "      <td>True</td>\n",
       "      <td>True</td>\n",
       "      <td>False</td>\n",
       "      <td>True</td>\n",
       "      <td>False</td>\n",
       "      <td>False</td>\n",
       "      <td>False</td>\n",
       "      <td>True</td>\n",
       "      <td>True</td>\n",
       "      <td>False</td>\n",
       "      <td>False</td>\n",
       "      <td>False</td>\n",
       "      <td>False</td>\n",
       "      <td>False</td>\n",
       "      <td>False</td>\n",
       "      <td>False</td>\n",
       "      <td>False</td>\n",
       "      <td>2010.0</td>\n",
       "      <td>3.0</td>\n",
       "      <td>20.0</td>\n",
       "    </tr>\n",
       "    <tr>\n",
       "      <th>9</th>\n",
       "      <td>tt0427152</td>\n",
       "      <td>0.0</td>\n",
       "      <td>False</td>\n",
       "      <td>69000000.0</td>\n",
       "      <td>[{'id': 35, 'name': 'Comedy'}]</td>\n",
       "      <td>13.637</td>\n",
       "      <td>8.638786e+07</td>\n",
       "      <td>114.0</td>\n",
       "      <td>Dinner for Schmucks</td>\n",
       "      <td>5.692</td>\n",
       "      <td>1601.0</td>\n",
       "      <td>PG-13</td>\n",
       "      <td>[Comedy]</td>\n",
       "      <td>False</td>\n",
       "      <td>False</td>\n",
       "      <td>False</td>\n",
       "      <td>False</td>\n",
       "      <td>False</td>\n",
       "      <td>False</td>\n",
       "      <td>False</td>\n",
       "      <td>True</td>\n",
       "      <td>False</td>\n",
       "      <td>False</td>\n",
       "      <td>False</td>\n",
       "      <td>False</td>\n",
       "      <td>False</td>\n",
       "      <td>False</td>\n",
       "      <td>False</td>\n",
       "      <td>False</td>\n",
       "      <td>False</td>\n",
       "      <td>False</td>\n",
       "      <td>False</td>\n",
       "      <td>2010.0</td>\n",
       "      <td>7.0</td>\n",
       "      <td>30.0</td>\n",
       "    </tr>\n",
       "    <tr>\n",
       "      <th>10</th>\n",
       "      <td>tt0429493</td>\n",
       "      <td>0.0</td>\n",
       "      <td>False</td>\n",
       "      <td>110000000.0</td>\n",
       "      <td>[{'id': 53, 'name': 'Thriller'}, {'id': 28, 'n...</td>\n",
       "      <td>31.075</td>\n",
       "      <td>1.772388e+08</td>\n",
       "      <td>117.0</td>\n",
       "      <td>The A-Team</td>\n",
       "      <td>6.393</td>\n",
       "      <td>4206.0</td>\n",
       "      <td>PG-13</td>\n",
       "      <td>[Thriller, Action, Adventure, Comedy, Crime]</td>\n",
       "      <td>False</td>\n",
       "      <td>False</td>\n",
       "      <td>False</td>\n",
       "      <td>True</td>\n",
       "      <td>False</td>\n",
       "      <td>False</td>\n",
       "      <td>False</td>\n",
       "      <td>True</td>\n",
       "      <td>False</td>\n",
       "      <td>True</td>\n",
       "      <td>True</td>\n",
       "      <td>True</td>\n",
       "      <td>False</td>\n",
       "      <td>False</td>\n",
       "      <td>False</td>\n",
       "      <td>False</td>\n",
       "      <td>False</td>\n",
       "      <td>False</td>\n",
       "      <td>False</td>\n",
       "      <td>2010.0</td>\n",
       "      <td>6.0</td>\n",
       "      <td>9.0</td>\n",
       "    </tr>\n",
       "    <tr>\n",
       "      <th>11</th>\n",
       "      <td>tt0435761</td>\n",
       "      <td>0.0</td>\n",
       "      <td>True</td>\n",
       "      <td>200000000.0</td>\n",
       "      <td>[{'id': 16, 'name': 'Animation'}, {'id': 10751...</td>\n",
       "      <td>49.445</td>\n",
       "      <td>1.066970e+09</td>\n",
       "      <td>103.0</td>\n",
       "      <td>Toy Story 3</td>\n",
       "      <td>7.792</td>\n",
       "      <td>13435.0</td>\n",
       "      <td>G</td>\n",
       "      <td>[Animation, Family, Comedy]</td>\n",
       "      <td>True</td>\n",
       "      <td>True</td>\n",
       "      <td>False</td>\n",
       "      <td>False</td>\n",
       "      <td>False</td>\n",
       "      <td>False</td>\n",
       "      <td>False</td>\n",
       "      <td>True</td>\n",
       "      <td>False</td>\n",
       "      <td>False</td>\n",
       "      <td>False</td>\n",
       "      <td>False</td>\n",
       "      <td>False</td>\n",
       "      <td>False</td>\n",
       "      <td>False</td>\n",
       "      <td>False</td>\n",
       "      <td>False</td>\n",
       "      <td>False</td>\n",
       "      <td>False</td>\n",
       "      <td>2010.0</td>\n",
       "      <td>6.0</td>\n",
       "      <td>16.0</td>\n",
       "    </tr>\n",
       "  </tbody>\n",
       "</table>\n",
       "</div>"
      ],
      "text/plain": [
       "      imdb_id  adult  belongs_to_collection       budget  \\\n",
       "4   tt0398286    0.0                  False  260000000.0   \n",
       "6   tt0411951    0.0                   True   30000000.0   \n",
       "9   tt0427152    0.0                  False   69000000.0   \n",
       "10  tt0429493    0.0                  False  110000000.0   \n",
       "11  tt0435761    0.0                   True  200000000.0   \n",
       "\n",
       "                                               genres  popularity  \\\n",
       "4   [{'id': 16, 'name': 'Animation'}, {'id': 10751...     108.562   \n",
       "6   [{'id': 80, 'name': 'Crime'}, {'id': 18, 'name...      21.896   \n",
       "9                      [{'id': 35, 'name': 'Comedy'}]      13.637   \n",
       "10  [{'id': 53, 'name': 'Thriller'}, {'id': 28, 'n...      31.075   \n",
       "11  [{'id': 16, 'name': 'Animation'}, {'id': 10751...      49.445   \n",
       "\n",
       "         revenue  runtime                title  vote_average  vote_count  \\\n",
       "4   5.924617e+08    100.0              Tangled         7.590     10223.0   \n",
       "6   9.670000e+05     92.0               Tekken         5.368       600.0   \n",
       "9   8.638786e+07    114.0  Dinner for Schmucks         5.692      1601.0   \n",
       "10  1.772388e+08    117.0           The A-Team         6.393      4206.0   \n",
       "11  1.066970e+09    103.0          Toy Story 3         7.792     13435.0   \n",
       "\n",
       "   certification                                        genres_list  \\\n",
       "4             PG                                [Animation, Family]   \n",
       "6              R  [Crime, Drama, Action, Thriller, Science Fiction]   \n",
       "9          PG-13                                           [Comedy]   \n",
       "10         PG-13       [Thriller, Action, Adventure, Comedy, Crime]   \n",
       "11             G                        [Animation, Family, Comedy]   \n",
       "\n",
       "    Genre_Family  Genre_Animation  Genre_Science Fiction  Genre_Thriller  \\\n",
       "4           True             True                  False           False   \n",
       "6          False            False                   True            True   \n",
       "9          False            False                  False           False   \n",
       "10         False            False                  False            True   \n",
       "11          True             True                  False           False   \n",
       "\n",
       "    Genre_Mystery  Genre_Drama  Genre_Romance  Genre_Comedy  Genre_War  \\\n",
       "4           False        False          False         False      False   \n",
       "6           False         True          False         False      False   \n",
       "9           False        False          False          True      False   \n",
       "10          False        False          False          True      False   \n",
       "11          False        False          False          True      False   \n",
       "\n",
       "    Genre_Crime  Genre_Action  Genre_Adventure  Genre_Horror  Genre_Fantasy  \\\n",
       "4         False         False            False         False          False   \n",
       "6          True          True            False         False          False   \n",
       "9         False         False            False         False          False   \n",
       "10         True          True             True         False          False   \n",
       "11        False         False            False         False          False   \n",
       "\n",
       "    Genre_History  Genre_Western  Genre_Music  Genre_Documentary  \\\n",
       "4           False          False        False              False   \n",
       "6           False          False        False              False   \n",
       "9           False          False        False              False   \n",
       "10          False          False        False              False   \n",
       "11          False          False        False              False   \n",
       "\n",
       "    Genre_TV Movie    year  month   day  \n",
       "4            False  2010.0   11.0  24.0  \n",
       "6            False  2010.0    3.0  20.0  \n",
       "9            False  2010.0    7.0  30.0  \n",
       "10           False  2010.0    6.0   9.0  \n",
       "11           False  2010.0    6.0  16.0  "
      ]
     },
     "execution_count": 67,
     "metadata": {},
     "output_type": "execute_result"
    }
   ],
   "source": [
    "genres_df = df.copy()\n",
    "genres_df.head()"
   ]
  },
  {
   "cell_type": "code",
   "execution_count": 68,
   "id": "e24fc7c2",
   "metadata": {
    "ExecuteTime": {
     "end_time": "2023-05-19T01:05:17.127020Z",
     "start_time": "2023-05-19T01:05:17.112225Z"
    }
   },
   "outputs": [
    {
     "data": {
      "text/plain": [
       "array(['Family', 'Animation', 'Science Fiction', 'Thriller', 'Mystery',\n",
       "       'Drama', 'Romance', 'Comedy', 'War', 'Crime', 'Action',\n",
       "       'Adventure', 'Horror', 'Fantasy', 'History', 'Western', 'Music',\n",
       "       'Documentary', 'TV Movie'], dtype=object)"
      ]
     },
     "execution_count": 68,
     "metadata": {},
     "output_type": "execute_result"
    }
   ],
   "source": [
    "unique_genres"
   ]
  },
  {
   "cell_type": "code",
   "execution_count": 69,
   "id": "900898d1",
   "metadata": {
    "ExecuteTime": {
     "end_time": "2023-05-19T01:05:17.142024Z",
     "start_time": "2023-05-19T01:05:17.128512Z"
    }
   },
   "outputs": [
    {
     "data": {
      "text/plain": [
       "4                                   [Animation, Family]\n",
       "6     [Crime, Drama, Action, Thriller, Science Fiction]\n",
       "9                                              [Comedy]\n",
       "10         [Thriller, Action, Adventure, Comedy, Crime]\n",
       "11                          [Animation, Family, Comedy]\n",
       "Name: genres_list, dtype: object"
      ]
     },
     "execution_count": 69,
     "metadata": {},
     "output_type": "execute_result"
    }
   ],
   "source": [
    "## Use our function and exploding the new column\n",
    "df['genres_list'] = df['genres'].apply(get_genre_name)\n",
    "df['genres_list'].head()"
   ]
  },
  {
   "cell_type": "code",
   "execution_count": 70,
   "id": "c77fd142",
   "metadata": {
    "ExecuteTime": {
     "end_time": "2023-05-19T01:05:17.172451Z",
     "start_time": "2023-05-19T01:05:17.144023Z"
    }
   },
   "outputs": [
    {
     "data": {
      "text/plain": [
       "[Drama]                                                    232\n",
       "[Comedy]                                                   169\n",
       "[Comedy, Drama]                                             89\n",
       "[Drama, Romance]                                            77\n",
       "[Horror, Thriller]                                          55\n",
       "                                                          ... \n",
       "[Fantasy, Adventure, Action, Family, Romance]                1\n",
       "[Fantasy, Action, Adventure, Animation, Comedy, Family]      1\n",
       "[Comedy, Action, Fantasy]                                    1\n",
       "[Action, Mystery, Science Fiction, Thriller]                 1\n",
       "[Family, Comedy, Drama, Action]                              1\n",
       "Name: genres_list, Length: 860, dtype: int64"
      ]
     },
     "execution_count": 70,
     "metadata": {},
     "output_type": "execute_result"
    }
   ],
   "source": [
    "df['genres_list'].value_counts()"
   ]
  },
  {
   "cell_type": "code",
   "execution_count": 71,
   "id": "8a3fc178",
   "metadata": {
    "ExecuteTime": {
     "end_time": "2023-05-19T01:05:17.188465Z",
     "start_time": "2023-05-19T01:05:17.173451Z"
    }
   },
   "outputs": [],
   "source": [
    "df['genres_list'] = df.genres_list.apply(lambda x: sorted(map(str, x)))"
   ]
  },
  {
   "cell_type": "code",
   "execution_count": 72,
   "id": "e8d2a2fc",
   "metadata": {
    "ExecuteTime": {
     "end_time": "2023-05-19T01:05:17.203974Z",
     "start_time": "2023-05-19T01:05:17.189465Z"
    }
   },
   "outputs": [
    {
     "data": {
      "text/plain": [
       "[Drama]                                232\n",
       "[Comedy]                               169\n",
       "[Comedy, Drama]                        131\n",
       "[Drama, Romance]                       104\n",
       "[Comedy, Drama, Romance]                86\n",
       "                                      ... \n",
       "[Action, Adventure, Crime, Drama]        1\n",
       "[Adventure, Comedy, Horror]              1\n",
       "[Adventure, Comedy, Drama, History]      1\n",
       "[Action, Crime, Romance, Thriller]       1\n",
       "[Animation, Fantasy, Romance]            1\n",
       "Name: genres_list, Length: 448, dtype: int64"
      ]
     },
     "execution_count": 72,
     "metadata": {},
     "output_type": "execute_result"
    }
   ],
   "source": [
    "df['genres_list'].value_counts()"
   ]
  },
  {
   "cell_type": "code",
   "execution_count": 73,
   "id": "58bdb427",
   "metadata": {
    "ExecuteTime": {
     "end_time": "2023-05-19T01:05:17.219997Z",
     "start_time": "2023-05-19T01:05:17.204973Z"
    }
   },
   "outputs": [
    {
     "data": {
      "text/html": [
       "<div>\n",
       "<style scoped>\n",
       "    .dataframe tbody tr th:only-of-type {\n",
       "        vertical-align: middle;\n",
       "    }\n",
       "\n",
       "    .dataframe tbody tr th {\n",
       "        vertical-align: top;\n",
       "    }\n",
       "\n",
       "    .dataframe thead th {\n",
       "        text-align: right;\n",
       "    }\n",
       "</style>\n",
       "<table border=\"1\" class=\"dataframe\">\n",
       "  <thead>\n",
       "    <tr style=\"text-align: right;\">\n",
       "      <th></th>\n",
       "      <th>imdb_id</th>\n",
       "      <th>adult</th>\n",
       "      <th>belongs_to_collection</th>\n",
       "      <th>budget</th>\n",
       "      <th>genres</th>\n",
       "      <th>popularity</th>\n",
       "      <th>revenue</th>\n",
       "      <th>runtime</th>\n",
       "      <th>title</th>\n",
       "      <th>vote_average</th>\n",
       "      <th>vote_count</th>\n",
       "      <th>certification</th>\n",
       "      <th>genres_list</th>\n",
       "      <th>Genre_Family</th>\n",
       "      <th>Genre_Animation</th>\n",
       "      <th>Genre_Science Fiction</th>\n",
       "      <th>Genre_Thriller</th>\n",
       "      <th>Genre_Mystery</th>\n",
       "      <th>Genre_Drama</th>\n",
       "      <th>Genre_Romance</th>\n",
       "      <th>Genre_Comedy</th>\n",
       "      <th>Genre_War</th>\n",
       "      <th>Genre_Crime</th>\n",
       "      <th>Genre_Action</th>\n",
       "      <th>Genre_Adventure</th>\n",
       "      <th>Genre_Horror</th>\n",
       "      <th>Genre_Fantasy</th>\n",
       "      <th>Genre_History</th>\n",
       "      <th>Genre_Western</th>\n",
       "      <th>Genre_Music</th>\n",
       "      <th>Genre_Documentary</th>\n",
       "      <th>Genre_TV Movie</th>\n",
       "      <th>year</th>\n",
       "      <th>month</th>\n",
       "      <th>day</th>\n",
       "    </tr>\n",
       "  </thead>\n",
       "  <tbody>\n",
       "    <tr>\n",
       "      <th>4</th>\n",
       "      <td>tt0398286</td>\n",
       "      <td>0.0</td>\n",
       "      <td>False</td>\n",
       "      <td>260000000.0</td>\n",
       "      <td>[{'id': 16, 'name': 'Animation'}, {'id': 10751...</td>\n",
       "      <td>108.562</td>\n",
       "      <td>5.924617e+08</td>\n",
       "      <td>100.0</td>\n",
       "      <td>Tangled</td>\n",
       "      <td>7.590</td>\n",
       "      <td>10223.0</td>\n",
       "      <td>PG</td>\n",
       "      <td>[Animation, Family]</td>\n",
       "      <td>True</td>\n",
       "      <td>True</td>\n",
       "      <td>False</td>\n",
       "      <td>False</td>\n",
       "      <td>False</td>\n",
       "      <td>False</td>\n",
       "      <td>False</td>\n",
       "      <td>False</td>\n",
       "      <td>False</td>\n",
       "      <td>False</td>\n",
       "      <td>False</td>\n",
       "      <td>False</td>\n",
       "      <td>False</td>\n",
       "      <td>False</td>\n",
       "      <td>False</td>\n",
       "      <td>False</td>\n",
       "      <td>False</td>\n",
       "      <td>False</td>\n",
       "      <td>False</td>\n",
       "      <td>2010.0</td>\n",
       "      <td>11.0</td>\n",
       "      <td>24.0</td>\n",
       "    </tr>\n",
       "    <tr>\n",
       "      <th>6</th>\n",
       "      <td>tt0411951</td>\n",
       "      <td>0.0</td>\n",
       "      <td>True</td>\n",
       "      <td>30000000.0</td>\n",
       "      <td>[{'id': 80, 'name': 'Crime'}, {'id': 18, 'name...</td>\n",
       "      <td>21.896</td>\n",
       "      <td>9.670000e+05</td>\n",
       "      <td>92.0</td>\n",
       "      <td>Tekken</td>\n",
       "      <td>5.368</td>\n",
       "      <td>600.0</td>\n",
       "      <td>R</td>\n",
       "      <td>[Action, Crime, Drama, Science Fiction, Thriller]</td>\n",
       "      <td>False</td>\n",
       "      <td>False</td>\n",
       "      <td>True</td>\n",
       "      <td>True</td>\n",
       "      <td>False</td>\n",
       "      <td>True</td>\n",
       "      <td>False</td>\n",
       "      <td>False</td>\n",
       "      <td>False</td>\n",
       "      <td>True</td>\n",
       "      <td>True</td>\n",
       "      <td>False</td>\n",
       "      <td>False</td>\n",
       "      <td>False</td>\n",
       "      <td>False</td>\n",
       "      <td>False</td>\n",
       "      <td>False</td>\n",
       "      <td>False</td>\n",
       "      <td>False</td>\n",
       "      <td>2010.0</td>\n",
       "      <td>3.0</td>\n",
       "      <td>20.0</td>\n",
       "    </tr>\n",
       "    <tr>\n",
       "      <th>9</th>\n",
       "      <td>tt0427152</td>\n",
       "      <td>0.0</td>\n",
       "      <td>False</td>\n",
       "      <td>69000000.0</td>\n",
       "      <td>[{'id': 35, 'name': 'Comedy'}]</td>\n",
       "      <td>13.637</td>\n",
       "      <td>8.638786e+07</td>\n",
       "      <td>114.0</td>\n",
       "      <td>Dinner for Schmucks</td>\n",
       "      <td>5.692</td>\n",
       "      <td>1601.0</td>\n",
       "      <td>PG-13</td>\n",
       "      <td>[Comedy]</td>\n",
       "      <td>False</td>\n",
       "      <td>False</td>\n",
       "      <td>False</td>\n",
       "      <td>False</td>\n",
       "      <td>False</td>\n",
       "      <td>False</td>\n",
       "      <td>False</td>\n",
       "      <td>True</td>\n",
       "      <td>False</td>\n",
       "      <td>False</td>\n",
       "      <td>False</td>\n",
       "      <td>False</td>\n",
       "      <td>False</td>\n",
       "      <td>False</td>\n",
       "      <td>False</td>\n",
       "      <td>False</td>\n",
       "      <td>False</td>\n",
       "      <td>False</td>\n",
       "      <td>False</td>\n",
       "      <td>2010.0</td>\n",
       "      <td>7.0</td>\n",
       "      <td>30.0</td>\n",
       "    </tr>\n",
       "    <tr>\n",
       "      <th>10</th>\n",
       "      <td>tt0429493</td>\n",
       "      <td>0.0</td>\n",
       "      <td>False</td>\n",
       "      <td>110000000.0</td>\n",
       "      <td>[{'id': 53, 'name': 'Thriller'}, {'id': 28, 'n...</td>\n",
       "      <td>31.075</td>\n",
       "      <td>1.772388e+08</td>\n",
       "      <td>117.0</td>\n",
       "      <td>The A-Team</td>\n",
       "      <td>6.393</td>\n",
       "      <td>4206.0</td>\n",
       "      <td>PG-13</td>\n",
       "      <td>[Action, Adventure, Comedy, Crime, Thriller]</td>\n",
       "      <td>False</td>\n",
       "      <td>False</td>\n",
       "      <td>False</td>\n",
       "      <td>True</td>\n",
       "      <td>False</td>\n",
       "      <td>False</td>\n",
       "      <td>False</td>\n",
       "      <td>True</td>\n",
       "      <td>False</td>\n",
       "      <td>True</td>\n",
       "      <td>True</td>\n",
       "      <td>True</td>\n",
       "      <td>False</td>\n",
       "      <td>False</td>\n",
       "      <td>False</td>\n",
       "      <td>False</td>\n",
       "      <td>False</td>\n",
       "      <td>False</td>\n",
       "      <td>False</td>\n",
       "      <td>2010.0</td>\n",
       "      <td>6.0</td>\n",
       "      <td>9.0</td>\n",
       "    </tr>\n",
       "    <tr>\n",
       "      <th>11</th>\n",
       "      <td>tt0435761</td>\n",
       "      <td>0.0</td>\n",
       "      <td>True</td>\n",
       "      <td>200000000.0</td>\n",
       "      <td>[{'id': 16, 'name': 'Animation'}, {'id': 10751...</td>\n",
       "      <td>49.445</td>\n",
       "      <td>1.066970e+09</td>\n",
       "      <td>103.0</td>\n",
       "      <td>Toy Story 3</td>\n",
       "      <td>7.792</td>\n",
       "      <td>13435.0</td>\n",
       "      <td>G</td>\n",
       "      <td>[Animation, Comedy, Family]</td>\n",
       "      <td>True</td>\n",
       "      <td>True</td>\n",
       "      <td>False</td>\n",
       "      <td>False</td>\n",
       "      <td>False</td>\n",
       "      <td>False</td>\n",
       "      <td>False</td>\n",
       "      <td>True</td>\n",
       "      <td>False</td>\n",
       "      <td>False</td>\n",
       "      <td>False</td>\n",
       "      <td>False</td>\n",
       "      <td>False</td>\n",
       "      <td>False</td>\n",
       "      <td>False</td>\n",
       "      <td>False</td>\n",
       "      <td>False</td>\n",
       "      <td>False</td>\n",
       "      <td>False</td>\n",
       "      <td>2010.0</td>\n",
       "      <td>6.0</td>\n",
       "      <td>16.0</td>\n",
       "    </tr>\n",
       "  </tbody>\n",
       "</table>\n",
       "</div>"
      ],
      "text/plain": [
       "      imdb_id  adult  belongs_to_collection       budget  \\\n",
       "4   tt0398286    0.0                  False  260000000.0   \n",
       "6   tt0411951    0.0                   True   30000000.0   \n",
       "9   tt0427152    0.0                  False   69000000.0   \n",
       "10  tt0429493    0.0                  False  110000000.0   \n",
       "11  tt0435761    0.0                   True  200000000.0   \n",
       "\n",
       "                                               genres  popularity  \\\n",
       "4   [{'id': 16, 'name': 'Animation'}, {'id': 10751...     108.562   \n",
       "6   [{'id': 80, 'name': 'Crime'}, {'id': 18, 'name...      21.896   \n",
       "9                      [{'id': 35, 'name': 'Comedy'}]      13.637   \n",
       "10  [{'id': 53, 'name': 'Thriller'}, {'id': 28, 'n...      31.075   \n",
       "11  [{'id': 16, 'name': 'Animation'}, {'id': 10751...      49.445   \n",
       "\n",
       "         revenue  runtime                title  vote_average  vote_count  \\\n",
       "4   5.924617e+08    100.0              Tangled         7.590     10223.0   \n",
       "6   9.670000e+05     92.0               Tekken         5.368       600.0   \n",
       "9   8.638786e+07    114.0  Dinner for Schmucks         5.692      1601.0   \n",
       "10  1.772388e+08    117.0           The A-Team         6.393      4206.0   \n",
       "11  1.066970e+09    103.0          Toy Story 3         7.792     13435.0   \n",
       "\n",
       "   certification                                        genres_list  \\\n",
       "4             PG                                [Animation, Family]   \n",
       "6              R  [Action, Crime, Drama, Science Fiction, Thriller]   \n",
       "9          PG-13                                           [Comedy]   \n",
       "10         PG-13       [Action, Adventure, Comedy, Crime, Thriller]   \n",
       "11             G                        [Animation, Comedy, Family]   \n",
       "\n",
       "    Genre_Family  Genre_Animation  Genre_Science Fiction  Genre_Thriller  \\\n",
       "4           True             True                  False           False   \n",
       "6          False            False                   True            True   \n",
       "9          False            False                  False           False   \n",
       "10         False            False                  False            True   \n",
       "11          True             True                  False           False   \n",
       "\n",
       "    Genre_Mystery  Genre_Drama  Genre_Romance  Genre_Comedy  Genre_War  \\\n",
       "4           False        False          False         False      False   \n",
       "6           False         True          False         False      False   \n",
       "9           False        False          False          True      False   \n",
       "10          False        False          False          True      False   \n",
       "11          False        False          False          True      False   \n",
       "\n",
       "    Genre_Crime  Genre_Action  Genre_Adventure  Genre_Horror  Genre_Fantasy  \\\n",
       "4         False         False            False         False          False   \n",
       "6          True          True            False         False          False   \n",
       "9         False         False            False         False          False   \n",
       "10         True          True             True         False          False   \n",
       "11        False         False            False         False          False   \n",
       "\n",
       "    Genre_History  Genre_Western  Genre_Music  Genre_Documentary  \\\n",
       "4           False          False        False              False   \n",
       "6           False          False        False              False   \n",
       "9           False          False        False              False   \n",
       "10          False          False        False              False   \n",
       "11          False          False        False              False   \n",
       "\n",
       "    Genre_TV Movie    year  month   day  \n",
       "4            False  2010.0   11.0  24.0  \n",
       "6            False  2010.0    3.0  20.0  \n",
       "9            False  2010.0    7.0  30.0  \n",
       "10           False  2010.0    6.0   9.0  \n",
       "11           False  2010.0    6.0  16.0  "
      ]
     },
     "execution_count": 73,
     "metadata": {},
     "output_type": "execute_result"
    }
   ],
   "source": [
    "df.head()"
   ]
  },
  {
   "cell_type": "code",
   "execution_count": 74,
   "id": "47a93807",
   "metadata": {
    "ExecuteTime": {
     "end_time": "2023-05-19T01:05:17.235023Z",
     "start_time": "2023-05-19T01:05:17.220998Z"
    }
   },
   "outputs": [],
   "source": [
    "genres_df['genres_list'] = [','.join(map(str, l)) for l in df['genres_list']]"
   ]
  },
  {
   "cell_type": "code",
   "execution_count": 75,
   "id": "67d354ae",
   "metadata": {
    "ExecuteTime": {
     "end_time": "2023-05-19T01:05:17.251051Z",
     "start_time": "2023-05-19T01:05:17.236024Z"
    }
   },
   "outputs": [
    {
     "data": {
      "text/plain": [
       "4                                Animation,Family\n",
       "6     Action,Crime,Drama,Science Fiction,Thriller\n",
       "9                                          Comedy\n",
       "10         Action,Adventure,Comedy,Crime,Thriller\n",
       "11                        Animation,Comedy,Family\n",
       "Name: genres_list, dtype: object"
      ]
     },
     "execution_count": 75,
     "metadata": {},
     "output_type": "execute_result"
    }
   ],
   "source": [
    "genres_df['genres_list'].head()"
   ]
  },
  {
   "cell_type": "code",
   "execution_count": 76,
   "id": "a97ba06a",
   "metadata": {
    "ExecuteTime": {
     "end_time": "2023-05-19T01:05:17.267062Z",
     "start_time": "2023-05-19T01:05:17.252052Z"
    }
   },
   "outputs": [],
   "source": [
    "genres_df.dropna(subset=['genres_list'], inplace = True)"
   ]
  },
  {
   "cell_type": "code",
   "execution_count": 77,
   "id": "b64948e1",
   "metadata": {
    "ExecuteTime": {
     "end_time": "2023-05-19T01:05:17.282372Z",
     "start_time": "2023-05-19T01:05:17.268067Z"
    }
   },
   "outputs": [
    {
     "data": {
      "text/plain": [
       "0"
      ]
     },
     "execution_count": 77,
     "metadata": {},
     "output_type": "execute_result"
    }
   ],
   "source": [
    "genres_df['genres_list'].isna().sum()"
   ]
  },
  {
   "cell_type": "code",
   "execution_count": 78,
   "id": "f0520ab7",
   "metadata": {
    "ExecuteTime": {
     "end_time": "2023-05-19T01:05:17.298033Z",
     "start_time": "2023-05-19T01:05:17.283371Z"
    },
    "scrolled": false
   },
   "outputs": [
    {
     "data": {
      "text/plain": [
       "Drama                             232\n",
       "Comedy                            169\n",
       "Comedy,Drama                      131\n",
       "Drama,Romance                     104\n",
       "Comedy,Drama,Romance               86\n",
       "                                 ... \n",
       "Action,Adventure,Crime,Drama        1\n",
       "Adventure,Comedy,Horror             1\n",
       "Adventure,Comedy,Drama,History      1\n",
       "Action,Crime,Romance,Thriller       1\n",
       "Animation,Fantasy,Romance           1\n",
       "Name: genres_list, Length: 448, dtype: int64"
      ]
     },
     "execution_count": 78,
     "metadata": {},
     "output_type": "execute_result"
    }
   ],
   "source": [
    "genres_df['genres_list'].value_counts()"
   ]
  },
  {
   "cell_type": "code",
   "execution_count": 79,
   "id": "9490a596",
   "metadata": {
    "ExecuteTime": {
     "end_time": "2023-05-19T01:05:17.313539Z",
     "start_time": "2023-05-19T01:05:17.299033Z"
    }
   },
   "outputs": [],
   "source": [
    "genres_df['genres_list'].replace('', np.nan, inplace=True)"
   ]
  },
  {
   "cell_type": "code",
   "execution_count": 80,
   "id": "03c445b0",
   "metadata": {
    "ExecuteTime": {
     "end_time": "2023-05-19T01:05:17.329136Z",
     "start_time": "2023-05-19T01:05:17.314540Z"
    }
   },
   "outputs": [
    {
     "data": {
      "text/plain": [
       "Drama                             232\n",
       "Comedy                            169\n",
       "Comedy,Drama                      131\n",
       "Drama,Romance                     104\n",
       "Comedy,Drama,Romance               86\n",
       "                                 ... \n",
       "Action,Adventure,Crime,Drama        1\n",
       "Adventure,Comedy,Horror             1\n",
       "Adventure,Comedy,Drama,History      1\n",
       "Action,Crime,Romance,Thriller       1\n",
       "Animation,Fantasy,Romance           1\n",
       "Name: genres_list, Length: 447, dtype: int64"
      ]
     },
     "execution_count": 80,
     "metadata": {},
     "output_type": "execute_result"
    }
   ],
   "source": [
    "genres_df['genres_list'].value_counts()"
   ]
  },
  {
   "cell_type": "code",
   "execution_count": 81,
   "id": "2d952154",
   "metadata": {
    "ExecuteTime": {
     "end_time": "2023-05-19T01:05:17.344446Z",
     "start_time": "2023-05-19T01:05:17.330136Z"
    }
   },
   "outputs": [
    {
     "data": {
      "text/plain": [
       "9"
      ]
     },
     "execution_count": 81,
     "metadata": {},
     "output_type": "execute_result"
    }
   ],
   "source": [
    "genres_df['genres_list'].isna().sum()"
   ]
  },
  {
   "cell_type": "code",
   "execution_count": 82,
   "id": "f32e9acd",
   "metadata": {
    "ExecuteTime": {
     "end_time": "2023-05-19T01:05:17.359468Z",
     "start_time": "2023-05-19T01:05:17.348956Z"
    }
   },
   "outputs": [],
   "source": [
    "genres_df.dropna(subset=['genres_list'], inplace = True)"
   ]
  },
  {
   "cell_type": "code",
   "execution_count": 83,
   "id": "cf74c6e2",
   "metadata": {
    "ExecuteTime": {
     "end_time": "2023-05-19T01:05:17.374977Z",
     "start_time": "2023-05-19T01:05:17.360470Z"
    }
   },
   "outputs": [
    {
     "data": {
      "text/plain": [
       "0"
      ]
     },
     "execution_count": 83,
     "metadata": {},
     "output_type": "execute_result"
    }
   ],
   "source": [
    "genres_df['genres_list'].isna().sum()"
   ]
  },
  {
   "cell_type": "code",
   "execution_count": 84,
   "id": "c20309c0",
   "metadata": {
    "ExecuteTime": {
     "end_time": "2023-05-19T01:05:17.390362Z",
     "start_time": "2023-05-19T01:05:17.375976Z"
    }
   },
   "outputs": [],
   "source": [
    "genres_df['genres_list'] = genres_df['genres_list'].apply(lambda x: \"drama\" if x == 'Drama' else \"no drama\")"
   ]
  },
  {
   "cell_type": "code",
   "execution_count": 85,
   "id": "5b4bcfcb",
   "metadata": {
    "ExecuteTime": {
     "end_time": "2023-05-19T01:05:17.405876Z",
     "start_time": "2023-05-19T01:05:17.391363Z"
    }
   },
   "outputs": [
    {
     "data": {
      "text/plain": [
       "no drama    2575\n",
       "drama        232\n",
       "Name: genres_list, dtype: int64"
      ]
     },
     "execution_count": 85,
     "metadata": {},
     "output_type": "execute_result"
    }
   ],
   "source": [
    "genres_df['genres_list'].value_counts()"
   ]
  },
  {
   "cell_type": "code",
   "execution_count": 86,
   "id": "fea9618a",
   "metadata": {
    "ExecuteTime": {
     "end_time": "2023-05-19T01:05:17.421866Z",
     "start_time": "2023-05-19T01:05:17.405876Z"
    }
   },
   "outputs": [
    {
     "data": {
      "text/plain": [
       "98      5144717.0\n",
       "110    93617009.0\n",
       "145    60321861.0\n",
       "158     1183258.0\n",
       "228      399611.0\n",
       "Name: revenue, dtype: float64"
      ]
     },
     "execution_count": 86,
     "metadata": {},
     "output_type": "execute_result"
    }
   ],
   "source": [
    "#longer_hours = hours_df.loc[hours_df['runtime'] > 170, \"revenue\"].copy()\n",
    "drama = genres_df.loc[genres_df['genres_list'] == 'drama', 'revenue'].copy()\n",
    "drama.head()"
   ]
  },
  {
   "cell_type": "code",
   "execution_count": 87,
   "id": "061ba8ea",
   "metadata": {
    "ExecuteTime": {
     "end_time": "2023-05-19T01:05:17.437374Z",
     "start_time": "2023-05-19T01:05:17.422867Z"
    }
   },
   "outputs": [
    {
     "data": {
      "text/plain": [
       "4     5.924617e+08\n",
       "6     9.670000e+05\n",
       "9     8.638786e+07\n",
       "10    1.772388e+08\n",
       "11    1.066970e+09\n",
       "Name: revenue, dtype: float64"
      ]
     },
     "execution_count": 87,
     "metadata": {},
     "output_type": "execute_result"
    }
   ],
   "source": [
    "no_drama = genres_df.loc[genres_df['genres_list'] == 'no drama', 'revenue'].copy()\n",
    "no_drama.head()"
   ]
  },
  {
   "cell_type": "code",
   "execution_count": 88,
   "id": "7c1daf41",
   "metadata": {
    "ExecuteTime": {
     "end_time": "2023-05-19T01:05:17.452999Z",
     "start_time": "2023-05-19T01:05:17.439485Z"
    }
   },
   "outputs": [
    {
     "data": {
      "text/plain": [
       "count    2.320000e+02\n",
       "mean     2.135087e+07\n",
       "std      4.631435e+07\n",
       "min      5.000000e+00\n",
       "25%      4.141078e+05\n",
       "50%      3.969444e+06\n",
       "75%      2.046343e+07\n",
       "max      4.328447e+08\n",
       "Name: revenue, dtype: float64"
      ]
     },
     "execution_count": 88,
     "metadata": {},
     "output_type": "execute_result"
    }
   ],
   "source": [
    "drama.describe()"
   ]
  },
  {
   "cell_type": "code",
   "execution_count": 89,
   "id": "a709b925",
   "metadata": {
    "ExecuteTime": {
     "end_time": "2023-05-19T01:05:17.469030Z",
     "start_time": "2023-05-19T01:05:17.454000Z"
    }
   },
   "outputs": [
    {
     "data": {
      "text/plain": [
       "count    2.575000e+03\n",
       "mean     1.065102e+08\n",
       "std      2.180554e+08\n",
       "min      1.000000e+00\n",
       "25%      3.393639e+06\n",
       "50%      2.407927e+07\n",
       "75%      9.961401e+07\n",
       "max      2.794732e+09\n",
       "Name: revenue, dtype: float64"
      ]
     },
     "execution_count": 89,
     "metadata": {},
     "output_type": "execute_result"
    }
   ],
   "source": [
    "no_drama.describe()"
   ]
  },
  {
   "cell_type": "code",
   "execution_count": 90,
   "id": "7f71b45c",
   "metadata": {
    "ExecuteTime": {
     "end_time": "2023-05-19T01:05:17.484552Z",
     "start_time": "2023-05-19T01:05:17.470036Z"
    }
   },
   "outputs": [
    {
     "name": "stdout",
     "output_type": "stream",
     "text": [
      "232\n",
      "2575\n"
     ]
    }
   ],
   "source": [
    "print(len(drama))\n",
    "print(len(no_drama))"
   ]
  },
  {
   "cell_type": "markdown",
   "id": "1809be39",
   "metadata": {},
   "source": [
    "Outlier assumptions"
   ]
  },
  {
   "cell_type": "code",
   "execution_count": 91,
   "id": "d8175fa7",
   "metadata": {
    "ExecuteTime": {
     "end_time": "2023-05-19T01:05:17.499583Z",
     "start_time": "2023-05-19T01:05:17.485553Z"
    }
   },
   "outputs": [
    {
     "data": {
      "text/plain": [
       "6"
      ]
     },
     "execution_count": 91,
     "metadata": {},
     "output_type": "execute_result"
    }
   ],
   "source": [
    "zscore_drama = stats.zscore(drama)\n",
    "outliers_drama = abs(zscore_drama) > 3\n",
    "np.sum(outliers_drama)"
   ]
  },
  {
   "cell_type": "code",
   "execution_count": 92,
   "id": "06604e22",
   "metadata": {
    "ExecuteTime": {
     "end_time": "2023-05-19T01:05:17.515614Z",
     "start_time": "2023-05-19T01:05:17.500583Z"
    }
   },
   "outputs": [
    {
     "data": {
      "text/plain": [
       "68"
      ]
     },
     "execution_count": 92,
     "metadata": {},
     "output_type": "execute_result"
    }
   ],
   "source": [
    "zscore_no_drama = stats.zscore(no_drama)\n",
    "outliers_no_drama = abs(zscore_no_drama) > 3\n",
    "np.sum(outliers_no_drama)"
   ]
  },
  {
   "cell_type": "code",
   "execution_count": 93,
   "id": "1bb97907",
   "metadata": {
    "ExecuteTime": {
     "end_time": "2023-05-19T01:05:17.531632Z",
     "start_time": "2023-05-19T01:05:17.517119Z"
    }
   },
   "outputs": [
    {
     "data": {
      "text/plain": [
       "226"
      ]
     },
     "execution_count": 93,
     "metadata": {},
     "output_type": "execute_result"
    }
   ],
   "source": [
    "drama = drama[(np.abs(stats.zscore(drama)) < 3)]\n",
    "len(drama)"
   ]
  },
  {
   "cell_type": "code",
   "execution_count": 94,
   "id": "2dd16e0a",
   "metadata": {
    "ExecuteTime": {
     "end_time": "2023-05-19T01:05:17.547142Z",
     "start_time": "2023-05-19T01:05:17.532633Z"
    }
   },
   "outputs": [
    {
     "data": {
      "text/plain": [
       "2507"
      ]
     },
     "execution_count": 94,
     "metadata": {},
     "output_type": "execute_result"
    }
   ],
   "source": [
    "no_drama = no_drama[(np.abs(stats.zscore(no_drama)) < 3)]\n",
    "len(no_drama)"
   ]
  },
  {
   "cell_type": "markdown",
   "id": "07345339",
   "metadata": {},
   "source": [
    "Normality Test"
   ]
  },
  {
   "cell_type": "code",
   "execution_count": 95,
   "id": "69f10b06",
   "metadata": {
    "ExecuteTime": {
     "end_time": "2023-05-19T01:05:17.563166Z",
     "start_time": "2023-05-19T01:05:17.548652Z"
    }
   },
   "outputs": [
    {
     "data": {
      "text/plain": [
       "NormaltestResult(statistic=118.05073293225274, pvalue=2.3206468273667484e-26)"
      ]
     },
     "execution_count": 95,
     "metadata": {},
     "output_type": "execute_result"
    }
   ],
   "source": [
    "norm_drama = stats.normaltest(drama)\n",
    "norm_drama"
   ]
  },
  {
   "cell_type": "code",
   "execution_count": 96,
   "id": "05abe2e7",
   "metadata": {
    "ExecuteTime": {
     "end_time": "2023-05-19T01:05:17.578184Z",
     "start_time": "2023-05-19T01:05:17.564165Z"
    }
   },
   "outputs": [
    {
     "data": {
      "text/plain": [
       "NormaltestResult(statistic=1387.480813962509, pvalue=5.156670415721271e-302)"
      ]
     },
     "execution_count": 96,
     "metadata": {},
     "output_type": "execute_result"
    }
   ],
   "source": [
    "norm_no_drama = stats.normaltest(no_drama)\n",
    "norm_no_drama"
   ]
  },
  {
   "cell_type": "markdown",
   "id": "82963f67",
   "metadata": {},
   "source": [
    "* Both of the pvalues for the normality test are below the 0.05, they are not normaly distributed. We can still move on since the sample sizes are large enough. They are above the 15 per group mark."
   ]
  },
  {
   "cell_type": "markdown",
   "id": "58062ca6",
   "metadata": {},
   "source": [
    "Equal Variance Test"
   ]
  },
  {
   "cell_type": "code",
   "execution_count": 97,
   "id": "ce94a1f1",
   "metadata": {
    "ExecuteTime": {
     "end_time": "2023-05-19T01:05:17.593699Z",
     "start_time": "2023-05-19T01:05:17.580185Z"
    },
    "scrolled": true
   },
   "outputs": [
    {
     "data": {
      "text/plain": [
       "LeveneResult(statistic=50.14699871438782, pvalue=1.8069829177243022e-12)"
      ]
     },
     "execution_count": 97,
     "metadata": {},
     "output_type": "execute_result"
    }
   ],
   "source": [
    "variance_result = stats.levene(drama, no_drama)\n",
    "variance_result"
   ]
  },
  {
   "cell_type": "markdown",
   "id": "e257ee48",
   "metadata": {},
   "source": [
    "* Our pvalue is not more than 0.05. We do not have equal variance, therefore we will use \"equal_var = False\" for our t-test."
   ]
  },
  {
   "cell_type": "markdown",
   "id": "d93613cc",
   "metadata": {},
   "source": [
    "T-Test"
   ]
  },
  {
   "cell_type": "code",
   "execution_count": 98,
   "id": "f83dcc07",
   "metadata": {
    "ExecuteTime": {
     "end_time": "2023-05-19T01:05:17.608490Z",
     "start_time": "2023-05-19T01:05:17.594698Z"
    }
   },
   "outputs": [
    {
     "data": {
      "text/plain": [
       "Ttest_indResult(statistic=-19.95129446927105, pvalue=1.7534606874692913e-79)"
      ]
     },
     "execution_count": 98,
     "metadata": {},
     "output_type": "execute_result"
    }
   ],
   "source": [
    "ttest_result = stats.ttest_ind(drama, no_drama, equal_var = False)\n",
    "ttest_result"
   ]
  },
  {
   "cell_type": "markdown",
   "id": "12496edf",
   "metadata": {},
   "source": [
    "* The pvalue for the ttest is less than alpha (0.05), therefore we reject the null hypothesis. "
   ]
  },
  {
   "cell_type": "markdown",
   "id": "06c1cb21",
   "metadata": {},
   "source": [
    "* Our pvalue < alpha (0.05), so we reject the null hypothesis."
   ]
  },
  {
   "cell_type": "markdown",
   "id": "707eb54a",
   "metadata": {},
   "source": [
    "# Making genres_list values 'yes' and 'no' values only for if it is exclusively a drama genre or not. This will make making our visuals easier."
   ]
  },
  {
   "cell_type": "code",
   "execution_count": 99,
   "id": "f4965e39",
   "metadata": {
    "ExecuteTime": {
     "end_time": "2023-05-19T01:05:18.386269Z",
     "start_time": "2023-05-19T01:05:17.609490Z"
    },
    "scrolled": false
   },
   "outputs": [
    {
     "data": {
      "image/png": "[encoded data removed]",
      "text/plain": [
       "<Figure size 1000x500 with 2 Axes>"
      ]
     },
     "metadata": {},
     "output_type": "display_data"
    }
   ],
   "source": [
    "drama_palette={'drama':'dodgerblue', 'no drama':'salmon'}\n",
    "## Visualizing Sample means\n",
    "fig, (ax,ax_bar) = plt.subplots(figsize= (10,5), ncols=2, \n",
    "                                constrained_layout=True,\n",
    "                                gridspec_kw={'width_ratios':[0.8,0.2]})\n",
    "\n",
    "\n",
    "# Histogram\n",
    "ax = sns.histplot(data=genres_df, x='revenue',fill=True,hue='genres_list',kde=True,\n",
    "                  stat='density',common_norm=False,ax=ax,\n",
    "                  palette=drama_palette)\n",
    "\n",
    "ax.axvline(np.mean(drama), ls='--',lw=3, \n",
    "           label=f\"Drama (Mean={np.mean(drama):.2f})\",color=drama_palette['drama'])\n",
    "\n",
    "ax.axvline(np.mean(no_drama), ls='--', lw=3, \n",
    "           label=f\"No Drama (Mean={np.mean(no_drama):.2f})\",color=drama_palette['no drama'])\n",
    "\n",
    "ax.legend(prop={\"size\":14}, loc='upper right')#bbox_to_anchor=[1,1])\n",
    "## Barplot\n",
    "sns.barplot(data=genres_df, x='genres_list',y='revenue',ax = ax_bar,palette=drama_palette)\n",
    "fig.suptitle('Comparison of Revenue by Drama Presence',fontsize='xx-large');"
   ]
  },
  {
   "cell_type": "markdown",
   "id": "cdd3f6c3",
   "metadata": {},
   "source": [
    "* From the visual above, the right figure clearly shows that movies are not exclusively dramatic have higher revenue as compared with movies that are exclusively dramatic. The left figure is less interpretable, since the distribution is off for both groups."
   ]
  },
  {
   "cell_type": "markdown",
   "id": "72ad9d87",
   "metadata": {},
   "source": [
    "# Conclusion\n",
    " - From the pvalue from the ttest, we see that it is less than our alpha (0.05). We therefore reject our null hypothesis. In conjuction with the visual above, we can clearly see than movies that are not exclusively dramatic generally have a higher revenue. "
   ]
  }
 ],
 "metadata": {
  "kernelspec": {
   "display_name": "Python (dojo-env)",
   "language": "python",
   "name": "dojo-env"
  },
  "language_info": {
   "codemirror_mode": {
    "name": "ipython",
    "version": 3
   },
   "file_extension": ".py",
   "mimetype": "text/x-python",
   "name": "python",
   "nbconvert_exporter": "python",
   "pygments_lexer": "ipython3",
   "version": "3.9.15"
  },
  "toc": {
   "base_numbering": 1,
   "nav_menu": {},
   "number_sections": false,
   "sideBar": true,
   "skip_h1_title": false,
   "title_cell": "Table of Contents",
   "title_sidebar": "Contents",
   "toc_cell": false,
   "toc_position": {},
   "toc_section_display": true,
   "toc_window_display": false
  }
 },
 "nbformat": 4,
 "nbformat_minor": 5
}
