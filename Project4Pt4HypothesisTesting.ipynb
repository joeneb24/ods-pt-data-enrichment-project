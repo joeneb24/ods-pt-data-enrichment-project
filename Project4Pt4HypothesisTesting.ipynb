{
 "cells": [
  {
   "cell_type": "code",
   "execution_count": 1,
   "id": "bad2e570",
   "metadata": {
    "ExecuteTime": {
     "end_time": "2023-05-18T19:48:16.778792Z",
     "start_time": "2023-05-18T19:48:15.710926Z"
    }
   },
   "outputs": [],
   "source": [
    "import json\n",
    "import pandas as pd\n",
    "import numpy as np\n",
    "import seaborn as sns\n",
    "from scipy import stats\n",
    "\n",
    "import matplotlib.pyplot as plt\n",
    "\n",
    "from sklearn.model_selection import train_test_split\n",
    "from sklearn.preprocessing import OneHotEncoder, StandardScaler\n",
    "from sklearn.impute import SimpleImputer\n",
    "from sklearn.compose import make_column_transformer, make_column_selector, ColumnTransformer\n",
    "from sklearn.pipeline import make_pipeline, Pipeline\n",
    "from sklearn.metrics import r2_score,mean_absolute_error,mean_squared_error\n",
    "## fixing random for lesson generation\n",
    "np.random.seed(321)"
   ]
  },
  {
   "cell_type": "code",
   "execution_count": 2,
   "id": "86f9bbdc",
   "metadata": {
    "ExecuteTime": {
     "end_time": "2023-05-18T19:48:16.794526Z",
     "start_time": "2023-05-18T19:48:16.779804Z"
    }
   },
   "outputs": [],
   "source": [
    "pd.set_option('display.max_columns',100)"
   ]
  },
  {
   "cell_type": "markdown",
   "id": "fd0a5afd",
   "metadata": {},
   "source": [
    "# Data Exploration"
   ]
  },
  {
   "cell_type": "code",
   "execution_count": 3,
   "id": "73ee753b",
   "metadata": {
    "ExecuteTime": {
     "end_time": "2023-05-18T19:48:17.205703Z",
     "start_time": "2023-05-18T19:48:16.795525Z"
    }
   },
   "outputs": [
    {
     "data": {
      "text/html": [
       "<div>\n",
       "<style scoped>\n",
       "    .dataframe tbody tr th:only-of-type {\n",
       "        vertical-align: middle;\n",
       "    }\n",
       "\n",
       "    .dataframe tbody tr th {\n",
       "        vertical-align: top;\n",
       "    }\n",
       "\n",
       "    .dataframe thead th {\n",
       "        text-align: right;\n",
       "    }\n",
       "</style>\n",
       "<table border=\"1\" class=\"dataframe\">\n",
       "  <thead>\n",
       "    <tr style=\"text-align: right;\">\n",
       "      <th></th>\n",
       "      <th>imdb_id</th>\n",
       "      <th>adult</th>\n",
       "      <th>backdrop_path</th>\n",
       "      <th>belongs_to_collection</th>\n",
       "      <th>budget</th>\n",
       "      <th>genres</th>\n",
       "      <th>homepage</th>\n",
       "      <th>id</th>\n",
       "      <th>original_language</th>\n",
       "      <th>original_title</th>\n",
       "      <th>overview</th>\n",
       "      <th>popularity</th>\n",
       "      <th>poster_path</th>\n",
       "      <th>production_companies</th>\n",
       "      <th>production_countries</th>\n",
       "      <th>release_date</th>\n",
       "      <th>revenue</th>\n",
       "      <th>runtime</th>\n",
       "      <th>spoken_languages</th>\n",
       "      <th>status</th>\n",
       "      <th>tagline</th>\n",
       "      <th>title</th>\n",
       "      <th>video</th>\n",
       "      <th>vote_average</th>\n",
       "      <th>vote_count</th>\n",
       "      <th>certification\\r</th>\n",
       "    </tr>\n",
       "  </thead>\n",
       "  <tbody>\n",
       "    <tr>\n",
       "      <th>0</th>\n",
       "      <td>tt0312305</td>\n",
       "      <td>0.0</td>\n",
       "      <td>/lqUbt2cy2pnqvxKefbQAtxLS0WA.jpg</td>\n",
       "      <td>NaN</td>\n",
       "      <td>0.0</td>\n",
       "      <td>[{'id': 10751, 'name': 'Family'}, {'id': 16, '...</td>\n",
       "      <td>http://www.qqthemovie.com/</td>\n",
       "      <td>23738.0</td>\n",
       "      <td>en</td>\n",
       "      <td>Quantum Quest: A Cassini Space Odyssey</td>\n",
       "      <td>Dave, a young photon, who is forced out of the...</td>\n",
       "      <td>1.619</td>\n",
       "      <td>/uneDCn8y6RHKc5IAfpgznmaan9I.jpg</td>\n",
       "      <td>[]</td>\n",
       "      <td>[{'iso_3166_1': 'US', 'name': 'United States o...</td>\n",
       "      <td>2012-12-02</td>\n",
       "      <td>0.0</td>\n",
       "      <td>45.0</td>\n",
       "      <td>[{'english_name': 'English', 'iso_639_1': 'en'...</td>\n",
       "      <td>Released</td>\n",
       "      <td>NaN</td>\n",
       "      <td>Quantum Quest: A Cassini Space Odyssey</td>\n",
       "      <td>0.0</td>\n",
       "      <td>7.90</td>\n",
       "      <td>8.0</td>\n",
       "      <td>\\r</td>\n",
       "    </tr>\n",
       "    <tr>\n",
       "      <th>1</th>\n",
       "      <td>tt0326965</td>\n",
       "      <td>0.0</td>\n",
       "      <td>/xt2klJdKCVGXcoBGQrGfAS0aGDE.jpg</td>\n",
       "      <td>NaN</td>\n",
       "      <td>0.0</td>\n",
       "      <td>[{'id': 53, 'name': 'Thriller'}, {'id': 9648, ...</td>\n",
       "      <td>http://www.inmysleep.com</td>\n",
       "      <td>40048.0</td>\n",
       "      <td>en</td>\n",
       "      <td>In My Sleep</td>\n",
       "      <td>A sleepwalking, sexaholic masseur wakes up, co...</td>\n",
       "      <td>3.755</td>\n",
       "      <td>/sv9o6VYUQM2AbfmlTwDTn9238R5.jpg</td>\n",
       "      <td>[]</td>\n",
       "      <td>[{'iso_3166_1': 'US', 'name': 'United States o...</td>\n",
       "      <td>2010-04-23</td>\n",
       "      <td>0.0</td>\n",
       "      <td>90.0</td>\n",
       "      <td>[{'english_name': 'English', 'iso_639_1': 'en'...</td>\n",
       "      <td>Released</td>\n",
       "      <td>Sleepwalking can be deadly.</td>\n",
       "      <td>In My Sleep</td>\n",
       "      <td>0.0</td>\n",
       "      <td>5.50</td>\n",
       "      <td>31.0</td>\n",
       "      <td>PG-13\\r</td>\n",
       "    </tr>\n",
       "    <tr>\n",
       "      <th>2</th>\n",
       "      <td>tt0331312</td>\n",
       "      <td>0.0</td>\n",
       "      <td>NaN</td>\n",
       "      <td>NaN</td>\n",
       "      <td>0.0</td>\n",
       "      <td>[]</td>\n",
       "      <td>NaN</td>\n",
       "      <td>214026.0</td>\n",
       "      <td>en</td>\n",
       "      <td>This Wretched Life</td>\n",
       "      <td>Awakening from a near fatal overdose, Chris em...</td>\n",
       "      <td>0.622</td>\n",
       "      <td>/xMMehQD3VWgorYoqvlTeQXSbsFo.jpg</td>\n",
       "      <td>[]</td>\n",
       "      <td>[]</td>\n",
       "      <td>2010-01-01</td>\n",
       "      <td>0.0</td>\n",
       "      <td>0.0</td>\n",
       "      <td>[]</td>\n",
       "      <td>Released</td>\n",
       "      <td>NaN</td>\n",
       "      <td>This Wretched Life</td>\n",
       "      <td>0.0</td>\n",
       "      <td>5.00</td>\n",
       "      <td>1.0</td>\n",
       "      <td>\\r</td>\n",
       "    </tr>\n",
       "    <tr>\n",
       "      <th>3</th>\n",
       "      <td>tt0393049</td>\n",
       "      <td>0.0</td>\n",
       "      <td>/gc9FN5zohhzCt05RkejQIIPLtBl.jpg</td>\n",
       "      <td>NaN</td>\n",
       "      <td>300000.0</td>\n",
       "      <td>[{'id': 10749, 'name': 'Romance'}, {'id': 35, ...</td>\n",
       "      <td>NaN</td>\n",
       "      <td>324352.0</td>\n",
       "      <td>en</td>\n",
       "      <td>Anderson's Cross</td>\n",
       "      <td>Nick Anderson, Kevin Daniels, and Tracey Green...</td>\n",
       "      <td>1.576</td>\n",
       "      <td>/2j90os0c2HJuIjWXxMg9vMvOliw.jpg</td>\n",
       "      <td>[{'id': 46102, 'logo_path': None, 'name': 'Ill...</td>\n",
       "      <td>[{'iso_3166_1': 'US', 'name': 'United States o...</td>\n",
       "      <td>2010-05-20</td>\n",
       "      <td>0.0</td>\n",
       "      <td>98.0</td>\n",
       "      <td>[{'english_name': 'English', 'iso_639_1': 'en'...</td>\n",
       "      <td>Released</td>\n",
       "      <td>Sometimes the boy next door is more than the b...</td>\n",
       "      <td>Anderson's Cross</td>\n",
       "      <td>0.0</td>\n",
       "      <td>4.00</td>\n",
       "      <td>5.0</td>\n",
       "      <td>\\r</td>\n",
       "    </tr>\n",
       "    <tr>\n",
       "      <th>4</th>\n",
       "      <td>tt0398286</td>\n",
       "      <td>0.0</td>\n",
       "      <td>/cWczNud8Y8i8ab0Z4bxos4myWYO.jpg</td>\n",
       "      <td>NaN</td>\n",
       "      <td>260000000.0</td>\n",
       "      <td>[{'id': 16, 'name': 'Animation'}, {'id': 10751...</td>\n",
       "      <td>http://disney.go.com/disneypictures/tangled/</td>\n",
       "      <td>38757.0</td>\n",
       "      <td>en</td>\n",
       "      <td>Tangled</td>\n",
       "      <td>When the kingdom's most wanted-and most charmi...</td>\n",
       "      <td>108.562</td>\n",
       "      <td>/ym7Kst6a4uodryxqbGOxmewF235.jpg</td>\n",
       "      <td>[{'id': 6125, 'logo_path': '/tzsMJBJZINu7GHzrp...</td>\n",
       "      <td>[{'iso_3166_1': 'US', 'name': 'United States o...</td>\n",
       "      <td>2010-11-24</td>\n",
       "      <td>592461732.0</td>\n",
       "      <td>100.0</td>\n",
       "      <td>[{'english_name': 'English', 'iso_639_1': 'en'...</td>\n",
       "      <td>Released</td>\n",
       "      <td>They're taking adventure to new lengths.</td>\n",
       "      <td>Tangled</td>\n",
       "      <td>0.0</td>\n",
       "      <td>7.59</td>\n",
       "      <td>10223.0</td>\n",
       "      <td>PG\\r</td>\n",
       "    </tr>\n",
       "  </tbody>\n",
       "</table>\n",
       "</div>"
      ],
      "text/plain": [
       "     imdb_id  adult                     backdrop_path belongs_to_collection  \\\n",
       "0  tt0312305    0.0  /lqUbt2cy2pnqvxKefbQAtxLS0WA.jpg                   NaN   \n",
       "1  tt0326965    0.0  /xt2klJdKCVGXcoBGQrGfAS0aGDE.jpg                   NaN   \n",
       "2  tt0331312    0.0                               NaN                   NaN   \n",
       "3  tt0393049    0.0  /gc9FN5zohhzCt05RkejQIIPLtBl.jpg                   NaN   \n",
       "4  tt0398286    0.0  /cWczNud8Y8i8ab0Z4bxos4myWYO.jpg                   NaN   \n",
       "\n",
       "        budget                                             genres  \\\n",
       "0          0.0  [{'id': 10751, 'name': 'Family'}, {'id': 16, '...   \n",
       "1          0.0  [{'id': 53, 'name': 'Thriller'}, {'id': 9648, ...   \n",
       "2          0.0                                                 []   \n",
       "3     300000.0  [{'id': 10749, 'name': 'Romance'}, {'id': 35, ...   \n",
       "4  260000000.0  [{'id': 16, 'name': 'Animation'}, {'id': 10751...   \n",
       "\n",
       "                                       homepage        id original_language  \\\n",
       "0                    http://www.qqthemovie.com/   23738.0                en   \n",
       "1                      http://www.inmysleep.com   40048.0                en   \n",
       "2                                           NaN  214026.0                en   \n",
       "3                                           NaN  324352.0                en   \n",
       "4  http://disney.go.com/disneypictures/tangled/   38757.0                en   \n",
       "\n",
       "                           original_title  \\\n",
       "0  Quantum Quest: A Cassini Space Odyssey   \n",
       "1                             In My Sleep   \n",
       "2                      This Wretched Life   \n",
       "3                        Anderson's Cross   \n",
       "4                                 Tangled   \n",
       "\n",
       "                                            overview  popularity  \\\n",
       "0  Dave, a young photon, who is forced out of the...       1.619   \n",
       "1  A sleepwalking, sexaholic masseur wakes up, co...       3.755   \n",
       "2  Awakening from a near fatal overdose, Chris em...       0.622   \n",
       "3  Nick Anderson, Kevin Daniels, and Tracey Green...       1.576   \n",
       "4  When the kingdom's most wanted-and most charmi...     108.562   \n",
       "\n",
       "                        poster_path  \\\n",
       "0  /uneDCn8y6RHKc5IAfpgznmaan9I.jpg   \n",
       "1  /sv9o6VYUQM2AbfmlTwDTn9238R5.jpg   \n",
       "2  /xMMehQD3VWgorYoqvlTeQXSbsFo.jpg   \n",
       "3  /2j90os0c2HJuIjWXxMg9vMvOliw.jpg   \n",
       "4  /ym7Kst6a4uodryxqbGOxmewF235.jpg   \n",
       "\n",
       "                                production_companies  \\\n",
       "0                                                 []   \n",
       "1                                                 []   \n",
       "2                                                 []   \n",
       "3  [{'id': 46102, 'logo_path': None, 'name': 'Ill...   \n",
       "4  [{'id': 6125, 'logo_path': '/tzsMJBJZINu7GHzrp...   \n",
       "\n",
       "                                production_countries release_date  \\\n",
       "0  [{'iso_3166_1': 'US', 'name': 'United States o...   2012-12-02   \n",
       "1  [{'iso_3166_1': 'US', 'name': 'United States o...   2010-04-23   \n",
       "2                                                 []   2010-01-01   \n",
       "3  [{'iso_3166_1': 'US', 'name': 'United States o...   2010-05-20   \n",
       "4  [{'iso_3166_1': 'US', 'name': 'United States o...   2010-11-24   \n",
       "\n",
       "       revenue  runtime                                   spoken_languages  \\\n",
       "0          0.0     45.0  [{'english_name': 'English', 'iso_639_1': 'en'...   \n",
       "1          0.0     90.0  [{'english_name': 'English', 'iso_639_1': 'en'...   \n",
       "2          0.0      0.0                                                 []   \n",
       "3          0.0     98.0  [{'english_name': 'English', 'iso_639_1': 'en'...   \n",
       "4  592461732.0    100.0  [{'english_name': 'English', 'iso_639_1': 'en'...   \n",
       "\n",
       "     status                                            tagline  \\\n",
       "0  Released                                                NaN   \n",
       "1  Released                        Sleepwalking can be deadly.   \n",
       "2  Released                                                NaN   \n",
       "3  Released  Sometimes the boy next door is more than the b...   \n",
       "4  Released           They're taking adventure to new lengths.   \n",
       "\n",
       "                                    title  video  vote_average  vote_count  \\\n",
       "0  Quantum Quest: A Cassini Space Odyssey    0.0          7.90         8.0   \n",
       "1                             In My Sleep    0.0          5.50        31.0   \n",
       "2                      This Wretched Life    0.0          5.00         1.0   \n",
       "3                        Anderson's Cross    0.0          4.00         5.0   \n",
       "4                                 Tangled    0.0          7.59     10223.0   \n",
       "\n",
       "  certification\\r  \n",
       "0              \\r  \n",
       "1         PG-13\\r  \n",
       "2              \\r  \n",
       "3              \\r  \n",
       "4            PG\\r  "
      ]
     },
     "execution_count": 3,
     "metadata": {},
     "output_type": "execute_result"
    }
   ],
   "source": [
    "# Load in the dataframe from project part 1 as basics:\n",
    "df = pd.read_csv('Data/combined_tmdb_data.csv.gz')\n",
    "df.head()"
   ]
  },
  {
   "cell_type": "code",
   "execution_count": 4,
   "id": "7c358e13",
   "metadata": {
    "ExecuteTime": {
     "end_time": "2023-05-18T19:48:17.252888Z",
     "start_time": "2023-05-18T19:48:17.206703Z"
    }
   },
   "outputs": [
    {
     "name": "stdout",
     "output_type": "stream",
     "text": [
      "<class 'pandas.core.frame.DataFrame'>\n",
      "RangeIndex: 38136 entries, 0 to 38135\n",
      "Data columns (total 26 columns):\n",
      " #   Column                 Non-Null Count  Dtype  \n",
      "---  ------                 --------------  -----  \n",
      " 0   imdb_id                38136 non-null  object \n",
      " 1   adult                  38136 non-null  float64\n",
      " 2   backdrop_path          25276 non-null  object \n",
      " 3   belongs_to_collection  2499 non-null   object \n",
      " 4   budget                 38136 non-null  float64\n",
      " 5   genres                 38136 non-null  object \n",
      " 6   homepage               10063 non-null  object \n",
      " 7   id                     38136 non-null  float64\n",
      " 8   original_language      38136 non-null  object \n",
      " 9   original_title         38136 non-null  object \n",
      " 10  overview               37308 non-null  object \n",
      " 11  popularity             38136 non-null  float64\n",
      " 12  poster_path            35390 non-null  object \n",
      " 13  production_companies   38136 non-null  object \n",
      " 14  production_countries   38136 non-null  object \n",
      " 15  release_date           37602 non-null  object \n",
      " 16  revenue                38136 non-null  float64\n",
      " 17  runtime                38136 non-null  float64\n",
      " 18  spoken_languages       38136 non-null  object \n",
      " 19  status                 38136 non-null  object \n",
      " 20  tagline                13894 non-null  object \n",
      " 21  title                  38136 non-null  object \n",
      " 22  video                  38136 non-null  float64\n",
      " 23  vote_average           38136 non-null  float64\n",
      " 24  vote_count             38136 non-null  float64\n",
      " 25  certification\r",
      "         38136 non-null  object \n",
      "dtypes: float64(9), object(17)\n",
      "memory usage: 7.6+ MB\n"
     ]
    }
   ],
   "source": [
    "df.info()"
   ]
  },
  {
   "cell_type": "markdown",
   "id": "f5e1027a",
   "metadata": {},
   "source": [
    "# Preprocessing"
   ]
  },
  {
   "cell_type": "code",
   "execution_count": 5,
   "id": "05bc4112",
   "metadata": {
    "ExecuteTime": {
     "end_time": "2023-05-18T19:48:17.267794Z",
     "start_time": "2023-05-18T19:48:17.253888Z"
    },
    "scrolled": false
   },
   "outputs": [
    {
     "data": {
      "text/html": [
       "<div>\n",
       "<style scoped>\n",
       "    .dataframe tbody tr th:only-of-type {\n",
       "        vertical-align: middle;\n",
       "    }\n",
       "\n",
       "    .dataframe tbody tr th {\n",
       "        vertical-align: top;\n",
       "    }\n",
       "\n",
       "    .dataframe thead th {\n",
       "        text-align: right;\n",
       "    }\n",
       "</style>\n",
       "<table border=\"1\" class=\"dataframe\">\n",
       "  <thead>\n",
       "    <tr style=\"text-align: right;\">\n",
       "      <th></th>\n",
       "      <th>imdb_id</th>\n",
       "      <th>adult</th>\n",
       "      <th>belongs_to_collection</th>\n",
       "      <th>budget</th>\n",
       "      <th>genres</th>\n",
       "      <th>popularity</th>\n",
       "      <th>release_date</th>\n",
       "      <th>revenue</th>\n",
       "      <th>runtime</th>\n",
       "      <th>title</th>\n",
       "      <th>vote_average</th>\n",
       "      <th>vote_count</th>\n",
       "      <th>certification\\r</th>\n",
       "    </tr>\n",
       "  </thead>\n",
       "  <tbody>\n",
       "    <tr>\n",
       "      <th>0</th>\n",
       "      <td>tt0312305</td>\n",
       "      <td>0.0</td>\n",
       "      <td>NaN</td>\n",
       "      <td>0.0</td>\n",
       "      <td>[{'id': 10751, 'name': 'Family'}, {'id': 16, '...</td>\n",
       "      <td>1.619</td>\n",
       "      <td>2012-12-02</td>\n",
       "      <td>0.0</td>\n",
       "      <td>45.0</td>\n",
       "      <td>Quantum Quest: A Cassini Space Odyssey</td>\n",
       "      <td>7.900</td>\n",
       "      <td>8.0</td>\n",
       "      <td>\\r</td>\n",
       "    </tr>\n",
       "    <tr>\n",
       "      <th>1</th>\n",
       "      <td>tt0326965</td>\n",
       "      <td>0.0</td>\n",
       "      <td>NaN</td>\n",
       "      <td>0.0</td>\n",
       "      <td>[{'id': 53, 'name': 'Thriller'}, {'id': 9648, ...</td>\n",
       "      <td>3.755</td>\n",
       "      <td>2010-04-23</td>\n",
       "      <td>0.0</td>\n",
       "      <td>90.0</td>\n",
       "      <td>In My Sleep</td>\n",
       "      <td>5.500</td>\n",
       "      <td>31.0</td>\n",
       "      <td>PG-13\\r</td>\n",
       "    </tr>\n",
       "    <tr>\n",
       "      <th>2</th>\n",
       "      <td>tt0331312</td>\n",
       "      <td>0.0</td>\n",
       "      <td>NaN</td>\n",
       "      <td>0.0</td>\n",
       "      <td>[]</td>\n",
       "      <td>0.622</td>\n",
       "      <td>2010-01-01</td>\n",
       "      <td>0.0</td>\n",
       "      <td>0.0</td>\n",
       "      <td>This Wretched Life</td>\n",
       "      <td>5.000</td>\n",
       "      <td>1.0</td>\n",
       "      <td>\\r</td>\n",
       "    </tr>\n",
       "    <tr>\n",
       "      <th>3</th>\n",
       "      <td>tt0393049</td>\n",
       "      <td>0.0</td>\n",
       "      <td>NaN</td>\n",
       "      <td>300000.0</td>\n",
       "      <td>[{'id': 10749, 'name': 'Romance'}, {'id': 35, ...</td>\n",
       "      <td>1.576</td>\n",
       "      <td>2010-05-20</td>\n",
       "      <td>0.0</td>\n",
       "      <td>98.0</td>\n",
       "      <td>Anderson's Cross</td>\n",
       "      <td>4.000</td>\n",
       "      <td>5.0</td>\n",
       "      <td>\\r</td>\n",
       "    </tr>\n",
       "    <tr>\n",
       "      <th>4</th>\n",
       "      <td>tt0398286</td>\n",
       "      <td>0.0</td>\n",
       "      <td>NaN</td>\n",
       "      <td>260000000.0</td>\n",
       "      <td>[{'id': 16, 'name': 'Animation'}, {'id': 10751...</td>\n",
       "      <td>108.562</td>\n",
       "      <td>2010-11-24</td>\n",
       "      <td>592461732.0</td>\n",
       "      <td>100.0</td>\n",
       "      <td>Tangled</td>\n",
       "      <td>7.590</td>\n",
       "      <td>10223.0</td>\n",
       "      <td>PG\\r</td>\n",
       "    </tr>\n",
       "    <tr>\n",
       "      <th>...</th>\n",
       "      <td>...</td>\n",
       "      <td>...</td>\n",
       "      <td>...</td>\n",
       "      <td>...</td>\n",
       "      <td>...</td>\n",
       "      <td>...</td>\n",
       "      <td>...</td>\n",
       "      <td>...</td>\n",
       "      <td>...</td>\n",
       "      <td>...</td>\n",
       "      <td>...</td>\n",
       "      <td>...</td>\n",
       "      <td>...</td>\n",
       "    </tr>\n",
       "    <tr>\n",
       "      <th>38131</th>\n",
       "      <td>tt9906644</td>\n",
       "      <td>0.0</td>\n",
       "      <td>NaN</td>\n",
       "      <td>0.0</td>\n",
       "      <td>[{'id': 35, 'name': 'Comedy'}, {'id': 18, 'nam...</td>\n",
       "      <td>1.448</td>\n",
       "      <td>2019-09-27</td>\n",
       "      <td>0.0</td>\n",
       "      <td>122.0</td>\n",
       "      <td>Manoharam</td>\n",
       "      <td>6.125</td>\n",
       "      <td>12.0</td>\n",
       "      <td>\\r</td>\n",
       "    </tr>\n",
       "    <tr>\n",
       "      <th>38132</th>\n",
       "      <td>tt9913660</td>\n",
       "      <td>0.0</td>\n",
       "      <td>NaN</td>\n",
       "      <td>0.0</td>\n",
       "      <td>[{'id': 18, 'name': 'Drama'}]</td>\n",
       "      <td>0.638</td>\n",
       "      <td>2019-10-23</td>\n",
       "      <td>0.0</td>\n",
       "      <td>102.0</td>\n",
       "      <td>No Apology</td>\n",
       "      <td>8.000</td>\n",
       "      <td>1.0</td>\n",
       "      <td>\\r</td>\n",
       "    </tr>\n",
       "    <tr>\n",
       "      <th>38133</th>\n",
       "      <td>tt9913872</td>\n",
       "      <td>0.0</td>\n",
       "      <td>NaN</td>\n",
       "      <td>0.0</td>\n",
       "      <td>[{'id': 27, 'name': 'Horror'}]</td>\n",
       "      <td>0.600</td>\n",
       "      <td>2019-01-01</td>\n",
       "      <td>0.0</td>\n",
       "      <td>0.0</td>\n",
       "      <td>De la piel del Diablo</td>\n",
       "      <td>8.200</td>\n",
       "      <td>3.0</td>\n",
       "      <td>\\r</td>\n",
       "    </tr>\n",
       "    <tr>\n",
       "      <th>38134</th>\n",
       "      <td>tt9914942</td>\n",
       "      <td>0.0</td>\n",
       "      <td>NaN</td>\n",
       "      <td>0.0</td>\n",
       "      <td>[{'id': 18, 'name': 'Drama'}, {'id': 10749, 'n...</td>\n",
       "      <td>5.570</td>\n",
       "      <td>2019-07-12</td>\n",
       "      <td>0.0</td>\n",
       "      <td>74.0</td>\n",
       "      <td>Life without Sara Amat</td>\n",
       "      <td>7.700</td>\n",
       "      <td>7.0</td>\n",
       "      <td>\\r</td>\n",
       "    </tr>\n",
       "    <tr>\n",
       "      <th>38135</th>\n",
       "      <td>tt9915872</td>\n",
       "      <td>0.0</td>\n",
       "      <td>NaN</td>\n",
       "      <td>0.0</td>\n",
       "      <td>[]</td>\n",
       "      <td>0.600</td>\n",
       "      <td>NaN</td>\n",
       "      <td>0.0</td>\n",
       "      <td>97.0</td>\n",
       "      <td>The Last White Witch</td>\n",
       "      <td>0.000</td>\n",
       "      <td>0.0</td>\n",
       "      <td>\\r</td>\n",
       "    </tr>\n",
       "  </tbody>\n",
       "</table>\n",
       "<p>38136 rows × 13 columns</p>\n",
       "</div>"
      ],
      "text/plain": [
       "         imdb_id  adult belongs_to_collection       budget  \\\n",
       "0      tt0312305    0.0                   NaN          0.0   \n",
       "1      tt0326965    0.0                   NaN          0.0   \n",
       "2      tt0331312    0.0                   NaN          0.0   \n",
       "3      tt0393049    0.0                   NaN     300000.0   \n",
       "4      tt0398286    0.0                   NaN  260000000.0   \n",
       "...          ...    ...                   ...          ...   \n",
       "38131  tt9906644    0.0                   NaN          0.0   \n",
       "38132  tt9913660    0.0                   NaN          0.0   \n",
       "38133  tt9913872    0.0                   NaN          0.0   \n",
       "38134  tt9914942    0.0                   NaN          0.0   \n",
       "38135  tt9915872    0.0                   NaN          0.0   \n",
       "\n",
       "                                                  genres  popularity  \\\n",
       "0      [{'id': 10751, 'name': 'Family'}, {'id': 16, '...       1.619   \n",
       "1      [{'id': 53, 'name': 'Thriller'}, {'id': 9648, ...       3.755   \n",
       "2                                                     []       0.622   \n",
       "3      [{'id': 10749, 'name': 'Romance'}, {'id': 35, ...       1.576   \n",
       "4      [{'id': 16, 'name': 'Animation'}, {'id': 10751...     108.562   \n",
       "...                                                  ...         ...   \n",
       "38131  [{'id': 35, 'name': 'Comedy'}, {'id': 18, 'nam...       1.448   \n",
       "38132                      [{'id': 18, 'name': 'Drama'}]       0.638   \n",
       "38133                     [{'id': 27, 'name': 'Horror'}]       0.600   \n",
       "38134  [{'id': 18, 'name': 'Drama'}, {'id': 10749, 'n...       5.570   \n",
       "38135                                                 []       0.600   \n",
       "\n",
       "      release_date      revenue  runtime  \\\n",
       "0       2012-12-02          0.0     45.0   \n",
       "1       2010-04-23          0.0     90.0   \n",
       "2       2010-01-01          0.0      0.0   \n",
       "3       2010-05-20          0.0     98.0   \n",
       "4       2010-11-24  592461732.0    100.0   \n",
       "...            ...          ...      ...   \n",
       "38131   2019-09-27          0.0    122.0   \n",
       "38132   2019-10-23          0.0    102.0   \n",
       "38133   2019-01-01          0.0      0.0   \n",
       "38134   2019-07-12          0.0     74.0   \n",
       "38135          NaN          0.0     97.0   \n",
       "\n",
       "                                        title  vote_average  vote_count  \\\n",
       "0      Quantum Quest: A Cassini Space Odyssey         7.900         8.0   \n",
       "1                                 In My Sleep         5.500        31.0   \n",
       "2                          This Wretched Life         5.000         1.0   \n",
       "3                            Anderson's Cross         4.000         5.0   \n",
       "4                                     Tangled         7.590     10223.0   \n",
       "...                                       ...           ...         ...   \n",
       "38131                               Manoharam         6.125        12.0   \n",
       "38132                              No Apology         8.000         1.0   \n",
       "38133                   De la piel del Diablo         8.200         3.0   \n",
       "38134                  Life without Sara Amat         7.700         7.0   \n",
       "38135                    The Last White Witch         0.000         0.0   \n",
       "\n",
       "      certification\\r  \n",
       "0                  \\r  \n",
       "1             PG-13\\r  \n",
       "2                  \\r  \n",
       "3                  \\r  \n",
       "4                PG\\r  \n",
       "...               ...  \n",
       "38131              \\r  \n",
       "38132              \\r  \n",
       "38133              \\r  \n",
       "38134              \\r  \n",
       "38135              \\r  \n",
       "\n",
       "[38136 rows x 13 columns]"
      ]
     },
     "execution_count": 5,
     "metadata": {},
     "output_type": "execute_result"
    }
   ],
   "source": [
    "drop_cols = ['backdrop_path','backdrop_path','original_title','overview',\n",
    "                 'poster_path','status','tagline','id','homepage',\n",
    "                 'production_countries','video','production_companies','spoken_languages',\n",
    "            'original_language']\n",
    "df = df.drop(columns=drop_cols)\n",
    "df"
   ]
  },
  {
   "cell_type": "markdown",
   "id": "90d000a3",
   "metadata": {},
   "source": [
    "belongs_to_collection feature"
   ]
  },
  {
   "cell_type": "code",
   "execution_count": 6,
   "id": "b6ea3691",
   "metadata": {
    "ExecuteTime": {
     "end_time": "2023-05-18T19:48:17.283793Z",
     "start_time": "2023-05-18T19:48:17.268795Z"
    }
   },
   "outputs": [
    {
     "data": {
      "text/plain": [
       "{'id': 39199, 'name': 'Detective Conan Collection', 'poster_path': '/bV6EHK0Q65hHKSoVDeACbc960jQ.jpg', 'backdrop_path': '/mwz7lYimh8da0zZHOI41xNd86yH.jpg'}    9\n",
       "{'id': 148065, 'name': 'Doraemon Collection', 'poster_path': '/4TLSP1KD1uAlp2q1rTrc6SFlktX.jpg', 'backdrop_path': '/rc6OFcSasL5YxBRPUQVwxmVF6h5.jpg'}          8\n",
       "{'id': 803526, 'name': 'Super Sentai Collection', 'poster_path': '/jIbtHH6ZGq4KNpiWRUajNIuiIxn.jpg', 'backdrop_path': None}                                    7\n",
       "{'id': 101646, 'name': 'Vares Collection', 'poster_path': None, 'backdrop_path': None}                                                                         7\n",
       "{'id': 725456, 'name': 'American Poltergeist', 'poster_path': '/blYngKjIj7FqxovoDbXwtbmJ8WF.jpg', 'backdrop_path': None}                                       7\n",
       "                                                                                                                                                              ..\n",
       "{'id': 448758, 'name': 'Børning Collection', 'poster_path': '/o9lgTHoVWA5uzJYyZElwPaMfSQy.jpg', 'backdrop_path': None}                                         1\n",
       "{'id': 296872, 'name': 'See No Evil Collection', 'poster_path': '/1PfKRUQ5H9vZDQj1XCB2Ux2kscg.jpg', 'backdrop_path': '/xUwlkY068q0VJrBpcyShwNwVoRI.jpg'}       1\n",
       "{'id': 980665, 'name': 'Heropanti Collection', 'poster_path': '/uHWTpCwDxXb8IrpdQCTn6npOFr8.jpg', 'backdrop_path': '/wLbSsoRullhABWMg6hfdoSwhzWo.jpg'}         1\n",
       "{'id': 1021287, 'name': 'Villain Collection', 'poster_path': None, 'backdrop_path': '/qjEuO2odcCOew4LA8BB1S35myKY.jpg'}                                        1\n",
       "{'id': 920141, 'name': 'Lokesh Cinematic Universe', 'poster_path': '/mOlcL4rwCuK55LQRxqCBiucLhIo.jpg', 'backdrop_path': None}                                  1\n",
       "Name: belongs_to_collection, Length: 1519, dtype: int64"
      ]
     },
     "execution_count": 6,
     "metadata": {},
     "output_type": "execute_result"
    }
   ],
   "source": [
    "df['belongs_to_collection'].value_counts()"
   ]
  },
  {
   "cell_type": "code",
   "execution_count": 7,
   "id": "88dc570a",
   "metadata": {
    "ExecuteTime": {
     "end_time": "2023-05-18T19:48:17.299793Z",
     "start_time": "2023-05-18T19:48:17.284793Z"
    }
   },
   "outputs": [
    {
     "data": {
      "text/plain": [
       "2499"
      ]
     },
     "execution_count": 7,
     "metadata": {},
     "output_type": "execute_result"
    }
   ],
   "source": [
    "# there are 3,700+ movies that belong to collections\n",
    "df['belongs_to_collection'].notna().sum()"
   ]
  },
  {
   "cell_type": "code",
   "execution_count": 8,
   "id": "6c202b35",
   "metadata": {
    "ExecuteTime": {
     "end_time": "2023-05-18T19:48:17.315793Z",
     "start_time": "2023-05-18T19:48:17.300793Z"
    }
   },
   "outputs": [
    {
     "data": {
      "text/plain": [
       "False    35637\n",
       "True      2499\n",
       "Name: belongs_to_collection, dtype: int64"
      ]
     },
     "execution_count": 8,
     "metadata": {},
     "output_type": "execute_result"
    }
   ],
   "source": [
    "## Use .notna() to get True if it belongs to a collection\n",
    "df['belongs_to_collection'] = df['belongs_to_collection'].notna()\n",
    "df['belongs_to_collection'].value_counts()"
   ]
  },
  {
   "cell_type": "markdown",
   "id": "15dababc",
   "metadata": {},
   "source": [
    "genres"
   ]
  },
  {
   "cell_type": "code",
   "execution_count": 9,
   "id": "b3c990b6",
   "metadata": {
    "ExecuteTime": {
     "end_time": "2023-05-18T19:48:17.331833Z",
     "start_time": "2023-05-18T19:48:17.316795Z"
    }
   },
   "outputs": [
    {
     "data": {
      "text/plain": [
       "\"[{'id': 10751, 'name': 'Family'}, {'id': 16, 'name': 'Animation'}, {'id': 878, 'name': 'Science Fiction'}]\""
      ]
     },
     "execution_count": 9,
     "metadata": {},
     "output_type": "execute_result"
    }
   ],
   "source": [
    "df['genres'][0]"
   ]
  },
  {
   "cell_type": "code",
   "execution_count": 10,
   "id": "b6c8bcfb",
   "metadata": {
    "ExecuteTime": {
     "end_time": "2023-05-18T19:48:17.347843Z",
     "start_time": "2023-05-18T19:48:17.332834Z"
    }
   },
   "outputs": [],
   "source": [
    "## Function to get just the genre names as a list \n",
    "def get_genre_name(x):\n",
    "    x = x.replace(\"'\",'\"')\n",
    "    x = json.loads(x)\n",
    "    \n",
    "    genres = []\n",
    "    for genre in x:\n",
    "        genres.append(genre['name'])\n",
    "    return genres"
   ]
  },
  {
   "cell_type": "code",
   "execution_count": 11,
   "id": "e8d6dbc1",
   "metadata": {
    "ExecuteTime": {
     "end_time": "2023-05-18T19:48:17.363872Z",
     "start_time": "2023-05-18T19:48:17.348834Z"
    }
   },
   "outputs": [
    {
     "data": {
      "text/plain": [
       "['Family', 'Animation', 'Science Fiction']"
      ]
     },
     "execution_count": 11,
     "metadata": {},
     "output_type": "execute_result"
    }
   ],
   "source": [
    "## Use our function and exploding the new column\n",
    "get_genre_name(df.loc[0,'genres'])\n",
    "\n",
    "# use get_genre_name and convert all the genere name in list"
   ]
  },
  {
   "cell_type": "code",
   "execution_count": 12,
   "id": "05420df8",
   "metadata": {
    "ExecuteTime": {
     "end_time": "2023-05-18T19:48:17.473872Z",
     "start_time": "2023-05-18T19:48:17.364873Z"
    }
   },
   "outputs": [
    {
     "data": {
      "text/html": [
       "<div>\n",
       "<style scoped>\n",
       "    .dataframe tbody tr th:only-of-type {\n",
       "        vertical-align: middle;\n",
       "    }\n",
       "\n",
       "    .dataframe tbody tr th {\n",
       "        vertical-align: top;\n",
       "    }\n",
       "\n",
       "    .dataframe thead th {\n",
       "        text-align: right;\n",
       "    }\n",
       "</style>\n",
       "<table border=\"1\" class=\"dataframe\">\n",
       "  <thead>\n",
       "    <tr style=\"text-align: right;\">\n",
       "      <th></th>\n",
       "      <th>imdb_id</th>\n",
       "      <th>adult</th>\n",
       "      <th>belongs_to_collection</th>\n",
       "      <th>budget</th>\n",
       "      <th>genres</th>\n",
       "      <th>popularity</th>\n",
       "      <th>release_date</th>\n",
       "      <th>revenue</th>\n",
       "      <th>runtime</th>\n",
       "      <th>title</th>\n",
       "      <th>vote_average</th>\n",
       "      <th>vote_count</th>\n",
       "      <th>certification\\r</th>\n",
       "      <th>genres_list</th>\n",
       "    </tr>\n",
       "  </thead>\n",
       "  <tbody>\n",
       "    <tr>\n",
       "      <th>0</th>\n",
       "      <td>tt0312305</td>\n",
       "      <td>0.0</td>\n",
       "      <td>False</td>\n",
       "      <td>0.0</td>\n",
       "      <td>[{'id': 10751, 'name': 'Family'}, {'id': 16, '...</td>\n",
       "      <td>1.619</td>\n",
       "      <td>2012-12-02</td>\n",
       "      <td>0.0</td>\n",
       "      <td>45.0</td>\n",
       "      <td>Quantum Quest: A Cassini Space Odyssey</td>\n",
       "      <td>7.9</td>\n",
       "      <td>8.0</td>\n",
       "      <td>\\r</td>\n",
       "      <td>Family</td>\n",
       "    </tr>\n",
       "    <tr>\n",
       "      <th>0</th>\n",
       "      <td>tt0312305</td>\n",
       "      <td>0.0</td>\n",
       "      <td>False</td>\n",
       "      <td>0.0</td>\n",
       "      <td>[{'id': 10751, 'name': 'Family'}, {'id': 16, '...</td>\n",
       "      <td>1.619</td>\n",
       "      <td>2012-12-02</td>\n",
       "      <td>0.0</td>\n",
       "      <td>45.0</td>\n",
       "      <td>Quantum Quest: A Cassini Space Odyssey</td>\n",
       "      <td>7.9</td>\n",
       "      <td>8.0</td>\n",
       "      <td>\\r</td>\n",
       "      <td>Animation</td>\n",
       "    </tr>\n",
       "    <tr>\n",
       "      <th>0</th>\n",
       "      <td>tt0312305</td>\n",
       "      <td>0.0</td>\n",
       "      <td>False</td>\n",
       "      <td>0.0</td>\n",
       "      <td>[{'id': 10751, 'name': 'Family'}, {'id': 16, '...</td>\n",
       "      <td>1.619</td>\n",
       "      <td>2012-12-02</td>\n",
       "      <td>0.0</td>\n",
       "      <td>45.0</td>\n",
       "      <td>Quantum Quest: A Cassini Space Odyssey</td>\n",
       "      <td>7.9</td>\n",
       "      <td>8.0</td>\n",
       "      <td>\\r</td>\n",
       "      <td>Science Fiction</td>\n",
       "    </tr>\n",
       "    <tr>\n",
       "      <th>1</th>\n",
       "      <td>tt0326965</td>\n",
       "      <td>0.0</td>\n",
       "      <td>False</td>\n",
       "      <td>0.0</td>\n",
       "      <td>[{'id': 53, 'name': 'Thriller'}, {'id': 9648, ...</td>\n",
       "      <td>3.755</td>\n",
       "      <td>2010-04-23</td>\n",
       "      <td>0.0</td>\n",
       "      <td>90.0</td>\n",
       "      <td>In My Sleep</td>\n",
       "      <td>5.5</td>\n",
       "      <td>31.0</td>\n",
       "      <td>PG-13\\r</td>\n",
       "      <td>Thriller</td>\n",
       "    </tr>\n",
       "    <tr>\n",
       "      <th>1</th>\n",
       "      <td>tt0326965</td>\n",
       "      <td>0.0</td>\n",
       "      <td>False</td>\n",
       "      <td>0.0</td>\n",
       "      <td>[{'id': 53, 'name': 'Thriller'}, {'id': 9648, ...</td>\n",
       "      <td>3.755</td>\n",
       "      <td>2010-04-23</td>\n",
       "      <td>0.0</td>\n",
       "      <td>90.0</td>\n",
       "      <td>In My Sleep</td>\n",
       "      <td>5.5</td>\n",
       "      <td>31.0</td>\n",
       "      <td>PG-13\\r</td>\n",
       "      <td>Mystery</td>\n",
       "    </tr>\n",
       "  </tbody>\n",
       "</table>\n",
       "</div>"
      ],
      "text/plain": [
       "     imdb_id  adult  belongs_to_collection  budget  \\\n",
       "0  tt0312305    0.0                  False     0.0   \n",
       "0  tt0312305    0.0                  False     0.0   \n",
       "0  tt0312305    0.0                  False     0.0   \n",
       "1  tt0326965    0.0                  False     0.0   \n",
       "1  tt0326965    0.0                  False     0.0   \n",
       "\n",
       "                                              genres  popularity release_date  \\\n",
       "0  [{'id': 10751, 'name': 'Family'}, {'id': 16, '...       1.619   2012-12-02   \n",
       "0  [{'id': 10751, 'name': 'Family'}, {'id': 16, '...       1.619   2012-12-02   \n",
       "0  [{'id': 10751, 'name': 'Family'}, {'id': 16, '...       1.619   2012-12-02   \n",
       "1  [{'id': 53, 'name': 'Thriller'}, {'id': 9648, ...       3.755   2010-04-23   \n",
       "1  [{'id': 53, 'name': 'Thriller'}, {'id': 9648, ...       3.755   2010-04-23   \n",
       "\n",
       "   revenue  runtime                                   title  vote_average  \\\n",
       "0      0.0     45.0  Quantum Quest: A Cassini Space Odyssey           7.9   \n",
       "0      0.0     45.0  Quantum Quest: A Cassini Space Odyssey           7.9   \n",
       "0      0.0     45.0  Quantum Quest: A Cassini Space Odyssey           7.9   \n",
       "1      0.0     90.0                             In My Sleep           5.5   \n",
       "1      0.0     90.0                             In My Sleep           5.5   \n",
       "\n",
       "   vote_count certification\\r      genres_list  \n",
       "0         8.0              \\r           Family  \n",
       "0         8.0              \\r        Animation  \n",
       "0         8.0              \\r  Science Fiction  \n",
       "1        31.0         PG-13\\r         Thriller  \n",
       "1        31.0         PG-13\\r          Mystery  "
      ]
     },
     "execution_count": 12,
     "metadata": {},
     "output_type": "execute_result"
    }
   ],
   "source": [
    "## Use our function and exploding the new column\n",
    "df['genres_list'] = df['genres'].apply(get_genre_name)\n",
    "df_explode = df.explode('genres_list')\n",
    "df_explode.head()"
   ]
  },
  {
   "cell_type": "code",
   "execution_count": 13,
   "id": "af542bf6",
   "metadata": {
    "ExecuteTime": {
     "end_time": "2023-05-18T19:48:17.489872Z",
     "start_time": "2023-05-18T19:48:17.474872Z"
    }
   },
   "outputs": [
    {
     "data": {
      "text/plain": [
       "array(['Family', 'Animation', 'Science Fiction', 'Thriller', 'Mystery',\n",
       "       'Drama', 'Romance', 'Comedy', 'War', 'Crime', 'Action',\n",
       "       'Adventure', 'Horror', 'Fantasy', 'History', 'Western', 'Music',\n",
       "       'Documentary', 'TV Movie'], dtype=object)"
      ]
     },
     "execution_count": 13,
     "metadata": {},
     "output_type": "execute_result"
    }
   ],
   "source": [
    "## save unique genres\n",
    "unique_genres = df_explode['genres_list'].dropna().unique()\n",
    "unique_genres"
   ]
  },
  {
   "cell_type": "code",
   "execution_count": 14,
   "id": "783b11de",
   "metadata": {
    "ExecuteTime": {
     "end_time": "2023-05-18T19:48:17.585873Z",
     "start_time": "2023-05-18T19:48:17.490872Z"
    }
   },
   "outputs": [
    {
     "data": {
      "text/html": [
       "<div>\n",
       "<style scoped>\n",
       "    .dataframe tbody tr th:only-of-type {\n",
       "        vertical-align: middle;\n",
       "    }\n",
       "\n",
       "    .dataframe tbody tr th {\n",
       "        vertical-align: top;\n",
       "    }\n",
       "\n",
       "    .dataframe thead th {\n",
       "        text-align: right;\n",
       "    }\n",
       "</style>\n",
       "<table border=\"1\" class=\"dataframe\">\n",
       "  <thead>\n",
       "    <tr style=\"text-align: right;\">\n",
       "      <th></th>\n",
       "      <th>imdb_id</th>\n",
       "      <th>adult</th>\n",
       "      <th>belongs_to_collection</th>\n",
       "      <th>budget</th>\n",
       "      <th>genres</th>\n",
       "      <th>popularity</th>\n",
       "      <th>release_date</th>\n",
       "      <th>revenue</th>\n",
       "      <th>runtime</th>\n",
       "      <th>title</th>\n",
       "      <th>vote_average</th>\n",
       "      <th>vote_count</th>\n",
       "      <th>certification\\r</th>\n",
       "      <th>genres_list</th>\n",
       "      <th>Genre_Family</th>\n",
       "      <th>Genre_Animation</th>\n",
       "      <th>Genre_Science Fiction</th>\n",
       "      <th>Genre_Thriller</th>\n",
       "      <th>Genre_Mystery</th>\n",
       "      <th>Genre_Drama</th>\n",
       "      <th>Genre_Romance</th>\n",
       "      <th>Genre_Comedy</th>\n",
       "      <th>Genre_War</th>\n",
       "      <th>Genre_Crime</th>\n",
       "      <th>Genre_Action</th>\n",
       "      <th>Genre_Adventure</th>\n",
       "      <th>Genre_Horror</th>\n",
       "      <th>Genre_Fantasy</th>\n",
       "      <th>Genre_History</th>\n",
       "      <th>Genre_Western</th>\n",
       "      <th>Genre_Music</th>\n",
       "      <th>Genre_Documentary</th>\n",
       "      <th>Genre_TV Movie</th>\n",
       "    </tr>\n",
       "  </thead>\n",
       "  <tbody>\n",
       "    <tr>\n",
       "      <th>0</th>\n",
       "      <td>tt0312305</td>\n",
       "      <td>0.0</td>\n",
       "      <td>False</td>\n",
       "      <td>0.0</td>\n",
       "      <td>[{'id': 10751, 'name': 'Family'}, {'id': 16, '...</td>\n",
       "      <td>1.619</td>\n",
       "      <td>2012-12-02</td>\n",
       "      <td>0.0</td>\n",
       "      <td>45.0</td>\n",
       "      <td>Quantum Quest: A Cassini Space Odyssey</td>\n",
       "      <td>7.90</td>\n",
       "      <td>8.0</td>\n",
       "      <td>\\r</td>\n",
       "      <td>[Family, Animation, Science Fiction]</td>\n",
       "      <td>True</td>\n",
       "      <td>True</td>\n",
       "      <td>True</td>\n",
       "      <td>False</td>\n",
       "      <td>False</td>\n",
       "      <td>False</td>\n",
       "      <td>False</td>\n",
       "      <td>False</td>\n",
       "      <td>False</td>\n",
       "      <td>False</td>\n",
       "      <td>False</td>\n",
       "      <td>False</td>\n",
       "      <td>False</td>\n",
       "      <td>False</td>\n",
       "      <td>False</td>\n",
       "      <td>False</td>\n",
       "      <td>False</td>\n",
       "      <td>False</td>\n",
       "      <td>False</td>\n",
       "    </tr>\n",
       "    <tr>\n",
       "      <th>1</th>\n",
       "      <td>tt0326965</td>\n",
       "      <td>0.0</td>\n",
       "      <td>False</td>\n",
       "      <td>0.0</td>\n",
       "      <td>[{'id': 53, 'name': 'Thriller'}, {'id': 9648, ...</td>\n",
       "      <td>3.755</td>\n",
       "      <td>2010-04-23</td>\n",
       "      <td>0.0</td>\n",
       "      <td>90.0</td>\n",
       "      <td>In My Sleep</td>\n",
       "      <td>5.50</td>\n",
       "      <td>31.0</td>\n",
       "      <td>PG-13\\r</td>\n",
       "      <td>[Thriller, Mystery, Drama]</td>\n",
       "      <td>False</td>\n",
       "      <td>False</td>\n",
       "      <td>False</td>\n",
       "      <td>True</td>\n",
       "      <td>True</td>\n",
       "      <td>True</td>\n",
       "      <td>False</td>\n",
       "      <td>False</td>\n",
       "      <td>False</td>\n",
       "      <td>False</td>\n",
       "      <td>False</td>\n",
       "      <td>False</td>\n",
       "      <td>False</td>\n",
       "      <td>False</td>\n",
       "      <td>False</td>\n",
       "      <td>False</td>\n",
       "      <td>False</td>\n",
       "      <td>False</td>\n",
       "      <td>False</td>\n",
       "    </tr>\n",
       "    <tr>\n",
       "      <th>2</th>\n",
       "      <td>tt0331312</td>\n",
       "      <td>0.0</td>\n",
       "      <td>False</td>\n",
       "      <td>0.0</td>\n",
       "      <td>[]</td>\n",
       "      <td>0.622</td>\n",
       "      <td>2010-01-01</td>\n",
       "      <td>0.0</td>\n",
       "      <td>0.0</td>\n",
       "      <td>This Wretched Life</td>\n",
       "      <td>5.00</td>\n",
       "      <td>1.0</td>\n",
       "      <td>\\r</td>\n",
       "      <td>[]</td>\n",
       "      <td>False</td>\n",
       "      <td>False</td>\n",
       "      <td>False</td>\n",
       "      <td>False</td>\n",
       "      <td>False</td>\n",
       "      <td>False</td>\n",
       "      <td>False</td>\n",
       "      <td>False</td>\n",
       "      <td>False</td>\n",
       "      <td>False</td>\n",
       "      <td>False</td>\n",
       "      <td>False</td>\n",
       "      <td>False</td>\n",
       "      <td>False</td>\n",
       "      <td>False</td>\n",
       "      <td>False</td>\n",
       "      <td>False</td>\n",
       "      <td>False</td>\n",
       "      <td>False</td>\n",
       "    </tr>\n",
       "    <tr>\n",
       "      <th>3</th>\n",
       "      <td>tt0393049</td>\n",
       "      <td>0.0</td>\n",
       "      <td>False</td>\n",
       "      <td>300000.0</td>\n",
       "      <td>[{'id': 10749, 'name': 'Romance'}, {'id': 35, ...</td>\n",
       "      <td>1.576</td>\n",
       "      <td>2010-05-20</td>\n",
       "      <td>0.0</td>\n",
       "      <td>98.0</td>\n",
       "      <td>Anderson's Cross</td>\n",
       "      <td>4.00</td>\n",
       "      <td>5.0</td>\n",
       "      <td>\\r</td>\n",
       "      <td>[Romance, Comedy, Drama]</td>\n",
       "      <td>False</td>\n",
       "      <td>False</td>\n",
       "      <td>False</td>\n",
       "      <td>False</td>\n",
       "      <td>False</td>\n",
       "      <td>True</td>\n",
       "      <td>True</td>\n",
       "      <td>True</td>\n",
       "      <td>False</td>\n",
       "      <td>False</td>\n",
       "      <td>False</td>\n",
       "      <td>False</td>\n",
       "      <td>False</td>\n",
       "      <td>False</td>\n",
       "      <td>False</td>\n",
       "      <td>False</td>\n",
       "      <td>False</td>\n",
       "      <td>False</td>\n",
       "      <td>False</td>\n",
       "    </tr>\n",
       "    <tr>\n",
       "      <th>4</th>\n",
       "      <td>tt0398286</td>\n",
       "      <td>0.0</td>\n",
       "      <td>False</td>\n",
       "      <td>260000000.0</td>\n",
       "      <td>[{'id': 16, 'name': 'Animation'}, {'id': 10751...</td>\n",
       "      <td>108.562</td>\n",
       "      <td>2010-11-24</td>\n",
       "      <td>592461732.0</td>\n",
       "      <td>100.0</td>\n",
       "      <td>Tangled</td>\n",
       "      <td>7.59</td>\n",
       "      <td>10223.0</td>\n",
       "      <td>PG\\r</td>\n",
       "      <td>[Animation, Family]</td>\n",
       "      <td>True</td>\n",
       "      <td>True</td>\n",
       "      <td>False</td>\n",
       "      <td>False</td>\n",
       "      <td>False</td>\n",
       "      <td>False</td>\n",
       "      <td>False</td>\n",
       "      <td>False</td>\n",
       "      <td>False</td>\n",
       "      <td>False</td>\n",
       "      <td>False</td>\n",
       "      <td>False</td>\n",
       "      <td>False</td>\n",
       "      <td>False</td>\n",
       "      <td>False</td>\n",
       "      <td>False</td>\n",
       "      <td>False</td>\n",
       "      <td>False</td>\n",
       "      <td>False</td>\n",
       "    </tr>\n",
       "  </tbody>\n",
       "</table>\n",
       "</div>"
      ],
      "text/plain": [
       "     imdb_id  adult  belongs_to_collection       budget  \\\n",
       "0  tt0312305    0.0                  False          0.0   \n",
       "1  tt0326965    0.0                  False          0.0   \n",
       "2  tt0331312    0.0                  False          0.0   \n",
       "3  tt0393049    0.0                  False     300000.0   \n",
       "4  tt0398286    0.0                  False  260000000.0   \n",
       "\n",
       "                                              genres  popularity release_date  \\\n",
       "0  [{'id': 10751, 'name': 'Family'}, {'id': 16, '...       1.619   2012-12-02   \n",
       "1  [{'id': 53, 'name': 'Thriller'}, {'id': 9648, ...       3.755   2010-04-23   \n",
       "2                                                 []       0.622   2010-01-01   \n",
       "3  [{'id': 10749, 'name': 'Romance'}, {'id': 35, ...       1.576   2010-05-20   \n",
       "4  [{'id': 16, 'name': 'Animation'}, {'id': 10751...     108.562   2010-11-24   \n",
       "\n",
       "       revenue  runtime                                   title  vote_average  \\\n",
       "0          0.0     45.0  Quantum Quest: A Cassini Space Odyssey          7.90   \n",
       "1          0.0     90.0                             In My Sleep          5.50   \n",
       "2          0.0      0.0                      This Wretched Life          5.00   \n",
       "3          0.0     98.0                        Anderson's Cross          4.00   \n",
       "4  592461732.0    100.0                                 Tangled          7.59   \n",
       "\n",
       "   vote_count certification\\r                           genres_list  \\\n",
       "0         8.0              \\r  [Family, Animation, Science Fiction]   \n",
       "1        31.0         PG-13\\r            [Thriller, Mystery, Drama]   \n",
       "2         1.0              \\r                                    []   \n",
       "3         5.0              \\r              [Romance, Comedy, Drama]   \n",
       "4     10223.0            PG\\r                   [Animation, Family]   \n",
       "\n",
       "   Genre_Family  Genre_Animation  Genre_Science Fiction  Genre_Thriller  \\\n",
       "0          True             True                   True           False   \n",
       "1         False            False                  False            True   \n",
       "2         False            False                  False           False   \n",
       "3         False            False                  False           False   \n",
       "4          True             True                  False           False   \n",
       "\n",
       "   Genre_Mystery  Genre_Drama  Genre_Romance  Genre_Comedy  Genre_War  \\\n",
       "0          False        False          False         False      False   \n",
       "1           True         True          False         False      False   \n",
       "2          False        False          False         False      False   \n",
       "3          False         True           True          True      False   \n",
       "4          False        False          False         False      False   \n",
       "\n",
       "   Genre_Crime  Genre_Action  Genre_Adventure  Genre_Horror  Genre_Fantasy  \\\n",
       "0        False         False            False         False          False   \n",
       "1        False         False            False         False          False   \n",
       "2        False         False            False         False          False   \n",
       "3        False         False            False         False          False   \n",
       "4        False         False            False         False          False   \n",
       "\n",
       "   Genre_History  Genre_Western  Genre_Music  Genre_Documentary  \\\n",
       "0          False          False        False              False   \n",
       "1          False          False        False              False   \n",
       "2          False          False        False              False   \n",
       "3          False          False        False              False   \n",
       "4          False          False        False              False   \n",
       "\n",
       "   Genre_TV Movie  \n",
       "0           False  \n",
       "1           False  \n",
       "2           False  \n",
       "3           False  \n",
       "4           False  "
      ]
     },
     "execution_count": 14,
     "metadata": {},
     "output_type": "execute_result"
    }
   ],
   "source": [
    "## Manually One-Hot-Encode Genres\n",
    "for genre in unique_genres:\n",
    "    df[f\"Genre_{genre}\"] = df['genres'].str.contains(genre,regex =False)\n",
    "df.head()"
   ]
  },
  {
   "cell_type": "code",
   "execution_count": 15,
   "id": "ff3ac72c",
   "metadata": {
    "ExecuteTime": {
     "end_time": "2023-05-18T19:48:17.601872Z",
     "start_time": "2023-05-18T19:48:17.586873Z"
    }
   },
   "outputs": [],
   "source": [
    "## Drop original genre cols\n",
    "#df = df.drop(columns=['genres','genres_list'])\n",
    "#df"
   ]
  },
  {
   "cell_type": "code",
   "execution_count": 16,
   "id": "c9540f81",
   "metadata": {
    "ExecuteTime": {
     "end_time": "2023-05-18T19:48:17.633872Z",
     "start_time": "2023-05-18T19:48:17.602874Z"
    },
    "scrolled": true
   },
   "outputs": [
    {
     "name": "stdout",
     "output_type": "stream",
     "text": [
      "<class 'pandas.core.frame.DataFrame'>\n",
      "RangeIndex: 38136 entries, 0 to 38135\n",
      "Data columns (total 33 columns):\n",
      " #   Column                 Non-Null Count  Dtype  \n",
      "---  ------                 --------------  -----  \n",
      " 0   imdb_id                38136 non-null  object \n",
      " 1   adult                  38136 non-null  float64\n",
      " 2   belongs_to_collection  38136 non-null  bool   \n",
      " 3   budget                 38136 non-null  float64\n",
      " 4   genres                 38136 non-null  object \n",
      " 5   popularity             38136 non-null  float64\n",
      " 6   release_date           37602 non-null  object \n",
      " 7   revenue                38136 non-null  float64\n",
      " 8   runtime                38136 non-null  float64\n",
      " 9   title                  38136 non-null  object \n",
      " 10  vote_average           38136 non-null  float64\n",
      " 11  vote_count             38136 non-null  float64\n",
      " 12  certification\r",
      "         38136 non-null  object \n",
      " 13  genres_list            38136 non-null  object \n",
      " 14  Genre_Family           38136 non-null  bool   \n",
      " 15  Genre_Animation        38136 non-null  bool   \n",
      " 16  Genre_Science Fiction  38136 non-null  bool   \n",
      " 17  Genre_Thriller         38136 non-null  bool   \n",
      " 18  Genre_Mystery          38136 non-null  bool   \n",
      " 19  Genre_Drama            38136 non-null  bool   \n",
      " 20  Genre_Romance          38136 non-null  bool   \n",
      " 21  Genre_Comedy           38136 non-null  bool   \n",
      " 22  Genre_War              38136 non-null  bool   \n",
      " 23  Genre_Crime            38136 non-null  bool   \n",
      " 24  Genre_Action           38136 non-null  bool   \n",
      " 25  Genre_Adventure        38136 non-null  bool   \n",
      " 26  Genre_Horror           38136 non-null  bool   \n",
      " 27  Genre_Fantasy          38136 non-null  bool   \n",
      " 28  Genre_History          38136 non-null  bool   \n",
      " 29  Genre_Western          38136 non-null  bool   \n",
      " 30  Genre_Music            38136 non-null  bool   \n",
      " 31  Genre_Documentary      38136 non-null  bool   \n",
      " 32  Genre_TV Movie         38136 non-null  bool   \n",
      "dtypes: bool(20), float64(7), object(6)\n",
      "memory usage: 4.5+ MB\n"
     ]
    }
   ],
   "source": [
    "df.info()"
   ]
  },
  {
   "cell_type": "markdown",
   "id": "873509e8",
   "metadata": {},
   "source": [
    "certification"
   ]
  },
  {
   "cell_type": "code",
   "execution_count": 17,
   "id": "32237386",
   "metadata": {
    "ExecuteTime": {
     "end_time": "2023-05-18T19:48:17.649872Z",
     "start_time": "2023-05-18T19:48:17.634873Z"
    },
    "scrolled": true
   },
   "outputs": [],
   "source": [
    "## Checking Certification values counts\n",
    "#df['certification'].value_counts(dropna=False)"
   ]
  },
  {
   "cell_type": "code",
   "execution_count": 18,
   "id": "5c84128d",
   "metadata": {
    "ExecuteTime": {
     "end_time": "2023-05-18T19:48:17.665758Z",
     "start_time": "2023-05-18T19:48:17.650872Z"
    }
   },
   "outputs": [],
   "source": [
    "df.rename(columns = {'certification\\r':'certification'}, inplace=True)"
   ]
  },
  {
   "cell_type": "code",
   "execution_count": 19,
   "id": "c128216b",
   "metadata": {
    "ExecuteTime": {
     "end_time": "2023-05-18T19:48:17.680983Z",
     "start_time": "2023-05-18T19:48:17.666757Z"
    }
   },
   "outputs": [
    {
     "data": {
      "text/plain": [
       "\\r           29768\n",
       "R\\r           3119\n",
       "NR\\r          2314\n",
       "PG-13\\r       1759\n",
       "PG\\r           799\n",
       "G\\r            271\n",
       "NC-17\\r        100\n",
       "Unrated\\r        4\n",
       "PG-13 \\r         1\n",
       "10\\r             1\n",
       "Name: certification, dtype: int64"
      ]
     },
     "execution_count": 19,
     "metadata": {},
     "output_type": "execute_result"
    }
   ],
   "source": [
    "df['certification'].value_counts()"
   ]
  },
  {
   "cell_type": "code",
   "execution_count": 20,
   "id": "6ffeb2ea",
   "metadata": {
    "ExecuteTime": {
     "end_time": "2023-05-18T19:48:17.697076Z",
     "start_time": "2023-05-18T19:48:17.681985Z"
    }
   },
   "outputs": [],
   "source": [
    "df['certification'] = df['certification'].str.replace('\\r','')"
   ]
  },
  {
   "cell_type": "code",
   "execution_count": 21,
   "id": "53dc58ee",
   "metadata": {
    "ExecuteTime": {
     "end_time": "2023-05-18T19:48:17.712653Z",
     "start_time": "2023-05-18T19:48:17.698507Z"
    }
   },
   "outputs": [
    {
     "data": {
      "text/plain": [
       "           29768\n",
       "R           3119\n",
       "NR          2314\n",
       "PG-13       1759\n",
       "PG           799\n",
       "G            271\n",
       "NC-17        100\n",
       "Unrated        4\n",
       "PG-13          1\n",
       "10             1\n",
       "Name: certification, dtype: int64"
      ]
     },
     "execution_count": 21,
     "metadata": {},
     "output_type": "execute_result"
    }
   ],
   "source": [
    "df['certification'].value_counts()"
   ]
  },
  {
   "cell_type": "code",
   "execution_count": 22,
   "id": "13e99c59",
   "metadata": {
    "ExecuteTime": {
     "end_time": "2023-05-18T19:48:17.727655Z",
     "start_time": "2023-05-18T19:48:17.713656Z"
    }
   },
   "outputs": [],
   "source": [
    "# fix extra space certs\n",
    "df['certification'] = df['certification'].str.strip()"
   ]
  },
  {
   "cell_type": "code",
   "execution_count": 23,
   "id": "76dfc4d3",
   "metadata": {
    "ExecuteTime": {
     "end_time": "2023-05-18T19:48:17.743659Z",
     "start_time": "2023-05-18T19:48:17.728654Z"
    }
   },
   "outputs": [
    {
     "data": {
      "text/plain": [
       "NaN      29769\n",
       "R         3119\n",
       "NR        2318\n",
       "PG-13     1760\n",
       "PG         799\n",
       "G          271\n",
       "NC-17      100\n",
       "Name: certification, dtype: int64"
      ]
     },
     "execution_count": 23,
     "metadata": {},
     "output_type": "execute_result"
    }
   ],
   "source": [
    "## fix certification col\n",
    "repl_cert = {'UR':'NR',\n",
    "             'Not Rated':'NR',\n",
    "             'Unrated':'NR',\n",
    "             '-':'NR',\n",
    "             '':np.nan,\n",
    "             '10':np.nan,}\n",
    "df['certification'] = df['certification'].replace(repl_cert)\n",
    "df['certification'].value_counts(dropna=False)"
   ]
  },
  {
   "cell_type": "code",
   "execution_count": 24,
   "id": "56446d45",
   "metadata": {
    "ExecuteTime": {
     "end_time": "2023-05-18T19:48:17.759652Z",
     "start_time": "2023-05-18T19:48:17.744664Z"
    }
   },
   "outputs": [
    {
     "data": {
      "text/plain": [
       "2010-01-01    229\n",
       "2011-01-01    193\n",
       "2012-01-01    174\n",
       "2014-01-01    165\n",
       "2013-01-01    148\n",
       "             ... \n",
       "2020-12-06      1\n",
       "2020-11-25      1\n",
       "2016-05-24      1\n",
       "2016-08-07      1\n",
       "2021-01-08      1\n",
       "Name: release_date, Length: 3962, dtype: int64"
      ]
     },
     "execution_count": 24,
     "metadata": {},
     "output_type": "execute_result"
    }
   ],
   "source": [
    "## split release date into 3 columns\n",
    "df['release_date'].value_counts()"
   ]
  },
  {
   "cell_type": "code",
   "execution_count": 25,
   "id": "0a0c2233",
   "metadata": {
    "ExecuteTime": {
     "end_time": "2023-05-18T19:48:17.869673Z",
     "start_time": "2023-05-18T19:48:17.760653Z"
    }
   },
   "outputs": [
    {
     "data": {
      "text/html": [
       "<div>\n",
       "<style scoped>\n",
       "    .dataframe tbody tr th:only-of-type {\n",
       "        vertical-align: middle;\n",
       "    }\n",
       "\n",
       "    .dataframe tbody tr th {\n",
       "        vertical-align: top;\n",
       "    }\n",
       "\n",
       "    .dataframe thead th {\n",
       "        text-align: right;\n",
       "    }\n",
       "</style>\n",
       "<table border=\"1\" class=\"dataframe\">\n",
       "  <thead>\n",
       "    <tr style=\"text-align: right;\">\n",
       "      <th></th>\n",
       "      <th>imdb_id</th>\n",
       "      <th>adult</th>\n",
       "      <th>belongs_to_collection</th>\n",
       "      <th>budget</th>\n",
       "      <th>genres</th>\n",
       "      <th>popularity</th>\n",
       "      <th>release_date</th>\n",
       "      <th>revenue</th>\n",
       "      <th>runtime</th>\n",
       "      <th>title</th>\n",
       "      <th>vote_average</th>\n",
       "      <th>vote_count</th>\n",
       "      <th>certification</th>\n",
       "      <th>genres_list</th>\n",
       "      <th>Genre_Family</th>\n",
       "      <th>Genre_Animation</th>\n",
       "      <th>Genre_Science Fiction</th>\n",
       "      <th>Genre_Thriller</th>\n",
       "      <th>Genre_Mystery</th>\n",
       "      <th>Genre_Drama</th>\n",
       "      <th>Genre_Romance</th>\n",
       "      <th>Genre_Comedy</th>\n",
       "      <th>Genre_War</th>\n",
       "      <th>Genre_Crime</th>\n",
       "      <th>Genre_Action</th>\n",
       "      <th>Genre_Adventure</th>\n",
       "      <th>Genre_Horror</th>\n",
       "      <th>Genre_Fantasy</th>\n",
       "      <th>Genre_History</th>\n",
       "      <th>Genre_Western</th>\n",
       "      <th>Genre_Music</th>\n",
       "      <th>Genre_Documentary</th>\n",
       "      <th>Genre_TV Movie</th>\n",
       "      <th>year</th>\n",
       "      <th>month</th>\n",
       "      <th>day</th>\n",
       "    </tr>\n",
       "  </thead>\n",
       "  <tbody>\n",
       "    <tr>\n",
       "      <th>0</th>\n",
       "      <td>tt0312305</td>\n",
       "      <td>0.0</td>\n",
       "      <td>False</td>\n",
       "      <td>0.0</td>\n",
       "      <td>[{'id': 10751, 'name': 'Family'}, {'id': 16, '...</td>\n",
       "      <td>1.619</td>\n",
       "      <td>2012-12-02</td>\n",
       "      <td>0.0</td>\n",
       "      <td>45.0</td>\n",
       "      <td>Quantum Quest: A Cassini Space Odyssey</td>\n",
       "      <td>7.900</td>\n",
       "      <td>8.0</td>\n",
       "      <td>NaN</td>\n",
       "      <td>[Family, Animation, Science Fiction]</td>\n",
       "      <td>True</td>\n",
       "      <td>True</td>\n",
       "      <td>True</td>\n",
       "      <td>False</td>\n",
       "      <td>False</td>\n",
       "      <td>False</td>\n",
       "      <td>False</td>\n",
       "      <td>False</td>\n",
       "      <td>False</td>\n",
       "      <td>False</td>\n",
       "      <td>False</td>\n",
       "      <td>False</td>\n",
       "      <td>False</td>\n",
       "      <td>False</td>\n",
       "      <td>False</td>\n",
       "      <td>False</td>\n",
       "      <td>False</td>\n",
       "      <td>False</td>\n",
       "      <td>False</td>\n",
       "      <td>2012.0</td>\n",
       "      <td>12.0</td>\n",
       "      <td>2.0</td>\n",
       "    </tr>\n",
       "    <tr>\n",
       "      <th>1</th>\n",
       "      <td>tt0326965</td>\n",
       "      <td>0.0</td>\n",
       "      <td>False</td>\n",
       "      <td>0.0</td>\n",
       "      <td>[{'id': 53, 'name': 'Thriller'}, {'id': 9648, ...</td>\n",
       "      <td>3.755</td>\n",
       "      <td>2010-04-23</td>\n",
       "      <td>0.0</td>\n",
       "      <td>90.0</td>\n",
       "      <td>In My Sleep</td>\n",
       "      <td>5.500</td>\n",
       "      <td>31.0</td>\n",
       "      <td>PG-13</td>\n",
       "      <td>[Thriller, Mystery, Drama]</td>\n",
       "      <td>False</td>\n",
       "      <td>False</td>\n",
       "      <td>False</td>\n",
       "      <td>True</td>\n",
       "      <td>True</td>\n",
       "      <td>True</td>\n",
       "      <td>False</td>\n",
       "      <td>False</td>\n",
       "      <td>False</td>\n",
       "      <td>False</td>\n",
       "      <td>False</td>\n",
       "      <td>False</td>\n",
       "      <td>False</td>\n",
       "      <td>False</td>\n",
       "      <td>False</td>\n",
       "      <td>False</td>\n",
       "      <td>False</td>\n",
       "      <td>False</td>\n",
       "      <td>False</td>\n",
       "      <td>2010.0</td>\n",
       "      <td>4.0</td>\n",
       "      <td>23.0</td>\n",
       "    </tr>\n",
       "    <tr>\n",
       "      <th>2</th>\n",
       "      <td>tt0331312</td>\n",
       "      <td>0.0</td>\n",
       "      <td>False</td>\n",
       "      <td>0.0</td>\n",
       "      <td>[]</td>\n",
       "      <td>0.622</td>\n",
       "      <td>2010-01-01</td>\n",
       "      <td>0.0</td>\n",
       "      <td>0.0</td>\n",
       "      <td>This Wretched Life</td>\n",
       "      <td>5.000</td>\n",
       "      <td>1.0</td>\n",
       "      <td>NaN</td>\n",
       "      <td>[]</td>\n",
       "      <td>False</td>\n",
       "      <td>False</td>\n",
       "      <td>False</td>\n",
       "      <td>False</td>\n",
       "      <td>False</td>\n",
       "      <td>False</td>\n",
       "      <td>False</td>\n",
       "      <td>False</td>\n",
       "      <td>False</td>\n",
       "      <td>False</td>\n",
       "      <td>False</td>\n",
       "      <td>False</td>\n",
       "      <td>False</td>\n",
       "      <td>False</td>\n",
       "      <td>False</td>\n",
       "      <td>False</td>\n",
       "      <td>False</td>\n",
       "      <td>False</td>\n",
       "      <td>False</td>\n",
       "      <td>2010.0</td>\n",
       "      <td>1.0</td>\n",
       "      <td>1.0</td>\n",
       "    </tr>\n",
       "    <tr>\n",
       "      <th>3</th>\n",
       "      <td>tt0393049</td>\n",
       "      <td>0.0</td>\n",
       "      <td>False</td>\n",
       "      <td>300000.0</td>\n",
       "      <td>[{'id': 10749, 'name': 'Romance'}, {'id': 35, ...</td>\n",
       "      <td>1.576</td>\n",
       "      <td>2010-05-20</td>\n",
       "      <td>0.0</td>\n",
       "      <td>98.0</td>\n",
       "      <td>Anderson's Cross</td>\n",
       "      <td>4.000</td>\n",
       "      <td>5.0</td>\n",
       "      <td>NaN</td>\n",
       "      <td>[Romance, Comedy, Drama]</td>\n",
       "      <td>False</td>\n",
       "      <td>False</td>\n",
       "      <td>False</td>\n",
       "      <td>False</td>\n",
       "      <td>False</td>\n",
       "      <td>True</td>\n",
       "      <td>True</td>\n",
       "      <td>True</td>\n",
       "      <td>False</td>\n",
       "      <td>False</td>\n",
       "      <td>False</td>\n",
       "      <td>False</td>\n",
       "      <td>False</td>\n",
       "      <td>False</td>\n",
       "      <td>False</td>\n",
       "      <td>False</td>\n",
       "      <td>False</td>\n",
       "      <td>False</td>\n",
       "      <td>False</td>\n",
       "      <td>2010.0</td>\n",
       "      <td>5.0</td>\n",
       "      <td>20.0</td>\n",
       "    </tr>\n",
       "    <tr>\n",
       "      <th>4</th>\n",
       "      <td>tt0398286</td>\n",
       "      <td>0.0</td>\n",
       "      <td>False</td>\n",
       "      <td>260000000.0</td>\n",
       "      <td>[{'id': 16, 'name': 'Animation'}, {'id': 10751...</td>\n",
       "      <td>108.562</td>\n",
       "      <td>2010-11-24</td>\n",
       "      <td>592461732.0</td>\n",
       "      <td>100.0</td>\n",
       "      <td>Tangled</td>\n",
       "      <td>7.590</td>\n",
       "      <td>10223.0</td>\n",
       "      <td>PG</td>\n",
       "      <td>[Animation, Family]</td>\n",
       "      <td>True</td>\n",
       "      <td>True</td>\n",
       "      <td>False</td>\n",
       "      <td>False</td>\n",
       "      <td>False</td>\n",
       "      <td>False</td>\n",
       "      <td>False</td>\n",
       "      <td>False</td>\n",
       "      <td>False</td>\n",
       "      <td>False</td>\n",
       "      <td>False</td>\n",
       "      <td>False</td>\n",
       "      <td>False</td>\n",
       "      <td>False</td>\n",
       "      <td>False</td>\n",
       "      <td>False</td>\n",
       "      <td>False</td>\n",
       "      <td>False</td>\n",
       "      <td>False</td>\n",
       "      <td>2010.0</td>\n",
       "      <td>11.0</td>\n",
       "      <td>24.0</td>\n",
       "    </tr>\n",
       "    <tr>\n",
       "      <th>...</th>\n",
       "      <td>...</td>\n",
       "      <td>...</td>\n",
       "      <td>...</td>\n",
       "      <td>...</td>\n",
       "      <td>...</td>\n",
       "      <td>...</td>\n",
       "      <td>...</td>\n",
       "      <td>...</td>\n",
       "      <td>...</td>\n",
       "      <td>...</td>\n",
       "      <td>...</td>\n",
       "      <td>...</td>\n",
       "      <td>...</td>\n",
       "      <td>...</td>\n",
       "      <td>...</td>\n",
       "      <td>...</td>\n",
       "      <td>...</td>\n",
       "      <td>...</td>\n",
       "      <td>...</td>\n",
       "      <td>...</td>\n",
       "      <td>...</td>\n",
       "      <td>...</td>\n",
       "      <td>...</td>\n",
       "      <td>...</td>\n",
       "      <td>...</td>\n",
       "      <td>...</td>\n",
       "      <td>...</td>\n",
       "      <td>...</td>\n",
       "      <td>...</td>\n",
       "      <td>...</td>\n",
       "      <td>...</td>\n",
       "      <td>...</td>\n",
       "      <td>...</td>\n",
       "      <td>...</td>\n",
       "      <td>...</td>\n",
       "      <td>...</td>\n",
       "    </tr>\n",
       "    <tr>\n",
       "      <th>38131</th>\n",
       "      <td>tt9906644</td>\n",
       "      <td>0.0</td>\n",
       "      <td>False</td>\n",
       "      <td>0.0</td>\n",
       "      <td>[{'id': 35, 'name': 'Comedy'}, {'id': 18, 'nam...</td>\n",
       "      <td>1.448</td>\n",
       "      <td>2019-09-27</td>\n",
       "      <td>0.0</td>\n",
       "      <td>122.0</td>\n",
       "      <td>Manoharam</td>\n",
       "      <td>6.125</td>\n",
       "      <td>12.0</td>\n",
       "      <td>NaN</td>\n",
       "      <td>[Comedy, Drama]</td>\n",
       "      <td>False</td>\n",
       "      <td>False</td>\n",
       "      <td>False</td>\n",
       "      <td>False</td>\n",
       "      <td>False</td>\n",
       "      <td>True</td>\n",
       "      <td>False</td>\n",
       "      <td>True</td>\n",
       "      <td>False</td>\n",
       "      <td>False</td>\n",
       "      <td>False</td>\n",
       "      <td>False</td>\n",
       "      <td>False</td>\n",
       "      <td>False</td>\n",
       "      <td>False</td>\n",
       "      <td>False</td>\n",
       "      <td>False</td>\n",
       "      <td>False</td>\n",
       "      <td>False</td>\n",
       "      <td>2019.0</td>\n",
       "      <td>9.0</td>\n",
       "      <td>27.0</td>\n",
       "    </tr>\n",
       "    <tr>\n",
       "      <th>38132</th>\n",
       "      <td>tt9913660</td>\n",
       "      <td>0.0</td>\n",
       "      <td>False</td>\n",
       "      <td>0.0</td>\n",
       "      <td>[{'id': 18, 'name': 'Drama'}]</td>\n",
       "      <td>0.638</td>\n",
       "      <td>2019-10-23</td>\n",
       "      <td>0.0</td>\n",
       "      <td>102.0</td>\n",
       "      <td>No Apology</td>\n",
       "      <td>8.000</td>\n",
       "      <td>1.0</td>\n",
       "      <td>NaN</td>\n",
       "      <td>[Drama]</td>\n",
       "      <td>False</td>\n",
       "      <td>False</td>\n",
       "      <td>False</td>\n",
       "      <td>False</td>\n",
       "      <td>False</td>\n",
       "      <td>True</td>\n",
       "      <td>False</td>\n",
       "      <td>False</td>\n",
       "      <td>False</td>\n",
       "      <td>False</td>\n",
       "      <td>False</td>\n",
       "      <td>False</td>\n",
       "      <td>False</td>\n",
       "      <td>False</td>\n",
       "      <td>False</td>\n",
       "      <td>False</td>\n",
       "      <td>False</td>\n",
       "      <td>False</td>\n",
       "      <td>False</td>\n",
       "      <td>2019.0</td>\n",
       "      <td>10.0</td>\n",
       "      <td>23.0</td>\n",
       "    </tr>\n",
       "    <tr>\n",
       "      <th>38133</th>\n",
       "      <td>tt9913872</td>\n",
       "      <td>0.0</td>\n",
       "      <td>False</td>\n",
       "      <td>0.0</td>\n",
       "      <td>[{'id': 27, 'name': 'Horror'}]</td>\n",
       "      <td>0.600</td>\n",
       "      <td>2019-01-01</td>\n",
       "      <td>0.0</td>\n",
       "      <td>0.0</td>\n",
       "      <td>De la piel del Diablo</td>\n",
       "      <td>8.200</td>\n",
       "      <td>3.0</td>\n",
       "      <td>NaN</td>\n",
       "      <td>[Horror]</td>\n",
       "      <td>False</td>\n",
       "      <td>False</td>\n",
       "      <td>False</td>\n",
       "      <td>False</td>\n",
       "      <td>False</td>\n",
       "      <td>False</td>\n",
       "      <td>False</td>\n",
       "      <td>False</td>\n",
       "      <td>False</td>\n",
       "      <td>False</td>\n",
       "      <td>False</td>\n",
       "      <td>False</td>\n",
       "      <td>True</td>\n",
       "      <td>False</td>\n",
       "      <td>False</td>\n",
       "      <td>False</td>\n",
       "      <td>False</td>\n",
       "      <td>False</td>\n",
       "      <td>False</td>\n",
       "      <td>2019.0</td>\n",
       "      <td>1.0</td>\n",
       "      <td>1.0</td>\n",
       "    </tr>\n",
       "    <tr>\n",
       "      <th>38134</th>\n",
       "      <td>tt9914942</td>\n",
       "      <td>0.0</td>\n",
       "      <td>False</td>\n",
       "      <td>0.0</td>\n",
       "      <td>[{'id': 18, 'name': 'Drama'}, {'id': 10749, 'n...</td>\n",
       "      <td>5.570</td>\n",
       "      <td>2019-07-12</td>\n",
       "      <td>0.0</td>\n",
       "      <td>74.0</td>\n",
       "      <td>Life without Sara Amat</td>\n",
       "      <td>7.700</td>\n",
       "      <td>7.0</td>\n",
       "      <td>NaN</td>\n",
       "      <td>[Drama, Romance]</td>\n",
       "      <td>False</td>\n",
       "      <td>False</td>\n",
       "      <td>False</td>\n",
       "      <td>False</td>\n",
       "      <td>False</td>\n",
       "      <td>True</td>\n",
       "      <td>True</td>\n",
       "      <td>False</td>\n",
       "      <td>False</td>\n",
       "      <td>False</td>\n",
       "      <td>False</td>\n",
       "      <td>False</td>\n",
       "      <td>False</td>\n",
       "      <td>False</td>\n",
       "      <td>False</td>\n",
       "      <td>False</td>\n",
       "      <td>False</td>\n",
       "      <td>False</td>\n",
       "      <td>False</td>\n",
       "      <td>2019.0</td>\n",
       "      <td>7.0</td>\n",
       "      <td>12.0</td>\n",
       "    </tr>\n",
       "    <tr>\n",
       "      <th>38135</th>\n",
       "      <td>tt9915872</td>\n",
       "      <td>0.0</td>\n",
       "      <td>False</td>\n",
       "      <td>0.0</td>\n",
       "      <td>[]</td>\n",
       "      <td>0.600</td>\n",
       "      <td>NaN</td>\n",
       "      <td>0.0</td>\n",
       "      <td>97.0</td>\n",
       "      <td>The Last White Witch</td>\n",
       "      <td>0.000</td>\n",
       "      <td>0.0</td>\n",
       "      <td>NaN</td>\n",
       "      <td>[]</td>\n",
       "      <td>False</td>\n",
       "      <td>False</td>\n",
       "      <td>False</td>\n",
       "      <td>False</td>\n",
       "      <td>False</td>\n",
       "      <td>False</td>\n",
       "      <td>False</td>\n",
       "      <td>False</td>\n",
       "      <td>False</td>\n",
       "      <td>False</td>\n",
       "      <td>False</td>\n",
       "      <td>False</td>\n",
       "      <td>False</td>\n",
       "      <td>False</td>\n",
       "      <td>False</td>\n",
       "      <td>False</td>\n",
       "      <td>False</td>\n",
       "      <td>False</td>\n",
       "      <td>False</td>\n",
       "      <td>NaN</td>\n",
       "      <td>NaN</td>\n",
       "      <td>NaN</td>\n",
       "    </tr>\n",
       "  </tbody>\n",
       "</table>\n",
       "<p>38136 rows × 36 columns</p>\n",
       "</div>"
      ],
      "text/plain": [
       "         imdb_id  adult  belongs_to_collection       budget  \\\n",
       "0      tt0312305    0.0                  False          0.0   \n",
       "1      tt0326965    0.0                  False          0.0   \n",
       "2      tt0331312    0.0                  False          0.0   \n",
       "3      tt0393049    0.0                  False     300000.0   \n",
       "4      tt0398286    0.0                  False  260000000.0   \n",
       "...          ...    ...                    ...          ...   \n",
       "38131  tt9906644    0.0                  False          0.0   \n",
       "38132  tt9913660    0.0                  False          0.0   \n",
       "38133  tt9913872    0.0                  False          0.0   \n",
       "38134  tt9914942    0.0                  False          0.0   \n",
       "38135  tt9915872    0.0                  False          0.0   \n",
       "\n",
       "                                                  genres  popularity  \\\n",
       "0      [{'id': 10751, 'name': 'Family'}, {'id': 16, '...       1.619   \n",
       "1      [{'id': 53, 'name': 'Thriller'}, {'id': 9648, ...       3.755   \n",
       "2                                                     []       0.622   \n",
       "3      [{'id': 10749, 'name': 'Romance'}, {'id': 35, ...       1.576   \n",
       "4      [{'id': 16, 'name': 'Animation'}, {'id': 10751...     108.562   \n",
       "...                                                  ...         ...   \n",
       "38131  [{'id': 35, 'name': 'Comedy'}, {'id': 18, 'nam...       1.448   \n",
       "38132                      [{'id': 18, 'name': 'Drama'}]       0.638   \n",
       "38133                     [{'id': 27, 'name': 'Horror'}]       0.600   \n",
       "38134  [{'id': 18, 'name': 'Drama'}, {'id': 10749, 'n...       5.570   \n",
       "38135                                                 []       0.600   \n",
       "\n",
       "      release_date      revenue  runtime  \\\n",
       "0       2012-12-02          0.0     45.0   \n",
       "1       2010-04-23          0.0     90.0   \n",
       "2       2010-01-01          0.0      0.0   \n",
       "3       2010-05-20          0.0     98.0   \n",
       "4       2010-11-24  592461732.0    100.0   \n",
       "...            ...          ...      ...   \n",
       "38131   2019-09-27          0.0    122.0   \n",
       "38132   2019-10-23          0.0    102.0   \n",
       "38133   2019-01-01          0.0      0.0   \n",
       "38134   2019-07-12          0.0     74.0   \n",
       "38135          NaN          0.0     97.0   \n",
       "\n",
       "                                        title  vote_average  vote_count  \\\n",
       "0      Quantum Quest: A Cassini Space Odyssey         7.900         8.0   \n",
       "1                                 In My Sleep         5.500        31.0   \n",
       "2                          This Wretched Life         5.000         1.0   \n",
       "3                            Anderson's Cross         4.000         5.0   \n",
       "4                                     Tangled         7.590     10223.0   \n",
       "...                                       ...           ...         ...   \n",
       "38131                               Manoharam         6.125        12.0   \n",
       "38132                              No Apology         8.000         1.0   \n",
       "38133                   De la piel del Diablo         8.200         3.0   \n",
       "38134                  Life without Sara Amat         7.700         7.0   \n",
       "38135                    The Last White Witch         0.000         0.0   \n",
       "\n",
       "      certification                           genres_list  Genre_Family  \\\n",
       "0               NaN  [Family, Animation, Science Fiction]          True   \n",
       "1             PG-13            [Thriller, Mystery, Drama]         False   \n",
       "2               NaN                                    []         False   \n",
       "3               NaN              [Romance, Comedy, Drama]         False   \n",
       "4                PG                   [Animation, Family]          True   \n",
       "...             ...                                   ...           ...   \n",
       "38131           NaN                       [Comedy, Drama]         False   \n",
       "38132           NaN                               [Drama]         False   \n",
       "38133           NaN                              [Horror]         False   \n",
       "38134           NaN                      [Drama, Romance]         False   \n",
       "38135           NaN                                    []         False   \n",
       "\n",
       "       Genre_Animation  Genre_Science Fiction  Genre_Thriller  Genre_Mystery  \\\n",
       "0                 True                   True           False          False   \n",
       "1                False                  False            True           True   \n",
       "2                False                  False           False          False   \n",
       "3                False                  False           False          False   \n",
       "4                 True                  False           False          False   \n",
       "...                ...                    ...             ...            ...   \n",
       "38131            False                  False           False          False   \n",
       "38132            False                  False           False          False   \n",
       "38133            False                  False           False          False   \n",
       "38134            False                  False           False          False   \n",
       "38135            False                  False           False          False   \n",
       "\n",
       "       Genre_Drama  Genre_Romance  Genre_Comedy  Genre_War  Genre_Crime  \\\n",
       "0            False          False         False      False        False   \n",
       "1             True          False         False      False        False   \n",
       "2            False          False         False      False        False   \n",
       "3             True           True          True      False        False   \n",
       "4            False          False         False      False        False   \n",
       "...            ...            ...           ...        ...          ...   \n",
       "38131         True          False          True      False        False   \n",
       "38132         True          False         False      False        False   \n",
       "38133        False          False         False      False        False   \n",
       "38134         True           True         False      False        False   \n",
       "38135        False          False         False      False        False   \n",
       "\n",
       "       Genre_Action  Genre_Adventure  Genre_Horror  Genre_Fantasy  \\\n",
       "0             False            False         False          False   \n",
       "1             False            False         False          False   \n",
       "2             False            False         False          False   \n",
       "3             False            False         False          False   \n",
       "4             False            False         False          False   \n",
       "...             ...              ...           ...            ...   \n",
       "38131         False            False         False          False   \n",
       "38132         False            False         False          False   \n",
       "38133         False            False          True          False   \n",
       "38134         False            False         False          False   \n",
       "38135         False            False         False          False   \n",
       "\n",
       "       Genre_History  Genre_Western  Genre_Music  Genre_Documentary  \\\n",
       "0              False          False        False              False   \n",
       "1              False          False        False              False   \n",
       "2              False          False        False              False   \n",
       "3              False          False        False              False   \n",
       "4              False          False        False              False   \n",
       "...              ...            ...          ...                ...   \n",
       "38131          False          False        False              False   \n",
       "38132          False          False        False              False   \n",
       "38133          False          False        False              False   \n",
       "38134          False          False        False              False   \n",
       "38135          False          False        False              False   \n",
       "\n",
       "       Genre_TV Movie    year  month   day  \n",
       "0               False  2012.0   12.0   2.0  \n",
       "1               False  2010.0    4.0  23.0  \n",
       "2               False  2010.0    1.0   1.0  \n",
       "3               False  2010.0    5.0  20.0  \n",
       "4               False  2010.0   11.0  24.0  \n",
       "...               ...     ...    ...   ...  \n",
       "38131           False  2019.0    9.0  27.0  \n",
       "38132           False  2019.0   10.0  23.0  \n",
       "38133           False  2019.0    1.0   1.0  \n",
       "38134           False  2019.0    7.0  12.0  \n",
       "38135           False     NaN    NaN   NaN  \n",
       "\n",
       "[38136 rows x 36 columns]"
      ]
     },
     "execution_count": 25,
     "metadata": {},
     "output_type": "execute_result"
    }
   ],
   "source": [
    "new_cols = ['year','month','day']\n",
    "df[new_cols] = df['release_date'].str.split('-',expand=True)\n",
    "df[new_cols] = df[new_cols].astype(float)\n",
    "df"
   ]
  },
  {
   "cell_type": "code",
   "execution_count": 26,
   "id": "7cde19df",
   "metadata": {
    "ExecuteTime": {
     "end_time": "2023-05-18T19:48:17.885674Z",
     "start_time": "2023-05-18T19:48:17.870675Z"
    }
   },
   "outputs": [],
   "source": [
    "## drop original feature\n",
    "df = df.drop(columns=['release_date'])"
   ]
  },
  {
   "cell_type": "code",
   "execution_count": 27,
   "id": "0fe3ed2a",
   "metadata": {
    "ExecuteTime": {
     "end_time": "2023-05-18T19:48:17.917652Z",
     "start_time": "2023-05-18T19:48:17.886677Z"
    },
    "scrolled": true
   },
   "outputs": [
    {
     "name": "stdout",
     "output_type": "stream",
     "text": [
      "<class 'pandas.core.frame.DataFrame'>\n",
      "RangeIndex: 38136 entries, 0 to 38135\n",
      "Data columns (total 35 columns):\n",
      " #   Column                 Non-Null Count  Dtype  \n",
      "---  ------                 --------------  -----  \n",
      " 0   imdb_id                38136 non-null  object \n",
      " 1   adult                  38136 non-null  float64\n",
      " 2   belongs_to_collection  38136 non-null  bool   \n",
      " 3   budget                 38136 non-null  float64\n",
      " 4   genres                 38136 non-null  object \n",
      " 5   popularity             38136 non-null  float64\n",
      " 6   revenue                38136 non-null  float64\n",
      " 7   runtime                38136 non-null  float64\n",
      " 8   title                  38136 non-null  object \n",
      " 9   vote_average           38136 non-null  float64\n",
      " 10  vote_count             38136 non-null  float64\n",
      " 11  certification          8367 non-null   object \n",
      " 12  genres_list            38136 non-null  object \n",
      " 13  Genre_Family           38136 non-null  bool   \n",
      " 14  Genre_Animation        38136 non-null  bool   \n",
      " 15  Genre_Science Fiction  38136 non-null  bool   \n",
      " 16  Genre_Thriller         38136 non-null  bool   \n",
      " 17  Genre_Mystery          38136 non-null  bool   \n",
      " 18  Genre_Drama            38136 non-null  bool   \n",
      " 19  Genre_Romance          38136 non-null  bool   \n",
      " 20  Genre_Comedy           38136 non-null  bool   \n",
      " 21  Genre_War              38136 non-null  bool   \n",
      " 22  Genre_Crime            38136 non-null  bool   \n",
      " 23  Genre_Action           38136 non-null  bool   \n",
      " 24  Genre_Adventure        38136 non-null  bool   \n",
      " 25  Genre_Horror           38136 non-null  bool   \n",
      " 26  Genre_Fantasy          38136 non-null  bool   \n",
      " 27  Genre_History          38136 non-null  bool   \n",
      " 28  Genre_Western          38136 non-null  bool   \n",
      " 29  Genre_Music            38136 non-null  bool   \n",
      " 30  Genre_Documentary      38136 non-null  bool   \n",
      " 31  Genre_TV Movie         38136 non-null  bool   \n",
      " 32  year                   37602 non-null  float64\n",
      " 33  month                  37602 non-null  float64\n",
      " 34  day                    37602 non-null  float64\n",
      "dtypes: bool(20), float64(10), object(5)\n",
      "memory usage: 5.1+ MB\n"
     ]
    }
   ],
   "source": [
    "df.info()"
   ]
  },
  {
   "cell_type": "markdown",
   "id": "1abd81aa",
   "metadata": {},
   "source": [
    "# Hypothesis Testing"
   ]
  },
  {
   "cell_type": "markdown",
   "id": "b536287c",
   "metadata": {},
   "source": [
    "# Q1: Does the MPAA rating of a movie (G/PG/PG-13/R) affect how much revenue the movie generates?\n",
    " - Null Hypothesis:There is no difference in how much revenue a movie generates between movies with different MPAA ratings. \n",
    " - Alternative Hypothesis: There is a significant difference on how much revenue a movie makes based on their MPAA ratings. "
   ]
  },
  {
   "cell_type": "code",
   "execution_count": 28,
   "id": "f8c15dc4",
   "metadata": {
    "ExecuteTime": {
     "end_time": "2023-05-18T19:48:17.932825Z",
     "start_time": "2023-05-18T19:48:17.920673Z"
    }
   },
   "outputs": [
    {
     "data": {
      "text/plain": [
       "NaN      29769\n",
       "R         3119\n",
       "NR        2318\n",
       "PG-13     1760\n",
       "PG         799\n",
       "G          271\n",
       "NC-17      100\n",
       "Name: certification, dtype: int64"
      ]
     },
     "execution_count": 28,
     "metadata": {},
     "output_type": "execute_result"
    }
   ],
   "source": [
    "df['certification'].value_counts(dropna=False)"
   ]
  },
  {
   "cell_type": "code",
   "execution_count": 29,
   "id": "9f618e2f",
   "metadata": {
    "ExecuteTime": {
     "end_time": "2023-05-18T19:48:17.947820Z",
     "start_time": "2023-05-18T19:48:17.933820Z"
    }
   },
   "outputs": [],
   "source": [
    "# Create dataframe for testing\n",
    "df_ratings = df.copy()"
   ]
  },
  {
   "cell_type": "code",
   "execution_count": 30,
   "id": "bdcf3b8e",
   "metadata": {
    "ExecuteTime": {
     "end_time": "2023-05-18T19:48:17.963817Z",
     "start_time": "2023-05-18T19:48:17.948818Z"
    }
   },
   "outputs": [],
   "source": [
    "df_ratings[['certification']] = df_ratings[['certification']].fillna(\"NaN\")"
   ]
  },
  {
   "cell_type": "code",
   "execution_count": 31,
   "id": "1a28b685",
   "metadata": {
    "ExecuteTime": {
     "end_time": "2023-05-18T19:48:17.979833Z",
     "start_time": "2023-05-18T19:48:17.964819Z"
    }
   },
   "outputs": [
    {
     "data": {
      "text/plain": [
       "NaN      29769\n",
       "R         3119\n",
       "NR        2318\n",
       "PG-13     1760\n",
       "PG         799\n",
       "G          271\n",
       "NC-17      100\n",
       "Name: certification, dtype: int64"
      ]
     },
     "execution_count": 31,
     "metadata": {},
     "output_type": "execute_result"
    }
   ],
   "source": [
    "df_ratings['certification'].value_counts()"
   ]
  },
  {
   "cell_type": "code",
   "execution_count": 32,
   "id": "bdc93cc2",
   "metadata": {
    "ExecuteTime": {
     "end_time": "2023-05-18T19:48:17.995839Z",
     "start_time": "2023-05-18T19:48:17.980840Z"
    }
   },
   "outputs": [
    {
     "data": {
      "text/plain": [
       "count    3.813600e+04\n",
       "mean     7.719369e+06\n",
       "std      6.311648e+07\n",
       "min      0.000000e+00\n",
       "25%      0.000000e+00\n",
       "50%      0.000000e+00\n",
       "75%      0.000000e+00\n",
       "max      2.794732e+09\n",
       "Name: revenue, dtype: float64"
      ]
     },
     "execution_count": 32,
     "metadata": {},
     "output_type": "execute_result"
    }
   ],
   "source": [
    "df_ratings['revenue'].describe()"
   ]
  },
  {
   "cell_type": "code",
   "execution_count": 33,
   "id": "30d683a1",
   "metadata": {
    "ExecuteTime": {
     "end_time": "2023-05-18T19:48:18.011835Z",
     "start_time": "2023-05-18T19:48:17.996868Z"
    }
   },
   "outputs": [
    {
     "data": {
      "text/plain": [
       "dict_keys(['NaN', 'PG-13', 'PG', 'R', 'NR', 'G', 'NC-17'])"
      ]
     },
     "execution_count": 33,
     "metadata": {},
     "output_type": "execute_result"
    }
   ],
   "source": [
    "rating_groups = {}\n",
    "\n",
    "for i in df_ratings['certification'].unique():\n",
    "    data = df_ratings.loc[df_ratings['certification']==i, 'revenue'].copy()\n",
    "    rating_groups[i] = data\n",
    "\n",
    "rating_groups.keys()"
   ]
  },
  {
   "cell_type": "markdown",
   "id": "479619fe",
   "metadata": {},
   "source": [
    "Testing Normality Assumption"
   ]
  },
  {
   "cell_type": "code",
   "execution_count": 34,
   "id": "5f25b58e",
   "metadata": {
    "ExecuteTime": {
     "end_time": "2023-05-18T19:48:18.026840Z",
     "start_time": "2023-05-18T19:48:18.012842Z"
    }
   },
   "outputs": [
    {
     "data": {
      "text/html": [
       "<div>\n",
       "<style scoped>\n",
       "    .dataframe tbody tr th:only-of-type {\n",
       "        vertical-align: middle;\n",
       "    }\n",
       "\n",
       "    .dataframe tbody tr th {\n",
       "        vertical-align: top;\n",
       "    }\n",
       "\n",
       "    .dataframe thead th {\n",
       "        text-align: right;\n",
       "    }\n",
       "</style>\n",
       "<table border=\"1\" class=\"dataframe\">\n",
       "  <thead>\n",
       "    <tr style=\"text-align: right;\">\n",
       "      <th></th>\n",
       "      <th>n</th>\n",
       "      <th>p</th>\n",
       "      <th>test stat</th>\n",
       "    </tr>\n",
       "  </thead>\n",
       "  <tbody>\n",
       "    <tr>\n",
       "      <th>NaN</th>\n",
       "      <td>29769.0</td>\n",
       "      <td>0.000000e+00</td>\n",
       "      <td>91813.036321</td>\n",
       "    </tr>\n",
       "    <tr>\n",
       "      <th>PG-13</th>\n",
       "      <td>1760.0</td>\n",
       "      <td>0.000000e+00</td>\n",
       "      <td>1783.569449</td>\n",
       "    </tr>\n",
       "    <tr>\n",
       "      <th>PG</th>\n",
       "      <td>799.0</td>\n",
       "      <td>3.645016e-146</td>\n",
       "      <td>669.768125</td>\n",
       "    </tr>\n",
       "    <tr>\n",
       "      <th>R</th>\n",
       "      <td>3119.0</td>\n",
       "      <td>0.000000e+00</td>\n",
       "      <td>3940.827672</td>\n",
       "    </tr>\n",
       "    <tr>\n",
       "      <th>NR</th>\n",
       "      <td>2318.0</td>\n",
       "      <td>0.000000e+00</td>\n",
       "      <td>5127.159468</td>\n",
       "    </tr>\n",
       "    <tr>\n",
       "      <th>G</th>\n",
       "      <td>271.0</td>\n",
       "      <td>1.866084e-81</td>\n",
       "      <td>371.771101</td>\n",
       "    </tr>\n",
       "    <tr>\n",
       "      <th>NC-17</th>\n",
       "      <td>100.0</td>\n",
       "      <td>1.376587e-35</td>\n",
       "      <td>160.541742</td>\n",
       "    </tr>\n",
       "  </tbody>\n",
       "</table>\n",
       "</div>"
      ],
      "text/plain": [
       "             n              p     test stat\n",
       "NaN    29769.0   0.000000e+00  91813.036321\n",
       "PG-13   1760.0   0.000000e+00   1783.569449\n",
       "PG       799.0  3.645016e-146    669.768125\n",
       "R       3119.0   0.000000e+00   3940.827672\n",
       "NR      2318.0   0.000000e+00   5127.159468\n",
       "G        271.0   1.866084e-81    371.771101\n",
       "NC-17    100.0   1.376587e-35    160.541742"
      ]
     },
     "execution_count": 34,
     "metadata": {},
     "output_type": "execute_result"
    }
   ],
   "source": [
    "## Running normal test on each group and confirming there are >20 in each group\n",
    "norm_results = {}\n",
    "for i, data in rating_groups.items():\n",
    "    stat, p = stats.normaltest(data)\n",
    "    ## save the p val, test statistic, and the size of the group\n",
    "    norm_results[i] = {'n': len(data),\n",
    "                             'p':p,\n",
    "                             'test stat':stat,}\n",
    "## convert to a dataframe\n",
    "norm_results_df = pd.DataFrame(norm_results).T\n",
    "norm_results_df"
   ]
  },
  {
   "cell_type": "code",
   "execution_count": 35,
   "id": "9a5f9025",
   "metadata": {
    "ExecuteTime": {
     "end_time": "2023-05-18T19:48:18.041838Z",
     "start_time": "2023-05-18T19:48:18.027843Z"
    },
    "scrolled": true
   },
   "outputs": [
    {
     "data": {
      "text/html": [
       "<div>\n",
       "<style scoped>\n",
       "    .dataframe tbody tr th:only-of-type {\n",
       "        vertical-align: middle;\n",
       "    }\n",
       "\n",
       "    .dataframe tbody tr th {\n",
       "        vertical-align: top;\n",
       "    }\n",
       "\n",
       "    .dataframe thead th {\n",
       "        text-align: right;\n",
       "    }\n",
       "</style>\n",
       "<table border=\"1\" class=\"dataframe\">\n",
       "  <thead>\n",
       "    <tr style=\"text-align: right;\">\n",
       "      <th></th>\n",
       "      <th>n</th>\n",
       "      <th>p</th>\n",
       "      <th>test stat</th>\n",
       "      <th>sig</th>\n",
       "    </tr>\n",
       "  </thead>\n",
       "  <tbody>\n",
       "    <tr>\n",
       "      <th>NaN</th>\n",
       "      <td>29769.0</td>\n",
       "      <td>0.000000e+00</td>\n",
       "      <td>91813.036321</td>\n",
       "      <td>True</td>\n",
       "    </tr>\n",
       "    <tr>\n",
       "      <th>PG-13</th>\n",
       "      <td>1760.0</td>\n",
       "      <td>0.000000e+00</td>\n",
       "      <td>1783.569449</td>\n",
       "      <td>True</td>\n",
       "    </tr>\n",
       "    <tr>\n",
       "      <th>PG</th>\n",
       "      <td>799.0</td>\n",
       "      <td>3.645016e-146</td>\n",
       "      <td>669.768125</td>\n",
       "      <td>True</td>\n",
       "    </tr>\n",
       "    <tr>\n",
       "      <th>R</th>\n",
       "      <td>3119.0</td>\n",
       "      <td>0.000000e+00</td>\n",
       "      <td>3940.827672</td>\n",
       "      <td>True</td>\n",
       "    </tr>\n",
       "    <tr>\n",
       "      <th>NR</th>\n",
       "      <td>2318.0</td>\n",
       "      <td>0.000000e+00</td>\n",
       "      <td>5127.159468</td>\n",
       "      <td>True</td>\n",
       "    </tr>\n",
       "    <tr>\n",
       "      <th>G</th>\n",
       "      <td>271.0</td>\n",
       "      <td>1.866084e-81</td>\n",
       "      <td>371.771101</td>\n",
       "      <td>True</td>\n",
       "    </tr>\n",
       "    <tr>\n",
       "      <th>NC-17</th>\n",
       "      <td>100.0</td>\n",
       "      <td>1.376587e-35</td>\n",
       "      <td>160.541742</td>\n",
       "      <td>True</td>\n",
       "    </tr>\n",
       "  </tbody>\n",
       "</table>\n",
       "</div>"
      ],
      "text/plain": [
       "             n              p     test stat   sig\n",
       "NaN    29769.0   0.000000e+00  91813.036321  True\n",
       "PG-13   1760.0   0.000000e+00   1783.569449  True\n",
       "PG       799.0  3.645016e-146    669.768125  True\n",
       "R       3119.0   0.000000e+00   3940.827672  True\n",
       "NR      2318.0   0.000000e+00   5127.159468  True\n",
       "G        271.0   1.866084e-81    371.771101  True\n",
       "NC-17    100.0   1.376587e-35    160.541742  True"
      ]
     },
     "execution_count": 35,
     "metadata": {},
     "output_type": "execute_result"
    }
   ],
   "source": [
    "### checking sig with pandas \n",
    "norm_results_df['sig'] = norm_results_df['p'] < .05 \n",
    "norm_results_df"
   ]
  },
  {
   "cell_type": "markdown",
   "id": "c1130889",
   "metadata": {},
   "source": [
    "* We can confirm that each rating has a normal distribution. "
   ]
  },
  {
   "cell_type": "markdown",
   "id": "59e6ea7b",
   "metadata": {},
   "source": [
    "Testing Equal Variance Assumption"
   ]
  },
  {
   "cell_type": "code",
   "execution_count": 36,
   "id": "43ef4b05",
   "metadata": {
    "ExecuteTime": {
     "end_time": "2023-05-18T19:48:18.056839Z",
     "start_time": "2023-05-18T19:48:18.042842Z"
    }
   },
   "outputs": [
    {
     "data": {
      "text/plain": [
       "LeveneResult(statistic=681.6460749590285, pvalue=0.0)"
      ]
     },
     "execution_count": 36,
     "metadata": {},
     "output_type": "execute_result"
    }
   ],
   "source": [
    "# with the * operator \n",
    "stats.levene(*rating_groups.values())"
   ]
  },
  {
   "cell_type": "markdown",
   "id": "cc04fafb",
   "metadata": {},
   "source": [
    "* pvalue is < 0.05, the groups do not have equal variances, we need to use \"stats.kruskal\""
   ]
  },
  {
   "cell_type": "code",
   "execution_count": 37,
   "id": "575824d1",
   "metadata": {
    "ExecuteTime": {
     "end_time": "2023-05-18T19:48:18.071842Z",
     "start_time": "2023-05-18T19:48:18.057841Z"
    }
   },
   "outputs": [
    {
     "data": {
      "text/plain": [
       "KruskalResult(statistic=7382.10069556, pvalue=0.0)"
      ]
     },
     "execution_count": 37,
     "metadata": {},
     "output_type": "execute_result"
    }
   ],
   "source": [
    "# perform the correct hypothesis test\n",
    "# note again the use of the * operator for convenience\n",
    "result = stats.kruskal( *rating_groups.values())\n",
    "result"
   ]
  },
  {
   "cell_type": "markdown",
   "id": "b8f9f986",
   "metadata": {},
   "source": [
    "* pvalue is less than 0.05, we will reject our null hypothesis. "
   ]
  },
  {
   "cell_type": "code",
   "execution_count": 38,
   "id": "b21ae530",
   "metadata": {
    "ExecuteTime": {
     "end_time": "2023-05-18T19:48:18.087839Z",
     "start_time": "2023-05-18T19:48:18.072866Z"
    }
   },
   "outputs": [],
   "source": [
    "from statsmodels.stats.multicomp import pairwise_tukeyhsd\n",
    "## save the values as kg_lost and the labels to the Diet\n",
    "values = df_ratings['revenue']\n",
    "labels = df_ratings['certification']"
   ]
  },
  {
   "cell_type": "code",
   "execution_count": 39,
   "id": "38fea9aa",
   "metadata": {
    "ExecuteTime": {
     "end_time": "2023-05-18T19:48:18.497817Z",
     "start_time": "2023-05-18T19:48:18.088842Z"
    }
   },
   "outputs": [
    {
     "data": {
      "text/html": [
       "<table class=\"simpletable\">\n",
       "<caption>Multiple Comparison of Means - Tukey HSD, FWER=0.05</caption>\n",
       "<tr>\n",
       "  <th>group1</th> <th>group2</th>    <th>meandiff</th>     <th>p-adj</th>      <th>lower</th>          <th>upper</th>     <th>reject</th>\n",
       "</tr>\n",
       "<tr>\n",
       "     <td>G</td>    <td>NC-17</td> <td>-24451726.0513</td>  <td>0.009</td> <td>-45146073.8532</td>  <td>-3757378.2493</td>  <td>True</td> \n",
       "</tr>\n",
       "<tr>\n",
       "     <td>G</td>     <td>NR</td>   <td>-23134835.4382</td>   <td>0.0</td>   <td>-34489494.498</td> <td>-11780176.3783</td>  <td>True</td> \n",
       "</tr>\n",
       "<tr>\n",
       "     <td>G</td>     <td>NaN</td>  <td>-23850203.1054</td>   <td>0.0</td>  <td>-34642965.8502</td> <td>-13057440.3606</td>  <td>True</td> \n",
       "</tr>\n",
       "<tr>\n",
       "     <td>G</td>     <td>PG</td>    <td>53003770.9088</td>   <td>0.0</td>   <td>40570560.3603</td>  <td>65436981.4573</td>  <td>True</td> \n",
       "</tr>\n",
       "<tr>\n",
       "     <td>G</td>    <td>PG-13</td>  <td>54103064.5265</td>   <td>0.0</td>   <td>42561533.6749</td>  <td>65644595.3782</td>  <td>True</td> \n",
       "</tr>\n",
       "<tr>\n",
       "     <td>G</td>      <td>R</td>    <td>-6633615.8592</td> <td>0.5847</td> <td>-17834619.8186</td>  <td>4567388.1002</td>   <td>False</td>\n",
       "</tr>\n",
       "<tr>\n",
       "   <td>NC-17</td>   <td>NR</td>    <td>1316890.6131</td>    <td>1.0</td>  <td>-16747398.1478</td>  <td>19381179.374</td>   <td>False</td>\n",
       "</tr>\n",
       "<tr>\n",
       "   <td>NC-17</td>   <td>NaN</td>    <td>601522.9459</td>    <td>1.0</td>  <td>-17114965.8071</td>  <td>18318011.6989</td>  <td>False</td>\n",
       "</tr>\n",
       "<tr>\n",
       "   <td>NC-17</td>   <td>PG</td>    <td>77455496.9601</td>   <td>0.0</td>   <td>58694500.968</td>   <td>96216492.9521</td>  <td>True</td> \n",
       "</tr>\n",
       "<tr>\n",
       "   <td>NC-17</td>  <td>PG-13</td>  <td>78554790.5778</td>   <td>0.0</td>   <td>60372459.0313</td>  <td>96737122.1244</td>  <td>True</td> \n",
       "</tr>\n",
       "<tr>\n",
       "   <td>NC-17</td>    <td>R</td>    <td>17818110.1921</td> <td>0.0537</td>  <td>-149993.0959</td>   <td>35786213.4801</td>  <td>False</td>\n",
       "</tr>\n",
       "<tr>\n",
       "    <td>NR</td>     <td>NaN</td>   <td>-715367.6672</td>   <td>0.998</td>  <td>-4529319.0504</td>   <td>3098583.716</td>   <td>False</td>\n",
       "</tr>\n",
       "<tr>\n",
       "    <td>NR</td>     <td>PG</td>    <td>76138606.347</td>    <td>0.0</td>   <td>68882765.8008</td>  <td>83394446.8931</td>  <td>True</td> \n",
       "</tr>\n",
       "<tr>\n",
       "    <td>NR</td>    <td>PG-13</td>  <td>77237899.9647</td>   <td>0.0</td>   <td>71645992.2502</td>  <td>82829807.6793</td>  <td>True</td> \n",
       "</tr>\n",
       "<tr>\n",
       "    <td>NR</td>      <td>R</td>    <td>16501219.579</td>    <td>0.0</td>   <td>11650963.1748</td>  <td>21351475.9831</td>  <td>True</td> \n",
       "</tr>\n",
       "<tr>\n",
       "    <td>NaN</td>    <td>PG</td>    <td>76853974.0142</td>   <td>0.0</td>   <td>70513416.6782</td>  <td>83194531.3501</td>  <td>True</td> \n",
       "</tr>\n",
       "<tr>\n",
       "    <td>NaN</td>   <td>PG-13</td>  <td>77953267.6319</td>   <td>0.0</td>   <td>73614503.1549</td>  <td>82292032.1089</td>  <td>True</td> \n",
       "</tr>\n",
       "<tr>\n",
       "    <td>NaN</td>     <td>R</td>    <td>17216587.2462</td>   <td>0.0</td>   <td>13887858.8876</td>  <td>20545315.6048</td>  <td>True</td> \n",
       "</tr>\n",
       "<tr>\n",
       "    <td>PG</td>    <td>PG-13</td>  <td>1099293.6178</td>  <td>0.9995</td>  <td>-6445630.1104</td>   <td>8644217.346</td>   <td>False</td>\n",
       "</tr>\n",
       "<tr>\n",
       "    <td>PG</td>      <td>R</td>    <td>-59637386.768</td>   <td>0.0</td>  <td>-66650334.0345</td> <td>-52624439.5015</td>  <td>True</td> \n",
       "</tr>\n",
       "<tr>\n",
       "   <td>PG-13</td>    <td>R</td>   <td>-60736680.3858</td>   <td>0.0</td>  <td>-66009596.0137</td> <td>-55463764.7578</td>  <td>True</td> \n",
       "</tr>\n",
       "</table>"
      ],
      "text/plain": [
       "<class 'statsmodels.iolib.table.SimpleTable'>"
      ]
     },
     "execution_count": 39,
     "metadata": {},
     "output_type": "execute_result"
    }
   ],
   "source": [
    "## perform tukey's multiple comparison test and display the summary\n",
    "tukeys_results = pairwise_tukeyhsd(values,labels)\n",
    "tukeys_results.summary()"
   ]
  },
  {
   "cell_type": "code",
   "execution_count": 40,
   "id": "4b06285e",
   "metadata": {
    "ExecuteTime": {
     "end_time": "2023-05-18T19:48:18.817649Z",
     "start_time": "2023-05-18T19:48:18.498820Z"
    },
    "scrolled": true
   },
   "outputs": [
    {
     "data": {
      "text/plain": [
       "Text(0.5, 1.0, 'Revenue by MPAA Rating')"
      ]
     },
     "execution_count": 40,
     "metadata": {},
     "output_type": "execute_result"
    },
    {
     "data": {
      "image/png": "[encoded data removed]",
      "text/plain": [
       "<Figure size 640x480 with 1 Axes>"
      ]
     },
     "metadata": {},
     "output_type": "display_data"
    }
   ],
   "source": [
    "ax = sns.barplot(data=df_ratings, x='certification',y='revenue')\n",
    "ax.set_title('Revenue by MPAA Rating')"
   ]
  },
  {
   "cell_type": "markdown",
   "id": "3d6cb2bb",
   "metadata": {},
   "source": [
    "# Conclusion\n",
    " - From our pvalue in our Kruskal test, we see that it is less than our alpha (0.05), we can therefore reject our null hypothesis. From our visual above and the table above, we can see that there are significant differences in revenue between our ratings. We see that PG-13 and PG movies make amoung the most in revenue. The table also shows that amoung the rating, there are mostly differences between the ratings in terms of revenue generated. "
   ]
  },
  {
   "cell_type": "markdown",
   "id": "3d4f6e59",
   "metadata": {},
   "source": [
    "# Q2: Do movies that are over 2.5 hours long earn more revenue than movies that are 1.5 hours long (or less)?\n",
    " - Null Hypothesis: There is no difference in revenue between movies that are over 2.5 hours and movies that are 1.5 hour or less. \n",
    " - Alternative Hypothesis: Movies that are over 2.5 hours long make significantly more revenue than movies that are 1.5 hours or less."
   ]
  },
  {
   "cell_type": "code",
   "execution_count": 41,
   "id": "496fe778",
   "metadata": {
    "ExecuteTime": {
     "end_time": "2023-05-18T19:48:18.849437Z",
     "start_time": "2023-05-18T19:48:18.818649Z"
    }
   },
   "outputs": [
    {
     "data": {
      "text/html": [
       "<div>\n",
       "<style scoped>\n",
       "    .dataframe tbody tr th:only-of-type {\n",
       "        vertical-align: middle;\n",
       "    }\n",
       "\n",
       "    .dataframe tbody tr th {\n",
       "        vertical-align: top;\n",
       "    }\n",
       "\n",
       "    .dataframe thead th {\n",
       "        text-align: right;\n",
       "    }\n",
       "</style>\n",
       "<table border=\"1\" class=\"dataframe\">\n",
       "  <thead>\n",
       "    <tr style=\"text-align: right;\">\n",
       "      <th></th>\n",
       "      <th>imdb_id</th>\n",
       "      <th>adult</th>\n",
       "      <th>belongs_to_collection</th>\n",
       "      <th>budget</th>\n",
       "      <th>genres</th>\n",
       "      <th>popularity</th>\n",
       "      <th>revenue</th>\n",
       "      <th>runtime</th>\n",
       "      <th>title</th>\n",
       "      <th>vote_average</th>\n",
       "      <th>vote_count</th>\n",
       "      <th>certification</th>\n",
       "      <th>genres_list</th>\n",
       "      <th>Genre_Family</th>\n",
       "      <th>Genre_Animation</th>\n",
       "      <th>Genre_Science Fiction</th>\n",
       "      <th>Genre_Thriller</th>\n",
       "      <th>Genre_Mystery</th>\n",
       "      <th>Genre_Drama</th>\n",
       "      <th>Genre_Romance</th>\n",
       "      <th>Genre_Comedy</th>\n",
       "      <th>Genre_War</th>\n",
       "      <th>Genre_Crime</th>\n",
       "      <th>Genre_Action</th>\n",
       "      <th>Genre_Adventure</th>\n",
       "      <th>Genre_Horror</th>\n",
       "      <th>Genre_Fantasy</th>\n",
       "      <th>Genre_History</th>\n",
       "      <th>Genre_Western</th>\n",
       "      <th>Genre_Music</th>\n",
       "      <th>Genre_Documentary</th>\n",
       "      <th>Genre_TV Movie</th>\n",
       "      <th>year</th>\n",
       "      <th>month</th>\n",
       "      <th>day</th>\n",
       "    </tr>\n",
       "  </thead>\n",
       "  <tbody>\n",
       "    <tr>\n",
       "      <th>0</th>\n",
       "      <td>tt0312305</td>\n",
       "      <td>0.0</td>\n",
       "      <td>False</td>\n",
       "      <td>0.0</td>\n",
       "      <td>[{'id': 10751, 'name': 'Family'}, {'id': 16, '...</td>\n",
       "      <td>1.619</td>\n",
       "      <td>0.0</td>\n",
       "      <td>45.0</td>\n",
       "      <td>Quantum Quest: A Cassini Space Odyssey</td>\n",
       "      <td>7.90</td>\n",
       "      <td>8.0</td>\n",
       "      <td>NaN</td>\n",
       "      <td>[Family, Animation, Science Fiction]</td>\n",
       "      <td>True</td>\n",
       "      <td>True</td>\n",
       "      <td>True</td>\n",
       "      <td>False</td>\n",
       "      <td>False</td>\n",
       "      <td>False</td>\n",
       "      <td>False</td>\n",
       "      <td>False</td>\n",
       "      <td>False</td>\n",
       "      <td>False</td>\n",
       "      <td>False</td>\n",
       "      <td>False</td>\n",
       "      <td>False</td>\n",
       "      <td>False</td>\n",
       "      <td>False</td>\n",
       "      <td>False</td>\n",
       "      <td>False</td>\n",
       "      <td>False</td>\n",
       "      <td>False</td>\n",
       "      <td>2012.0</td>\n",
       "      <td>12.0</td>\n",
       "      <td>2.0</td>\n",
       "    </tr>\n",
       "    <tr>\n",
       "      <th>1</th>\n",
       "      <td>tt0326965</td>\n",
       "      <td>0.0</td>\n",
       "      <td>False</td>\n",
       "      <td>0.0</td>\n",
       "      <td>[{'id': 53, 'name': 'Thriller'}, {'id': 9648, ...</td>\n",
       "      <td>3.755</td>\n",
       "      <td>0.0</td>\n",
       "      <td>90.0</td>\n",
       "      <td>In My Sleep</td>\n",
       "      <td>5.50</td>\n",
       "      <td>31.0</td>\n",
       "      <td>PG-13</td>\n",
       "      <td>[Thriller, Mystery, Drama]</td>\n",
       "      <td>False</td>\n",
       "      <td>False</td>\n",
       "      <td>False</td>\n",
       "      <td>True</td>\n",
       "      <td>True</td>\n",
       "      <td>True</td>\n",
       "      <td>False</td>\n",
       "      <td>False</td>\n",
       "      <td>False</td>\n",
       "      <td>False</td>\n",
       "      <td>False</td>\n",
       "      <td>False</td>\n",
       "      <td>False</td>\n",
       "      <td>False</td>\n",
       "      <td>False</td>\n",
       "      <td>False</td>\n",
       "      <td>False</td>\n",
       "      <td>False</td>\n",
       "      <td>False</td>\n",
       "      <td>2010.0</td>\n",
       "      <td>4.0</td>\n",
       "      <td>23.0</td>\n",
       "    </tr>\n",
       "    <tr>\n",
       "      <th>2</th>\n",
       "      <td>tt0331312</td>\n",
       "      <td>0.0</td>\n",
       "      <td>False</td>\n",
       "      <td>0.0</td>\n",
       "      <td>[]</td>\n",
       "      <td>0.622</td>\n",
       "      <td>0.0</td>\n",
       "      <td>0.0</td>\n",
       "      <td>This Wretched Life</td>\n",
       "      <td>5.00</td>\n",
       "      <td>1.0</td>\n",
       "      <td>NaN</td>\n",
       "      <td>[]</td>\n",
       "      <td>False</td>\n",
       "      <td>False</td>\n",
       "      <td>False</td>\n",
       "      <td>False</td>\n",
       "      <td>False</td>\n",
       "      <td>False</td>\n",
       "      <td>False</td>\n",
       "      <td>False</td>\n",
       "      <td>False</td>\n",
       "      <td>False</td>\n",
       "      <td>False</td>\n",
       "      <td>False</td>\n",
       "      <td>False</td>\n",
       "      <td>False</td>\n",
       "      <td>False</td>\n",
       "      <td>False</td>\n",
       "      <td>False</td>\n",
       "      <td>False</td>\n",
       "      <td>False</td>\n",
       "      <td>2010.0</td>\n",
       "      <td>1.0</td>\n",
       "      <td>1.0</td>\n",
       "    </tr>\n",
       "    <tr>\n",
       "      <th>3</th>\n",
       "      <td>tt0393049</td>\n",
       "      <td>0.0</td>\n",
       "      <td>False</td>\n",
       "      <td>300000.0</td>\n",
       "      <td>[{'id': 10749, 'name': 'Romance'}, {'id': 35, ...</td>\n",
       "      <td>1.576</td>\n",
       "      <td>0.0</td>\n",
       "      <td>98.0</td>\n",
       "      <td>Anderson's Cross</td>\n",
       "      <td>4.00</td>\n",
       "      <td>5.0</td>\n",
       "      <td>NaN</td>\n",
       "      <td>[Romance, Comedy, Drama]</td>\n",
       "      <td>False</td>\n",
       "      <td>False</td>\n",
       "      <td>False</td>\n",
       "      <td>False</td>\n",
       "      <td>False</td>\n",
       "      <td>True</td>\n",
       "      <td>True</td>\n",
       "      <td>True</td>\n",
       "      <td>False</td>\n",
       "      <td>False</td>\n",
       "      <td>False</td>\n",
       "      <td>False</td>\n",
       "      <td>False</td>\n",
       "      <td>False</td>\n",
       "      <td>False</td>\n",
       "      <td>False</td>\n",
       "      <td>False</td>\n",
       "      <td>False</td>\n",
       "      <td>False</td>\n",
       "      <td>2010.0</td>\n",
       "      <td>5.0</td>\n",
       "      <td>20.0</td>\n",
       "    </tr>\n",
       "    <tr>\n",
       "      <th>4</th>\n",
       "      <td>tt0398286</td>\n",
       "      <td>0.0</td>\n",
       "      <td>False</td>\n",
       "      <td>260000000.0</td>\n",
       "      <td>[{'id': 16, 'name': 'Animation'}, {'id': 10751...</td>\n",
       "      <td>108.562</td>\n",
       "      <td>592461732.0</td>\n",
       "      <td>100.0</td>\n",
       "      <td>Tangled</td>\n",
       "      <td>7.59</td>\n",
       "      <td>10223.0</td>\n",
       "      <td>PG</td>\n",
       "      <td>[Animation, Family]</td>\n",
       "      <td>True</td>\n",
       "      <td>True</td>\n",
       "      <td>False</td>\n",
       "      <td>False</td>\n",
       "      <td>False</td>\n",
       "      <td>False</td>\n",
       "      <td>False</td>\n",
       "      <td>False</td>\n",
       "      <td>False</td>\n",
       "      <td>False</td>\n",
       "      <td>False</td>\n",
       "      <td>False</td>\n",
       "      <td>False</td>\n",
       "      <td>False</td>\n",
       "      <td>False</td>\n",
       "      <td>False</td>\n",
       "      <td>False</td>\n",
       "      <td>False</td>\n",
       "      <td>False</td>\n",
       "      <td>2010.0</td>\n",
       "      <td>11.0</td>\n",
       "      <td>24.0</td>\n",
       "    </tr>\n",
       "  </tbody>\n",
       "</table>\n",
       "</div>"
      ],
      "text/plain": [
       "     imdb_id  adult  belongs_to_collection       budget  \\\n",
       "0  tt0312305    0.0                  False          0.0   \n",
       "1  tt0326965    0.0                  False          0.0   \n",
       "2  tt0331312    0.0                  False          0.0   \n",
       "3  tt0393049    0.0                  False     300000.0   \n",
       "4  tt0398286    0.0                  False  260000000.0   \n",
       "\n",
       "                                              genres  popularity      revenue  \\\n",
       "0  [{'id': 10751, 'name': 'Family'}, {'id': 16, '...       1.619          0.0   \n",
       "1  [{'id': 53, 'name': 'Thriller'}, {'id': 9648, ...       3.755          0.0   \n",
       "2                                                 []       0.622          0.0   \n",
       "3  [{'id': 10749, 'name': 'Romance'}, {'id': 35, ...       1.576          0.0   \n",
       "4  [{'id': 16, 'name': 'Animation'}, {'id': 10751...     108.562  592461732.0   \n",
       "\n",
       "   runtime                                   title  vote_average  vote_count  \\\n",
       "0     45.0  Quantum Quest: A Cassini Space Odyssey          7.90         8.0   \n",
       "1     90.0                             In My Sleep          5.50        31.0   \n",
       "2      0.0                      This Wretched Life          5.00         1.0   \n",
       "3     98.0                        Anderson's Cross          4.00         5.0   \n",
       "4    100.0                                 Tangled          7.59     10223.0   \n",
       "\n",
       "  certification                           genres_list  Genre_Family  \\\n",
       "0           NaN  [Family, Animation, Science Fiction]          True   \n",
       "1         PG-13            [Thriller, Mystery, Drama]         False   \n",
       "2           NaN                                    []         False   \n",
       "3           NaN              [Romance, Comedy, Drama]         False   \n",
       "4            PG                   [Animation, Family]          True   \n",
       "\n",
       "   Genre_Animation  Genre_Science Fiction  Genre_Thriller  Genre_Mystery  \\\n",
       "0             True                   True           False          False   \n",
       "1            False                  False            True           True   \n",
       "2            False                  False           False          False   \n",
       "3            False                  False           False          False   \n",
       "4             True                  False           False          False   \n",
       "\n",
       "   Genre_Drama  Genre_Romance  Genre_Comedy  Genre_War  Genre_Crime  \\\n",
       "0        False          False         False      False        False   \n",
       "1         True          False         False      False        False   \n",
       "2        False          False         False      False        False   \n",
       "3         True           True          True      False        False   \n",
       "4        False          False         False      False        False   \n",
       "\n",
       "   Genre_Action  Genre_Adventure  Genre_Horror  Genre_Fantasy  Genre_History  \\\n",
       "0         False            False         False          False          False   \n",
       "1         False            False         False          False          False   \n",
       "2         False            False         False          False          False   \n",
       "3         False            False         False          False          False   \n",
       "4         False            False         False          False          False   \n",
       "\n",
       "   Genre_Western  Genre_Music  Genre_Documentary  Genre_TV Movie    year  \\\n",
       "0          False        False              False           False  2012.0   \n",
       "1          False        False              False           False  2010.0   \n",
       "2          False        False              False           False  2010.0   \n",
       "3          False        False              False           False  2010.0   \n",
       "4          False        False              False           False  2010.0   \n",
       "\n",
       "   month   day  \n",
       "0   12.0   2.0  \n",
       "1    4.0  23.0  \n",
       "2    1.0   1.0  \n",
       "3    5.0  20.0  \n",
       "4   11.0  24.0  "
      ]
     },
     "execution_count": 41,
     "metadata": {},
     "output_type": "execute_result"
    }
   ],
   "source": [
    "hours_df = df.copy()\n",
    "hours_df.head()"
   ]
  },
  {
   "cell_type": "code",
   "execution_count": 42,
   "id": "1fbf49fb",
   "metadata": {
    "ExecuteTime": {
     "end_time": "2023-05-18T19:48:18.865449Z",
     "start_time": "2023-05-18T19:48:18.850437Z"
    }
   },
   "outputs": [
    {
     "data": {
      "text/plain": [
       "0"
      ]
     },
     "execution_count": 42,
     "metadata": {},
     "output_type": "execute_result"
    }
   ],
   "source": [
    "hours_df['runtime'].isna().sum()"
   ]
  },
  {
   "cell_type": "code",
   "execution_count": 43,
   "id": "8d2b319c",
   "metadata": {
    "ExecuteTime": {
     "end_time": "2023-05-18T19:48:18.881451Z",
     "start_time": "2023-05-18T19:48:18.866450Z"
    }
   },
   "outputs": [
    {
     "data": {
      "text/plain": [
       "count    38136.000000\n",
       "mean        91.924481\n",
       "std         31.486210\n",
       "min          0.000000\n",
       "25%         84.000000\n",
       "50%         93.000000\n",
       "75%        105.000000\n",
       "max       1440.000000\n",
       "Name: runtime, dtype: float64"
      ]
     },
     "execution_count": 43,
     "metadata": {},
     "output_type": "execute_result"
    }
   ],
   "source": [
    "hours_df['runtime'].describe()"
   ]
  },
  {
   "cell_type": "code",
   "execution_count": 44,
   "id": "98c4d534",
   "metadata": {
    "ExecuteTime": {
     "end_time": "2023-05-18T19:48:18.896593Z",
     "start_time": "2023-05-18T19:48:18.882450Z"
    }
   },
   "outputs": [],
   "source": [
    "# Removing moview that are 0 minutes\n",
    "hours_df.drop(hours_df[hours_df['runtime'] == 0.0].index, inplace = True)"
   ]
  },
  {
   "cell_type": "code",
   "execution_count": 45,
   "id": "3d139b97",
   "metadata": {
    "ExecuteTime": {
     "end_time": "2023-05-18T19:48:18.911599Z",
     "start_time": "2023-05-18T19:48:18.897600Z"
    }
   },
   "outputs": [
    {
     "data": {
      "text/plain": [
       "count    36030.000000\n",
       "mean        97.297585\n",
       "std         22.946153\n",
       "min          1.000000\n",
       "25%         85.000000\n",
       "50%         94.000000\n",
       "75%        106.000000\n",
       "max       1440.000000\n",
       "Name: runtime, dtype: float64"
      ]
     },
     "execution_count": 45,
     "metadata": {},
     "output_type": "execute_result"
    }
   ],
   "source": [
    "hours_df['runtime'].describe()"
   ]
  },
  {
   "cell_type": "code",
   "execution_count": 46,
   "id": "b7a8ff86",
   "metadata": {
    "ExecuteTime": {
     "end_time": "2023-05-18T19:48:18.926821Z",
     "start_time": "2023-05-18T19:48:18.912600Z"
    }
   },
   "outputs": [
    {
     "data": {
      "text/plain": [
       "90.0     2530\n",
       "100.0    1232\n",
       "95.0     1138\n",
       "85.0     1105\n",
       "80.0     1052\n",
       "         ... \n",
       "196.0       1\n",
       "338.0       1\n",
       "310.0       1\n",
       "231.0       1\n",
       "212.0       1\n",
       "Name: runtime, Length: 211, dtype: int64"
      ]
     },
     "execution_count": 46,
     "metadata": {},
     "output_type": "execute_result"
    }
   ],
   "source": [
    "hours_df['runtime'].value_counts()"
   ]
  },
  {
   "cell_type": "code",
   "execution_count": 47,
   "id": "aa20414b",
   "metadata": {
    "ExecuteTime": {
     "end_time": "2023-05-18T19:48:19.181805Z",
     "start_time": "2023-05-18T19:48:18.927822Z"
    }
   },
   "outputs": [],
   "source": [
    "hours_df['hours'] = hours_df[['runtime']].apply(lambda x: 'more than 2.5' if (x.runtime > 170) \n",
    "                                              else 'more than 1.5, less than 2.5' if (x.runtime > 90)\n",
    "                                              else '1.5 hours or less', axis =1)"
   ]
  },
  {
   "cell_type": "code",
   "execution_count": 48,
   "id": "ce549919",
   "metadata": {
    "ExecuteTime": {
     "end_time": "2023-05-18T19:48:19.197805Z",
     "start_time": "2023-05-18T19:48:19.183806Z"
    }
   },
   "outputs": [
    {
     "data": {
      "text/plain": [
       "more than 1.5, less than 2.5    21002\n",
       "1.5 hours or less               14842\n",
       "more than 2.5                     186\n",
       "Name: hours, dtype: int64"
      ]
     },
     "execution_count": 48,
     "metadata": {},
     "output_type": "execute_result"
    }
   ],
   "source": [
    "hours_df['hours'].value_counts()"
   ]
  },
  {
   "cell_type": "code",
   "execution_count": 49,
   "id": "91efe64c",
   "metadata": {
    "ExecuteTime": {
     "end_time": "2023-05-18T19:48:19.213805Z",
     "start_time": "2023-05-18T19:48:19.198805Z"
    }
   },
   "outputs": [
    {
     "data": {
      "text/html": [
       "<div>\n",
       "<style scoped>\n",
       "    .dataframe tbody tr th:only-of-type {\n",
       "        vertical-align: middle;\n",
       "    }\n",
       "\n",
       "    .dataframe tbody tr th {\n",
       "        vertical-align: top;\n",
       "    }\n",
       "\n",
       "    .dataframe thead th {\n",
       "        text-align: right;\n",
       "    }\n",
       "</style>\n",
       "<table border=\"1\" class=\"dataframe\">\n",
       "  <thead>\n",
       "    <tr style=\"text-align: right;\">\n",
       "      <th></th>\n",
       "      <th>imdb_id</th>\n",
       "      <th>adult</th>\n",
       "      <th>belongs_to_collection</th>\n",
       "      <th>budget</th>\n",
       "      <th>genres</th>\n",
       "      <th>popularity</th>\n",
       "      <th>revenue</th>\n",
       "      <th>runtime</th>\n",
       "      <th>title</th>\n",
       "      <th>vote_average</th>\n",
       "      <th>vote_count</th>\n",
       "      <th>certification</th>\n",
       "      <th>genres_list</th>\n",
       "      <th>Genre_Family</th>\n",
       "      <th>Genre_Animation</th>\n",
       "      <th>Genre_Science Fiction</th>\n",
       "      <th>Genre_Thriller</th>\n",
       "      <th>Genre_Mystery</th>\n",
       "      <th>Genre_Drama</th>\n",
       "      <th>Genre_Romance</th>\n",
       "      <th>Genre_Comedy</th>\n",
       "      <th>Genre_War</th>\n",
       "      <th>Genre_Crime</th>\n",
       "      <th>Genre_Action</th>\n",
       "      <th>Genre_Adventure</th>\n",
       "      <th>Genre_Horror</th>\n",
       "      <th>Genre_Fantasy</th>\n",
       "      <th>Genre_History</th>\n",
       "      <th>Genre_Western</th>\n",
       "      <th>Genre_Music</th>\n",
       "      <th>Genre_Documentary</th>\n",
       "      <th>Genre_TV Movie</th>\n",
       "      <th>year</th>\n",
       "      <th>month</th>\n",
       "      <th>day</th>\n",
       "      <th>hours</th>\n",
       "    </tr>\n",
       "  </thead>\n",
       "  <tbody>\n",
       "    <tr>\n",
       "      <th>0</th>\n",
       "      <td>tt0312305</td>\n",
       "      <td>0.0</td>\n",
       "      <td>False</td>\n",
       "      <td>0.0</td>\n",
       "      <td>[{'id': 10751, 'name': 'Family'}, {'id': 16, '...</td>\n",
       "      <td>1.619</td>\n",
       "      <td>0.0</td>\n",
       "      <td>45.0</td>\n",
       "      <td>Quantum Quest: A Cassini Space Odyssey</td>\n",
       "      <td>7.90</td>\n",
       "      <td>8.0</td>\n",
       "      <td>NaN</td>\n",
       "      <td>[Family, Animation, Science Fiction]</td>\n",
       "      <td>True</td>\n",
       "      <td>True</td>\n",
       "      <td>True</td>\n",
       "      <td>False</td>\n",
       "      <td>False</td>\n",
       "      <td>False</td>\n",
       "      <td>False</td>\n",
       "      <td>False</td>\n",
       "      <td>False</td>\n",
       "      <td>False</td>\n",
       "      <td>False</td>\n",
       "      <td>False</td>\n",
       "      <td>False</td>\n",
       "      <td>False</td>\n",
       "      <td>False</td>\n",
       "      <td>False</td>\n",
       "      <td>False</td>\n",
       "      <td>False</td>\n",
       "      <td>False</td>\n",
       "      <td>2012.0</td>\n",
       "      <td>12.0</td>\n",
       "      <td>2.0</td>\n",
       "      <td>1.5 hours or less</td>\n",
       "    </tr>\n",
       "    <tr>\n",
       "      <th>1</th>\n",
       "      <td>tt0326965</td>\n",
       "      <td>0.0</td>\n",
       "      <td>False</td>\n",
       "      <td>0.0</td>\n",
       "      <td>[{'id': 53, 'name': 'Thriller'}, {'id': 9648, ...</td>\n",
       "      <td>3.755</td>\n",
       "      <td>0.0</td>\n",
       "      <td>90.0</td>\n",
       "      <td>In My Sleep</td>\n",
       "      <td>5.50</td>\n",
       "      <td>31.0</td>\n",
       "      <td>PG-13</td>\n",
       "      <td>[Thriller, Mystery, Drama]</td>\n",
       "      <td>False</td>\n",
       "      <td>False</td>\n",
       "      <td>False</td>\n",
       "      <td>True</td>\n",
       "      <td>True</td>\n",
       "      <td>True</td>\n",
       "      <td>False</td>\n",
       "      <td>False</td>\n",
       "      <td>False</td>\n",
       "      <td>False</td>\n",
       "      <td>False</td>\n",
       "      <td>False</td>\n",
       "      <td>False</td>\n",
       "      <td>False</td>\n",
       "      <td>False</td>\n",
       "      <td>False</td>\n",
       "      <td>False</td>\n",
       "      <td>False</td>\n",
       "      <td>False</td>\n",
       "      <td>2010.0</td>\n",
       "      <td>4.0</td>\n",
       "      <td>23.0</td>\n",
       "      <td>1.5 hours or less</td>\n",
       "    </tr>\n",
       "    <tr>\n",
       "      <th>3</th>\n",
       "      <td>tt0393049</td>\n",
       "      <td>0.0</td>\n",
       "      <td>False</td>\n",
       "      <td>300000.0</td>\n",
       "      <td>[{'id': 10749, 'name': 'Romance'}, {'id': 35, ...</td>\n",
       "      <td>1.576</td>\n",
       "      <td>0.0</td>\n",
       "      <td>98.0</td>\n",
       "      <td>Anderson's Cross</td>\n",
       "      <td>4.00</td>\n",
       "      <td>5.0</td>\n",
       "      <td>NaN</td>\n",
       "      <td>[Romance, Comedy, Drama]</td>\n",
       "      <td>False</td>\n",
       "      <td>False</td>\n",
       "      <td>False</td>\n",
       "      <td>False</td>\n",
       "      <td>False</td>\n",
       "      <td>True</td>\n",
       "      <td>True</td>\n",
       "      <td>True</td>\n",
       "      <td>False</td>\n",
       "      <td>False</td>\n",
       "      <td>False</td>\n",
       "      <td>False</td>\n",
       "      <td>False</td>\n",
       "      <td>False</td>\n",
       "      <td>False</td>\n",
       "      <td>False</td>\n",
       "      <td>False</td>\n",
       "      <td>False</td>\n",
       "      <td>False</td>\n",
       "      <td>2010.0</td>\n",
       "      <td>5.0</td>\n",
       "      <td>20.0</td>\n",
       "      <td>more than 1.5, less than 2.5</td>\n",
       "    </tr>\n",
       "    <tr>\n",
       "      <th>4</th>\n",
       "      <td>tt0398286</td>\n",
       "      <td>0.0</td>\n",
       "      <td>False</td>\n",
       "      <td>260000000.0</td>\n",
       "      <td>[{'id': 16, 'name': 'Animation'}, {'id': 10751...</td>\n",
       "      <td>108.562</td>\n",
       "      <td>592461732.0</td>\n",
       "      <td>100.0</td>\n",
       "      <td>Tangled</td>\n",
       "      <td>7.59</td>\n",
       "      <td>10223.0</td>\n",
       "      <td>PG</td>\n",
       "      <td>[Animation, Family]</td>\n",
       "      <td>True</td>\n",
       "      <td>True</td>\n",
       "      <td>False</td>\n",
       "      <td>False</td>\n",
       "      <td>False</td>\n",
       "      <td>False</td>\n",
       "      <td>False</td>\n",
       "      <td>False</td>\n",
       "      <td>False</td>\n",
       "      <td>False</td>\n",
       "      <td>False</td>\n",
       "      <td>False</td>\n",
       "      <td>False</td>\n",
       "      <td>False</td>\n",
       "      <td>False</td>\n",
       "      <td>False</td>\n",
       "      <td>False</td>\n",
       "      <td>False</td>\n",
       "      <td>False</td>\n",
       "      <td>2010.0</td>\n",
       "      <td>11.0</td>\n",
       "      <td>24.0</td>\n",
       "      <td>more than 1.5, less than 2.5</td>\n",
       "    </tr>\n",
       "    <tr>\n",
       "      <th>5</th>\n",
       "      <td>tt0403645</td>\n",
       "      <td>0.0</td>\n",
       "      <td>True</td>\n",
       "      <td>55000000.0</td>\n",
       "      <td>[{'id': 18, 'name': 'Drama'}, {'id': 10752, 'n...</td>\n",
       "      <td>4.361</td>\n",
       "      <td>0.0</td>\n",
       "      <td>180.0</td>\n",
       "      <td>Burnt by the Sun 2: Exodus</td>\n",
       "      <td>5.20</td>\n",
       "      <td>40.0</td>\n",
       "      <td>NaN</td>\n",
       "      <td>[Drama, War]</td>\n",
       "      <td>False</td>\n",
       "      <td>False</td>\n",
       "      <td>False</td>\n",
       "      <td>False</td>\n",
       "      <td>False</td>\n",
       "      <td>True</td>\n",
       "      <td>False</td>\n",
       "      <td>False</td>\n",
       "      <td>True</td>\n",
       "      <td>False</td>\n",
       "      <td>False</td>\n",
       "      <td>False</td>\n",
       "      <td>False</td>\n",
       "      <td>False</td>\n",
       "      <td>False</td>\n",
       "      <td>False</td>\n",
       "      <td>False</td>\n",
       "      <td>False</td>\n",
       "      <td>False</td>\n",
       "      <td>2010.0</td>\n",
       "      <td>4.0</td>\n",
       "      <td>22.0</td>\n",
       "      <td>more than 2.5</td>\n",
       "    </tr>\n",
       "  </tbody>\n",
       "</table>\n",
       "</div>"
      ],
      "text/plain": [
       "     imdb_id  adult  belongs_to_collection       budget  \\\n",
       "0  tt0312305    0.0                  False          0.0   \n",
       "1  tt0326965    0.0                  False          0.0   \n",
       "3  tt0393049    0.0                  False     300000.0   \n",
       "4  tt0398286    0.0                  False  260000000.0   \n",
       "5  tt0403645    0.0                   True   55000000.0   \n",
       "\n",
       "                                              genres  popularity      revenue  \\\n",
       "0  [{'id': 10751, 'name': 'Family'}, {'id': 16, '...       1.619          0.0   \n",
       "1  [{'id': 53, 'name': 'Thriller'}, {'id': 9648, ...       3.755          0.0   \n",
       "3  [{'id': 10749, 'name': 'Romance'}, {'id': 35, ...       1.576          0.0   \n",
       "4  [{'id': 16, 'name': 'Animation'}, {'id': 10751...     108.562  592461732.0   \n",
       "5  [{'id': 18, 'name': 'Drama'}, {'id': 10752, 'n...       4.361          0.0   \n",
       "\n",
       "   runtime                                   title  vote_average  vote_count  \\\n",
       "0     45.0  Quantum Quest: A Cassini Space Odyssey          7.90         8.0   \n",
       "1     90.0                             In My Sleep          5.50        31.0   \n",
       "3     98.0                        Anderson's Cross          4.00         5.0   \n",
       "4    100.0                                 Tangled          7.59     10223.0   \n",
       "5    180.0              Burnt by the Sun 2: Exodus          5.20        40.0   \n",
       "\n",
       "  certification                           genres_list  Genre_Family  \\\n",
       "0           NaN  [Family, Animation, Science Fiction]          True   \n",
       "1         PG-13            [Thriller, Mystery, Drama]         False   \n",
       "3           NaN              [Romance, Comedy, Drama]         False   \n",
       "4            PG                   [Animation, Family]          True   \n",
       "5           NaN                          [Drama, War]         False   \n",
       "\n",
       "   Genre_Animation  Genre_Science Fiction  Genre_Thriller  Genre_Mystery  \\\n",
       "0             True                   True           False          False   \n",
       "1            False                  False            True           True   \n",
       "3            False                  False           False          False   \n",
       "4             True                  False           False          False   \n",
       "5            False                  False           False          False   \n",
       "\n",
       "   Genre_Drama  Genre_Romance  Genre_Comedy  Genre_War  Genre_Crime  \\\n",
       "0        False          False         False      False        False   \n",
       "1         True          False         False      False        False   \n",
       "3         True           True          True      False        False   \n",
       "4        False          False         False      False        False   \n",
       "5         True          False         False       True        False   \n",
       "\n",
       "   Genre_Action  Genre_Adventure  Genre_Horror  Genre_Fantasy  Genre_History  \\\n",
       "0         False            False         False          False          False   \n",
       "1         False            False         False          False          False   \n",
       "3         False            False         False          False          False   \n",
       "4         False            False         False          False          False   \n",
       "5         False            False         False          False          False   \n",
       "\n",
       "   Genre_Western  Genre_Music  Genre_Documentary  Genre_TV Movie    year  \\\n",
       "0          False        False              False           False  2012.0   \n",
       "1          False        False              False           False  2010.0   \n",
       "3          False        False              False           False  2010.0   \n",
       "4          False        False              False           False  2010.0   \n",
       "5          False        False              False           False  2010.0   \n",
       "\n",
       "   month   day                         hours  \n",
       "0   12.0   2.0             1.5 hours or less  \n",
       "1    4.0  23.0             1.5 hours or less  \n",
       "3    5.0  20.0  more than 1.5, less than 2.5  \n",
       "4   11.0  24.0  more than 1.5, less than 2.5  \n",
       "5    4.0  22.0                 more than 2.5  "
      ]
     },
     "execution_count": 49,
     "metadata": {},
     "output_type": "execute_result"
    }
   ],
   "source": [
    "hours_df.head()"
   ]
  },
  {
   "cell_type": "code",
   "execution_count": 50,
   "id": "50c7f7b9",
   "metadata": {
    "ExecuteTime": {
     "end_time": "2023-05-18T19:48:19.229806Z",
     "start_time": "2023-05-18T19:48:19.214805Z"
    },
    "scrolled": true
   },
   "outputs": [
    {
     "data": {
      "text/plain": [
       "5              0.0\n",
       "777            0.0\n",
       "1127    20000000.0\n",
       "1722           0.0\n",
       "1786           0.0\n",
       "Name: revenue, dtype: float64"
      ]
     },
     "execution_count": 50,
     "metadata": {},
     "output_type": "execute_result"
    }
   ],
   "source": [
    "#longer_hours = hours_df.loc[hours_df['runtime'] > 170, \"revenue\"].copy()\n",
    "longer_hours = hours_df.loc[hours_df['hours'] == 'more than 2.5', 'revenue'].copy()\n",
    "longer_hours.head()"
   ]
  },
  {
   "cell_type": "code",
   "execution_count": 51,
   "id": "eee8dc32",
   "metadata": {
    "ExecuteTime": {
     "end_time": "2023-05-18T19:48:19.245805Z",
     "start_time": "2023-05-18T19:48:19.230805Z"
    }
   },
   "outputs": [
    {
     "name": "stdout",
     "output_type": "stream",
     "text": [
      "<class 'pandas.core.series.Series'>\n",
      "Int64Index: 186 entries, 5 to 37853\n",
      "Series name: revenue\n",
      "Non-Null Count  Dtype  \n",
      "--------------  -----  \n",
      "186 non-null    float64\n",
      "dtypes: float64(1)\n",
      "memory usage: 2.9 KB\n"
     ]
    }
   ],
   "source": [
    "longer_hours.info()"
   ]
  },
  {
   "cell_type": "code",
   "execution_count": 52,
   "id": "30824e6c",
   "metadata": {
    "ExecuteTime": {
     "end_time": "2023-05-18T19:48:19.261870Z",
     "start_time": "2023-05-18T19:48:19.247871Z"
    }
   },
   "outputs": [
    {
     "data": {
      "text/plain": [
       "0            0.0\n",
       "1            0.0\n",
       "16           0.0\n",
       "22    83188165.0\n",
       "23           0.0\n",
       "Name: revenue, dtype: float64"
      ]
     },
     "execution_count": 52,
     "metadata": {},
     "output_type": "execute_result"
    }
   ],
   "source": [
    "#shorter_hours = hours_df.loc[((hours_df['runtime'] < 170) & (hours_df['runtime'] <= 90)), \"revenue\"].copy(\\\n",
    "shorter_hours = hours_df.loc[hours_df['hours'] == '1.5 hours or less', 'revenue'].copy()\n",
    "shorter_hours.head()"
   ]
  },
  {
   "cell_type": "code",
   "execution_count": 53,
   "id": "e2a7cb39",
   "metadata": {
    "ExecuteTime": {
     "end_time": "2023-05-18T19:48:19.277127Z",
     "start_time": "2023-05-18T19:48:19.262870Z"
    },
    "scrolled": true
   },
   "outputs": [
    {
     "name": "stdout",
     "output_type": "stream",
     "text": [
      "<class 'pandas.core.series.Series'>\n",
      "Int64Index: 14842 entries, 0 to 38134\n",
      "Series name: revenue\n",
      "Non-Null Count  Dtype  \n",
      "--------------  -----  \n",
      "14842 non-null  float64\n",
      "dtypes: float64(1)\n",
      "memory usage: 231.9 KB\n"
     ]
    }
   ],
   "source": [
    "shorter_hours.info()"
   ]
  },
  {
   "cell_type": "markdown",
   "id": "ddd81d7b",
   "metadata": {},
   "source": [
    "Outliers"
   ]
  },
  {
   "cell_type": "code",
   "execution_count": 54,
   "id": "2a4e3c13",
   "metadata": {
    "ExecuteTime": {
     "end_time": "2023-05-18T19:48:19.292277Z",
     "start_time": "2023-05-18T19:48:19.278127Z"
    }
   },
   "outputs": [
    {
     "data": {
      "text/plain": [
       "1"
      ]
     },
     "execution_count": 54,
     "metadata": {},
     "output_type": "execute_result"
    }
   ],
   "source": [
    "zscore_longer = stats.zscore(longer_hours)\n",
    "outliers_longer = abs(zscore_longer) > 3\n",
    "np.sum(outliers_longer)"
   ]
  },
  {
   "cell_type": "code",
   "execution_count": 55,
   "id": "34b836d8",
   "metadata": {
    "ExecuteTime": {
     "end_time": "2023-05-18T19:48:19.308277Z",
     "start_time": "2023-05-18T19:48:19.293277Z"
    }
   },
   "outputs": [
    {
     "data": {
      "text/plain": [
       "81"
      ]
     },
     "execution_count": 55,
     "metadata": {},
     "output_type": "execute_result"
    }
   ],
   "source": [
    "zscore_shorter = stats.zscore(shorter_hours)\n",
    "outliers_shorter = abs(zscore_shorter) > 3\n",
    "np.sum(outliers_shorter)"
   ]
  },
  {
   "cell_type": "code",
   "execution_count": 56,
   "id": "d0cf4b56",
   "metadata": {
    "ExecuteTime": {
     "end_time": "2023-05-18T19:48:19.323276Z",
     "start_time": "2023-05-18T19:48:19.309277Z"
    }
   },
   "outputs": [],
   "source": [
    "longer_hours = longer_hours[(np.abs(stats.zscore(longer_hours)) < 3)]"
   ]
  },
  {
   "cell_type": "code",
   "execution_count": 57,
   "id": "552956b0",
   "metadata": {
    "ExecuteTime": {
     "end_time": "2023-05-18T19:48:19.339277Z",
     "start_time": "2023-05-18T19:48:19.324277Z"
    }
   },
   "outputs": [
    {
     "data": {
      "text/plain": [
       "185"
      ]
     },
     "execution_count": 57,
     "metadata": {},
     "output_type": "execute_result"
    }
   ],
   "source": [
    "len(longer_hours)"
   ]
  },
  {
   "cell_type": "code",
   "execution_count": 58,
   "id": "814dfd57",
   "metadata": {
    "ExecuteTime": {
     "end_time": "2023-05-18T19:48:19.355277Z",
     "start_time": "2023-05-18T19:48:19.340276Z"
    }
   },
   "outputs": [],
   "source": [
    "shorter_hours = shorter_hours[(np.abs(stats.zscore(shorter_hours)) < 3)]"
   ]
  },
  {
   "cell_type": "code",
   "execution_count": 59,
   "id": "79a0dfa4",
   "metadata": {
    "ExecuteTime": {
     "end_time": "2023-05-18T19:48:19.370481Z",
     "start_time": "2023-05-18T19:48:19.356277Z"
    }
   },
   "outputs": [
    {
     "data": {
      "text/plain": [
       "14761"
      ]
     },
     "execution_count": 59,
     "metadata": {},
     "output_type": "execute_result"
    }
   ],
   "source": [
    "len(shorter_hours)"
   ]
  },
  {
   "cell_type": "markdown",
   "id": "5713ad79",
   "metadata": {},
   "source": [
    "Normality Test"
   ]
  },
  {
   "cell_type": "code",
   "execution_count": 60,
   "id": "00935ac8",
   "metadata": {
    "ExecuteTime": {
     "end_time": "2023-05-18T19:48:19.386481Z",
     "start_time": "2023-05-18T19:48:19.371481Z"
    }
   },
   "outputs": [
    {
     "data": {
      "text/plain": [
       "NormaltestResult(statistic=296.47248035916067, pvalue=4.186189383146892e-65)"
      ]
     },
     "execution_count": 60,
     "metadata": {},
     "output_type": "execute_result"
    }
   ],
   "source": [
    "norm_longer = stats.normaltest(longer_hours)\n",
    "norm_longer"
   ]
  },
  {
   "cell_type": "code",
   "execution_count": 61,
   "id": "a990e991",
   "metadata": {
    "ExecuteTime": {
     "end_time": "2023-05-18T19:48:19.401480Z",
     "start_time": "2023-05-18T19:48:19.387482Z"
    }
   },
   "outputs": [
    {
     "data": {
      "text/plain": [
       "NormaltestResult(statistic=28060.11183069998, pvalue=0.0)"
      ]
     },
     "execution_count": 61,
     "metadata": {},
     "output_type": "execute_result"
    }
   ],
   "source": [
    "norm_shorter = stats.normaltest(shorter_hours)\n",
    "norm_shorter"
   ]
  },
  {
   "cell_type": "markdown",
   "id": "00ba4167",
   "metadata": {},
   "source": [
    "* Both of the pvalues for the normality test are below the 0.05, they are not normaly distributed. We can still move on since the sample sizes are large enough. They are above the 15 per group mark. "
   ]
  },
  {
   "cell_type": "markdown",
   "id": "071b6827",
   "metadata": {},
   "source": [
    "Equal Variance Test"
   ]
  },
  {
   "cell_type": "code",
   "execution_count": 62,
   "id": "a0043031",
   "metadata": {
    "ExecuteTime": {
     "end_time": "2023-05-18T19:48:19.416823Z",
     "start_time": "2023-05-18T19:48:19.402481Z"
    }
   },
   "outputs": [
    {
     "data": {
      "text/plain": [
       "LeveneResult(statistic=427.33517818549683, pvalue=1.2560588610238658e-93)"
      ]
     },
     "execution_count": 62,
     "metadata": {},
     "output_type": "execute_result"
    }
   ],
   "source": [
    "variance_result = stats.levene(longer_hours, shorter_hours)\n",
    "variance_result"
   ]
  },
  {
   "cell_type": "markdown",
   "id": "88ca69fa",
   "metadata": {},
   "source": [
    "* Our pvalue is not more than 0.05. We do not have equal variance, therefore we will use \"equal_var = False\" for our t-test. "
   ]
  },
  {
   "cell_type": "code",
   "execution_count": 63,
   "id": "1b33bca5",
   "metadata": {
    "ExecuteTime": {
     "end_time": "2023-05-18T19:48:19.431792Z",
     "start_time": "2023-05-18T19:48:19.417792Z"
    }
   },
   "outputs": [
    {
     "data": {
      "text/plain": [
       "Ttest_indResult(statistic=2.6088573082616078, pvalue=0.009831315354606827)"
      ]
     },
     "execution_count": 63,
     "metadata": {},
     "output_type": "execute_result"
    }
   ],
   "source": [
    "ttest_result = stats.ttest_ind(longer_hours, shorter_hours, equal_var = False)\n",
    "ttest_result"
   ]
  },
  {
   "cell_type": "markdown",
   "id": "457b9faa",
   "metadata": {},
   "source": [
    "* Our pvalue < alpha (0.05), so we reject the null hypothesis. "
   ]
  },
  {
   "cell_type": "markdown",
   "id": "85fb4148",
   "metadata": {},
   "source": [
    "* For visualization, we will drop movies that are less than 2.5 hours but more than 1.5 hours."
   ]
  },
  {
   "cell_type": "code",
   "execution_count": 64,
   "id": "d7bfe635",
   "metadata": {
    "ExecuteTime": {
     "end_time": "2023-05-18T19:48:19.446791Z",
     "start_time": "2023-05-18T19:48:19.432792Z"
    }
   },
   "outputs": [
    {
     "data": {
      "text/plain": [
       "1.5 hours or less    14842\n",
       "more than 2.5          186\n",
       "Name: hours, dtype: int64"
      ]
     },
     "execution_count": 64,
     "metadata": {},
     "output_type": "execute_result"
    }
   ],
   "source": [
    "hours_df.drop(hours_df[hours_df['hours'] == 'more than 1.5, less than 2.5'].index, inplace = True)\n",
    "hours_df['hours'].value_counts()"
   ]
  },
  {
   "cell_type": "code",
   "execution_count": 65,
   "id": "f78837f8",
   "metadata": {
    "ExecuteTime": {
     "end_time": "2023-05-18T19:48:19.845792Z",
     "start_time": "2023-05-18T19:48:19.447792Z"
    },
    "scrolled": true
   },
   "outputs": [
    {
     "data": {
      "image/png": "[encoded data removed]",
      "text/plain": [
       "<Figure size 1300x500 with 2 Axes>"
      ]
     },
     "metadata": {},
     "output_type": "display_data"
    }
   ],
   "source": [
    "hours_palette={'more than 2.5':'dodgerblue', '1.5 hours or less':'salmon'}\n",
    "## Visualizing Sample means\n",
    "fig, (ax,ax_bar) = plt.subplots(figsize= (13,5), ncols=2, \n",
    "                                constrained_layout=True,\n",
    "                                gridspec_kw={'width_ratios':[0.8,0.2]})\n",
    "\n",
    "\n",
    "# Histogram\n",
    "ax = sns.histplot(data=hours_df, x='revenue',fill=True,hue='hours',kde=True,\n",
    "                  stat='density',common_norm=False,ax=ax,\n",
    "                  palette=hours_palette)\n",
    "\n",
    "ax.axvline(np.mean(longer_hours), ls='--',lw=3, \n",
    "           label=f\"Longer than 2.5 hrs (Mean={np.mean(longer_hours):.2f})\",color=hours_palette['more than 2.5'])\n",
    "\n",
    "ax.axvline(np.mean(shorter_hours), ls='--', lw=3, \n",
    "           label=f\"1.5 hours or less (Mean={np.mean(shorter_hours):.2f})\",color=hours_palette['1.5 hours or less'])\n",
    "\n",
    "ax.legend(prop={\"size\":14}, loc='upper right')#bbox_to_anchor=[1,1])\n",
    "## Barplot\n",
    "sns.barplot(data=hours_df, x='hours',y='revenue',ax = ax_bar,palette=hours_palette)\n",
    "fig.suptitle('Comparison of Revenue by Runtime',fontsize='xx-large');"
   ]
  },
  {
   "cell_type": "markdown",
   "id": "b8e1346a",
   "metadata": {},
   "source": [
    "* From the visual above, the right figure clearly shows that movies that are more than 2.5 hrs long have higher revenue as compared with movies that are 90 minutes or less. The left figure is less interpretable, since the distribution is off for both groups."
   ]
  },
  {
   "cell_type": "markdown",
   "id": "67bb7c80",
   "metadata": {},
   "source": [
    "# Conclusion\n",
    " - From the pvalue from the ttest, we see that it is less than our alpha (0.05). We therefore reject our null hypothesis. In conjuction with the visual above, we can clearly see than movies that are longer than 2.5 hours generally have a higher revenue. "
   ]
  },
  {
   "cell_type": "markdown",
   "id": "64ee6aa1",
   "metadata": {},
   "source": [
    "# Q3: Do movies that are exclusively in the drama genre make more in revenue than movies that are not exclusively in the drama genre?\n",
    " - Null Hypothesis: There is no difference in revenue between movies that are exclusively in the drama genre and movies that are not exclusively in the drama genre.    \n",
    " - Alternative Hypothesis: There is a significant difference in revenue between movies that are exclusively in the drama genre and movies that are not exclusively in the drama genre. "
   ]
  },
  {
   "cell_type": "code",
   "execution_count": 66,
   "id": "2a37a9e8",
   "metadata": {
    "ExecuteTime": {
     "end_time": "2023-05-18T19:48:19.875949Z",
     "start_time": "2023-05-18T19:48:19.846791Z"
    }
   },
   "outputs": [
    {
     "data": {
      "text/html": [
       "<div>\n",
       "<style scoped>\n",
       "    .dataframe tbody tr th:only-of-type {\n",
       "        vertical-align: middle;\n",
       "    }\n",
       "\n",
       "    .dataframe tbody tr th {\n",
       "        vertical-align: top;\n",
       "    }\n",
       "\n",
       "    .dataframe thead th {\n",
       "        text-align: right;\n",
       "    }\n",
       "</style>\n",
       "<table border=\"1\" class=\"dataframe\">\n",
       "  <thead>\n",
       "    <tr style=\"text-align: right;\">\n",
       "      <th></th>\n",
       "      <th>imdb_id</th>\n",
       "      <th>adult</th>\n",
       "      <th>belongs_to_collection</th>\n",
       "      <th>budget</th>\n",
       "      <th>genres</th>\n",
       "      <th>popularity</th>\n",
       "      <th>revenue</th>\n",
       "      <th>runtime</th>\n",
       "      <th>title</th>\n",
       "      <th>vote_average</th>\n",
       "      <th>vote_count</th>\n",
       "      <th>certification</th>\n",
       "      <th>genres_list</th>\n",
       "      <th>Genre_Family</th>\n",
       "      <th>Genre_Animation</th>\n",
       "      <th>Genre_Science Fiction</th>\n",
       "      <th>Genre_Thriller</th>\n",
       "      <th>Genre_Mystery</th>\n",
       "      <th>Genre_Drama</th>\n",
       "      <th>Genre_Romance</th>\n",
       "      <th>Genre_Comedy</th>\n",
       "      <th>Genre_War</th>\n",
       "      <th>Genre_Crime</th>\n",
       "      <th>Genre_Action</th>\n",
       "      <th>Genre_Adventure</th>\n",
       "      <th>Genre_Horror</th>\n",
       "      <th>Genre_Fantasy</th>\n",
       "      <th>Genre_History</th>\n",
       "      <th>Genre_Western</th>\n",
       "      <th>Genre_Music</th>\n",
       "      <th>Genre_Documentary</th>\n",
       "      <th>Genre_TV Movie</th>\n",
       "      <th>year</th>\n",
       "      <th>month</th>\n",
       "      <th>day</th>\n",
       "    </tr>\n",
       "  </thead>\n",
       "  <tbody>\n",
       "    <tr>\n",
       "      <th>0</th>\n",
       "      <td>tt0312305</td>\n",
       "      <td>0.0</td>\n",
       "      <td>False</td>\n",
       "      <td>0.0</td>\n",
       "      <td>[{'id': 10751, 'name': 'Family'}, {'id': 16, '...</td>\n",
       "      <td>1.619</td>\n",
       "      <td>0.0</td>\n",
       "      <td>45.0</td>\n",
       "      <td>Quantum Quest: A Cassini Space Odyssey</td>\n",
       "      <td>7.90</td>\n",
       "      <td>8.0</td>\n",
       "      <td>NaN</td>\n",
       "      <td>[Family, Animation, Science Fiction]</td>\n",
       "      <td>True</td>\n",
       "      <td>True</td>\n",
       "      <td>True</td>\n",
       "      <td>False</td>\n",
       "      <td>False</td>\n",
       "      <td>False</td>\n",
       "      <td>False</td>\n",
       "      <td>False</td>\n",
       "      <td>False</td>\n",
       "      <td>False</td>\n",
       "      <td>False</td>\n",
       "      <td>False</td>\n",
       "      <td>False</td>\n",
       "      <td>False</td>\n",
       "      <td>False</td>\n",
       "      <td>False</td>\n",
       "      <td>False</td>\n",
       "      <td>False</td>\n",
       "      <td>False</td>\n",
       "      <td>2012.0</td>\n",
       "      <td>12.0</td>\n",
       "      <td>2.0</td>\n",
       "    </tr>\n",
       "    <tr>\n",
       "      <th>1</th>\n",
       "      <td>tt0326965</td>\n",
       "      <td>0.0</td>\n",
       "      <td>False</td>\n",
       "      <td>0.0</td>\n",
       "      <td>[{'id': 53, 'name': 'Thriller'}, {'id': 9648, ...</td>\n",
       "      <td>3.755</td>\n",
       "      <td>0.0</td>\n",
       "      <td>90.0</td>\n",
       "      <td>In My Sleep</td>\n",
       "      <td>5.50</td>\n",
       "      <td>31.0</td>\n",
       "      <td>PG-13</td>\n",
       "      <td>[Thriller, Mystery, Drama]</td>\n",
       "      <td>False</td>\n",
       "      <td>False</td>\n",
       "      <td>False</td>\n",
       "      <td>True</td>\n",
       "      <td>True</td>\n",
       "      <td>True</td>\n",
       "      <td>False</td>\n",
       "      <td>False</td>\n",
       "      <td>False</td>\n",
       "      <td>False</td>\n",
       "      <td>False</td>\n",
       "      <td>False</td>\n",
       "      <td>False</td>\n",
       "      <td>False</td>\n",
       "      <td>False</td>\n",
       "      <td>False</td>\n",
       "      <td>False</td>\n",
       "      <td>False</td>\n",
       "      <td>False</td>\n",
       "      <td>2010.0</td>\n",
       "      <td>4.0</td>\n",
       "      <td>23.0</td>\n",
       "    </tr>\n",
       "    <tr>\n",
       "      <th>2</th>\n",
       "      <td>tt0331312</td>\n",
       "      <td>0.0</td>\n",
       "      <td>False</td>\n",
       "      <td>0.0</td>\n",
       "      <td>[]</td>\n",
       "      <td>0.622</td>\n",
       "      <td>0.0</td>\n",
       "      <td>0.0</td>\n",
       "      <td>This Wretched Life</td>\n",
       "      <td>5.00</td>\n",
       "      <td>1.0</td>\n",
       "      <td>NaN</td>\n",
       "      <td>[]</td>\n",
       "      <td>False</td>\n",
       "      <td>False</td>\n",
       "      <td>False</td>\n",
       "      <td>False</td>\n",
       "      <td>False</td>\n",
       "      <td>False</td>\n",
       "      <td>False</td>\n",
       "      <td>False</td>\n",
       "      <td>False</td>\n",
       "      <td>False</td>\n",
       "      <td>False</td>\n",
       "      <td>False</td>\n",
       "      <td>False</td>\n",
       "      <td>False</td>\n",
       "      <td>False</td>\n",
       "      <td>False</td>\n",
       "      <td>False</td>\n",
       "      <td>False</td>\n",
       "      <td>False</td>\n",
       "      <td>2010.0</td>\n",
       "      <td>1.0</td>\n",
       "      <td>1.0</td>\n",
       "    </tr>\n",
       "    <tr>\n",
       "      <th>3</th>\n",
       "      <td>tt0393049</td>\n",
       "      <td>0.0</td>\n",
       "      <td>False</td>\n",
       "      <td>300000.0</td>\n",
       "      <td>[{'id': 10749, 'name': 'Romance'}, {'id': 35, ...</td>\n",
       "      <td>1.576</td>\n",
       "      <td>0.0</td>\n",
       "      <td>98.0</td>\n",
       "      <td>Anderson's Cross</td>\n",
       "      <td>4.00</td>\n",
       "      <td>5.0</td>\n",
       "      <td>NaN</td>\n",
       "      <td>[Romance, Comedy, Drama]</td>\n",
       "      <td>False</td>\n",
       "      <td>False</td>\n",
       "      <td>False</td>\n",
       "      <td>False</td>\n",
       "      <td>False</td>\n",
       "      <td>True</td>\n",
       "      <td>True</td>\n",
       "      <td>True</td>\n",
       "      <td>False</td>\n",
       "      <td>False</td>\n",
       "      <td>False</td>\n",
       "      <td>False</td>\n",
       "      <td>False</td>\n",
       "      <td>False</td>\n",
       "      <td>False</td>\n",
       "      <td>False</td>\n",
       "      <td>False</td>\n",
       "      <td>False</td>\n",
       "      <td>False</td>\n",
       "      <td>2010.0</td>\n",
       "      <td>5.0</td>\n",
       "      <td>20.0</td>\n",
       "    </tr>\n",
       "    <tr>\n",
       "      <th>4</th>\n",
       "      <td>tt0398286</td>\n",
       "      <td>0.0</td>\n",
       "      <td>False</td>\n",
       "      <td>260000000.0</td>\n",
       "      <td>[{'id': 16, 'name': 'Animation'}, {'id': 10751...</td>\n",
       "      <td>108.562</td>\n",
       "      <td>592461732.0</td>\n",
       "      <td>100.0</td>\n",
       "      <td>Tangled</td>\n",
       "      <td>7.59</td>\n",
       "      <td>10223.0</td>\n",
       "      <td>PG</td>\n",
       "      <td>[Animation, Family]</td>\n",
       "      <td>True</td>\n",
       "      <td>True</td>\n",
       "      <td>False</td>\n",
       "      <td>False</td>\n",
       "      <td>False</td>\n",
       "      <td>False</td>\n",
       "      <td>False</td>\n",
       "      <td>False</td>\n",
       "      <td>False</td>\n",
       "      <td>False</td>\n",
       "      <td>False</td>\n",
       "      <td>False</td>\n",
       "      <td>False</td>\n",
       "      <td>False</td>\n",
       "      <td>False</td>\n",
       "      <td>False</td>\n",
       "      <td>False</td>\n",
       "      <td>False</td>\n",
       "      <td>False</td>\n",
       "      <td>2010.0</td>\n",
       "      <td>11.0</td>\n",
       "      <td>24.0</td>\n",
       "    </tr>\n",
       "  </tbody>\n",
       "</table>\n",
       "</div>"
      ],
      "text/plain": [
       "     imdb_id  adult  belongs_to_collection       budget  \\\n",
       "0  tt0312305    0.0                  False          0.0   \n",
       "1  tt0326965    0.0                  False          0.0   \n",
       "2  tt0331312    0.0                  False          0.0   \n",
       "3  tt0393049    0.0                  False     300000.0   \n",
       "4  tt0398286    0.0                  False  260000000.0   \n",
       "\n",
       "                                              genres  popularity      revenue  \\\n",
       "0  [{'id': 10751, 'name': 'Family'}, {'id': 16, '...       1.619          0.0   \n",
       "1  [{'id': 53, 'name': 'Thriller'}, {'id': 9648, ...       3.755          0.0   \n",
       "2                                                 []       0.622          0.0   \n",
       "3  [{'id': 10749, 'name': 'Romance'}, {'id': 35, ...       1.576          0.0   \n",
       "4  [{'id': 16, 'name': 'Animation'}, {'id': 10751...     108.562  592461732.0   \n",
       "\n",
       "   runtime                                   title  vote_average  vote_count  \\\n",
       "0     45.0  Quantum Quest: A Cassini Space Odyssey          7.90         8.0   \n",
       "1     90.0                             In My Sleep          5.50        31.0   \n",
       "2      0.0                      This Wretched Life          5.00         1.0   \n",
       "3     98.0                        Anderson's Cross          4.00         5.0   \n",
       "4    100.0                                 Tangled          7.59     10223.0   \n",
       "\n",
       "  certification                           genres_list  Genre_Family  \\\n",
       "0           NaN  [Family, Animation, Science Fiction]          True   \n",
       "1         PG-13            [Thriller, Mystery, Drama]         False   \n",
       "2           NaN                                    []         False   \n",
       "3           NaN              [Romance, Comedy, Drama]         False   \n",
       "4            PG                   [Animation, Family]          True   \n",
       "\n",
       "   Genre_Animation  Genre_Science Fiction  Genre_Thriller  Genre_Mystery  \\\n",
       "0             True                   True           False          False   \n",
       "1            False                  False            True           True   \n",
       "2            False                  False           False          False   \n",
       "3            False                  False           False          False   \n",
       "4             True                  False           False          False   \n",
       "\n",
       "   Genre_Drama  Genre_Romance  Genre_Comedy  Genre_War  Genre_Crime  \\\n",
       "0        False          False         False      False        False   \n",
       "1         True          False         False      False        False   \n",
       "2        False          False         False      False        False   \n",
       "3         True           True          True      False        False   \n",
       "4        False          False         False      False        False   \n",
       "\n",
       "   Genre_Action  Genre_Adventure  Genre_Horror  Genre_Fantasy  Genre_History  \\\n",
       "0         False            False         False          False          False   \n",
       "1         False            False         False          False          False   \n",
       "2         False            False         False          False          False   \n",
       "3         False            False         False          False          False   \n",
       "4         False            False         False          False          False   \n",
       "\n",
       "   Genre_Western  Genre_Music  Genre_Documentary  Genre_TV Movie    year  \\\n",
       "0          False        False              False           False  2012.0   \n",
       "1          False        False              False           False  2010.0   \n",
       "2          False        False              False           False  2010.0   \n",
       "3          False        False              False           False  2010.0   \n",
       "4          False        False              False           False  2010.0   \n",
       "\n",
       "   month   day  \n",
       "0   12.0   2.0  \n",
       "1    4.0  23.0  \n",
       "2    1.0   1.0  \n",
       "3    5.0  20.0  \n",
       "4   11.0  24.0  "
      ]
     },
     "execution_count": 66,
     "metadata": {},
     "output_type": "execute_result"
    }
   ],
   "source": [
    "genres_df = df.copy()\n",
    "genres_df.head()"
   ]
  },
  {
   "cell_type": "code",
   "execution_count": 67,
   "id": "e24fc7c2",
   "metadata": {
    "ExecuteTime": {
     "end_time": "2023-05-18T19:48:19.891950Z",
     "start_time": "2023-05-18T19:48:19.876951Z"
    }
   },
   "outputs": [
    {
     "data": {
      "text/plain": [
       "array(['Family', 'Animation', 'Science Fiction', 'Thriller', 'Mystery',\n",
       "       'Drama', 'Romance', 'Comedy', 'War', 'Crime', 'Action',\n",
       "       'Adventure', 'Horror', 'Fantasy', 'History', 'Western', 'Music',\n",
       "       'Documentary', 'TV Movie'], dtype=object)"
      ]
     },
     "execution_count": 67,
     "metadata": {},
     "output_type": "execute_result"
    }
   ],
   "source": [
    "unique_genres"
   ]
  },
  {
   "cell_type": "code",
   "execution_count": 68,
   "id": "900898d1",
   "metadata": {
    "ExecuteTime": {
     "end_time": "2023-05-18T19:48:19.967910Z",
     "start_time": "2023-05-18T19:48:19.892949Z"
    }
   },
   "outputs": [
    {
     "data": {
      "text/plain": [
       "0    [Family, Animation, Science Fiction]\n",
       "1              [Thriller, Mystery, Drama]\n",
       "2                                      []\n",
       "3                [Romance, Comedy, Drama]\n",
       "4                     [Animation, Family]\n",
       "Name: genres_list, dtype: object"
      ]
     },
     "execution_count": 68,
     "metadata": {},
     "output_type": "execute_result"
    }
   ],
   "source": [
    "## Use our function and exploding the new column\n",
    "df['genres_list'] = df['genres'].apply(get_genre_name)\n",
    "df['genres_list'].head()"
   ]
  },
  {
   "cell_type": "code",
   "execution_count": 69,
   "id": "c77fd142",
   "metadata": {
    "ExecuteTime": {
     "end_time": "2023-05-18T19:48:20.259148Z",
     "start_time": "2023-05-18T19:48:19.968911Z"
    }
   },
   "outputs": [
    {
     "data": {
      "text/plain": [
       "[Drama]                                                                 6838\n",
       "[]                                                                      3415\n",
       "[Comedy]                                                                2613\n",
       "[Horror]                                                                1935\n",
       "[Comedy, Drama]                                                         1182\n",
       "                                                                        ... \n",
       "[Science Fiction, Drama, War, Romance]                                     1\n",
       "[Comedy, Action, Adventure, Fantasy, Science Fiction, Horror, Music]       1\n",
       "[Mystery, Comedy, Drama, History]                                          1\n",
       "[Drama, Family, TV Movie]                                                  1\n",
       "[Animation, Crime, Action]                                                 1\n",
       "Name: genres_list, Length: 2900, dtype: int64"
      ]
     },
     "execution_count": 69,
     "metadata": {},
     "output_type": "execute_result"
    }
   ],
   "source": [
    "df['genres_list'].value_counts()"
   ]
  },
  {
   "cell_type": "code",
   "execution_count": 70,
   "id": "8a3fc178",
   "metadata": {
    "ExecuteTime": {
     "end_time": "2023-05-18T19:48:20.337135Z",
     "start_time": "2023-05-18T19:48:20.260148Z"
    }
   },
   "outputs": [],
   "source": [
    "df['genres_list'] = df.genres_list.apply(lambda x: sorted(map(str, x)))"
   ]
  },
  {
   "cell_type": "code",
   "execution_count": 71,
   "id": "e8d2a2fc",
   "metadata": {
    "ExecuteTime": {
     "end_time": "2023-05-18T19:48:20.431310Z",
     "start_time": "2023-05-18T19:48:20.338141Z"
    }
   },
   "outputs": [
    {
     "data": {
      "text/plain": [
       "[Drama]                                                         6838\n",
       "[]                                                              3415\n",
       "[Comedy]                                                        2613\n",
       "[Horror]                                                        1935\n",
       "[Comedy, Drama]                                                 1921\n",
       "                                                                ... \n",
       "[Adventure, Crime, Documentary]                                    1\n",
       "[War, Western]                                                     1\n",
       "[Action, Adventure, Animation, Documentary, Family, History]       1\n",
       "[History, Mystery]                                                 1\n",
       "[Action, Family, Science Fiction]                                  1\n",
       "Name: genres_list, Length: 1275, dtype: int64"
      ]
     },
     "execution_count": 71,
     "metadata": {},
     "output_type": "execute_result"
    }
   ],
   "source": [
    "df['genres_list'].value_counts()"
   ]
  },
  {
   "cell_type": "code",
   "execution_count": 72,
   "id": "58bdb427",
   "metadata": {
    "ExecuteTime": {
     "end_time": "2023-05-18T19:48:20.447310Z",
     "start_time": "2023-05-18T19:48:20.432311Z"
    }
   },
   "outputs": [
    {
     "data": {
      "text/html": [
       "<div>\n",
       "<style scoped>\n",
       "    .dataframe tbody tr th:only-of-type {\n",
       "        vertical-align: middle;\n",
       "    }\n",
       "\n",
       "    .dataframe tbody tr th {\n",
       "        vertical-align: top;\n",
       "    }\n",
       "\n",
       "    .dataframe thead th {\n",
       "        text-align: right;\n",
       "    }\n",
       "</style>\n",
       "<table border=\"1\" class=\"dataframe\">\n",
       "  <thead>\n",
       "    <tr style=\"text-align: right;\">\n",
       "      <th></th>\n",
       "      <th>imdb_id</th>\n",
       "      <th>adult</th>\n",
       "      <th>belongs_to_collection</th>\n",
       "      <th>budget</th>\n",
       "      <th>genres</th>\n",
       "      <th>popularity</th>\n",
       "      <th>revenue</th>\n",
       "      <th>runtime</th>\n",
       "      <th>title</th>\n",
       "      <th>vote_average</th>\n",
       "      <th>vote_count</th>\n",
       "      <th>certification</th>\n",
       "      <th>genres_list</th>\n",
       "      <th>Genre_Family</th>\n",
       "      <th>Genre_Animation</th>\n",
       "      <th>Genre_Science Fiction</th>\n",
       "      <th>Genre_Thriller</th>\n",
       "      <th>Genre_Mystery</th>\n",
       "      <th>Genre_Drama</th>\n",
       "      <th>Genre_Romance</th>\n",
       "      <th>Genre_Comedy</th>\n",
       "      <th>Genre_War</th>\n",
       "      <th>Genre_Crime</th>\n",
       "      <th>Genre_Action</th>\n",
       "      <th>Genre_Adventure</th>\n",
       "      <th>Genre_Horror</th>\n",
       "      <th>Genre_Fantasy</th>\n",
       "      <th>Genre_History</th>\n",
       "      <th>Genre_Western</th>\n",
       "      <th>Genre_Music</th>\n",
       "      <th>Genre_Documentary</th>\n",
       "      <th>Genre_TV Movie</th>\n",
       "      <th>year</th>\n",
       "      <th>month</th>\n",
       "      <th>day</th>\n",
       "    </tr>\n",
       "  </thead>\n",
       "  <tbody>\n",
       "    <tr>\n",
       "      <th>0</th>\n",
       "      <td>tt0312305</td>\n",
       "      <td>0.0</td>\n",
       "      <td>False</td>\n",
       "      <td>0.0</td>\n",
       "      <td>[{'id': 10751, 'name': 'Family'}, {'id': 16, '...</td>\n",
       "      <td>1.619</td>\n",
       "      <td>0.0</td>\n",
       "      <td>45.0</td>\n",
       "      <td>Quantum Quest: A Cassini Space Odyssey</td>\n",
       "      <td>7.90</td>\n",
       "      <td>8.0</td>\n",
       "      <td>NaN</td>\n",
       "      <td>[Animation, Family, Science Fiction]</td>\n",
       "      <td>True</td>\n",
       "      <td>True</td>\n",
       "      <td>True</td>\n",
       "      <td>False</td>\n",
       "      <td>False</td>\n",
       "      <td>False</td>\n",
       "      <td>False</td>\n",
       "      <td>False</td>\n",
       "      <td>False</td>\n",
       "      <td>False</td>\n",
       "      <td>False</td>\n",
       "      <td>False</td>\n",
       "      <td>False</td>\n",
       "      <td>False</td>\n",
       "      <td>False</td>\n",
       "      <td>False</td>\n",
       "      <td>False</td>\n",
       "      <td>False</td>\n",
       "      <td>False</td>\n",
       "      <td>2012.0</td>\n",
       "      <td>12.0</td>\n",
       "      <td>2.0</td>\n",
       "    </tr>\n",
       "    <tr>\n",
       "      <th>1</th>\n",
       "      <td>tt0326965</td>\n",
       "      <td>0.0</td>\n",
       "      <td>False</td>\n",
       "      <td>0.0</td>\n",
       "      <td>[{'id': 53, 'name': 'Thriller'}, {'id': 9648, ...</td>\n",
       "      <td>3.755</td>\n",
       "      <td>0.0</td>\n",
       "      <td>90.0</td>\n",
       "      <td>In My Sleep</td>\n",
       "      <td>5.50</td>\n",
       "      <td>31.0</td>\n",
       "      <td>PG-13</td>\n",
       "      <td>[Drama, Mystery, Thriller]</td>\n",
       "      <td>False</td>\n",
       "      <td>False</td>\n",
       "      <td>False</td>\n",
       "      <td>True</td>\n",
       "      <td>True</td>\n",
       "      <td>True</td>\n",
       "      <td>False</td>\n",
       "      <td>False</td>\n",
       "      <td>False</td>\n",
       "      <td>False</td>\n",
       "      <td>False</td>\n",
       "      <td>False</td>\n",
       "      <td>False</td>\n",
       "      <td>False</td>\n",
       "      <td>False</td>\n",
       "      <td>False</td>\n",
       "      <td>False</td>\n",
       "      <td>False</td>\n",
       "      <td>False</td>\n",
       "      <td>2010.0</td>\n",
       "      <td>4.0</td>\n",
       "      <td>23.0</td>\n",
       "    </tr>\n",
       "    <tr>\n",
       "      <th>2</th>\n",
       "      <td>tt0331312</td>\n",
       "      <td>0.0</td>\n",
       "      <td>False</td>\n",
       "      <td>0.0</td>\n",
       "      <td>[]</td>\n",
       "      <td>0.622</td>\n",
       "      <td>0.0</td>\n",
       "      <td>0.0</td>\n",
       "      <td>This Wretched Life</td>\n",
       "      <td>5.00</td>\n",
       "      <td>1.0</td>\n",
       "      <td>NaN</td>\n",
       "      <td>[]</td>\n",
       "      <td>False</td>\n",
       "      <td>False</td>\n",
       "      <td>False</td>\n",
       "      <td>False</td>\n",
       "      <td>False</td>\n",
       "      <td>False</td>\n",
       "      <td>False</td>\n",
       "      <td>False</td>\n",
       "      <td>False</td>\n",
       "      <td>False</td>\n",
       "      <td>False</td>\n",
       "      <td>False</td>\n",
       "      <td>False</td>\n",
       "      <td>False</td>\n",
       "      <td>False</td>\n",
       "      <td>False</td>\n",
       "      <td>False</td>\n",
       "      <td>False</td>\n",
       "      <td>False</td>\n",
       "      <td>2010.0</td>\n",
       "      <td>1.0</td>\n",
       "      <td>1.0</td>\n",
       "    </tr>\n",
       "    <tr>\n",
       "      <th>3</th>\n",
       "      <td>tt0393049</td>\n",
       "      <td>0.0</td>\n",
       "      <td>False</td>\n",
       "      <td>300000.0</td>\n",
       "      <td>[{'id': 10749, 'name': 'Romance'}, {'id': 35, ...</td>\n",
       "      <td>1.576</td>\n",
       "      <td>0.0</td>\n",
       "      <td>98.0</td>\n",
       "      <td>Anderson's Cross</td>\n",
       "      <td>4.00</td>\n",
       "      <td>5.0</td>\n",
       "      <td>NaN</td>\n",
       "      <td>[Comedy, Drama, Romance]</td>\n",
       "      <td>False</td>\n",
       "      <td>False</td>\n",
       "      <td>False</td>\n",
       "      <td>False</td>\n",
       "      <td>False</td>\n",
       "      <td>True</td>\n",
       "      <td>True</td>\n",
       "      <td>True</td>\n",
       "      <td>False</td>\n",
       "      <td>False</td>\n",
       "      <td>False</td>\n",
       "      <td>False</td>\n",
       "      <td>False</td>\n",
       "      <td>False</td>\n",
       "      <td>False</td>\n",
       "      <td>False</td>\n",
       "      <td>False</td>\n",
       "      <td>False</td>\n",
       "      <td>False</td>\n",
       "      <td>2010.0</td>\n",
       "      <td>5.0</td>\n",
       "      <td>20.0</td>\n",
       "    </tr>\n",
       "    <tr>\n",
       "      <th>4</th>\n",
       "      <td>tt0398286</td>\n",
       "      <td>0.0</td>\n",
       "      <td>False</td>\n",
       "      <td>260000000.0</td>\n",
       "      <td>[{'id': 16, 'name': 'Animation'}, {'id': 10751...</td>\n",
       "      <td>108.562</td>\n",
       "      <td>592461732.0</td>\n",
       "      <td>100.0</td>\n",
       "      <td>Tangled</td>\n",
       "      <td>7.59</td>\n",
       "      <td>10223.0</td>\n",
       "      <td>PG</td>\n",
       "      <td>[Animation, Family]</td>\n",
       "      <td>True</td>\n",
       "      <td>True</td>\n",
       "      <td>False</td>\n",
       "      <td>False</td>\n",
       "      <td>False</td>\n",
       "      <td>False</td>\n",
       "      <td>False</td>\n",
       "      <td>False</td>\n",
       "      <td>False</td>\n",
       "      <td>False</td>\n",
       "      <td>False</td>\n",
       "      <td>False</td>\n",
       "      <td>False</td>\n",
       "      <td>False</td>\n",
       "      <td>False</td>\n",
       "      <td>False</td>\n",
       "      <td>False</td>\n",
       "      <td>False</td>\n",
       "      <td>False</td>\n",
       "      <td>2010.0</td>\n",
       "      <td>11.0</td>\n",
       "      <td>24.0</td>\n",
       "    </tr>\n",
       "  </tbody>\n",
       "</table>\n",
       "</div>"
      ],
      "text/plain": [
       "     imdb_id  adult  belongs_to_collection       budget  \\\n",
       "0  tt0312305    0.0                  False          0.0   \n",
       "1  tt0326965    0.0                  False          0.0   \n",
       "2  tt0331312    0.0                  False          0.0   \n",
       "3  tt0393049    0.0                  False     300000.0   \n",
       "4  tt0398286    0.0                  False  260000000.0   \n",
       "\n",
       "                                              genres  popularity      revenue  \\\n",
       "0  [{'id': 10751, 'name': 'Family'}, {'id': 16, '...       1.619          0.0   \n",
       "1  [{'id': 53, 'name': 'Thriller'}, {'id': 9648, ...       3.755          0.0   \n",
       "2                                                 []       0.622          0.0   \n",
       "3  [{'id': 10749, 'name': 'Romance'}, {'id': 35, ...       1.576          0.0   \n",
       "4  [{'id': 16, 'name': 'Animation'}, {'id': 10751...     108.562  592461732.0   \n",
       "\n",
       "   runtime                                   title  vote_average  vote_count  \\\n",
       "0     45.0  Quantum Quest: A Cassini Space Odyssey          7.90         8.0   \n",
       "1     90.0                             In My Sleep          5.50        31.0   \n",
       "2      0.0                      This Wretched Life          5.00         1.0   \n",
       "3     98.0                        Anderson's Cross          4.00         5.0   \n",
       "4    100.0                                 Tangled          7.59     10223.0   \n",
       "\n",
       "  certification                           genres_list  Genre_Family  \\\n",
       "0           NaN  [Animation, Family, Science Fiction]          True   \n",
       "1         PG-13            [Drama, Mystery, Thriller]         False   \n",
       "2           NaN                                    []         False   \n",
       "3           NaN              [Comedy, Drama, Romance]         False   \n",
       "4            PG                   [Animation, Family]          True   \n",
       "\n",
       "   Genre_Animation  Genre_Science Fiction  Genre_Thriller  Genre_Mystery  \\\n",
       "0             True                   True           False          False   \n",
       "1            False                  False            True           True   \n",
       "2            False                  False           False          False   \n",
       "3            False                  False           False          False   \n",
       "4             True                  False           False          False   \n",
       "\n",
       "   Genre_Drama  Genre_Romance  Genre_Comedy  Genre_War  Genre_Crime  \\\n",
       "0        False          False         False      False        False   \n",
       "1         True          False         False      False        False   \n",
       "2        False          False         False      False        False   \n",
       "3         True           True          True      False        False   \n",
       "4        False          False         False      False        False   \n",
       "\n",
       "   Genre_Action  Genre_Adventure  Genre_Horror  Genre_Fantasy  Genre_History  \\\n",
       "0         False            False         False          False          False   \n",
       "1         False            False         False          False          False   \n",
       "2         False            False         False          False          False   \n",
       "3         False            False         False          False          False   \n",
       "4         False            False         False          False          False   \n",
       "\n",
       "   Genre_Western  Genre_Music  Genre_Documentary  Genre_TV Movie    year  \\\n",
       "0          False        False              False           False  2012.0   \n",
       "1          False        False              False           False  2010.0   \n",
       "2          False        False              False           False  2010.0   \n",
       "3          False        False              False           False  2010.0   \n",
       "4          False        False              False           False  2010.0   \n",
       "\n",
       "   month   day  \n",
       "0   12.0   2.0  \n",
       "1    4.0  23.0  \n",
       "2    1.0   1.0  \n",
       "3    5.0  20.0  \n",
       "4   11.0  24.0  "
      ]
     },
     "execution_count": 72,
     "metadata": {},
     "output_type": "execute_result"
    }
   ],
   "source": [
    "df.head()"
   ]
  },
  {
   "cell_type": "code",
   "execution_count": 73,
   "id": "47a93807",
   "metadata": {
    "ExecuteTime": {
     "end_time": "2023-05-18T19:48:20.478335Z",
     "start_time": "2023-05-18T19:48:20.448311Z"
    }
   },
   "outputs": [],
   "source": [
    "genres_df['genres_list'] = [','.join(map(str, l)) for l in df['genres_list']]"
   ]
  },
  {
   "cell_type": "code",
   "execution_count": 74,
   "id": "67d354ae",
   "metadata": {
    "ExecuteTime": {
     "end_time": "2023-05-18T19:48:20.493579Z",
     "start_time": "2023-05-18T19:48:20.479339Z"
    }
   },
   "outputs": [
    {
     "data": {
      "text/plain": [
       "0    Animation,Family,Science Fiction\n",
       "1              Drama,Mystery,Thriller\n",
       "2                                    \n",
       "3                Comedy,Drama,Romance\n",
       "4                    Animation,Family\n",
       "Name: genres_list, dtype: object"
      ]
     },
     "execution_count": 74,
     "metadata": {},
     "output_type": "execute_result"
    }
   ],
   "source": [
    "genres_df['genres_list'].head()"
   ]
  },
  {
   "cell_type": "code",
   "execution_count": 75,
   "id": "a97ba06a",
   "metadata": {
    "ExecuteTime": {
     "end_time": "2023-05-18T19:48:20.508908Z",
     "start_time": "2023-05-18T19:48:20.494579Z"
    }
   },
   "outputs": [],
   "source": [
    "genres_df.dropna(subset=['genres_list'], inplace = True)"
   ]
  },
  {
   "cell_type": "code",
   "execution_count": 76,
   "id": "b64948e1",
   "metadata": {
    "ExecuteTime": {
     "end_time": "2023-05-18T19:48:20.523907Z",
     "start_time": "2023-05-18T19:48:20.509909Z"
    }
   },
   "outputs": [
    {
     "data": {
      "text/plain": [
       "0"
      ]
     },
     "execution_count": 76,
     "metadata": {},
     "output_type": "execute_result"
    }
   ],
   "source": [
    "genres_df['genres_list'].isna().sum()"
   ]
  },
  {
   "cell_type": "code",
   "execution_count": 77,
   "id": "f0520ab7",
   "metadata": {
    "ExecuteTime": {
     "end_time": "2023-05-18T19:48:20.539909Z",
     "start_time": "2023-05-18T19:48:20.524907Z"
    },
    "scrolled": false
   },
   "outputs": [
    {
     "data": {
      "text/plain": [
       "Drama                                                    6838\n",
       "                                                         3415\n",
       "Comedy                                                   2613\n",
       "Horror                                                   1935\n",
       "Comedy,Drama                                             1921\n",
       "                                                         ... \n",
       "Adventure,Crime,Documentary                                 1\n",
       "War,Western                                                 1\n",
       "Action,Adventure,Animation,Documentary,Family,History       1\n",
       "History,Mystery                                             1\n",
       "Action,Family,Science Fiction                               1\n",
       "Name: genres_list, Length: 1275, dtype: int64"
      ]
     },
     "execution_count": 77,
     "metadata": {},
     "output_type": "execute_result"
    }
   ],
   "source": [
    "genres_df['genres_list'].value_counts()"
   ]
  },
  {
   "cell_type": "code",
   "execution_count": 78,
   "id": "9490a596",
   "metadata": {
    "ExecuteTime": {
     "end_time": "2023-05-18T19:48:20.555038Z",
     "start_time": "2023-05-18T19:48:20.540909Z"
    }
   },
   "outputs": [],
   "source": [
    "genres_df['genres_list'].replace('', np.nan, inplace=True)"
   ]
  },
  {
   "cell_type": "code",
   "execution_count": 79,
   "id": "03c445b0",
   "metadata": {
    "ExecuteTime": {
     "end_time": "2023-05-18T19:48:20.571036Z",
     "start_time": "2023-05-18T19:48:20.556037Z"
    }
   },
   "outputs": [
    {
     "data": {
      "text/plain": [
       "Drama                                    6838\n",
       "Comedy                                   2613\n",
       "Horror                                   1935\n",
       "Comedy,Drama                             1921\n",
       "Drama,Romance                            1327\n",
       "                                         ... \n",
       "Action,Crime,Drama,War                      1\n",
       "Action,Comedy,Drama,Fantasy,Mystery         1\n",
       "Comedy,Drama,Mystery,Romance,Thriller       1\n",
       "Horror,Mystery,Thriller,Western             1\n",
       "Action,Family,Science Fiction               1\n",
       "Name: genres_list, Length: 1274, dtype: int64"
      ]
     },
     "execution_count": 79,
     "metadata": {},
     "output_type": "execute_result"
    }
   ],
   "source": [
    "genres_df['genres_list'].value_counts()"
   ]
  },
  {
   "cell_type": "code",
   "execution_count": 80,
   "id": "2d952154",
   "metadata": {
    "ExecuteTime": {
     "end_time": "2023-05-18T19:48:20.586037Z",
     "start_time": "2023-05-18T19:48:20.572037Z"
    }
   },
   "outputs": [
    {
     "data": {
      "text/plain": [
       "3415"
      ]
     },
     "execution_count": 80,
     "metadata": {},
     "output_type": "execute_result"
    }
   ],
   "source": [
    "genres_df['genres_list'].isna().sum()"
   ]
  },
  {
   "cell_type": "code",
   "execution_count": 81,
   "id": "f32e9acd",
   "metadata": {
    "ExecuteTime": {
     "end_time": "2023-05-18T19:48:20.602037Z",
     "start_time": "2023-05-18T19:48:20.587037Z"
    }
   },
   "outputs": [],
   "source": [
    "genres_df.dropna(subset=['genres_list'], inplace = True)"
   ]
  },
  {
   "cell_type": "code",
   "execution_count": 82,
   "id": "cf74c6e2",
   "metadata": {
    "ExecuteTime": {
     "end_time": "2023-05-18T19:48:20.618036Z",
     "start_time": "2023-05-18T19:48:20.606036Z"
    }
   },
   "outputs": [
    {
     "data": {
      "text/plain": [
       "0"
      ]
     },
     "execution_count": 82,
     "metadata": {},
     "output_type": "execute_result"
    }
   ],
   "source": [
    "genres_df['genres_list'].isna().sum()"
   ]
  },
  {
   "cell_type": "code",
   "execution_count": 83,
   "id": "c20309c0",
   "metadata": {
    "ExecuteTime": {
     "end_time": "2023-05-18T19:48:20.634039Z",
     "start_time": "2023-05-18T19:48:20.619036Z"
    }
   },
   "outputs": [],
   "source": [
    "genres_df['genres_list'] = genres_df['genres_list'].apply(lambda x: \"drama\" if x == 'Drama' else \"no drama\")"
   ]
  },
  {
   "cell_type": "code",
   "execution_count": 84,
   "id": "5b4bcfcb",
   "metadata": {
    "ExecuteTime": {
     "end_time": "2023-05-18T19:48:20.650035Z",
     "start_time": "2023-05-18T19:48:20.635037Z"
    }
   },
   "outputs": [
    {
     "data": {
      "text/plain": [
       "no drama    27883\n",
       "drama        6838\n",
       "Name: genres_list, dtype: int64"
      ]
     },
     "execution_count": 84,
     "metadata": {},
     "output_type": "execute_result"
    }
   ],
   "source": [
    "genres_df['genres_list'].value_counts()"
   ]
  },
  {
   "cell_type": "code",
   "execution_count": 85,
   "id": "fea9618a",
   "metadata": {
    "ExecuteTime": {
     "end_time": "2023-05-18T19:48:20.665269Z",
     "start_time": "2023-05-18T19:48:20.651037Z"
    }
   },
   "outputs": [
    {
     "data": {
      "text/plain": [
       "19    0.0\n",
       "25    0.0\n",
       "28    0.0\n",
       "32    0.0\n",
       "40    0.0\n",
       "Name: revenue, dtype: float64"
      ]
     },
     "execution_count": 85,
     "metadata": {},
     "output_type": "execute_result"
    }
   ],
   "source": [
    "#longer_hours = hours_df.loc[hours_df['runtime'] > 170, \"revenue\"].copy()\n",
    "drama = genres_df.loc[genres_df['genres_list'] == 'drama', 'revenue'].copy()\n",
    "drama.head()"
   ]
  },
  {
   "cell_type": "code",
   "execution_count": 86,
   "id": "061ba8ea",
   "metadata": {
    "ExecuteTime": {
     "end_time": "2023-05-18T19:48:20.681270Z",
     "start_time": "2023-05-18T19:48:20.666269Z"
    }
   },
   "outputs": [
    {
     "data": {
      "text/plain": [
       "0            0.0\n",
       "1            0.0\n",
       "3            0.0\n",
       "4    592461732.0\n",
       "5            0.0\n",
       "Name: revenue, dtype: float64"
      ]
     },
     "execution_count": 86,
     "metadata": {},
     "output_type": "execute_result"
    }
   ],
   "source": [
    "no_drama = genres_df.loc[genres_df['genres_list'] == 'no drama', 'revenue'].copy()\n",
    "no_drama.head()"
   ]
  },
  {
   "cell_type": "code",
   "execution_count": 87,
   "id": "7c1daf41",
   "metadata": {
    "ExecuteTime": {
     "end_time": "2023-05-18T19:48:20.696706Z",
     "start_time": "2023-05-18T19:48:20.682270Z"
    }
   },
   "outputs": [
    {
     "data": {
      "text/plain": [
       "count    6.838000e+03\n",
       "mean     8.591507e+05\n",
       "std      9.891298e+06\n",
       "min      0.000000e+00\n",
       "25%      0.000000e+00\n",
       "50%      0.000000e+00\n",
       "75%      0.000000e+00\n",
       "max      4.328447e+08\n",
       "Name: revenue, dtype: float64"
      ]
     },
     "execution_count": 87,
     "metadata": {},
     "output_type": "execute_result"
    }
   ],
   "source": [
    "drama.describe()"
   ]
  },
  {
   "cell_type": "code",
   "execution_count": 88,
   "id": "a709b925",
   "metadata": {
    "ExecuteTime": {
     "end_time": "2023-05-18T19:48:20.712201Z",
     "start_time": "2023-05-18T19:48:20.697707Z"
    }
   },
   "outputs": [
    {
     "data": {
      "text/plain": [
       "count    2.788300e+04\n",
       "mean     1.034650e+07\n",
       "std      7.347706e+07\n",
       "min      0.000000e+00\n",
       "25%      0.000000e+00\n",
       "50%      0.000000e+00\n",
       "75%      0.000000e+00\n",
       "max      2.794732e+09\n",
       "Name: revenue, dtype: float64"
      ]
     },
     "execution_count": 88,
     "metadata": {},
     "output_type": "execute_result"
    }
   ],
   "source": [
    "no_drama.describe()"
   ]
  },
  {
   "cell_type": "code",
   "execution_count": 89,
   "id": "7f71b45c",
   "metadata": {
    "ExecuteTime": {
     "end_time": "2023-05-18T19:48:20.727711Z",
     "start_time": "2023-05-18T19:48:20.713201Z"
    }
   },
   "outputs": [
    {
     "name": "stdout",
     "output_type": "stream",
     "text": [
      "6838\n",
      "27883\n"
     ]
    }
   ],
   "source": [
    "print(len(drama))\n",
    "print(len(no_drama))"
   ]
  },
  {
   "cell_type": "markdown",
   "id": "1809be39",
   "metadata": {},
   "source": [
    "Outlier assumptions"
   ]
  },
  {
   "cell_type": "code",
   "execution_count": 90,
   "id": "d8175fa7",
   "metadata": {
    "ExecuteTime": {
     "end_time": "2023-05-18T19:48:20.742712Z",
     "start_time": "2023-05-18T19:48:20.728711Z"
    }
   },
   "outputs": [
    {
     "data": {
      "text/plain": [
       "48"
      ]
     },
     "execution_count": 90,
     "metadata": {},
     "output_type": "execute_result"
    }
   ],
   "source": [
    "zscore_drama = stats.zscore(drama)\n",
    "outliers_drama = abs(zscore_drama) > 3\n",
    "np.sum(outliers_drama)"
   ]
  },
  {
   "cell_type": "code",
   "execution_count": 91,
   "id": "06604e22",
   "metadata": {
    "ExecuteTime": {
     "end_time": "2023-05-18T19:48:20.757712Z",
     "start_time": "2023-05-18T19:48:20.743713Z"
    }
   },
   "outputs": [
    {
     "data": {
      "text/plain": [
       "339"
      ]
     },
     "execution_count": 91,
     "metadata": {},
     "output_type": "execute_result"
    }
   ],
   "source": [
    "zscore_no_drama = stats.zscore(no_drama)\n",
    "outliers_no_drama = abs(zscore_no_drama) > 3\n",
    "np.sum(outliers_no_drama)"
   ]
  },
  {
   "cell_type": "code",
   "execution_count": 92,
   "id": "1bb97907",
   "metadata": {
    "ExecuteTime": {
     "end_time": "2023-05-18T19:48:20.773712Z",
     "start_time": "2023-05-18T19:48:20.758710Z"
    }
   },
   "outputs": [
    {
     "data": {
      "text/plain": [
       "6790"
      ]
     },
     "execution_count": 92,
     "metadata": {},
     "output_type": "execute_result"
    }
   ],
   "source": [
    "drama = drama[(np.abs(stats.zscore(drama)) < 3)]\n",
    "len(drama)"
   ]
  },
  {
   "cell_type": "code",
   "execution_count": 93,
   "id": "2dd16e0a",
   "metadata": {
    "ExecuteTime": {
     "end_time": "2023-05-18T19:48:20.788710Z",
     "start_time": "2023-05-18T19:48:20.774710Z"
    }
   },
   "outputs": [
    {
     "data": {
      "text/plain": [
       "27544"
      ]
     },
     "execution_count": 93,
     "metadata": {},
     "output_type": "execute_result"
    }
   ],
   "source": [
    "no_drama = no_drama[(np.abs(stats.zscore(no_drama)) < 3)]\n",
    "len(no_drama)"
   ]
  },
  {
   "cell_type": "markdown",
   "id": "07345339",
   "metadata": {},
   "source": [
    "Normality Test"
   ]
  },
  {
   "cell_type": "code",
   "execution_count": 94,
   "id": "69f10b06",
   "metadata": {
    "ExecuteTime": {
     "end_time": "2023-05-18T19:48:20.803712Z",
     "start_time": "2023-05-18T19:48:20.789710Z"
    }
   },
   "outputs": [
    {
     "data": {
      "text/plain": [
       "NormaltestResult(statistic=11334.654676908727, pvalue=0.0)"
      ]
     },
     "execution_count": 94,
     "metadata": {},
     "output_type": "execute_result"
    }
   ],
   "source": [
    "norm_drama = stats.normaltest(drama)\n",
    "norm_drama"
   ]
  },
  {
   "cell_type": "code",
   "execution_count": 95,
   "id": "05abe2e7",
   "metadata": {
    "ExecuteTime": {
     "end_time": "2023-05-18T19:48:20.819711Z",
     "start_time": "2023-05-18T19:48:20.804711Z"
    }
   },
   "outputs": [
    {
     "data": {
      "text/plain": [
       "NormaltestResult(statistic=34772.09193577609, pvalue=0.0)"
      ]
     },
     "execution_count": 95,
     "metadata": {},
     "output_type": "execute_result"
    }
   ],
   "source": [
    "norm_no_drama = stats.normaltest(no_drama)\n",
    "norm_no_drama"
   ]
  },
  {
   "cell_type": "markdown",
   "id": "82963f67",
   "metadata": {},
   "source": [
    "* Both of the pvalues for the normality test are below the 0.05, they are not normaly distributed. We can still move on since the sample sizes are large enough. They are above the 15 per group mark."
   ]
  },
  {
   "cell_type": "markdown",
   "id": "58062ca6",
   "metadata": {},
   "source": [
    "Equal Variance Test"
   ]
  },
  {
   "cell_type": "code",
   "execution_count": 96,
   "id": "ce94a1f1",
   "metadata": {
    "ExecuteTime": {
     "end_time": "2023-05-18T19:48:20.834711Z",
     "start_time": "2023-05-18T19:48:20.820710Z"
    },
    "scrolled": true
   },
   "outputs": [
    {
     "data": {
      "text/plain": [
       "LeveneResult(statistic=216.85530145906233, pvalue=6.191616790137019e-49)"
      ]
     },
     "execution_count": 96,
     "metadata": {},
     "output_type": "execute_result"
    }
   ],
   "source": [
    "variance_result = stats.levene(drama, no_drama)\n",
    "variance_result"
   ]
  },
  {
   "cell_type": "markdown",
   "id": "e257ee48",
   "metadata": {},
   "source": [
    "* Our pvalue is not more than 0.05. We do not have equal variance, therefore we will use \"equal_var = False\" for our t-test."
   ]
  },
  {
   "cell_type": "markdown",
   "id": "d93613cc",
   "metadata": {},
   "source": [
    "T-Test"
   ]
  },
  {
   "cell_type": "code",
   "execution_count": 97,
   "id": "f83dcc07",
   "metadata": {
    "ExecuteTime": {
     "end_time": "2023-05-18T19:48:20.849875Z",
     "start_time": "2023-05-18T19:48:20.835712Z"
    }
   },
   "outputs": [
    {
     "data": {
      "text/plain": [
       "Ttest_indResult(statistic=-29.224099611122906, pvalue=4.434057028398515e-185)"
      ]
     },
     "execution_count": 97,
     "metadata": {},
     "output_type": "execute_result"
    }
   ],
   "source": [
    "ttest_result = stats.ttest_ind(drama, no_drama, equal_var = False)\n",
    "ttest_result"
   ]
  },
  {
   "cell_type": "markdown",
   "id": "12496edf",
   "metadata": {},
   "source": [
    "* The pvalue for the ttest is less than alpha (0.05), therefore we reject the null hypothesis. "
   ]
  },
  {
   "cell_type": "markdown",
   "id": "06c1cb21",
   "metadata": {},
   "source": [
    "* Our pvalue < alpha (0.05), so we reject the null hypothesis."
   ]
  },
  {
   "cell_type": "markdown",
   "id": "707eb54a",
   "metadata": {},
   "source": [
    "# Making genres_list values 'yes' and 'no' values only for if it is exclusively a drama genre or not. This will make making our visuals easier."
   ]
  },
  {
   "cell_type": "code",
   "execution_count": 98,
   "id": "f4965e39",
   "metadata": {
    "ExecuteTime": {
     "end_time": "2023-05-18T19:48:21.401062Z",
     "start_time": "2023-05-18T19:48:20.850876Z"
    },
    "scrolled": false
   },
   "outputs": [
    {
     "data": {
      "image/png": "[encoded data removed]",
      "text/plain": [
       "<Figure size 1000x500 with 2 Axes>"
      ]
     },
     "metadata": {},
     "output_type": "display_data"
    }
   ],
   "source": [
    "drama_palette={'drama':'dodgerblue', 'no drama':'salmon'}\n",
    "## Visualizing Sample means\n",
    "fig, (ax,ax_bar) = plt.subplots(figsize= (10,5), ncols=2, \n",
    "                                constrained_layout=True,\n",
    "                                gridspec_kw={'width_ratios':[0.8,0.2]})\n",
    "\n",
    "\n",
    "# Histogram\n",
    "ax = sns.histplot(data=genres_df, x='revenue',fill=True,hue='genres_list',kde=True,\n",
    "                  stat='density',common_norm=False,ax=ax,\n",
    "                  palette=drama_palette)\n",
    "\n",
    "ax.axvline(np.mean(drama), ls='--',lw=3, \n",
    "           label=f\"Drama (Mean={np.mean(drama):.2f})\",color=drama_palette['drama'])\n",
    "\n",
    "ax.axvline(np.mean(no_drama), ls='--', lw=3, \n",
    "           label=f\"No Drama (Mean={np.mean(no_drama):.2f})\",color=drama_palette['no drama'])\n",
    "\n",
    "ax.legend(prop={\"size\":14}, loc='upper right')#bbox_to_anchor=[1,1])\n",
    "## Barplot\n",
    "sns.barplot(data=genres_df, x='genres_list',y='revenue',ax = ax_bar,palette=drama_palette)\n",
    "fig.suptitle('Comparison of Revenue by Drama Presence',fontsize='xx-large');"
   ]
  },
  {
   "cell_type": "markdown",
   "id": "cdd3f6c3",
   "metadata": {},
   "source": [
    "* From the visual above, the right figure clearly shows that movies are not exclusively dramatic have higher revenue as compared with movies that are exclusively dramatic. The left figure is less interpretable, since the distribution is off for both groups."
   ]
  },
  {
   "cell_type": "markdown",
   "id": "72ad9d87",
   "metadata": {},
   "source": [
    "# Conclusion\n",
    " - From the pvalue from the ttest, we see that it is less than our alpha (0.05). We therefore reject our null hypothesis. In conjuction with the visual above, we can clearly see than movies that are not exclusively dramatic generally have a higher revenue. "
   ]
  }
 ],
 "metadata": {
  "kernelspec": {
   "display_name": "Python (dojo-env)",
   "language": "python",
   "name": "dojo-env"
  },
  "language_info": {
   "codemirror_mode": {
    "name": "ipython",
    "version": 3
   },
   "file_extension": ".py",
   "mimetype": "text/x-python",
   "name": "python",
   "nbconvert_exporter": "python",
   "pygments_lexer": "ipython3",
   "version": "3.9.15"
  },
  "toc": {
   "base_numbering": 1,
   "nav_menu": {},
   "number_sections": false,
   "sideBar": true,
   "skip_h1_title": false,
   "title_cell": "Table of Contents",
   "title_sidebar": "Contents",
   "toc_cell": false,
   "toc_position": {},
   "toc_section_display": true,
   "toc_window_display": false
  }
 },
 "nbformat": 4,
 "nbformat_minor": 5
}
